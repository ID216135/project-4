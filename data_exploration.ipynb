{
 "cells": [
  {
   "cell_type": "code",
   "execution_count": 294,
   "metadata": {},
   "outputs": [],
   "source": [
    "# import dependencies\n",
    "import pandas as pd\n",
    "import tensorflow as tf"
   ]
  },
  {
   "cell_type": "code",
   "execution_count": 295,
   "metadata": {},
   "outputs": [],
   "source": [
    "# initialize spark\n",
    "import findspark\n",
    "findspark.init()"
   ]
  },
  {
   "cell_type": "code",
   "execution_count": 296,
   "metadata": {},
   "outputs": [],
   "source": [
    "# import dependencies\n",
    "from pyspark.sql import SparkSession\n",
    "from pyspark import SparkFiles\n",
    "import sklearn as skl"
   ]
  },
  {
   "cell_type": "code",
   "execution_count": 297,
   "metadata": {},
   "outputs": [],
   "source": [
    "# initialize spark session\n",
    "spark = SparkSession.builder.appName('SparkSQL').getOrCreate()"
   ]
  },
  {
   "cell_type": "code",
   "execution_count": 298,
   "metadata": {},
   "outputs": [],
   "source": [
    "# use spark to read in csv to dataframe\n",
    "spark.sparkContext.addFile('games_metadata_profile_2024_01.csv')\n",
    "df = spark.read.csv(SparkFiles.get('games_metadata_profile_2024_01.csv'), header=True, inferSchema= True)"
   ]
  },
  {
   "cell_type": "code",
   "execution_count": 299,
   "metadata": {},
   "outputs": [],
   "source": [
    "# create temporary view / table to use for queries\n",
    "df.createOrReplaceTempView('chess')"
   ]
  },
  {
   "cell_type": "code",
   "execution_count": 300,
   "metadata": {},
   "outputs": [
    {
     "name": "stdout",
     "output_type": "stream",
     "text": [
      "+------+-----------------+-----+--------------------+----------+-------------------+---------------+--------+---------------+----------------+------------------+------------------+-----------------+--------------------+---------------+-----------+--------------------+--------+---------------+----------------+------------------+------------------+-----------------+--------------------+---------------+-----------+--------------------+----------+---+--------------------+-----------+------------+-------+\n",
      "|GameID|            Event|Round|                Site|      Date|               Time|          White|WhiteElo|WhiteRatingDiff|White_is_deleted|White_tosViolation|White_profile_flag|  White_createdAt|White_playTime_total|White_count_all|White_title|               Black|BlackElo|BlackRatingDiff|Black_is_deleted|Black_tosViolation|Black_profile_flag|  Black_createdAt|Black_playTime_total|Black_count_all|Black_title|               Moves|TotalMoves|ECO|             Opening|TimeControl| Termination| Result|\n",
      "+------+-----------------+-----+--------------------+----------+-------------------+---------------+--------+---------------+----------------+------------------+------------------+-----------------+--------------------+---------------+-----------+--------------------+--------+---------------+----------------+------------------+------------------+-----------------+--------------------+---------------+-----------+--------------------+----------+---+--------------------+-----------+------------+-------+\n",
      "|     1| Rated Blitz game|    -|https://lichess.o...|2024.01.01|2024-03-07 00:00:08|         EyalSa|    1550|           -6.0|           false|              NULL|              NULL|1.646943268029E12|           5743321.0|         8428.0|       NULL|          saiyank_24|    1492|            7.0|           false|              NULL|              NULL|1.687320211057E12|           1410838.0|         2700.0|       NULL|1. d4 { [%eval 0....|        54|D06|Queen's Gambit De...|      300+3|Time forfeit|    0-1|\n",
      "|     2|Rated Bullet game|    -|https://lichess.o...|2024.01.01|2024-03-07 00:00:18|      Frogman33|    1082|            9.0|           false|              NULL|                GB|1.521151350955E12|           1395490.0|         3160.0|       NULL|            tausgang|    1155|           -7.0|           false|              NULL|                DE|1.585999445986E12|           2091417.0|         4924.0|       NULL|1. d4 { [%eval 0....|        63|D00|   Queen's Pawn Game|      120+1|Time forfeit|    1-0|\n",
      "|     3| Rated Blitz game|    -|https://lichess.o...|2024.01.01|2024-03-07 00:00:34|     Tomi_Viper|    1593|           -5.0|           false|              NULL|              NULL|1.676814331069E12|            384800.0|          792.0|       NULL|   xiangqishogichess|    1641|            5.0|           false|              NULL|              NULL|1.594783835572E12|           1424148.0|         4085.0|       NULL|1. e4 { [%eval 0....|        52|B10|   Caro-Kann Defense|      300+3|Time forfeit|    0-1|\n",
      "|     4| Rated Rapid game|    -|https://lichess.o...|2024.01.01|2024-03-07 00:01:26|         pony14|    2289|           -5.0|           false|              NULL|              NULL|1.694283583237E12|           1154156.0|         2352.0|       NULL|             Depth25|    2307|            5.0|           false|              NULL|              NULL|1.688278857994E12|           1195075.0|         1772.0|       NULL|1. Nf3 { [%eval 0...|       128|D78|Neo-Grünfeld Defe...|      600+0|      Normal|    0-1|\n",
      "|     5| Rated Rapid game|    -|https://lichess.o...|2024.01.01|2024-03-07 00:02:20|       Niccosan|    1205|            6.0|           false|              NULL|              NULL|1.628263032606E12|            886600.0|         1684.0|       NULL|aymenaymenaymenaymen|    1214|           -6.0|           false|              NULL|              NULL| 1.67381297262E12|            332692.0|          576.0|       NULL|1. e4 { [%eval 0....|        65|B01|Scandinavian Defe...|      600+0|      Normal|    1-0|\n",
      "|     6| Rated Rapid game|    -|https://lichess.o...|2024.01.01|2024-03-07 00:02:59|          bster|    1072|           -7.0|           false|              NULL|              NULL|1.663178334974E12|           1959945.0|         2314.0|       NULL|      GoldVividWater|    1131|            5.0|           false|              NULL|                US|1.701485165763E12|            176110.0|          291.0|       NULL|1. e4 { [%eval 0....|        48|C20|King's Pawn Game:...|     900+10|      Normal|    0-1|\n",
      "|     7| Rated Blitz game|    -|https://lichess.o...|2024.01.01|2024-03-07 00:03:44|  hornitoqueiru|    1997|            5.0|           false|              true|              NULL| 1.62051724426E12|           5698334.0|        21177.0|       NULL|         mrCrescendo|    1971|           -5.0|           false|              NULL|              NULL|1.672165140659E12|           4054499.0|        13703.0|       NULL|1. d4 { [%eval 0....|       109|D00|Queen's Pawn Game...|      180+0|Time forfeit|    1-0|\n",
      "|     8| Rated Blitz game|    -|https://lichess.o...|2024.01.01|2024-03-07 00:04:39|CursedPlayerARG|    1645|           -5.0|           false|              NULL|                AR|1.642818955656E12|           2642148.0|         7284.0|       NULL|       Reda-ivanshik|    1676|            5.0|           false|              NULL|                MA| 1.59363108531E12|           2045771.0|         4086.0|       NULL|1. d4 { [%eval 0....|        46|D06|Queen's Gambit De...|      180+2|Time forfeit|    0-1|\n",
      "|     9| Rated Blitz game|    -|https://lichess.o...|2024.01.01|2024-03-07 00:05:32|      Hafidinho|    1513|           -5.0|           false|              NULL|              NULL|1.589239731829E12|           3305856.0|         7221.0|       NULL|       WrathChess666|    1513|            6.0|           false|              NULL|              NULL| 1.65853000623E12|           2513015.0|         6405.0|       NULL|1. e4 { [%eval 0....|       136|C42|        Russian Game|      300+0|Time forfeit|    0-1|\n",
      "|    10| Rated Blitz game|    -|https://lichess.o...|2024.01.01|2024-03-07 00:06:20|        Bieitom|    1433|           -1.0|           false|              NULL|              NULL|1.647445464682E12|           1347439.0|         3334.0|       NULL|          rubelowsky|    1381|            1.0|           false|              NULL|              NULL| 1.64916726055E12|           1231681.0|         2505.0|       NULL|1. d4 { [%eval 0....|       132|D15|Slav Defense: Thr...|      300+0|      Normal|1/2-1/2|\n",
      "|    11| Rated Rapid game|    -|https://lichess.o...|2024.01.01|2024-03-07 00:07:25|      engynaeem|    1661|            5.0|           false|              NULL|              NULL| 1.68098051114E12|            523520.0|         1015.0|       NULL|          Saif132004|    1638|          -21.0|           false|              NULL|              NULL|1.609027645257E12|            376552.0|          797.0|       NULL|1. d4 { [%eval 0....|       171|D01|Rapport-Jobava Sy...|      600+0|      Normal|    1-0|\n",
      "|    12| Rated Rapid game|    -|https://lichess.o...|2024.01.01|2024-03-07 00:09:06|       YurDenis|    1660|           -5.0|           false|              NULL|   _united-nations|1.543439485792E12|           7372367.0|        13436.0|       NULL|              BAczel|    1675|            6.0|           false|              NULL|                HU|1.617123278996E12|           2125591.0|         8260.0|       NULL|1. e4 { [%eval 0....|        84|C34|King's Gambit Acc...|      600+0|Time forfeit|    0-1|\n",
      "|    13| Rated Rapid game|    -|https://lichess.o...|2024.01.01|2024-03-07 00:10:04|       Avispa67|    2018|           -4.0|           false|              NULL|                ES|1.587413682122E12|           4756418.0|         3032.0|       NULL|             yancos2|    2120|            5.0|           false|              true|              NULL|1.687253030653E12|            142646.0|          146.0|       NULL|1. d4 { [%eval 0....|        34|E51|Nimzo-Indian Defe...|     900+10|      Normal|    0-1|\n",
      "|    14| Rated Blitz game|    -|https://lichess.o...|2024.01.01|2024-03-07 00:10:25|          R-Neo|    1978|           87.0|            true|              NULL|              NULL|             NULL|                NULL|           NULL|       NULL|         Rocambole12|    2015|           -6.0|           false|              NULL|              NULL|1.562894900187E12|           4650403.0|        16545.0|       NULL|1. e4 { [%eval 0....|        45|B47|Sicilian Defense:...|      180+0|      Normal|    1-0|\n",
      "|    15|Rated Bullet game|    -|https://lichess.o...|2024.01.01|2024-03-07 00:10:27|     AAArmstark|    2451|            7.0|           false|              NULL|              NULL|1.689182226861E12|            857599.0|        10468.0|       NULL|               dabee|    2534|           -7.0|           false|              NULL|                NG| 1.44356813993E12|         1.2915626E7|        76372.0|         FM|1. c4 { [%eval 0....|        51|A36|English Opening: ...|       60+0|      Normal|    1-0|\n",
      "|    16| Rated Blitz game|    -|https://lichess.o...|2024.01.01|2024-03-07 00:11:49|        Nagib23|    1270|            5.0|           false|              NULL|              NULL|1.699629055917E12|            117946.0|          458.0|       NULL|         drunkPanzer|    1260|           -5.0|           false|              NULL|              NULL|1.642459793526E12|           2046867.0|         3865.0|       NULL|1. d4 { [%eval 0....|        51|E21|Nimzo-Indian Defe...|      180+2|      Normal|    1-0|\n",
      "|    17|Rated Bullet game|    -|https://lichess.o...|2024.01.01|2024-03-07 00:13:20|    chess2021zz|    2023|           -6.0|           false|              NULL|              NULL|1.620235391973E12|           1370054.0|         9900.0|       NULL|         mookiavelli|    2003|            6.0|           false|              NULL|              NULL|1.659157397534E12|           5052770.0|        27846.0|       NULL|1. d4 { [%eval 0....|        48|D02|Queen's Pawn Game...|       60+0|      Normal|    0-1|\n",
      "|    18|Rated Bullet game|    -|https://lichess.o...|2024.01.01|2024-03-07 00:13:29| daniel_mrdkvch|    1488|            5.0|           false|              NULL|                ES| 1.61476323518E12|           1734898.0|         4092.0|       NULL|          neset_2014|    1426|           -5.0|           false|              NULL|              NULL|1.538170099181E12|         1.9732568E7|        59703.0|       NULL|1. d4 { [%eval 0....|        75|A40|     English Defense|       60+0|Time forfeit|    1-0|\n",
      "|    19| Rated Blitz game|    -|https://lichess.o...|2024.01.01|2024-03-07 00:12:47|       heubueno|    1112|           -5.0|           false|              NULL|              NULL|1.594605454812E12|           1377167.0|         2821.0|       NULL|      jakmatasegurat|    1150|            5.0|           false|              NULL|              NULL| 1.59692835684E12|            808589.0|         2007.0|       NULL|1. Nf3 { [%eval 0...|        98|A05|King's Indian Attack|      180+2|      Normal|    0-1|\n",
      "|    20| Rated Blitz game|    -|https://lichess.o...|2024.01.01|2024-03-07 00:13:34|      WHATSYOUR|    1399|           -7.0|           false|              NULL|              NULL|1.642760380656E12|            471054.0|         2097.0|       NULL|              Ali_R7|    1317|            7.0|           false|              NULL|              NULL|1.701957884741E12|            127115.0|          580.0|       NULL|1. e4 { [%eval 0....|        50|B30|Sicilian Defense:...|      180+0|      Normal|    0-1|\n",
      "+------+-----------------+-----+--------------------+----------+-------------------+---------------+--------+---------------+----------------+------------------+------------------+-----------------+--------------------+---------------+-----------+--------------------+--------+---------------+----------------+------------------+------------------+-----------------+--------------------+---------------+-----------+--------------------+----------+---+--------------------+-----------+------------+-------+\n",
      "only showing top 20 rows\n",
      "\n"
     ]
    }
   ],
   "source": [
    "# view dataframe\n",
    "df.show()"
   ]
  },
  {
   "cell_type": "code",
   "execution_count": 301,
   "metadata": {},
   "outputs": [],
   "source": [
    "# select relevant columns of data and save as pandas dataframe\n",
    "data = spark.sql(\n",
    "    '''\n",
    "SELECT WhiteElo, White_playTime_total, White_count_all, BlackElo, Black_playTime_total, Black_count_all, TotalMoves,\n",
    "Result from chess\n",
    "WHERE Result != '*'\n",
    "'''\n",
    ").toPandas()"
   ]
  },
  {
   "cell_type": "code",
   "execution_count": 302,
   "metadata": {},
   "outputs": [],
   "source": [
    "# drop null values\n",
    "data.dropna(inplace=True)"
   ]
  },
  {
   "cell_type": "code",
   "execution_count": 303,
   "metadata": {},
   "outputs": [],
   "source": [
    "# create features exploring the differences in white versus black to use in prediction model\n",
    "data['Rating Difference'] = data['WhiteElo'] - data['BlackElo']\n",
    "data['Playtime Difference'] = data['White_playTime_total'] - data['Black_playTime_total']\n",
    "data['Games Played Difference'] = data['White_count_all'] - data['Black_count_all']\n",
    "data['White Average Playtime'] = data['White_playTime_total']/data['White_count_all']\n",
    "data['Black Average Playtime'] = data['Black_playTime_total']/data['Black_count_all']\n",
    "data['Average Playtime Difference'] = data['White Average Playtime'] - data['Black Average Playtime']"
   ]
  },
  {
   "cell_type": "code",
   "execution_count": 304,
   "metadata": {},
   "outputs": [
    {
     "data": {
      "image/png": "[encoded data removed]",
      "text/plain": [
       "<Figure size 640x480 with 1 Axes>"
      ]
     },
     "metadata": {},
     "output_type": "display_data"
    }
   ],
   "source": [
    "# create boxplot to explore difference between white and black victories with regard to total moves made\n",
    "import seaborn as sns\n",
    "sns.set_style(\"whitegrid\")\n",
    "tips = sns.load_dataset(\"tips\")\n",
    "ax = sns.boxplot(x=data['Result'], y=data['TotalMoves'])"
   ]
  },
  {
   "cell_type": "code",
   "execution_count": 305,
   "metadata": {},
   "outputs": [
    {
     "data": {
      "text/plain": [
       "(-10000000.0, 10000000.0)"
      ]
     },
     "execution_count": 305,
     "metadata": {},
     "output_type": "execute_result"
    },
    {
     "data": {
      "image/png": "[encoded data removed]",
      "text/plain": [
       "<Figure size 640x480 with 1 Axes>"
      ]
     },
     "metadata": {},
     "output_type": "display_data"
    }
   ],
   "source": [
    "# create boxplot to explore difference between white and black victories with regard to difference in playtime\n",
    "sns.set_style(\"whitegrid\")\n",
    "tips = sns.load_dataset(\"tips\")\n",
    "ax = sns.boxplot(x=data['Result'], y=data['Playtime Difference'])\n",
    "ax.set_ylim(bottom = -10000000, top = 10000000)"
   ]
  },
  {
   "cell_type": "code",
   "execution_count": 306,
   "metadata": {},
   "outputs": [
    {
     "data": {
      "text/plain": [
       "(-30000.0, 30000.0)"
      ]
     },
     "execution_count": 306,
     "metadata": {},
     "output_type": "execute_result"
    },
    {
     "data": {
      "image/png": "[encoded data removed]",
      "text/plain": [
       "<Figure size 640x480 with 1 Axes>"
      ]
     },
     "metadata": {},
     "output_type": "display_data"
    }
   ],
   "source": [
    "# create boxplot to explore difference between white and black victories with regard to number of games played\n",
    "sns.set_style(\"whitegrid\")\n",
    "tips = sns.load_dataset(\"tips\")\n",
    "ax = sns.boxplot(x=data['Result'], y=data['Games Played Difference'])\n",
    "ax.set_ylim(bottom = -30000, top = 30000)"
   ]
  },
  {
   "cell_type": "code",
   "execution_count": 307,
   "metadata": {},
   "outputs": [
    {
     "data": {
      "text/plain": [
       "(-200.0, 200.0)"
      ]
     },
     "execution_count": 307,
     "metadata": {},
     "output_type": "execute_result"
    },
    {
     "data": {
      "image/png": "[encoded data removed]",
      "text/plain": [
       "<Figure size 640x480 with 1 Axes>"
      ]
     },
     "metadata": {},
     "output_type": "display_data"
    }
   ],
   "source": [
    "# create boxplot to explore difference between white and black victories with regard to difference in how the players are rated\n",
    "sns.set_style(\"whitegrid\")\n",
    "tips = sns.load_dataset(\"tips\")\n",
    "ax = sns.boxplot(x=data['Result'], y=data['Rating Difference'])\n",
    "ax.set_ylim(bottom = -200, top = 200)"
   ]
  },
  {
   "cell_type": "code",
   "execution_count": 308,
   "metadata": {},
   "outputs": [
    {
     "data": {
      "text/plain": [
       "(-600.0, 600.0)"
      ]
     },
     "execution_count": 308,
     "metadata": {},
     "output_type": "execute_result"
    },
    {
     "data": {
      "image/png": "[encoded data removed]",
      "text/plain": [
       "<Figure size 640x480 with 1 Axes>"
      ]
     },
     "metadata": {},
     "output_type": "display_data"
    }
   ],
   "source": [
    "# create boxplot to explore difference between white and black victories with regard to average difference in playtime\n",
    "sns.set_style(\"whitegrid\")\n",
    "tips = sns.load_dataset(\"tips\")\n",
    "ax = sns.boxplot(x=data['Result'], y=data['Average Playtime Difference'])\n",
    "ax.set_ylim(bottom = -600, top = 600)"
   ]
  },
  {
   "cell_type": "code",
   "execution_count": 309,
   "metadata": {},
   "outputs": [],
   "source": [
    "# drop features that are not categorical\n",
    "data.drop(['WhiteElo','BlackElo','White_count_all','Black_count_all','White_playTime_total','Black_playTime_total'],axis=1,inplace=True)"
   ]
  },
  {
   "cell_type": "markdown",
   "metadata": {},
   "source": [
    "## Linear Regression"
   ]
  },
  {
   "cell_type": "code",
   "execution_count": 310,
   "metadata": {},
   "outputs": [],
   "source": [
    "y = data['Result']\n",
    "X = pd.get_dummies(data.drop('Result', axis=1))\n",
    "# split the data into training and testing data\n",
    "from sklearn.model_selection import train_test_split\n",
    "X_train, X_test, y_train, y_test = train_test_split(X, y, random_state=78)"
   ]
  },
  {
   "cell_type": "code",
   "execution_count": 311,
   "metadata": {},
   "outputs": [],
   "source": [
    "from sklearn.preprocessing import StandardScaler\n",
    "# Create a StandardScaler instances\n",
    "scaler = StandardScaler()\n",
    "\n",
    "# Fit the StandardScaler\n",
    "X_scaler = scaler.fit(X_train)\n",
    "\n",
    "# Scale the data\n",
    "X_train_scaled = X_scaler.transform(X_train)\n",
    "X_test_scaled = X_scaler.transform(X_test)"
   ]
  },
  {
   "cell_type": "code",
   "execution_count": 312,
   "metadata": {},
   "outputs": [
    {
     "data": {
      "text/html": [
       "<style>#sk-container-id-23 {color: black;background-color: white;}#sk-container-id-23 pre{padding: 0;}#sk-container-id-23 div.sk-toggleable {background-color: white;}#sk-container-id-23 label.sk-toggleable__label {cursor: pointer;display: block;width: 100%;margin-bottom: 0;padding: 0.3em;box-sizing: border-box;text-align: center;}#sk-container-id-23 label.sk-toggleable__label-arrow:before {content: \"▸\";float: left;margin-right: 0.25em;color: #696969;}#sk-container-id-23 label.sk-toggleable__label-arrow:hover:before {color: black;}#sk-container-id-23 div.sk-estimator:hover label.sk-toggleable__label-arrow:before {color: black;}#sk-container-id-23 div.sk-toggleable__content {max-height: 0;max-width: 0;overflow: hidden;text-align: left;background-color: #f0f8ff;}#sk-container-id-23 div.sk-toggleable__content pre {margin: 0.2em;color: black;border-radius: 0.25em;background-color: #f0f8ff;}#sk-container-id-23 input.sk-toggleable__control:checked~div.sk-toggleable__content {max-height: 200px;max-width: 100%;overflow: auto;}#sk-container-id-23 input.sk-toggleable__control:checked~label.sk-toggleable__label-arrow:before {content: \"▾\";}#sk-container-id-23 div.sk-estimator input.sk-toggleable__control:checked~label.sk-toggleable__label {background-color: #d4ebff;}#sk-container-id-23 div.sk-label input.sk-toggleable__control:checked~label.sk-toggleable__label {background-color: #d4ebff;}#sk-container-id-23 input.sk-hidden--visually {border: 0;clip: rect(1px 1px 1px 1px);clip: rect(1px, 1px, 1px, 1px);height: 1px;margin: -1px;overflow: hidden;padding: 0;position: absolute;width: 1px;}#sk-container-id-23 div.sk-estimator {font-family: monospace;background-color: #f0f8ff;border: 1px dotted black;border-radius: 0.25em;box-sizing: border-box;margin-bottom: 0.5em;}#sk-container-id-23 div.sk-estimator:hover {background-color: #d4ebff;}#sk-container-id-23 div.sk-parallel-item::after {content: \"\";width: 100%;border-bottom: 1px solid gray;flex-grow: 1;}#sk-container-id-23 div.sk-label:hover label.sk-toggleable__label {background-color: #d4ebff;}#sk-container-id-23 div.sk-serial::before {content: \"\";position: absolute;border-left: 1px solid gray;box-sizing: border-box;top: 0;bottom: 0;left: 50%;z-index: 0;}#sk-container-id-23 div.sk-serial {display: flex;flex-direction: column;align-items: center;background-color: white;padding-right: 0.2em;padding-left: 0.2em;position: relative;}#sk-container-id-23 div.sk-item {position: relative;z-index: 1;}#sk-container-id-23 div.sk-parallel {display: flex;align-items: stretch;justify-content: center;background-color: white;position: relative;}#sk-container-id-23 div.sk-item::before, #sk-container-id-23 div.sk-parallel-item::before {content: \"\";position: absolute;border-left: 1px solid gray;box-sizing: border-box;top: 0;bottom: 0;left: 50%;z-index: -1;}#sk-container-id-23 div.sk-parallel-item {display: flex;flex-direction: column;z-index: 1;position: relative;background-color: white;}#sk-container-id-23 div.sk-parallel-item:first-child::after {align-self: flex-end;width: 50%;}#sk-container-id-23 div.sk-parallel-item:last-child::after {align-self: flex-start;width: 50%;}#sk-container-id-23 div.sk-parallel-item:only-child::after {width: 0;}#sk-container-id-23 div.sk-dashed-wrapped {border: 1px dashed gray;margin: 0 0.4em 0.5em 0.4em;box-sizing: border-box;padding-bottom: 0.4em;background-color: white;}#sk-container-id-23 div.sk-label label {font-family: monospace;font-weight: bold;display: inline-block;line-height: 1.2em;}#sk-container-id-23 div.sk-label-container {text-align: center;}#sk-container-id-23 div.sk-container {/* jupyter's `normalize.less` sets `[hidden] { display: none; }` but bootstrap.min.css set `[hidden] { display: none !important; }` so we also need the `!important` here to be able to override the default hidden behavior on the sphinx rendered scikit-learn.org. See: https://github.com/scikit-learn/scikit-learn/issues/21755 */display: inline-block !important;position: relative;}#sk-container-id-23 div.sk-text-repr-fallback {display: none;}</style><div id=\"sk-container-id-23\" class=\"sk-top-container\"><div class=\"sk-text-repr-fallback\"><pre>LogisticRegression(max_iter=1000)</pre><b>In a Jupyter environment, please rerun this cell to show the HTML representation or trust the notebook. <br />On GitHub, the HTML representation is unable to render, please try loading this page with nbviewer.org.</b></div><div class=\"sk-container\" hidden><div class=\"sk-item\"><div class=\"sk-estimator sk-toggleable\"><input class=\"sk-toggleable__control sk-hidden--visually\" id=\"sk-estimator-id-23\" type=\"checkbox\" checked><label for=\"sk-estimator-id-23\" class=\"sk-toggleable__label sk-toggleable__label-arrow\">LogisticRegression</label><div class=\"sk-toggleable__content\"><pre>LogisticRegression(max_iter=1000)</pre></div></div></div></div></div>"
      ],
      "text/plain": [
       "LogisticRegression(max_iter=1000)"
      ]
     },
     "execution_count": 312,
     "metadata": {},
     "output_type": "execute_result"
    }
   ],
   "source": [
    "from sklearn.linear_model import LogisticRegression\n",
    "linear = LogisticRegression(max_iter=1000)\n",
    "\n",
    "linear.fit(X_train_scaled,y_train)"
   ]
  },
  {
   "cell_type": "code",
   "execution_count": 313,
   "metadata": {},
   "outputs": [
    {
     "name": "stdout",
     "output_type": "stream",
     "text": [
      "Accuracy Score: 0.5486458101269851\n",
      "              precision    recall  f1-score   support\n",
      "\n",
      "         0-1       0.54      0.39      0.45     14516\n",
      "         1-0       0.55      0.73      0.63     15841\n",
      "     1/2-1/2       0.26      0.05      0.08      1064\n",
      "\n",
      "    accuracy                           0.55     31421\n",
      "   macro avg       0.45      0.39      0.39     31421\n",
      "weighted avg       0.54      0.55      0.53     31421\n",
      "\n"
     ]
    }
   ],
   "source": [
    "from sklearn.metrics import accuracy_score, classification_report\n",
    "y_pred = linear.predict(X_test_scaled)\n",
    "print(f'Accuracy Score: {accuracy_score(y_test,y_pred)}')\n",
    "print(classification_report(y_test,y_pred))"
   ]
  },
  {
   "cell_type": "markdown",
   "metadata": {},
   "source": [
    "## Random Forest"
   ]
  },
  {
   "cell_type": "code",
   "execution_count": 314,
   "metadata": {},
   "outputs": [],
   "source": [
    "# initiate a random forest model\n",
    "from sklearn.ensemble import RandomForestClassifier\n",
    "rf_model = RandomForestClassifier(n_estimators=512, random_state=78)"
   ]
  },
  {
   "cell_type": "code",
   "execution_count": 315,
   "metadata": {},
   "outputs": [],
   "source": [
    "y = pd.get_dummies(data['Result'])\n",
    "X = pd.get_dummies(data.drop('Result', axis=1))\n",
    "# split the data into training and testing data\n",
    "X_train, X_test, y_train, y_test = train_test_split(X, y, random_state=78)"
   ]
  },
  {
   "cell_type": "code",
   "execution_count": 316,
   "metadata": {},
   "outputs": [],
   "source": [
    "from sklearn.preprocessing import StandardScaler\n",
    "# Create a StandardScaler instances\n",
    "scaler = StandardScaler()\n",
    "\n",
    "# Fit the StandardScaler\n",
    "X_scaler = scaler.fit(X_train)\n",
    "\n",
    "# Scale the data\n",
    "X_train_scaled = X_scaler.transform(X_train)\n",
    "X_test_scaled = X_scaler.transform(X_test)"
   ]
  },
  {
   "cell_type": "code",
   "execution_count": 317,
   "metadata": {},
   "outputs": [],
   "source": [
    "# train the model with training data\n",
    "rf_model = rf_model.fit(X_train_scaled, y_train)"
   ]
  },
  {
   "cell_type": "code",
   "execution_count": 318,
   "metadata": {},
   "outputs": [],
   "source": [
    "# Making predictions using the testing data\n",
    "predictions = rf_model.predict(X_test_scaled)"
   ]
  },
  {
   "cell_type": "code",
   "execution_count": 319,
   "metadata": {},
   "outputs": [],
   "source": [
    "# Calculating the accuracy score\n",
    "acc_score = accuracy_score(y_test, predictions)"
   ]
  },
  {
   "cell_type": "code",
   "execution_count": 320,
   "metadata": {},
   "outputs": [
    {
     "name": "stdout",
     "output_type": "stream",
     "text": [
      "Accuracy Score : 0.6016040227873078\n",
      "Classification Report\n",
      "              precision    recall  f1-score   support\n",
      "\n",
      "  Black Wins       0.67      0.57      0.62     14516\n",
      "  White Wins       0.68      0.67      0.67     15841\n",
      "        Draw       0.00      0.00      0.00      1064\n",
      "\n",
      "   micro avg       0.67      0.60      0.64     31421\n",
      "   macro avg       0.45      0.41      0.43     31421\n",
      "weighted avg       0.65      0.60      0.62     31421\n",
      " samples avg       0.60      0.60      0.60     31421\n",
      "\n"
     ]
    },
    {
     "name": "stderr",
     "output_type": "stream",
     "text": [
      "c:\\Users\\Ian\\anaconda3\\envs\\dev\\lib\\site-packages\\sklearn\\metrics\\_classification.py:1344: UndefinedMetricWarning: Precision and F-score are ill-defined and being set to 0.0 in samples with no predicted labels. Use `zero_division` parameter to control this behavior.\n",
      "  _warn_prf(average, modifier, msg_start, len(result))\n"
     ]
    }
   ],
   "source": [
    "# Displaying results\n",
    "print(f\"Accuracy Score : {acc_score}\")\n",
    "print(\"Classification Report\")\n",
    "print(classification_report(y_test, predictions, target_names=['Black Wins', 'White Wins', 'Draw']))"
   ]
  },
  {
   "cell_type": "code",
   "execution_count": 321,
   "metadata": {},
   "outputs": [
    {
     "data": {
      "text/plain": [
       "[(0.19507156071721687, 'TotalMoves'),\n",
       " (0.14279263196713235, 'Playtime Difference'),\n",
       " (0.13946888783574055, 'Games Played Difference'),\n",
       " (0.132768463350627, 'Rating Difference'),\n",
       " (0.13144882239692643, 'Average Playtime Difference'),\n",
       " (0.12963849311032632, 'White Average Playtime'),\n",
       " (0.12881114062203056, 'Black Average Playtime')]"
      ]
     },
     "execution_count": 321,
     "metadata": {},
     "output_type": "execute_result"
    }
   ],
   "source": [
    "# Random Forests in sklearn will automatically calculate feature importance\n",
    "importances = rf_model.feature_importances_\n",
    "# We can sort the features by their importance\n",
    "sorted(zip(importances, X.columns), reverse=True)"
   ]
  },
  {
   "cell_type": "markdown",
   "metadata": {},
   "source": [
    "## Sequential NN Model"
   ]
  },
  {
   "cell_type": "code",
   "execution_count": 322,
   "metadata": {},
   "outputs": [
    {
     "name": "stdout",
     "output_type": "stream",
     "text": [
      "Model: \"sequential_6\"\n",
      "_________________________________________________________________\n",
      " Layer (type)                Output Shape              Param #   \n",
      "=================================================================\n",
      " dense_26 (Dense)            (None, 256)               2048      \n",
      "                                                                 \n",
      " dense_27 (Dense)            (None, 64)                16448     \n",
      "                                                                 \n",
      " dense_28 (Dense)            (None, 64)                4160      \n",
      "                                                                 \n",
      " dense_29 (Dense)            (None, 64)                4160      \n",
      "                                                                 \n",
      " dense_30 (Dense)            (None, 3)                 195       \n",
      "                                                                 \n",
      "=================================================================\n",
      "Total params: 27011 (105.51 KB)\n",
      "Trainable params: 27011 (105.51 KB)\n",
      "Non-trainable params: 0 (0.00 Byte)\n",
      "_________________________________________________________________\n"
     ]
    }
   ],
   "source": [
    "# Define the model - deep neural net\n",
    "number_input_features = len(X_train.columns)\n",
    "\n",
    "nn = tf.keras.models.Sequential()\n",
    "\n",
    "# First hidden layer\n",
    "nn.add(\n",
    "    tf.keras.layers.Dense(units=256, input_dim=number_input_features, activation=\"relu\")\n",
    ")\n",
    "\n",
    "# Second hidden layer\n",
    "nn.add(tf.keras.layers.Dense(units=64, activation=\"relu\"))\n",
    "\n",
    "nn.add(tf.keras.layers.Dense(units=64, activation=\"relu\"))\n",
    "\n",
    "nn.add(tf.keras.layers.Dense(units=64, activation=\"relu\"))\n",
    "\n",
    "# Output layer\n",
    "nn.add(tf.keras.layers.Dense(units=3, activation=\"softmax\"))\n",
    "\n",
    "# Check the structure of the model\n",
    "nn.summary()"
   ]
  },
  {
   "cell_type": "code",
   "execution_count": 323,
   "metadata": {},
   "outputs": [],
   "source": [
    "nn.compile(loss=\"CategoricalCrossentropy\", optimizer=\"adam\", metrics=[\"accuracy\"])"
   ]
  },
  {
   "cell_type": "code",
   "execution_count": 324,
   "metadata": {},
   "outputs": [
    {
     "name": "stdout",
     "output_type": "stream",
     "text": [
      "Epoch 1/100\n"
     ]
    },
    {
     "name": "stdout",
     "output_type": "stream",
     "text": [
      "2946/2946 [==============================] - 3s 767us/step - loss: 0.7881 - accuracy: 0.5488\n",
      "Epoch 2/100\n",
      "2946/2946 [==============================] - 2s 737us/step - loss: 0.7790 - accuracy: 0.5597\n",
      "Epoch 3/100\n",
      "2946/2946 [==============================] - 2s 732us/step - loss: 0.7757 - accuracy: 0.5669\n",
      "Epoch 4/100\n",
      "2946/2946 [==============================] - 2s 735us/step - loss: 0.7743 - accuracy: 0.5689\n",
      "Epoch 5/100\n",
      "2946/2946 [==============================] - 2s 725us/step - loss: 0.7727 - accuracy: 0.5722\n",
      "Epoch 6/100\n",
      "2946/2946 [==============================] - 2s 743us/step - loss: 0.7720 - accuracy: 0.5720\n",
      "Epoch 7/100\n",
      "2946/2946 [==============================] - 2s 720us/step - loss: 0.7710 - accuracy: 0.5733\n",
      "Epoch 8/100\n",
      "2946/2946 [==============================] - 2s 731us/step - loss: 0.7707 - accuracy: 0.5743\n",
      "Epoch 9/100\n",
      "2946/2946 [==============================] - 2s 725us/step - loss: 0.7701 - accuracy: 0.5765\n",
      "Epoch 10/100\n",
      "2946/2946 [==============================] - 2s 734us/step - loss: 0.7696 - accuracy: 0.5759\n",
      "Epoch 11/100\n",
      "2946/2946 [==============================] - 2s 729us/step - loss: 0.7690 - accuracy: 0.5764\n",
      "Epoch 12/100\n",
      "2946/2946 [==============================] - 2s 736us/step - loss: 0.7685 - accuracy: 0.5775\n",
      "Epoch 13/100\n",
      "2946/2946 [==============================] - 2s 724us/step - loss: 0.7685 - accuracy: 0.5766\n",
      "Epoch 14/100\n",
      "2946/2946 [==============================] - 2s 735us/step - loss: 0.7679 - accuracy: 0.5775\n",
      "Epoch 15/100\n",
      "2946/2946 [==============================] - 2s 735us/step - loss: 0.7679 - accuracy: 0.5764\n",
      "Epoch 16/100\n",
      "2946/2946 [==============================] - 2s 731us/step - loss: 0.7671 - accuracy: 0.5785\n",
      "Epoch 17/100\n",
      "2946/2946 [==============================] - 2s 728us/step - loss: 0.7667 - accuracy: 0.5789\n",
      "Epoch 18/100\n",
      "2946/2946 [==============================] - 2s 715us/step - loss: 0.7665 - accuracy: 0.5781\n",
      "Epoch 19/100\n",
      "2946/2946 [==============================] - 2s 731us/step - loss: 0.7662 - accuracy: 0.5790\n",
      "Epoch 20/100\n",
      "2946/2946 [==============================] - 2s 730us/step - loss: 0.7667 - accuracy: 0.5785\n",
      "Epoch 21/100\n",
      "2946/2946 [==============================] - 2s 730us/step - loss: 0.7655 - accuracy: 0.5789\n",
      "Epoch 22/100\n",
      "2946/2946 [==============================] - 2s 729us/step - loss: 0.7653 - accuracy: 0.5786\n",
      "Epoch 23/100\n",
      "2946/2946 [==============================] - 2s 725us/step - loss: 0.7653 - accuracy: 0.5785\n",
      "Epoch 24/100\n",
      "2946/2946 [==============================] - 2s 728us/step - loss: 0.7648 - accuracy: 0.5795\n",
      "Epoch 25/100\n",
      "2946/2946 [==============================] - 2s 718us/step - loss: 0.7644 - accuracy: 0.5805\n",
      "Epoch 26/100\n",
      "2946/2946 [==============================] - 2s 727us/step - loss: 0.7641 - accuracy: 0.5802\n",
      "Epoch 27/100\n",
      "2946/2946 [==============================] - 2s 713us/step - loss: 0.7642 - accuracy: 0.5816\n",
      "Epoch 28/100\n",
      "2946/2946 [==============================] - 2s 743us/step - loss: 0.7636 - accuracy: 0.5831\n",
      "Epoch 29/100\n",
      "2946/2946 [==============================] - 2s 735us/step - loss: 0.7636 - accuracy: 0.5823\n",
      "Epoch 30/100\n",
      "2946/2946 [==============================] - 2s 728us/step - loss: 0.7629 - accuracy: 0.5829\n",
      "Epoch 31/100\n",
      "2946/2946 [==============================] - 2s 733us/step - loss: 0.7628 - accuracy: 0.5831\n",
      "Epoch 32/100\n",
      "2946/2946 [==============================] - 2s 736us/step - loss: 0.7622 - accuracy: 0.5829\n",
      "Epoch 33/100\n",
      "2946/2946 [==============================] - 2s 723us/step - loss: 0.7622 - accuracy: 0.5823\n",
      "Epoch 34/100\n",
      "2946/2946 [==============================] - 2s 752us/step - loss: 0.7619 - accuracy: 0.5816\n",
      "Epoch 35/100\n",
      "2946/2946 [==============================] - 2s 724us/step - loss: 0.7613 - accuracy: 0.5824\n",
      "Epoch 36/100\n",
      "2946/2946 [==============================] - 2s 731us/step - loss: 0.7630 - accuracy: 0.5825\n",
      "Epoch 37/100\n",
      "2946/2946 [==============================] - 2s 730us/step - loss: 0.7608 - accuracy: 0.5851\n",
      "Epoch 38/100\n",
      "2946/2946 [==============================] - 2s 744us/step - loss: 0.7604 - accuracy: 0.5838\n",
      "Epoch 39/100\n",
      "2946/2946 [==============================] - 2s 769us/step - loss: 0.7606 - accuracy: 0.5827\n",
      "Epoch 40/100\n",
      "2946/2946 [==============================] - 2s 748us/step - loss: 0.7602 - accuracy: 0.5853\n",
      "Epoch 41/100\n",
      "2946/2946 [==============================] - 2s 731us/step - loss: 0.7601 - accuracy: 0.5843\n",
      "Epoch 42/100\n",
      "2946/2946 [==============================] - 2s 758us/step - loss: 0.7600 - accuracy: 0.5842\n",
      "Epoch 43/100\n",
      "2946/2946 [==============================] - 2s 738us/step - loss: 0.7594 - accuracy: 0.5850\n",
      "Epoch 44/100\n",
      "2946/2946 [==============================] - 2s 798us/step - loss: 0.7594 - accuracy: 0.5838\n",
      "Epoch 45/100\n",
      "2946/2946 [==============================] - 2s 769us/step - loss: 0.7590 - accuracy: 0.5847\n",
      "Epoch 46/100\n",
      "2946/2946 [==============================] - 2s 773us/step - loss: 0.7582 - accuracy: 0.5854\n",
      "Epoch 47/100\n",
      "2946/2946 [==============================] - 2s 737us/step - loss: 0.7597 - accuracy: 0.5852\n",
      "Epoch 48/100\n",
      "2946/2946 [==============================] - 2s 751us/step - loss: 0.7573 - accuracy: 0.5858\n",
      "Epoch 49/100\n",
      "2946/2946 [==============================] - 2s 736us/step - loss: 0.7578 - accuracy: 0.5878\n",
      "Epoch 50/100\n",
      "2946/2946 [==============================] - 2s 735us/step - loss: 0.7572 - accuracy: 0.5870\n",
      "Epoch 51/100\n",
      "2946/2946 [==============================] - 2s 734us/step - loss: 0.7566 - accuracy: 0.5867\n",
      "Epoch 52/100\n",
      "2946/2946 [==============================] - 2s 734us/step - loss: 0.7566 - accuracy: 0.5867\n",
      "Epoch 53/100\n",
      "2946/2946 [==============================] - 2s 730us/step - loss: 0.7563 - accuracy: 0.5867\n",
      "Epoch 54/100\n",
      "2946/2946 [==============================] - 2s 738us/step - loss: 0.7554 - accuracy: 0.5881\n",
      "Epoch 55/100\n",
      "2946/2946 [==============================] - 2s 724us/step - loss: 0.7555 - accuracy: 0.5879\n",
      "Epoch 56/100\n",
      "2946/2946 [==============================] - 2s 701us/step - loss: 0.7552 - accuracy: 0.5878\n",
      "Epoch 57/100\n",
      "2946/2946 [==============================] - 2s 719us/step - loss: 0.7549 - accuracy: 0.5874\n",
      "Epoch 58/100\n",
      "2946/2946 [==============================] - 2s 726us/step - loss: 0.7546 - accuracy: 0.5891\n",
      "Epoch 59/100\n",
      "2946/2946 [==============================] - 2s 723us/step - loss: 0.7542 - accuracy: 0.5902\n",
      "Epoch 60/100\n",
      "2946/2946 [==============================] - 2s 702us/step - loss: 0.7536 - accuracy: 0.5887\n",
      "Epoch 61/100\n",
      "2946/2946 [==============================] - 2s 724us/step - loss: 0.7534 - accuracy: 0.5888\n",
      "Epoch 62/100\n",
      "2946/2946 [==============================] - 2s 732us/step - loss: 0.7530 - accuracy: 0.5899\n",
      "Epoch 63/100\n",
      "2946/2946 [==============================] - 2s 725us/step - loss: 0.7528 - accuracy: 0.5892\n",
      "Epoch 64/100\n",
      "2946/2946 [==============================] - 2s 731us/step - loss: 0.7524 - accuracy: 0.5904\n",
      "Epoch 65/100\n",
      "2946/2946 [==============================] - 2s 714us/step - loss: 0.7519 - accuracy: 0.5906\n",
      "Epoch 66/100\n",
      "2946/2946 [==============================] - 2s 726us/step - loss: 0.7526 - accuracy: 0.5910\n",
      "Epoch 67/100\n",
      "2946/2946 [==============================] - 2s 761us/step - loss: 0.7516 - accuracy: 0.5903\n",
      "Epoch 68/100\n",
      "2946/2946 [==============================] - 2s 767us/step - loss: 0.7510 - accuracy: 0.5906\n",
      "Epoch 69/100\n",
      "2946/2946 [==============================] - 2s 761us/step - loss: 0.7501 - accuracy: 0.5920\n",
      "Epoch 70/100\n",
      "2946/2946 [==============================] - 2s 745us/step - loss: 0.7511 - accuracy: 0.5903\n",
      "Epoch 71/100\n",
      "2946/2946 [==============================] - 2s 748us/step - loss: 0.7499 - accuracy: 0.5922\n",
      "Epoch 72/100\n",
      "2946/2946 [==============================] - 2s 758us/step - loss: 0.7500 - accuracy: 0.5921\n",
      "Epoch 73/100\n",
      "2946/2946 [==============================] - 2s 734us/step - loss: 0.7501 - accuracy: 0.5918\n",
      "Epoch 74/100\n",
      "2946/2946 [==============================] - 2s 731us/step - loss: 0.7494 - accuracy: 0.5914\n",
      "Epoch 75/100\n",
      "2946/2946 [==============================] - 2s 740us/step - loss: 0.7484 - accuracy: 0.5922\n",
      "Epoch 76/100\n",
      "2946/2946 [==============================] - 2s 744us/step - loss: 0.7483 - accuracy: 0.5927\n",
      "Epoch 77/100\n",
      "2946/2946 [==============================] - 2s 732us/step - loss: 0.7484 - accuracy: 0.5930\n",
      "Epoch 78/100\n",
      "2946/2946 [==============================] - 2s 744us/step - loss: 0.7473 - accuracy: 0.5926\n",
      "Epoch 79/100\n",
      "2946/2946 [==============================] - 2s 719us/step - loss: 0.7479 - accuracy: 0.5921\n",
      "Epoch 80/100\n",
      "2946/2946 [==============================] - 2s 762us/step - loss: 0.7471 - accuracy: 0.5934\n",
      "Epoch 81/100\n",
      "2946/2946 [==============================] - 2s 757us/step - loss: 0.7471 - accuracy: 0.5933\n",
      "Epoch 82/100\n",
      "2946/2946 [==============================] - 2s 760us/step - loss: 0.7464 - accuracy: 0.5944\n",
      "Epoch 83/100\n",
      "2946/2946 [==============================] - 2s 737us/step - loss: 0.7471 - accuracy: 0.5938\n",
      "Epoch 84/100\n",
      "2946/2946 [==============================] - 2s 730us/step - loss: 0.7456 - accuracy: 0.5944\n",
      "Epoch 85/100\n",
      "2946/2946 [==============================] - 2s 735us/step - loss: 0.7450 - accuracy: 0.5951\n",
      "Epoch 86/100\n",
      "2946/2946 [==============================] - 2s 718us/step - loss: 0.7454 - accuracy: 0.5939\n",
      "Epoch 87/100\n",
      "2946/2946 [==============================] - 2s 752us/step - loss: 0.7454 - accuracy: 0.5946\n",
      "Epoch 88/100\n",
      "2946/2946 [==============================] - 2s 740us/step - loss: 0.7445 - accuracy: 0.5956\n",
      "Epoch 89/100\n",
      "2946/2946 [==============================] - 2s 783us/step - loss: 0.7444 - accuracy: 0.5947\n",
      "Epoch 90/100\n",
      "2946/2946 [==============================] - 2s 762us/step - loss: 0.7434 - accuracy: 0.5959\n",
      "Epoch 91/100\n",
      "2946/2946 [==============================] - 2s 739us/step - loss: 0.7436 - accuracy: 0.5959\n",
      "Epoch 92/100\n",
      "2946/2946 [==============================] - 2s 755us/step - loss: 0.7432 - accuracy: 0.5959\n",
      "Epoch 93/100\n",
      "2946/2946 [==============================] - 2s 749us/step - loss: 0.7427 - accuracy: 0.5969\n",
      "Epoch 94/100\n",
      "2946/2946 [==============================] - 2s 754us/step - loss: 0.7431 - accuracy: 0.5966\n",
      "Epoch 95/100\n",
      "2946/2946 [==============================] - 2s 754us/step - loss: 0.7427 - accuracy: 0.5964\n",
      "Epoch 96/100\n",
      "2946/2946 [==============================] - 2s 744us/step - loss: 0.7425 - accuracy: 0.5963\n",
      "Epoch 97/100\n",
      "2946/2946 [==============================] - 2s 736us/step - loss: 0.7418 - accuracy: 0.5965\n",
      "Epoch 98/100\n",
      "2946/2946 [==============================] - 2s 739us/step - loss: 0.7423 - accuracy: 0.5967\n",
      "Epoch 99/100\n",
      "2946/2946 [==============================] - 2s 756us/step - loss: 0.7415 - accuracy: 0.5968\n",
      "Epoch 100/100\n",
      "2946/2946 [==============================] - 2s 752us/step - loss: 0.7412 - accuracy: 0.5984\n"
     ]
    }
   ],
   "source": [
    "fit_model = nn.fit(X_train_scaled,y_train,epochs=100)"
   ]
  },
  {
   "cell_type": "markdown",
   "metadata": {},
   "source": [
    "## Hyperparameter Tuning"
   ]
  },
  {
   "cell_type": "code",
   "execution_count": 325,
   "metadata": {},
   "outputs": [],
   "source": [
    "# Create a method that creates a new Sequential model with hyperparameter options\n",
    "def create_model(hp):\n",
    "    nn_model = tf.keras.models.Sequential()\n",
    "\n",
    "    # Allow kerastuner to decide which activation function to use in hidden layers\n",
    "    activation = hp.Choice('activation',['relu','tanh','sigmoid','softmax','swish'])\n",
    "    # Allow kerastuner to decide number of neurons in first layer\n",
    "    nn_model.add(tf.keras.layers.Dense(units=hp.Int('first_units',\n",
    "        min_value=1,\n",
    "        max_value=512,\n",
    "        step=5), activation=activation, input_dim=len(X_train.columns)))\n",
    "\n",
    "    # Allow kerastuner to decide number of hidden layers and neurons in hidden layers\n",
    "    for i in range(hp.Int('num_layers', 1, 8)):\n",
    "        nn_model.add(tf.keras.layers.Dense(units=hp.Int('units_' + str(i),\n",
    "            min_value=1,\n",
    "            max_value=512,\n",
    "            step=5),\n",
    "            activation=activation))\n",
    "    \n",
    "    nn_model.add(tf.keras.layers.Dense(units=3, activation='softmax'))\n",
    "\n",
    "    # Compile the model\n",
    "    nn_model.compile(loss=\"CategoricalCrossentropy\", optimizer='adam', metrics=[\"accuracy\"])\n",
    "    \n",
    "    return nn_model"
   ]
  },
  {
   "cell_type": "code",
   "execution_count": 326,
   "metadata": {},
   "outputs": [],
   "source": [
    "# Import the kerastuner library\n",
    "import keras_tuner as kt\n",
    "\n",
    "tuner = kt.Hyperband(\n",
    "    create_model,\n",
    "    objective=\"val_accuracy\",\n",
    "    max_epochs=20,\n",
    "    hyperband_iterations=2,\n",
    "    overwrite=True)"
   ]
  },
  {
   "cell_type": "code",
   "execution_count": 327,
   "metadata": {},
   "outputs": [
    {
     "name": "stdout",
     "output_type": "stream",
     "text": [
      "Trial 60 Complete [00h 01m 56s]\n",
      "val_accuracy: 0.5763979554176331\n",
      "\n",
      "Best val_accuracy So Far: 0.5787212252616882\n",
      "Total elapsed time: 00h 37m 56s\n"
     ]
    }
   ],
   "source": [
    "tuner.search(X_train_scaled,y_train,epochs=20,validation_data=(X_test_scaled,y_test))"
   ]
  },
  {
   "cell_type": "code",
   "execution_count": 328,
   "metadata": {},
   "outputs": [
    {
     "name": "stdout",
     "output_type": "stream",
     "text": [
      "{'activation': 'relu', 'first_units': 441, 'num_layers': 6, 'units_0': 251, 'units_1': 96, 'units_2': 156, 'units_3': 396, 'units_4': 16, 'units_5': 121, 'units_6': 116, 'tuner/epochs': 20, 'tuner/initial_epoch': 7, 'tuner/bracket': 1, 'tuner/round': 1, 'tuner/trial_id': '0018', 'units_7': 11}\n",
      "{'activation': 'relu', 'first_units': 166, 'num_layers': 2, 'units_0': 236, 'units_1': 6, 'units_2': 221, 'units_3': 456, 'units_4': 386, 'units_5': 156, 'units_6': 281, 'units_7': 381, 'tuner/epochs': 20, 'tuner/initial_epoch': 7, 'tuner/bracket': 2, 'tuner/round': 2, 'tuner/trial_id': '0042'}\n",
      "{'activation': 'relu', 'first_units': 256, 'num_layers': 2, 'units_0': 76, 'units_1': 281, 'units_2': 101, 'units_3': 36, 'units_4': 431, 'units_5': 216, 'units_6': 136, 'units_7': 196, 'tuner/epochs': 20, 'tuner/initial_epoch': 7, 'tuner/bracket': 1, 'tuner/round': 1, 'tuner/trial_id': '0050'}\n"
     ]
    }
   ],
   "source": [
    "top_hyper = tuner.get_best_hyperparameters(3)\n",
    "for param in top_hyper:\n",
    "    print(param.values)"
   ]
  },
  {
   "cell_type": "code",
   "execution_count": 329,
   "metadata": {},
   "outputs": [
    {
     "name": "stdout",
     "output_type": "stream",
     "text": [
      "982/982 - 1s - loss: 0.7691 - accuracy: 0.5787 - 802ms/epoch - 817us/step\n",
      "Loss: 0.769116997718811, Accuracy: 0.5787212252616882\n"
     ]
    }
   ],
   "source": [
    "best_model = tuner.get_best_models()[0]\n",
    "model_loss, model_accuracy = best_model.evaluate(X_test_scaled,y_test,verbose=2)\n",
    "print(f\"Loss: {model_loss}, Accuracy: {model_accuracy}\")"
   ]
  },
  {
   "cell_type": "markdown",
   "metadata": {},
   "source": [
    "## Binning Outliers in Rating Difference"
   ]
  },
  {
   "cell_type": "code",
   "execution_count": 330,
   "metadata": {},
   "outputs": [],
   "source": [
    "bins = [-2000, -1000, -500, -150, -50, 0, 50, 150, 500, 1000, 2000]\n",
    "data['Rating Difference'] = pd.cut(data['Rating Difference'], bins)"
   ]
  },
  {
   "cell_type": "code",
   "execution_count": 331,
   "metadata": {},
   "outputs": [
    {
     "data": {
      "text/plain": [
       "0      (50, 150]\n",
       "1    (-150, -50]\n",
       "2       (-50, 0]\n",
       "3       (-50, 0]\n",
       "4       (-50, 0]\n",
       "Name: Rating Difference, dtype: category\n",
       "Categories (10, interval[int64, right]): [(-2000, -1000] < (-1000, -500] < (-500, -150] < (-150, -50] ... (50, 150] < (150, 500] < (500, 1000] < (1000, 2000]]"
      ]
     },
     "execution_count": 331,
     "metadata": {},
     "output_type": "execute_result"
    }
   ],
   "source": [
    "data['Rating Difference'].head()"
   ]
  },
  {
   "cell_type": "code",
   "execution_count": 332,
   "metadata": {},
   "outputs": [],
   "source": [
    "# dummy encode the categorical data and sort into target and features\n",
    "y = pd.get_dummies(data['Result'])\n",
    "X = pd.get_dummies(data.drop('Result', axis=1))"
   ]
  },
  {
   "cell_type": "code",
   "execution_count": 333,
   "metadata": {},
   "outputs": [],
   "source": [
    "# split the data into training and testing data\n",
    "X_train, X_test, y_train, y_test = train_test_split(X, y, random_state=78)"
   ]
  },
  {
   "cell_type": "code",
   "execution_count": 334,
   "metadata": {},
   "outputs": [],
   "source": [
    "from sklearn.preprocessing import StandardScaler\n",
    "# Create a StandardScaler instances\n",
    "scaler = StandardScaler()\n",
    "\n",
    "# Fit the StandardScaler\n",
    "X_scaler = scaler.fit(X_train)\n",
    "\n",
    "# Scale the data\n",
    "X_train_scaled = X_scaler.transform(X_train)\n",
    "X_test_scaled = X_scaler.transform(X_test)"
   ]
  },
  {
   "cell_type": "code",
   "execution_count": 335,
   "metadata": {},
   "outputs": [],
   "source": [
    "# initiate a random forest model\n",
    "from sklearn.ensemble import RandomForestClassifier\n",
    "rf_model = RandomForestClassifier(n_estimators=512, random_state=78)"
   ]
  },
  {
   "cell_type": "code",
   "execution_count": 336,
   "metadata": {},
   "outputs": [],
   "source": [
    "# train the model with training data\n",
    "rf_model = rf_model.fit(X_train_scaled, y_train)"
   ]
  },
  {
   "cell_type": "code",
   "execution_count": 337,
   "metadata": {},
   "outputs": [],
   "source": [
    "# Making predictions using the testing data\n",
    "predictions = rf_model.predict(X_test_scaled)"
   ]
  },
  {
   "cell_type": "code",
   "execution_count": 338,
   "metadata": {},
   "outputs": [],
   "source": [
    "# Calculating the accuracy score\n",
    "acc_score = accuracy_score(y_test, predictions)"
   ]
  },
  {
   "cell_type": "code",
   "execution_count": 339,
   "metadata": {},
   "outputs": [
    {
     "name": "stdout",
     "output_type": "stream",
     "text": [
      "Accuracy Score : 0.5837497215238217\n",
      "Classification Report\n",
      "              precision    recall  f1-score   support\n",
      "\n",
      "  Black Wins       0.65      0.55      0.60     14516\n",
      "  White Wins       0.66      0.65      0.65     15841\n",
      "        Draw       0.00      0.00      0.00      1064\n",
      "\n",
      "   micro avg       0.65      0.58      0.62     31421\n",
      "   macro avg       0.43      0.40      0.42     31421\n",
      "weighted avg       0.63      0.58      0.61     31421\n",
      " samples avg       0.58      0.58      0.58     31421\n",
      "\n"
     ]
    },
    {
     "name": "stderr",
     "output_type": "stream",
     "text": [
      "c:\\Users\\Ian\\anaconda3\\envs\\dev\\lib\\site-packages\\sklearn\\metrics\\_classification.py:1344: UndefinedMetricWarning: Precision and F-score are ill-defined and being set to 0.0 in samples with no predicted labels. Use `zero_division` parameter to control this behavior.\n",
      "  _warn_prf(average, modifier, msg_start, len(result))\n"
     ]
    }
   ],
   "source": [
    "# Displaying results\n",
    "print(f\"Accuracy Score : {acc_score}\")\n",
    "print(\"Classification Report\")\n",
    "print(classification_report(y_test, predictions, target_names=['Black Wins', 'White Wins', 'Draw']))"
   ]
  },
  {
   "cell_type": "code",
   "execution_count": 340,
   "metadata": {},
   "outputs": [
    {
     "data": {
      "text/plain": [
       "[(0.20417716258915353, 'TotalMoves'),\n",
       " (0.16008715376553523, 'Playtime Difference'),\n",
       " (0.15679306866432044, 'Games Played Difference'),\n",
       " (0.14858828998382126, 'Average Playtime Difference'),\n",
       " (0.14661640016872798, 'White Average Playtime'),\n",
       " (0.14642235984674798, 'Black Average Playtime'),\n",
       " (0.007563483583772837, 'Rating Difference_(-50, 0]'),\n",
       " (0.00738571955451873, 'Rating Difference_(0, 50]'),\n",
       " (0.005389051272143455, 'Rating Difference_(-150, -50]'),\n",
       " (0.004439173176373118, 'Rating Difference_(-500, -150]'),\n",
       " (0.004362699279370156, 'Rating Difference_(150, 500]'),\n",
       " (0.004288556761098735, 'Rating Difference_(50, 150]'),\n",
       " (0.0016191535146478657, 'Rating Difference_(500, 1000]'),\n",
       " (0.0016089741538236977, 'Rating Difference_(-1000, -500]'),\n",
       " (0.0004122208829182406, 'Rating Difference_(-2000, -1000]'),\n",
       " (0.0002465328030266965, 'Rating Difference_(1000, 2000]')]"
      ]
     },
     "execution_count": 340,
     "metadata": {},
     "output_type": "execute_result"
    }
   ],
   "source": [
    "# Calculating feature importance\n",
    "importances = rf_model.feature_importances_\n",
    "# We can sort the features by their importance\n",
    "sorted(zip(importances, X.columns), reverse=True)"
   ]
  },
  {
   "cell_type": "code",
   "execution_count": 341,
   "metadata": {},
   "outputs": [
    {
     "name": "stdout",
     "output_type": "stream",
     "text": [
      "Model: \"sequential_1\"\n",
      "_________________________________________________________________\n",
      " Layer (type)                Output Shape              Param #   \n",
      "=================================================================\n",
      " dense_8 (Dense)             (None, 256)               4352      \n",
      "                                                                 \n",
      " dense_9 (Dense)             (None, 64)                16448     \n",
      "                                                                 \n",
      " dense_10 (Dense)            (None, 64)                4160      \n",
      "                                                                 \n",
      " dense_11 (Dense)            (None, 64)                4160      \n",
      "                                                                 \n",
      " dense_12 (Dense)            (None, 3)                 195       \n",
      "                                                                 \n",
      "=================================================================\n",
      "Total params: 29315 (114.51 KB)\n",
      "Trainable params: 29315 (114.51 KB)\n",
      "Non-trainable params: 0 (0.00 Byte)\n",
      "_________________________________________________________________\n"
     ]
    }
   ],
   "source": [
    "# Define the model - deep neural net\n",
    "number_input_features = len(X_train.columns)\n",
    "\n",
    "nn = tf.keras.models.Sequential()\n",
    "\n",
    "# First hidden layer\n",
    "nn.add(\n",
    "    tf.keras.layers.Dense(units=256, input_dim=number_input_features, activation=\"mish\")\n",
    ")\n",
    "\n",
    "# Further hidden layers\n",
    "nn.add(tf.keras.layers.Dense(units=64, activation=\"mish\"))\n",
    "\n",
    "nn.add(tf.keras.layers.Dense(units=64, activation=\"mish\"))\n",
    "\n",
    "nn.add(tf.keras.layers.Dense(units=64, activation=\"mish\"))\n",
    "\n",
    "# Output layer\n",
    "nn.add(tf.keras.layers.Dense(units=3, activation=\"softmax\"))\n",
    "\n",
    "# Check the structure of the model\n",
    "nn.summary()"
   ]
  },
  {
   "cell_type": "code",
   "execution_count": 342,
   "metadata": {},
   "outputs": [],
   "source": [
    "nn.compile(loss=\"CategoricalCrossentropy\", optimizer=\"adam\", metrics=[\"accuracy\"])"
   ]
  },
  {
   "cell_type": "code",
   "execution_count": 343,
   "metadata": {},
   "outputs": [
    {
     "name": "stdout",
     "output_type": "stream",
     "text": [
      "Epoch 1/100\n"
     ]
    },
    {
     "name": "stdout",
     "output_type": "stream",
     "text": [
      "2946/2946 [==============================] - 3s 787us/step - loss: 0.7897 - accuracy: 0.5414\n",
      "Epoch 2/100\n",
      "2946/2946 [==============================] - 2s 784us/step - loss: 0.7813 - accuracy: 0.5547\n",
      "Epoch 3/100\n",
      "2946/2946 [==============================] - 2s 801us/step - loss: 0.7788 - accuracy: 0.5606\n",
      "Epoch 4/100\n",
      "2946/2946 [==============================] - 2s 788us/step - loss: 0.7774 - accuracy: 0.5623\n",
      "Epoch 5/100\n",
      "2946/2946 [==============================] - 2s 808us/step - loss: 0.7762 - accuracy: 0.5648\n",
      "Epoch 6/100\n",
      "2946/2946 [==============================] - 2s 809us/step - loss: 0.7757 - accuracy: 0.5655\n",
      "Epoch 7/100\n",
      "2946/2946 [==============================] - 2s 805us/step - loss: 0.7749 - accuracy: 0.5672\n",
      "Epoch 8/100\n",
      "2946/2946 [==============================] - 2s 804us/step - loss: 0.7746 - accuracy: 0.5691\n",
      "Epoch 9/100\n",
      "2946/2946 [==============================] - 2s 793us/step - loss: 0.7738 - accuracy: 0.5691\n",
      "Epoch 10/100\n",
      "2946/2946 [==============================] - 2s 803us/step - loss: 0.7733 - accuracy: 0.5693\n",
      "Epoch 11/100\n",
      "2946/2946 [==============================] - 2s 806us/step - loss: 0.7727 - accuracy: 0.5705\n",
      "Epoch 12/100\n",
      "2946/2946 [==============================] - 2s 800us/step - loss: 0.7723 - accuracy: 0.5716\n",
      "Epoch 13/100\n",
      "2946/2946 [==============================] - 2s 805us/step - loss: 0.7719 - accuracy: 0.5715\n",
      "Epoch 14/100\n",
      "2946/2946 [==============================] - 2s 795us/step - loss: 0.7714 - accuracy: 0.5719\n",
      "Epoch 15/100\n",
      "2946/2946 [==============================] - 2s 807us/step - loss: 0.7711 - accuracy: 0.5716\n",
      "Epoch 16/100\n",
      "2946/2946 [==============================] - 2s 809us/step - loss: 0.7708 - accuracy: 0.5730\n",
      "Epoch 17/100\n",
      "2946/2946 [==============================] - 2s 791us/step - loss: 0.7705 - accuracy: 0.5720\n",
      "Epoch 18/100\n",
      "2946/2946 [==============================] - 2s 807us/step - loss: 0.7701 - accuracy: 0.5729\n",
      "Epoch 19/100\n",
      "2946/2946 [==============================] - 2s 816us/step - loss: 0.7694 - accuracy: 0.5727\n",
      "Epoch 20/100\n",
      "2946/2946 [==============================] - 2s 793us/step - loss: 0.7691 - accuracy: 0.5755\n",
      "Epoch 21/100\n",
      "2946/2946 [==============================] - 2s 803us/step - loss: 0.7686 - accuracy: 0.5735\n",
      "Epoch 22/100\n",
      "2946/2946 [==============================] - 2s 791us/step - loss: 0.7683 - accuracy: 0.5747\n",
      "Epoch 23/100\n",
      "2946/2946 [==============================] - 2s 798us/step - loss: 0.7678 - accuracy: 0.5768\n",
      "Epoch 24/100\n",
      "2946/2946 [==============================] - 2s 809us/step - loss: 0.7675 - accuracy: 0.5759\n",
      "Epoch 25/100\n",
      "2946/2946 [==============================] - 2s 794us/step - loss: 0.7670 - accuracy: 0.5761\n",
      "Epoch 26/100\n",
      "2946/2946 [==============================] - 2s 806us/step - loss: 0.7668 - accuracy: 0.5765\n",
      "Epoch 27/100\n",
      "2946/2946 [==============================] - 2s 806us/step - loss: 0.7662 - accuracy: 0.5752\n",
      "Epoch 28/100\n",
      "2946/2946 [==============================] - 2s 791us/step - loss: 0.7658 - accuracy: 0.5776\n",
      "Epoch 29/100\n",
      "2946/2946 [==============================] - 2s 802us/step - loss: 0.7650 - accuracy: 0.5779\n",
      "Epoch 30/100\n",
      "2946/2946 [==============================] - 2s 798us/step - loss: 0.7644 - accuracy: 0.5777\n",
      "Epoch 31/100\n",
      "2946/2946 [==============================] - 2s 796us/step - loss: 0.7643 - accuracy: 0.5779\n",
      "Epoch 32/100\n",
      "2946/2946 [==============================] - 2s 802us/step - loss: 0.7638 - accuracy: 0.5782\n",
      "Epoch 33/100\n",
      "2946/2946 [==============================] - 2s 803us/step - loss: 0.7631 - accuracy: 0.5797\n",
      "Epoch 34/100\n",
      "2946/2946 [==============================] - 2s 795us/step - loss: 0.7627 - accuracy: 0.5803\n",
      "Epoch 35/100\n",
      "2946/2946 [==============================] - 2s 800us/step - loss: 0.7620 - accuracy: 0.5799\n",
      "Epoch 36/100\n",
      "2946/2946 [==============================] - 2s 796us/step - loss: 0.7611 - accuracy: 0.5805\n",
      "Epoch 37/100\n",
      "2946/2946 [==============================] - 2s 811us/step - loss: 0.7608 - accuracy: 0.5793\n",
      "Epoch 38/100\n",
      "2946/2946 [==============================] - 2s 806us/step - loss: 0.7606 - accuracy: 0.5809\n",
      "Epoch 39/100\n",
      "2946/2946 [==============================] - 2s 794us/step - loss: 0.7596 - accuracy: 0.5819\n",
      "Epoch 40/100\n",
      "2946/2946 [==============================] - 2s 805us/step - loss: 0.7588 - accuracy: 0.5827\n",
      "Epoch 41/100\n",
      "2946/2946 [==============================] - 2s 806us/step - loss: 0.7590 - accuracy: 0.5830\n",
      "Epoch 42/100\n",
      "2946/2946 [==============================] - 2s 798us/step - loss: 0.7578 - accuracy: 0.5840\n",
      "Epoch 43/100\n",
      "2946/2946 [==============================] - 2s 800us/step - loss: 0.7572 - accuracy: 0.5834\n",
      "Epoch 44/100\n",
      "2946/2946 [==============================] - 2s 791us/step - loss: 0.7568 - accuracy: 0.5824\n",
      "Epoch 45/100\n",
      "2946/2946 [==============================] - 2s 799us/step - loss: 0.7564 - accuracy: 0.5854\n",
      "Epoch 46/100\n",
      "2946/2946 [==============================] - 2s 806us/step - loss: 0.7555 - accuracy: 0.5848\n",
      "Epoch 47/100\n",
      "2946/2946 [==============================] - 2s 784us/step - loss: 0.7544 - accuracy: 0.5858\n",
      "Epoch 48/100\n",
      "2946/2946 [==============================] - 2s 800us/step - loss: 0.7542 - accuracy: 0.5849\n",
      "Epoch 49/100\n",
      "2946/2946 [==============================] - 2s 798us/step - loss: 0.7542 - accuracy: 0.5854\n",
      "Epoch 50/100\n",
      "2946/2946 [==============================] - 2s 794us/step - loss: 0.7529 - accuracy: 0.5869\n",
      "Epoch 51/100\n",
      "2946/2946 [==============================] - 2s 807us/step - loss: 0.7525 - accuracy: 0.5874\n",
      "Epoch 52/100\n",
      "2946/2946 [==============================] - 2s 805us/step - loss: 0.7511 - accuracy: 0.5883\n",
      "Epoch 53/100\n",
      "2946/2946 [==============================] - 2s 790us/step - loss: 0.7510 - accuracy: 0.5883\n",
      "Epoch 54/100\n",
      "2946/2946 [==============================] - 2s 805us/step - loss: 0.7501 - accuracy: 0.5905\n",
      "Epoch 55/100\n",
      "2946/2946 [==============================] - 2s 793us/step - loss: 0.7493 - accuracy: 0.5890\n",
      "Epoch 56/100\n",
      "2946/2946 [==============================] - 2s 800us/step - loss: 0.7487 - accuracy: 0.5916\n",
      "Epoch 57/100\n",
      "2946/2946 [==============================] - 2s 799us/step - loss: 0.7486 - accuracy: 0.5903\n",
      "Epoch 58/100\n",
      "2946/2946 [==============================] - 2s 793us/step - loss: 0.7479 - accuracy: 0.5902\n",
      "Epoch 59/100\n",
      "2946/2946 [==============================] - 2s 799us/step - loss: 0.7470 - accuracy: 0.5923\n",
      "Epoch 60/100\n",
      "2946/2946 [==============================] - 2s 805us/step - loss: 0.7460 - accuracy: 0.5926\n",
      "Epoch 61/100\n",
      "2946/2946 [==============================] - 2s 802us/step - loss: 0.7451 - accuracy: 0.5922\n",
      "Epoch 62/100\n",
      "2946/2946 [==============================] - 2s 793us/step - loss: 0.7444 - accuracy: 0.5933\n",
      "Epoch 63/100\n",
      "2946/2946 [==============================] - 2s 811us/step - loss: 0.7438 - accuracy: 0.5936\n",
      "Epoch 64/100\n",
      "2946/2946 [==============================] - 2s 805us/step - loss: 0.7429 - accuracy: 0.5951\n",
      "Epoch 65/100\n",
      "2946/2946 [==============================] - 2s 797us/step - loss: 0.7415 - accuracy: 0.5957\n",
      "Epoch 66/100\n",
      "2946/2946 [==============================] - 2s 808us/step - loss: 0.7407 - accuracy: 0.5962\n",
      "Epoch 67/100\n",
      "2946/2946 [==============================] - 2s 808us/step - loss: 0.7403 - accuracy: 0.5965\n",
      "Epoch 68/100\n",
      "2946/2946 [==============================] - 2s 789us/step - loss: 0.7395 - accuracy: 0.5972\n",
      "Epoch 69/100\n",
      "2946/2946 [==============================] - 2s 803us/step - loss: 0.7389 - accuracy: 0.5968\n",
      "Epoch 70/100\n",
      "2946/2946 [==============================] - 2s 807us/step - loss: 0.7376 - accuracy: 0.5993\n",
      "Epoch 71/100\n",
      "2946/2946 [==============================] - 2s 800us/step - loss: 0.7369 - accuracy: 0.5980\n",
      "Epoch 72/100\n",
      "2946/2946 [==============================] - 2s 805us/step - loss: 0.7377 - accuracy: 0.5991\n",
      "Epoch 73/100\n",
      "2946/2946 [==============================] - 2s 805us/step - loss: 0.7358 - accuracy: 0.6002\n",
      "Epoch 74/100\n",
      "2946/2946 [==============================] - 2s 794us/step - loss: 0.7344 - accuracy: 0.6014\n",
      "Epoch 75/100\n",
      "2946/2946 [==============================] - 2s 808us/step - loss: 0.7336 - accuracy: 0.6022\n",
      "Epoch 76/100\n",
      "2946/2946 [==============================] - 2s 805us/step - loss: 0.7331 - accuracy: 0.6023\n",
      "Epoch 77/100\n",
      "2946/2946 [==============================] - 2s 794us/step - loss: 0.7323 - accuracy: 0.6029\n",
      "Epoch 78/100\n",
      "2946/2946 [==============================] - 2s 804us/step - loss: 0.7310 - accuracy: 0.6048\n",
      "Epoch 79/100\n",
      "2946/2946 [==============================] - 2s 799us/step - loss: 0.7307 - accuracy: 0.6030\n",
      "Epoch 80/100\n",
      "2946/2946 [==============================] - 2s 793us/step - loss: 0.7300 - accuracy: 0.6037\n",
      "Epoch 81/100\n",
      "2946/2946 [==============================] - 2s 797us/step - loss: 0.7294 - accuracy: 0.6046\n",
      "Epoch 82/100\n",
      "2946/2946 [==============================] - 2s 806us/step - loss: 0.7278 - accuracy: 0.6048\n",
      "Epoch 83/100\n",
      "2946/2946 [==============================] - 2s 795us/step - loss: 0.7280 - accuracy: 0.6061\n",
      "Epoch 84/100\n",
      "2946/2946 [==============================] - 2s 814us/step - loss: 0.7270 - accuracy: 0.6070\n",
      "Epoch 85/100\n",
      "2946/2946 [==============================] - 2s 809us/step - loss: 0.7260 - accuracy: 0.6083\n",
      "Epoch 86/100\n",
      "2946/2946 [==============================] - 2s 796us/step - loss: 0.7257 - accuracy: 0.6065\n",
      "Epoch 87/100\n",
      "2946/2946 [==============================] - 2s 803us/step - loss: 0.7254 - accuracy: 0.6087\n",
      "Epoch 88/100\n",
      "2946/2946 [==============================] - 2s 807us/step - loss: 0.7245 - accuracy: 0.6085\n",
      "Epoch 89/100\n",
      "2946/2946 [==============================] - 2s 791us/step - loss: 0.7231 - accuracy: 0.6100\n",
      "Epoch 90/100\n",
      "2946/2946 [==============================] - 2s 800us/step - loss: 0.7231 - accuracy: 0.6088\n",
      "Epoch 91/100\n",
      "2946/2946 [==============================] - 2s 798us/step - loss: 0.7219 - accuracy: 0.6100\n",
      "Epoch 92/100\n",
      "2946/2946 [==============================] - 2s 800us/step - loss: 0.7223 - accuracy: 0.6093\n",
      "Epoch 93/100\n",
      "2946/2946 [==============================] - 2s 788us/step - loss: 0.7206 - accuracy: 0.6120\n",
      "Epoch 94/100\n",
      "2946/2946 [==============================] - 2s 799us/step - loss: 0.7198 - accuracy: 0.6111\n",
      "Epoch 95/100\n",
      "2946/2946 [==============================] - 2s 801us/step - loss: 0.7196 - accuracy: 0.6133\n",
      "Epoch 96/100\n",
      "2946/2946 [==============================] - 2s 791us/step - loss: 0.7191 - accuracy: 0.6126\n",
      "Epoch 97/100\n",
      "2946/2946 [==============================] - 2s 800us/step - loss: 0.7185 - accuracy: 0.6142\n",
      "Epoch 98/100\n",
      "2946/2946 [==============================] - 2s 800us/step - loss: 0.7174 - accuracy: 0.6149\n",
      "Epoch 99/100\n",
      "2946/2946 [==============================] - 2s 804us/step - loss: 0.7178 - accuracy: 0.6137\n",
      "Epoch 100/100\n",
      "2946/2946 [==============================] - 2s 792us/step - loss: 0.7171 - accuracy: 0.6136\n"
     ]
    }
   ],
   "source": [
    "fit_model = nn.fit(X_train_scaled,y_train,epochs=100)"
   ]
  },
  {
   "cell_type": "markdown",
   "metadata": {},
   "source": [
    "## Dropping Outliers"
   ]
  },
  {
   "cell_type": "code",
   "execution_count": 344,
   "metadata": {},
   "outputs": [],
   "source": [
    "# select relevant columns of data and save as pandas dataframe\n",
    "data = spark.sql(\n",
    "    '''\n",
    "SELECT WhiteElo, White_playTime_total, White_count_all, BlackElo, Black_playTime_total, Black_count_all, TotalMoves,\n",
    "Result from chess\n",
    "WHERE Result != '*'\n",
    "'''\n",
    ").toPandas()"
   ]
  },
  {
   "cell_type": "code",
   "execution_count": 345,
   "metadata": {},
   "outputs": [],
   "source": [
    "# drop null values\n",
    "data.dropna(inplace=True)"
   ]
  },
  {
   "cell_type": "code",
   "execution_count": 346,
   "metadata": {},
   "outputs": [],
   "source": [
    "# create features exploring the differences in white versus black to use in prediction model\n",
    "data['Rating Difference'] = data['WhiteElo'] - data['BlackElo']\n",
    "data['Playtime Difference'] = data['White_playTime_total'] - data['Black_playTime_total']\n",
    "data['Games Played Difference'] = data['White_count_all'] - data['Black_count_all']\n",
    "data['White Average Playtime'] = data['White_playTime_total']/data['White_count_all']\n",
    "data['Black Average Playtime'] = data['Black_playTime_total']/data['Black_count_all']\n",
    "data['Average Playtime Difference'] = data['White Average Playtime'] - data['Black Average Playtime']"
   ]
  },
  {
   "cell_type": "code",
   "execution_count": 347,
   "metadata": {},
   "outputs": [],
   "source": [
    "# drop features that are not categorical\n",
    "data.drop(['WhiteElo','BlackElo','White_count_all','Black_count_all','White_playTime_total','Black_playTime_total'],axis=1,inplace=True)"
   ]
  },
  {
   "cell_type": "code",
   "execution_count": 348,
   "metadata": {},
   "outputs": [],
   "source": [
    "indices = data.loc[(data['Rating Difference']>150) | (data['Rating Difference'] < -150)].index\n",
    "data.drop(indices, inplace=True)"
   ]
  },
  {
   "cell_type": "code",
   "execution_count": 349,
   "metadata": {},
   "outputs": [],
   "source": [
    "# dummy encode the categorical data and sort into target and features\n",
    "y = pd.get_dummies(data['Result'])\n",
    "X = pd.get_dummies(data.drop('Result', axis=1))"
   ]
  },
  {
   "cell_type": "code",
   "execution_count": 350,
   "metadata": {},
   "outputs": [],
   "source": [
    "# split the data into training and testing data\n",
    "X_train, X_test, y_train, y_test = train_test_split(X, y, random_state=78)"
   ]
  },
  {
   "cell_type": "code",
   "execution_count": 351,
   "metadata": {},
   "outputs": [],
   "source": [
    "# Create a StandardScaler instances\n",
    "scaler = StandardScaler()\n",
    "\n",
    "# Fit the StandardScaler\n",
    "X_scaler = scaler.fit(X_train)\n",
    "\n",
    "# Scale the data\n",
    "X_train_scaled = X_scaler.transform(X_train)\n",
    "X_test_scaled = X_scaler.transform(X_test)"
   ]
  },
  {
   "cell_type": "code",
   "execution_count": 352,
   "metadata": {},
   "outputs": [],
   "source": [
    "# initiate a random forest model\n",
    "rf_model = RandomForestClassifier(n_estimators=512, random_state=78)"
   ]
  },
  {
   "cell_type": "code",
   "execution_count": 353,
   "metadata": {},
   "outputs": [],
   "source": [
    "# train the model with training data\n",
    "rf_model = rf_model.fit(X_train_scaled, y_train)"
   ]
  },
  {
   "cell_type": "code",
   "execution_count": 354,
   "metadata": {},
   "outputs": [],
   "source": [
    "# Making predictions using the testing data\n",
    "predictions = rf_model.predict(X_test_scaled)"
   ]
  },
  {
   "cell_type": "code",
   "execution_count": 355,
   "metadata": {},
   "outputs": [],
   "source": [
    "# Calculating the accuracy score\n",
    "acc_score = accuracy_score(y_test, predictions)"
   ]
  },
  {
   "cell_type": "code",
   "execution_count": 356,
   "metadata": {},
   "outputs": [
    {
     "name": "stdout",
     "output_type": "stream",
     "text": [
      "Accuracy Score : 0.5814647118010636\n",
      "Classification Report\n",
      "              precision    recall  f1-score   support\n",
      "\n",
      "  Black Wins       0.65      0.55      0.60     12913\n",
      "  White Wins       0.66      0.65      0.66     13906\n",
      "        Draw       0.00      0.00      0.00      1009\n",
      "\n",
      "   micro avg       0.66      0.58      0.62     27828\n",
      "   macro avg       0.44      0.40      0.42     27828\n",
      "weighted avg       0.63      0.58      0.60     27828\n",
      " samples avg       0.58      0.58      0.58     27828\n",
      "\n"
     ]
    },
    {
     "name": "stderr",
     "output_type": "stream",
     "text": [
      "c:\\Users\\Ian\\anaconda3\\envs\\dev\\lib\\site-packages\\sklearn\\metrics\\_classification.py:1344: UndefinedMetricWarning: Precision and F-score are ill-defined and being set to 0.0 in samples with no predicted labels. Use `zero_division` parameter to control this behavior.\n",
      "  _warn_prf(average, modifier, msg_start, len(result))\n"
     ]
    }
   ],
   "source": [
    "# Displaying results\n",
    "print(f\"Accuracy Score : {acc_score}\")\n",
    "print(\"Classification Report\")\n",
    "print(classification_report(y_test, predictions, target_names=['Black Wins', 'White Wins', 'Draw']))"
   ]
  },
  {
   "cell_type": "code",
   "execution_count": 357,
   "metadata": {},
   "outputs": [
    {
     "data": {
      "text/plain": [
       "[(0.191778840137576, 'TotalMoves'),\n",
       " (0.1471740552200985, 'Playtime Difference'),\n",
       " (0.1425252046381483, 'Games Played Difference'),\n",
       " (0.13320336964671026, 'Average Playtime Difference'),\n",
       " (0.1308705941197838, 'White Average Playtime'),\n",
       " (0.13008736510204572, 'Black Average Playtime'),\n",
       " (0.12436057113563752, 'Rating Difference')]"
      ]
     },
     "execution_count": 357,
     "metadata": {},
     "output_type": "execute_result"
    }
   ],
   "source": [
    "# Random Forests in sklearn will automatically calculate feature importance\n",
    "importances = rf_model.feature_importances_\n",
    "# We can sort the features by their importance\n",
    "sorted(zip(importances, X.columns), reverse=True)"
   ]
  },
  {
   "cell_type": "code",
   "execution_count": 358,
   "metadata": {},
   "outputs": [
    {
     "name": "stdout",
     "output_type": "stream",
     "text": [
      "Model: \"sequential_2\"\n",
      "_________________________________________________________________\n",
      " Layer (type)                Output Shape              Param #   \n",
      "=================================================================\n",
      " dense_13 (Dense)            (None, 256)               2048      \n",
      "                                                                 \n",
      " dense_14 (Dense)            (None, 64)                16448     \n",
      "                                                                 \n",
      " dense_15 (Dense)            (None, 64)                4160      \n",
      "                                                                 \n",
      " dense_16 (Dense)            (None, 64)                4160      \n",
      "                                                                 \n",
      " dense_17 (Dense)            (None, 3)                 195       \n",
      "                                                                 \n",
      "=================================================================\n",
      "Total params: 27011 (105.51 KB)\n",
      "Trainable params: 27011 (105.51 KB)\n",
      "Non-trainable params: 0 (0.00 Byte)\n",
      "_________________________________________________________________\n"
     ]
    }
   ],
   "source": [
    "# Define the model - deep neural net\n",
    "number_input_features = len(X_train.columns)\n",
    "\n",
    "nn = tf.keras.models.Sequential()\n",
    "\n",
    "# First hidden layer\n",
    "nn.add(\n",
    "    tf.keras.layers.Dense(units=256, input_dim=number_input_features, activation=\"mish\")\n",
    ")\n",
    "\n",
    "# Further hidden layers\n",
    "nn.add(tf.keras.layers.Dense(units=64, activation=\"mish\"))\n",
    "\n",
    "nn.add(tf.keras.layers.Dense(units=64, activation=\"mish\"))\n",
    "\n",
    "nn.add(tf.keras.layers.Dense(units=64, activation=\"mish\"))\n",
    "\n",
    "# Output layer\n",
    "nn.add(tf.keras.layers.Dense(units=3, activation=\"softmax\"))\n",
    "\n",
    "# Check the structure of the model\n",
    "nn.summary()"
   ]
  },
  {
   "cell_type": "code",
   "execution_count": 359,
   "metadata": {},
   "outputs": [],
   "source": [
    "nn.compile(loss=\"CategoricalCrossentropy\", optimizer=\"adam\", metrics=[\"accuracy\"])"
   ]
  },
  {
   "cell_type": "code",
   "execution_count": 360,
   "metadata": {},
   "outputs": [
    {
     "name": "stdout",
     "output_type": "stream",
     "text": [
      "Epoch 1/20\n"
     ]
    },
    {
     "name": "stdout",
     "output_type": "stream",
     "text": [
      "2609/2609 [==============================] - 3s 1ms/step - loss: 0.7909 - accuracy: 0.5437 - val_loss: 0.7840 - val_accuracy: 0.5570\n",
      "Epoch 2/20\n",
      "2609/2609 [==============================] - 3s 1ms/step - loss: 0.7811 - accuracy: 0.5593 - val_loss: 0.7801 - val_accuracy: 0.5641\n",
      "Epoch 3/20\n",
      "2609/2609 [==============================] - 3s 1ms/step - loss: 0.7789 - accuracy: 0.5625 - val_loss: 0.7842 - val_accuracy: 0.5606\n",
      "Epoch 4/20\n",
      "2609/2609 [==============================] - 3s 1ms/step - loss: 0.7778 - accuracy: 0.5646 - val_loss: 0.7795 - val_accuracy: 0.5650\n",
      "Epoch 5/20\n",
      "2609/2609 [==============================] - 3s 1ms/step - loss: 0.7769 - accuracy: 0.5670 - val_loss: 0.7779 - val_accuracy: 0.5648\n",
      "Epoch 6/20\n",
      "2609/2609 [==============================] - 3s 1ms/step - loss: 0.7763 - accuracy: 0.5667 - val_loss: 0.7783 - val_accuracy: 0.5629\n",
      "Epoch 7/20\n",
      "2609/2609 [==============================] - 3s 1ms/step - loss: 0.7759 - accuracy: 0.5675 - val_loss: 0.7784 - val_accuracy: 0.5634\n",
      "Epoch 8/20\n",
      "2609/2609 [==============================] - 3s 1ms/step - loss: 0.7754 - accuracy: 0.5696 - val_loss: 0.7775 - val_accuracy: 0.5681\n",
      "Epoch 9/20\n",
      "2609/2609 [==============================] - 3s 1ms/step - loss: 0.7753 - accuracy: 0.5696 - val_loss: 0.7776 - val_accuracy: 0.5659\n",
      "Epoch 10/20\n",
      "2609/2609 [==============================] - 3s 1ms/step - loss: 0.7748 - accuracy: 0.5698 - val_loss: 0.7824 - val_accuracy: 0.5625\n",
      "Epoch 11/20\n",
      "2609/2609 [==============================] - 3s 1ms/step - loss: 0.7746 - accuracy: 0.5676 - val_loss: 0.7780 - val_accuracy: 0.5644\n",
      "Epoch 12/20\n",
      "2609/2609 [==============================] - 3s 1ms/step - loss: 0.7740 - accuracy: 0.5703 - val_loss: 0.7760 - val_accuracy: 0.5658\n",
      "Epoch 13/20\n",
      "2609/2609 [==============================] - 3s 1ms/step - loss: 0.7743 - accuracy: 0.5705 - val_loss: 0.7772 - val_accuracy: 0.5643\n",
      "Epoch 14/20\n",
      "2609/2609 [==============================] - 3s 1ms/step - loss: 0.7737 - accuracy: 0.5704 - val_loss: 0.7759 - val_accuracy: 0.5691\n",
      "Epoch 15/20\n",
      "2609/2609 [==============================] - 3s 1ms/step - loss: 0.7731 - accuracy: 0.5714 - val_loss: 0.7770 - val_accuracy: 0.5659\n",
      "Epoch 16/20\n",
      "2609/2609 [==============================] - 3s 1ms/step - loss: 0.7733 - accuracy: 0.5711 - val_loss: 0.7766 - val_accuracy: 0.5686\n",
      "Epoch 17/20\n",
      "2609/2609 [==============================] - 3s 1ms/step - loss: 0.7728 - accuracy: 0.5732 - val_loss: 0.7784 - val_accuracy: 0.5658\n",
      "Epoch 18/20\n",
      "2609/2609 [==============================] - 3s 1ms/step - loss: 0.7728 - accuracy: 0.5715 - val_loss: 0.7765 - val_accuracy: 0.5627\n",
      "Epoch 19/20\n",
      "2609/2609 [==============================] - 3s 1ms/step - loss: 0.7727 - accuracy: 0.5705 - val_loss: 0.7759 - val_accuracy: 0.5685\n",
      "Epoch 20/20\n",
      "2609/2609 [==============================] - 3s 1ms/step - loss: 0.7722 - accuracy: 0.5734 - val_loss: 0.7782 - val_accuracy: 0.5658\n"
     ]
    }
   ],
   "source": [
    "fit_model = nn.fit(X_train_scaled,y_train,epochs=20,validation_data=(X_test_scaled,y_test))"
   ]
  },
  {
   "cell_type": "markdown",
   "metadata": {},
   "source": [
    "## Adding Dropout and Normalization Layers"
   ]
  },
  {
   "cell_type": "code",
   "execution_count": 361,
   "metadata": {},
   "outputs": [],
   "source": [
    "y = pd.get_dummies(data['Result'])\n",
    "X = pd.get_dummies(data.drop('Result', axis=1))\n",
    "# split the data into training and testing data\n",
    "X_train, X_test, y_train, y_test = train_test_split(X, y, random_state=78)"
   ]
  },
  {
   "cell_type": "code",
   "execution_count": 362,
   "metadata": {},
   "outputs": [],
   "source": [
    "from sklearn.preprocessing import StandardScaler\n",
    "# Create a StandardScaler instances\n",
    "scaler = StandardScaler()\n",
    "\n",
    "# Fit the StandardScaler\n",
    "X_scaler = scaler.fit(X_train)\n",
    "\n",
    "# Scale the data\n",
    "X_train_scaled = X_scaler.transform(X_train)\n",
    "X_test_scaled = X_scaler.transform(X_test)"
   ]
  },
  {
   "cell_type": "code",
   "execution_count": 363,
   "metadata": {},
   "outputs": [
    {
     "name": "stdout",
     "output_type": "stream",
     "text": [
      "Model: \"sequential_3\"\n",
      "_________________________________________________________________\n",
      " Layer (type)                Output Shape              Param #   \n",
      "=================================================================\n",
      " dense_18 (Dense)            (None, 256)               2048      \n",
      "                                                                 \n",
      " dropout (Dropout)           (None, 256)               0         \n",
      "                                                                 \n",
      " batch_normalization (Batch  (None, 256)               1024      \n",
      " Normalization)                                                  \n",
      "                                                                 \n",
      " dense_19 (Dense)            (None, 64)                16448     \n",
      "                                                                 \n",
      " dropout_1 (Dropout)         (None, 64)                0         \n",
      "                                                                 \n",
      " batch_normalization_1 (Bat  (None, 64)                256       \n",
      " chNormalization)                                                \n",
      "                                                                 \n",
      " dense_20 (Dense)            (None, 64)                4160      \n",
      "                                                                 \n",
      " dropout_2 (Dropout)         (None, 64)                0         \n",
      "                                                                 \n",
      " batch_normalization_2 (Bat  (None, 64)                256       \n",
      " chNormalization)                                                \n",
      "                                                                 \n",
      " dense_21 (Dense)            (None, 64)                4160      \n",
      "                                                                 \n",
      " dropout_3 (Dropout)         (None, 64)                0         \n",
      "                                                                 \n",
      " batch_normalization_3 (Bat  (None, 64)                256       \n",
      " chNormalization)                                                \n",
      "                                                                 \n",
      " dense_22 (Dense)            (None, 3)                 195       \n",
      "                                                                 \n",
      "=================================================================\n",
      "Total params: 28803 (112.51 KB)\n",
      "Trainable params: 27907 (109.01 KB)\n",
      "Non-trainable params: 896 (3.50 KB)\n",
      "_________________________________________________________________\n"
     ]
    }
   ],
   "source": [
    "# Define the model - deep neural net\n",
    "number_input_features = len(X_train.columns)\n",
    "\n",
    "nn = tf.keras.models.Sequential()\n",
    "\n",
    "# First hidden layer\n",
    "nn.add(\n",
    "    tf.keras.layers.Dense(units=256, input_dim=number_input_features, activation=\"mish\")\n",
    ")\n",
    "# Adding dropout layer\n",
    "nn.add(tf.keras.layers.Dropout(0.3))\n",
    "\n",
    "# Adding Normalization layer\n",
    "nn.add(tf.keras.layers.BatchNormalization())\n",
    "\n",
    "# Further hidden layers\n",
    "nn.add(tf.keras.layers.Dense(units=64, activation=\"mish\"))\n",
    "\n",
    "nn.add(tf.keras.layers.Dropout(0.3))\n",
    "\n",
    "nn.add(tf.keras.layers.BatchNormalization())\n",
    "\n",
    "nn.add(tf.keras.layers.Dense(units=64, activation=\"mish\"))\n",
    "\n",
    "nn.add(tf.keras.layers.Dropout(0.3))\n",
    "\n",
    "nn.add(tf.keras.layers.BatchNormalization())\n",
    "\n",
    "nn.add(tf.keras.layers.Dense(units=64, activation=\"mish\"))\n",
    "\n",
    "nn.add(tf.keras.layers.Dropout(0.3))\n",
    "\n",
    "nn.add(tf.keras.layers.BatchNormalization())\n",
    "\n",
    "# Output layer\n",
    "nn.add(tf.keras.layers.Dense(units=3, activation=\"softmax\"))\n",
    "\n",
    "# Check the structure of the model\n",
    "nn.summary()"
   ]
  },
  {
   "cell_type": "code",
   "execution_count": 364,
   "metadata": {},
   "outputs": [],
   "source": [
    "nn.compile(loss=\"CategoricalCrossentropy\", optimizer=\"adam\", metrics=[\"accuracy\"])"
   ]
  },
  {
   "cell_type": "code",
   "execution_count": 365,
   "metadata": {},
   "outputs": [
    {
     "name": "stdout",
     "output_type": "stream",
     "text": [
      "Epoch 1/20\n"
     ]
    },
    {
     "name": "stdout",
     "output_type": "stream",
     "text": [
      "2609/2609 [==============================] - 5s 2ms/step - loss: 0.8415 - accuracy: 0.5197 - val_loss: 0.7918 - val_accuracy: 0.5447\n",
      "Epoch 2/20\n",
      "2609/2609 [==============================] - 4s 2ms/step - loss: 0.7927 - accuracy: 0.5443 - val_loss: 0.7847 - val_accuracy: 0.5545\n",
      "Epoch 3/20\n",
      "2609/2609 [==============================] - 4s 2ms/step - loss: 0.7894 - accuracy: 0.5497 - val_loss: 0.7838 - val_accuracy: 0.5563\n",
      "Epoch 4/20\n",
      "2609/2609 [==============================] - 4s 2ms/step - loss: 0.7875 - accuracy: 0.5513 - val_loss: 0.7845 - val_accuracy: 0.5515\n",
      "Epoch 5/20\n",
      "2609/2609 [==============================] - 4s 2ms/step - loss: 0.7869 - accuracy: 0.5519 - val_loss: 0.7878 - val_accuracy: 0.5538\n",
      "Epoch 6/20\n",
      "2609/2609 [==============================] - 4s 2ms/step - loss: 0.7869 - accuracy: 0.5525 - val_loss: 0.7825 - val_accuracy: 0.5588\n",
      "Epoch 7/20\n",
      "2609/2609 [==============================] - 4s 2ms/step - loss: 0.7854 - accuracy: 0.5555 - val_loss: 0.7824 - val_accuracy: 0.5633\n",
      "Epoch 8/20\n",
      "2609/2609 [==============================] - 4s 2ms/step - loss: 0.7854 - accuracy: 0.5565 - val_loss: 0.7825 - val_accuracy: 0.5557\n",
      "Epoch 9/20\n",
      "2609/2609 [==============================] - 4s 2ms/step - loss: 0.7841 - accuracy: 0.5556 - val_loss: 0.7807 - val_accuracy: 0.5629\n",
      "Epoch 10/20\n",
      "2609/2609 [==============================] - 4s 2ms/step - loss: 0.7839 - accuracy: 0.5558 - val_loss: 0.7807 - val_accuracy: 0.5610\n",
      "Epoch 11/20\n",
      "2609/2609 [==============================] - 4s 2ms/step - loss: 0.7835 - accuracy: 0.5586 - val_loss: 0.7817 - val_accuracy: 0.5625\n",
      "Epoch 12/20\n",
      "2609/2609 [==============================] - 4s 2ms/step - loss: 0.7836 - accuracy: 0.5583 - val_loss: 0.7832 - val_accuracy: 0.5531\n",
      "Epoch 13/20\n",
      "2609/2609 [==============================] - 4s 2ms/step - loss: 0.7832 - accuracy: 0.5589 - val_loss: 0.7829 - val_accuracy: 0.5543\n",
      "Epoch 14/20\n",
      "2609/2609 [==============================] - 4s 2ms/step - loss: 0.7825 - accuracy: 0.5596 - val_loss: 0.7856 - val_accuracy: 0.5482\n",
      "Epoch 15/20\n",
      "2609/2609 [==============================] - 4s 2ms/step - loss: 0.7822 - accuracy: 0.5597 - val_loss: 0.7798 - val_accuracy: 0.5652\n",
      "Epoch 16/20\n",
      "2609/2609 [==============================] - 4s 2ms/step - loss: 0.7827 - accuracy: 0.5599 - val_loss: 0.7826 - val_accuracy: 0.5511\n",
      "Epoch 17/20\n",
      "2609/2609 [==============================] - 4s 2ms/step - loss: 0.7825 - accuracy: 0.5597 - val_loss: 0.7785 - val_accuracy: 0.5658\n",
      "Epoch 18/20\n",
      "2609/2609 [==============================] - 4s 2ms/step - loss: 0.7823 - accuracy: 0.5590 - val_loss: 0.7855 - val_accuracy: 0.5456\n",
      "Epoch 19/20\n",
      "2609/2609 [==============================] - 4s 2ms/step - loss: 0.7820 - accuracy: 0.5611 - val_loss: 0.7847 - val_accuracy: 0.5473\n",
      "Epoch 20/20\n",
      "2609/2609 [==============================] - 4s 2ms/step - loss: 0.7818 - accuracy: 0.5613 - val_loss: 0.7795 - val_accuracy: 0.5660\n"
     ]
    }
   ],
   "source": [
    "fit_model = nn.fit(X_train_scaled,y_train,epochs=20,validation_data=(X_test_scaled,y_test))"
   ]
  },
  {
   "cell_type": "markdown",
   "metadata": {},
   "source": [
    "## XGBoost"
   ]
  },
  {
   "cell_type": "code",
   "execution_count": 366,
   "metadata": {},
   "outputs": [],
   "source": [
    "# dummy encode the categorical data and sort into target and features\n",
    "resultmap = {'0-1':0, '1-0':1, '1/2-1/2':2}\n",
    "y = data['Result'].map(resultmap)\n",
    "X = pd.get_dummies(data.drop('Result', axis=1))"
   ]
  },
  {
   "cell_type": "code",
   "execution_count": 367,
   "metadata": {},
   "outputs": [],
   "source": [
    "# split the data into training and testing data\n",
    "X_train, X_test, y_train, y_test = train_test_split(X, y, random_state=78)"
   ]
  },
  {
   "cell_type": "code",
   "execution_count": 368,
   "metadata": {},
   "outputs": [],
   "source": [
    "# Create a StandardScaler instances\n",
    "scaler = StandardScaler()\n",
    "\n",
    "# Fit the StandardScaler\n",
    "X_scaler = scaler.fit(X_train)\n",
    "\n",
    "# Scale the data\n",
    "X_train_scaled = X_scaler.transform(X_train)\n",
    "X_test_scaled = X_scaler.transform(X_test)"
   ]
  },
  {
   "cell_type": "code",
   "execution_count": 369,
   "metadata": {},
   "outputs": [
    {
     "data": {
      "text/html": [
       "<style>#sk-container-id-24 {color: black;background-color: white;}#sk-container-id-24 pre{padding: 0;}#sk-container-id-24 div.sk-toggleable {background-color: white;}#sk-container-id-24 label.sk-toggleable__label {cursor: pointer;display: block;width: 100%;margin-bottom: 0;padding: 0.3em;box-sizing: border-box;text-align: center;}#sk-container-id-24 label.sk-toggleable__label-arrow:before {content: \"▸\";float: left;margin-right: 0.25em;color: #696969;}#sk-container-id-24 label.sk-toggleable__label-arrow:hover:before {color: black;}#sk-container-id-24 div.sk-estimator:hover label.sk-toggleable__label-arrow:before {color: black;}#sk-container-id-24 div.sk-toggleable__content {max-height: 0;max-width: 0;overflow: hidden;text-align: left;background-color: #f0f8ff;}#sk-container-id-24 div.sk-toggleable__content pre {margin: 0.2em;color: black;border-radius: 0.25em;background-color: #f0f8ff;}#sk-container-id-24 input.sk-toggleable__control:checked~div.sk-toggleable__content {max-height: 200px;max-width: 100%;overflow: auto;}#sk-container-id-24 input.sk-toggleable__control:checked~label.sk-toggleable__label-arrow:before {content: \"▾\";}#sk-container-id-24 div.sk-estimator input.sk-toggleable__control:checked~label.sk-toggleable__label {background-color: #d4ebff;}#sk-container-id-24 div.sk-label input.sk-toggleable__control:checked~label.sk-toggleable__label {background-color: #d4ebff;}#sk-container-id-24 input.sk-hidden--visually {border: 0;clip: rect(1px 1px 1px 1px);clip: rect(1px, 1px, 1px, 1px);height: 1px;margin: -1px;overflow: hidden;padding: 0;position: absolute;width: 1px;}#sk-container-id-24 div.sk-estimator {font-family: monospace;background-color: #f0f8ff;border: 1px dotted black;border-radius: 0.25em;box-sizing: border-box;margin-bottom: 0.5em;}#sk-container-id-24 div.sk-estimator:hover {background-color: #d4ebff;}#sk-container-id-24 div.sk-parallel-item::after {content: \"\";width: 100%;border-bottom: 1px solid gray;flex-grow: 1;}#sk-container-id-24 div.sk-label:hover label.sk-toggleable__label {background-color: #d4ebff;}#sk-container-id-24 div.sk-serial::before {content: \"\";position: absolute;border-left: 1px solid gray;box-sizing: border-box;top: 0;bottom: 0;left: 50%;z-index: 0;}#sk-container-id-24 div.sk-serial {display: flex;flex-direction: column;align-items: center;background-color: white;padding-right: 0.2em;padding-left: 0.2em;position: relative;}#sk-container-id-24 div.sk-item {position: relative;z-index: 1;}#sk-container-id-24 div.sk-parallel {display: flex;align-items: stretch;justify-content: center;background-color: white;position: relative;}#sk-container-id-24 div.sk-item::before, #sk-container-id-24 div.sk-parallel-item::before {content: \"\";position: absolute;border-left: 1px solid gray;box-sizing: border-box;top: 0;bottom: 0;left: 50%;z-index: -1;}#sk-container-id-24 div.sk-parallel-item {display: flex;flex-direction: column;z-index: 1;position: relative;background-color: white;}#sk-container-id-24 div.sk-parallel-item:first-child::after {align-self: flex-end;width: 50%;}#sk-container-id-24 div.sk-parallel-item:last-child::after {align-self: flex-start;width: 50%;}#sk-container-id-24 div.sk-parallel-item:only-child::after {width: 0;}#sk-container-id-24 div.sk-dashed-wrapped {border: 1px dashed gray;margin: 0 0.4em 0.5em 0.4em;box-sizing: border-box;padding-bottom: 0.4em;background-color: white;}#sk-container-id-24 div.sk-label label {font-family: monospace;font-weight: bold;display: inline-block;line-height: 1.2em;}#sk-container-id-24 div.sk-label-container {text-align: center;}#sk-container-id-24 div.sk-container {/* jupyter's `normalize.less` sets `[hidden] { display: none; }` but bootstrap.min.css set `[hidden] { display: none !important; }` so we also need the `!important` here to be able to override the default hidden behavior on the sphinx rendered scikit-learn.org. See: https://github.com/scikit-learn/scikit-learn/issues/21755 */display: inline-block !important;position: relative;}#sk-container-id-24 div.sk-text-repr-fallback {display: none;}</style><div id=\"sk-container-id-24\" class=\"sk-top-container\"><div class=\"sk-text-repr-fallback\"><pre>XGBClassifier(base_score=None, booster=None, callbacks=None,\n",
       "              colsample_bylevel=None, colsample_bynode=None,\n",
       "              colsample_bytree=None, device=None, early_stopping_rounds=None,\n",
       "              enable_categorical=False, eval_metric=None, feature_types=None,\n",
       "              gamma=None, grow_policy=None, importance_type=None,\n",
       "              interaction_constraints=None, learning_rate=None, max_bin=None,\n",
       "              max_cat_threshold=None, max_cat_to_onehot=None,\n",
       "              max_delta_step=None, max_depth=32, max_leaves=None,\n",
       "              min_child_weight=None, missing=nan, monotone_constraints=None,\n",
       "              multi_strategy=None, n_estimators=256, n_jobs=None,\n",
       "              num_parallel_tree=None, objective=&#x27;multi:softmax&#x27;, ...)</pre><b>In a Jupyter environment, please rerun this cell to show the HTML representation or trust the notebook. <br />On GitHub, the HTML representation is unable to render, please try loading this page with nbviewer.org.</b></div><div class=\"sk-container\" hidden><div class=\"sk-item\"><div class=\"sk-estimator sk-toggleable\"><input class=\"sk-toggleable__control sk-hidden--visually\" id=\"sk-estimator-id-24\" type=\"checkbox\" checked><label for=\"sk-estimator-id-24\" class=\"sk-toggleable__label sk-toggleable__label-arrow\">XGBClassifier</label><div class=\"sk-toggleable__content\"><pre>XGBClassifier(base_score=None, booster=None, callbacks=None,\n",
       "              colsample_bylevel=None, colsample_bynode=None,\n",
       "              colsample_bytree=None, device=None, early_stopping_rounds=None,\n",
       "              enable_categorical=False, eval_metric=None, feature_types=None,\n",
       "              gamma=None, grow_policy=None, importance_type=None,\n",
       "              interaction_constraints=None, learning_rate=None, max_bin=None,\n",
       "              max_cat_threshold=None, max_cat_to_onehot=None,\n",
       "              max_delta_step=None, max_depth=32, max_leaves=None,\n",
       "              min_child_weight=None, missing=nan, monotone_constraints=None,\n",
       "              multi_strategy=None, n_estimators=256, n_jobs=None,\n",
       "              num_parallel_tree=None, objective=&#x27;multi:softmax&#x27;, ...)</pre></div></div></div></div></div>"
      ],
      "text/plain": [
       "XGBClassifier(base_score=None, booster=None, callbacks=None,\n",
       "              colsample_bylevel=None, colsample_bynode=None,\n",
       "              colsample_bytree=None, device=None, early_stopping_rounds=None,\n",
       "              enable_categorical=False, eval_metric=None, feature_types=None,\n",
       "              gamma=None, grow_policy=None, importance_type=None,\n",
       "              interaction_constraints=None, learning_rate=None, max_bin=None,\n",
       "              max_cat_threshold=None, max_cat_to_onehot=None,\n",
       "              max_delta_step=None, max_depth=32, max_leaves=None,\n",
       "              min_child_weight=None, missing=nan, monotone_constraints=None,\n",
       "              multi_strategy=None, n_estimators=256, n_jobs=None,\n",
       "              num_parallel_tree=None, objective='multi:softmax', ...)"
      ]
     },
     "execution_count": 369,
     "metadata": {},
     "output_type": "execute_result"
    }
   ],
   "source": [
    "from xgboost import XGBClassifier\n",
    "xg_nn = XGBClassifier(n_estimators = 256, max_depth = 32, objective ='multi:softmax')\n",
    "xg_nn.fit(X_train_scaled,y_train)"
   ]
  },
  {
   "cell_type": "code",
   "execution_count": 370,
   "metadata": {},
   "outputs": [],
   "source": [
    "predictions = xg_nn.predict(X_test_scaled)"
   ]
  },
  {
   "cell_type": "code",
   "execution_count": 371,
   "metadata": {},
   "outputs": [
    {
     "data": {
      "text/plain": [
       "0.9002443582003737"
      ]
     },
     "execution_count": 371,
     "metadata": {},
     "output_type": "execute_result"
    }
   ],
   "source": [
    "accuracy_score(y_test, predictions)"
   ]
  },
  {
   "cell_type": "code",
   "execution_count": 372,
   "metadata": {},
   "outputs": [
    {
     "name": "stdout",
     "output_type": "stream",
     "text": [
      "              precision    recall  f1-score   support\n",
      "\n",
      "  Black Wins       0.90      0.93      0.91     12913\n",
      "  White Wins       0.91      0.93      0.92     13906\n",
      "        Draw       0.24      0.03      0.06      1009\n",
      "\n",
      "    accuracy                           0.90     27828\n",
      "   macro avg       0.68      0.63      0.63     27828\n",
      "weighted avg       0.88      0.90      0.89     27828\n",
      "\n"
     ]
    }
   ],
   "source": [
    "print(classification_report(y_test, predictions, target_names=['Black Wins', 'White Wins', 'Draw']))"
   ]
  },
  {
   "cell_type": "code",
   "execution_count": 373,
   "metadata": {},
   "outputs": [],
   "source": [
    "from sklearn.metrics import confusion_matrix\n",
    "cm_df = pd.DataFrame(confusion_matrix(y_test, predictions,))"
   ]
  },
  {
   "cell_type": "code",
   "execution_count": 374,
   "metadata": {},
   "outputs": [
    {
     "data": {
      "text/plain": [
       "[Text(0, 0.5, 'Black Wins'), Text(0, 1.5, 'White Wins'), Text(0, 2.5, 'Draw')]"
      ]
     },
     "execution_count": 374,
     "metadata": {},
     "output_type": "execute_result"
    },
    {
     "data": {
      "image/png": "[encoded data removed]",
      "text/plain": [
       "<Figure size 640x480 with 2 Axes>"
      ]
     },
     "metadata": {},
     "output_type": "display_data"
    }
   ],
   "source": [
    "ax = sns.heatmap(cm_df,annot=True)\n",
    "ax.set_xlabel('Predicted labels');ax.set_ylabel('True labels')\n",
    "ax.xaxis.set_ticklabels(['Black Wins', 'White Wins', 'Draw']); ax.yaxis.set_ticklabels(['Black Wins', 'White Wins', 'Draw'])"
   ]
  },
  {
   "cell_type": "markdown",
   "metadata": {},
   "source": [
    "## Upsampling Draws"
   ]
  },
  {
   "cell_type": "code",
   "execution_count": 375,
   "metadata": {},
   "outputs": [],
   "source": [
    "from imblearn.over_sampling import SMOTE\n",
    "smote = SMOTE()\n",
    "X_resampled, y_resampled = smote.fit_resample(X,y)"
   ]
  },
  {
   "cell_type": "code",
   "execution_count": 376,
   "metadata": {},
   "outputs": [
    {
     "data": {
      "text/plain": [
       "Result\n",
       "0    55688\n",
       "1    55688\n",
       "2    55688\n",
       "Name: count, dtype: int64"
      ]
     },
     "execution_count": 376,
     "metadata": {},
     "output_type": "execute_result"
    }
   ],
   "source": [
    "y_resampled.value_counts()"
   ]
  },
  {
   "cell_type": "code",
   "execution_count": 377,
   "metadata": {},
   "outputs": [],
   "source": [
    "# split the data into training and testing data\n",
    "X_train, X_test, y_train, y_test = train_test_split(X_resampled, y_resampled, random_state=78)"
   ]
  },
  {
   "cell_type": "code",
   "execution_count": 378,
   "metadata": {},
   "outputs": [],
   "source": [
    "# Create a StandardScaler instances\n",
    "scaler = StandardScaler()\n",
    "\n",
    "# Fit the StandardScaler\n",
    "X_scaler = scaler.fit(X_train)\n",
    "\n",
    "# Scale the data\n",
    "X_train_scaled = X_scaler.transform(X_train)\n",
    "X_test_scaled = X_scaler.transform(X_test)"
   ]
  },
  {
   "cell_type": "code",
   "execution_count": 379,
   "metadata": {},
   "outputs": [
    {
     "data": {
      "text/html": [
       "<style>#sk-container-id-25 {color: black;background-color: white;}#sk-container-id-25 pre{padding: 0;}#sk-container-id-25 div.sk-toggleable {background-color: white;}#sk-container-id-25 label.sk-toggleable__label {cursor: pointer;display: block;width: 100%;margin-bottom: 0;padding: 0.3em;box-sizing: border-box;text-align: center;}#sk-container-id-25 label.sk-toggleable__label-arrow:before {content: \"▸\";float: left;margin-right: 0.25em;color: #696969;}#sk-container-id-25 label.sk-toggleable__label-arrow:hover:before {color: black;}#sk-container-id-25 div.sk-estimator:hover label.sk-toggleable__label-arrow:before {color: black;}#sk-container-id-25 div.sk-toggleable__content {max-height: 0;max-width: 0;overflow: hidden;text-align: left;background-color: #f0f8ff;}#sk-container-id-25 div.sk-toggleable__content pre {margin: 0.2em;color: black;border-radius: 0.25em;background-color: #f0f8ff;}#sk-container-id-25 input.sk-toggleable__control:checked~div.sk-toggleable__content {max-height: 200px;max-width: 100%;overflow: auto;}#sk-container-id-25 input.sk-toggleable__control:checked~label.sk-toggleable__label-arrow:before {content: \"▾\";}#sk-container-id-25 div.sk-estimator input.sk-toggleable__control:checked~label.sk-toggleable__label {background-color: #d4ebff;}#sk-container-id-25 div.sk-label input.sk-toggleable__control:checked~label.sk-toggleable__label {background-color: #d4ebff;}#sk-container-id-25 input.sk-hidden--visually {border: 0;clip: rect(1px 1px 1px 1px);clip: rect(1px, 1px, 1px, 1px);height: 1px;margin: -1px;overflow: hidden;padding: 0;position: absolute;width: 1px;}#sk-container-id-25 div.sk-estimator {font-family: monospace;background-color: #f0f8ff;border: 1px dotted black;border-radius: 0.25em;box-sizing: border-box;margin-bottom: 0.5em;}#sk-container-id-25 div.sk-estimator:hover {background-color: #d4ebff;}#sk-container-id-25 div.sk-parallel-item::after {content: \"\";width: 100%;border-bottom: 1px solid gray;flex-grow: 1;}#sk-container-id-25 div.sk-label:hover label.sk-toggleable__label {background-color: #d4ebff;}#sk-container-id-25 div.sk-serial::before {content: \"\";position: absolute;border-left: 1px solid gray;box-sizing: border-box;top: 0;bottom: 0;left: 50%;z-index: 0;}#sk-container-id-25 div.sk-serial {display: flex;flex-direction: column;align-items: center;background-color: white;padding-right: 0.2em;padding-left: 0.2em;position: relative;}#sk-container-id-25 div.sk-item {position: relative;z-index: 1;}#sk-container-id-25 div.sk-parallel {display: flex;align-items: stretch;justify-content: center;background-color: white;position: relative;}#sk-container-id-25 div.sk-item::before, #sk-container-id-25 div.sk-parallel-item::before {content: \"\";position: absolute;border-left: 1px solid gray;box-sizing: border-box;top: 0;bottom: 0;left: 50%;z-index: -1;}#sk-container-id-25 div.sk-parallel-item {display: flex;flex-direction: column;z-index: 1;position: relative;background-color: white;}#sk-container-id-25 div.sk-parallel-item:first-child::after {align-self: flex-end;width: 50%;}#sk-container-id-25 div.sk-parallel-item:last-child::after {align-self: flex-start;width: 50%;}#sk-container-id-25 div.sk-parallel-item:only-child::after {width: 0;}#sk-container-id-25 div.sk-dashed-wrapped {border: 1px dashed gray;margin: 0 0.4em 0.5em 0.4em;box-sizing: border-box;padding-bottom: 0.4em;background-color: white;}#sk-container-id-25 div.sk-label label {font-family: monospace;font-weight: bold;display: inline-block;line-height: 1.2em;}#sk-container-id-25 div.sk-label-container {text-align: center;}#sk-container-id-25 div.sk-container {/* jupyter's `normalize.less` sets `[hidden] { display: none; }` but bootstrap.min.css set `[hidden] { display: none !important; }` so we also need the `!important` here to be able to override the default hidden behavior on the sphinx rendered scikit-learn.org. See: https://github.com/scikit-learn/scikit-learn/issues/21755 */display: inline-block !important;position: relative;}#sk-container-id-25 div.sk-text-repr-fallback {display: none;}</style><div id=\"sk-container-id-25\" class=\"sk-top-container\"><div class=\"sk-text-repr-fallback\"><pre>XGBClassifier(base_score=None, booster=None, callbacks=None,\n",
       "              colsample_bylevel=None, colsample_bynode=None,\n",
       "              colsample_bytree=None, device=None, early_stopping_rounds=None,\n",
       "              enable_categorical=False, eval_metric=None, feature_types=None,\n",
       "              gamma=None, grow_policy=None, importance_type=None,\n",
       "              interaction_constraints=None, learning_rate=None, max_bin=None,\n",
       "              max_cat_threshold=None, max_cat_to_onehot=None,\n",
       "              max_delta_step=None, max_depth=32, max_leaves=None,\n",
       "              min_child_weight=None, missing=nan, monotone_constraints=None,\n",
       "              multi_strategy=None, n_estimators=256, n_jobs=None,\n",
       "              num_parallel_tree=None, objective=&#x27;multi:softmax&#x27;, ...)</pre><b>In a Jupyter environment, please rerun this cell to show the HTML representation or trust the notebook. <br />On GitHub, the HTML representation is unable to render, please try loading this page with nbviewer.org.</b></div><div class=\"sk-container\" hidden><div class=\"sk-item\"><div class=\"sk-estimator sk-toggleable\"><input class=\"sk-toggleable__control sk-hidden--visually\" id=\"sk-estimator-id-25\" type=\"checkbox\" checked><label for=\"sk-estimator-id-25\" class=\"sk-toggleable__label sk-toggleable__label-arrow\">XGBClassifier</label><div class=\"sk-toggleable__content\"><pre>XGBClassifier(base_score=None, booster=None, callbacks=None,\n",
       "              colsample_bylevel=None, colsample_bynode=None,\n",
       "              colsample_bytree=None, device=None, early_stopping_rounds=None,\n",
       "              enable_categorical=False, eval_metric=None, feature_types=None,\n",
       "              gamma=None, grow_policy=None, importance_type=None,\n",
       "              interaction_constraints=None, learning_rate=None, max_bin=None,\n",
       "              max_cat_threshold=None, max_cat_to_onehot=None,\n",
       "              max_delta_step=None, max_depth=32, max_leaves=None,\n",
       "              min_child_weight=None, missing=nan, monotone_constraints=None,\n",
       "              multi_strategy=None, n_estimators=256, n_jobs=None,\n",
       "              num_parallel_tree=None, objective=&#x27;multi:softmax&#x27;, ...)</pre></div></div></div></div></div>"
      ],
      "text/plain": [
       "XGBClassifier(base_score=None, booster=None, callbacks=None,\n",
       "              colsample_bylevel=None, colsample_bynode=None,\n",
       "              colsample_bytree=None, device=None, early_stopping_rounds=None,\n",
       "              enable_categorical=False, eval_metric=None, feature_types=None,\n",
       "              gamma=None, grow_policy=None, importance_type=None,\n",
       "              interaction_constraints=None, learning_rate=None, max_bin=None,\n",
       "              max_cat_threshold=None, max_cat_to_onehot=None,\n",
       "              max_delta_step=None, max_depth=32, max_leaves=None,\n",
       "              min_child_weight=None, missing=nan, monotone_constraints=None,\n",
       "              multi_strategy=None, n_estimators=256, n_jobs=None,\n",
       "              num_parallel_tree=None, objective='multi:softmax', ...)"
      ]
     },
     "execution_count": 379,
     "metadata": {},
     "output_type": "execute_result"
    }
   ],
   "source": [
    "xg_nn = XGBClassifier(n_estimators = 256, max_depth = 32, objective ='multi:softmax')\n",
    "xg_nn.fit(X_train_scaled,y_train)"
   ]
  },
  {
   "cell_type": "code",
   "execution_count": 380,
   "metadata": {},
   "outputs": [],
   "source": [
    "predictions = xg_nn.predict(X_test_scaled)"
   ]
  },
  {
   "cell_type": "code",
   "execution_count": 381,
   "metadata": {},
   "outputs": [
    {
     "data": {
      "text/plain": [
       "0.8192548963271561"
      ]
     },
     "execution_count": 381,
     "metadata": {},
     "output_type": "execute_result"
    }
   ],
   "source": [
    "accuracy_score(y_test, predictions)"
   ]
  },
  {
   "cell_type": "code",
   "execution_count": 382,
   "metadata": {},
   "outputs": [
    {
     "name": "stdout",
     "output_type": "stream",
     "text": [
      "              precision    recall  f1-score   support\n",
      "\n",
      "  Black Wins       0.84      0.79      0.82     14023\n",
      "  White Wins       0.82      0.83      0.82     13904\n",
      "        Draw       0.80      0.84      0.82     13839\n",
      "\n",
      "    accuracy                           0.82     41766\n",
      "   macro avg       0.82      0.82      0.82     41766\n",
      "weighted avg       0.82      0.82      0.82     41766\n",
      "\n"
     ]
    }
   ],
   "source": [
    "print(classification_report(y_test, predictions, target_names=['Black Wins', 'White Wins', 'Draw']))"
   ]
  },
  {
   "cell_type": "code",
   "execution_count": 383,
   "metadata": {},
   "outputs": [],
   "source": [
    "from sklearn.metrics import confusion_matrix\n",
    "cm_df = pd.DataFrame(confusion_matrix(y_test, predictions,))"
   ]
  },
  {
   "cell_type": "code",
   "execution_count": 384,
   "metadata": {},
   "outputs": [
    {
     "data": {
      "text/plain": [
       "[Text(0, 0.5, 'Black Wins'), Text(0, 1.5, 'White Wins'), Text(0, 2.5, 'Draw')]"
      ]
     },
     "execution_count": 384,
     "metadata": {},
     "output_type": "execute_result"
    },
    {
     "data": {
      "image/png": "[encoded data removed]",
      "text/plain": [
       "<Figure size 640x480 with 2 Axes>"
      ]
     },
     "metadata": {},
     "output_type": "display_data"
    }
   ],
   "source": [
    "ax = sns.heatmap(cm_df,annot=True)\n",
    "ax.set_xlabel('Predicted labels');ax.set_ylabel('True labels')\n",
    "ax.xaxis.set_ticklabels(['Black Wins', 'White Wins', 'Draw']); ax.yaxis.set_ticklabels(['Black Wins', 'White Wins', 'Draw'])"
   ]
  },
  {
   "cell_type": "markdown",
   "metadata": {},
   "source": [
    "## A Purely Predictive Model"
   ]
  },
  {
   "cell_type": "code",
   "execution_count": 385,
   "metadata": {},
   "outputs": [],
   "source": [
    "# select relevant columns of data and save as pandas dataframe\n",
    "data = spark.sql(\n",
    "    '''\n",
    "SELECT WhiteElo, White_playTime_total, White_count_all, BlackElo, Black_playTime_total, Black_count_all,TimeControl,\n",
    "Result from chess\n",
    "WHERE Result != '*'\n",
    "'''\n",
    ").toPandas()"
   ]
  },
  {
   "cell_type": "code",
   "execution_count": 386,
   "metadata": {},
   "outputs": [],
   "source": [
    "# drop null values\n",
    "data.dropna(inplace=True)"
   ]
  },
  {
   "cell_type": "code",
   "execution_count": 387,
   "metadata": {},
   "outputs": [],
   "source": [
    "# create features exploring the differences in white versus black to use in prediction model\n",
    "data['Rating Difference'] = data['WhiteElo'] - data['BlackElo']\n",
    "data['Playtime Difference'] = data['White_playTime_total'] - data['Black_playTime_total']\n",
    "data['Games Played Difference'] = data['White_count_all'] - data['Black_count_all']\n",
    "data['White Average Playtime'] = data['White_playTime_total']/data['White_count_all']\n",
    "data['Black Average Playtime'] = data['Black_playTime_total']/data['Black_count_all']\n",
    "data['Average Playtime Difference'] = data['White Average Playtime'] - data['Black Average Playtime']"
   ]
  },
  {
   "cell_type": "code",
   "execution_count": 388,
   "metadata": {},
   "outputs": [],
   "source": [
    "# drop features that are not significant or are repeated in other features\n",
    "data.drop(['WhiteElo','BlackElo','White_count_all','Black_count_all','White_playTime_total','Black_playTime_total'],axis=1,inplace=True)"
   ]
  },
  {
   "cell_type": "code",
   "execution_count": 389,
   "metadata": {},
   "outputs": [],
   "source": [
    "# dummy encode the categorical data and sort into target and features\n",
    "resultmap = {'0-1':0, '1-0':1, '1/2-1/2':2}\n",
    "y = data['Result'].map(resultmap)\n",
    "X = pd.get_dummies(data.drop('Result', axis=1))"
   ]
  },
  {
   "cell_type": "code",
   "execution_count": 390,
   "metadata": {},
   "outputs": [],
   "source": [
    "# split the data into training and testing data\n",
    "X_train, X_test, y_train, y_test = train_test_split(X, y, random_state=78)"
   ]
  },
  {
   "cell_type": "code",
   "execution_count": 391,
   "metadata": {},
   "outputs": [],
   "source": [
    "# Create a StandardScaler instances\n",
    "scaler = StandardScaler()\n",
    "\n",
    "# Fit the StandardScaler\n",
    "X_scaler = scaler.fit(X_train)\n",
    "\n",
    "# Scale the data\n",
    "X_train_scaled = X_scaler.transform(X_train)\n",
    "X_test_scaled = X_scaler.transform(X_test)"
   ]
  },
  {
   "cell_type": "code",
   "execution_count": 392,
   "metadata": {},
   "outputs": [
    {
     "data": {
      "text/html": [
       "<style>#sk-container-id-26 {color: black;background-color: white;}#sk-container-id-26 pre{padding: 0;}#sk-container-id-26 div.sk-toggleable {background-color: white;}#sk-container-id-26 label.sk-toggleable__label {cursor: pointer;display: block;width: 100%;margin-bottom: 0;padding: 0.3em;box-sizing: border-box;text-align: center;}#sk-container-id-26 label.sk-toggleable__label-arrow:before {content: \"▸\";float: left;margin-right: 0.25em;color: #696969;}#sk-container-id-26 label.sk-toggleable__label-arrow:hover:before {color: black;}#sk-container-id-26 div.sk-estimator:hover label.sk-toggleable__label-arrow:before {color: black;}#sk-container-id-26 div.sk-toggleable__content {max-height: 0;max-width: 0;overflow: hidden;text-align: left;background-color: #f0f8ff;}#sk-container-id-26 div.sk-toggleable__content pre {margin: 0.2em;color: black;border-radius: 0.25em;background-color: #f0f8ff;}#sk-container-id-26 input.sk-toggleable__control:checked~div.sk-toggleable__content {max-height: 200px;max-width: 100%;overflow: auto;}#sk-container-id-26 input.sk-toggleable__control:checked~label.sk-toggleable__label-arrow:before {content: \"▾\";}#sk-container-id-26 div.sk-estimator input.sk-toggleable__control:checked~label.sk-toggleable__label {background-color: #d4ebff;}#sk-container-id-26 div.sk-label input.sk-toggleable__control:checked~label.sk-toggleable__label {background-color: #d4ebff;}#sk-container-id-26 input.sk-hidden--visually {border: 0;clip: rect(1px 1px 1px 1px);clip: rect(1px, 1px, 1px, 1px);height: 1px;margin: -1px;overflow: hidden;padding: 0;position: absolute;width: 1px;}#sk-container-id-26 div.sk-estimator {font-family: monospace;background-color: #f0f8ff;border: 1px dotted black;border-radius: 0.25em;box-sizing: border-box;margin-bottom: 0.5em;}#sk-container-id-26 div.sk-estimator:hover {background-color: #d4ebff;}#sk-container-id-26 div.sk-parallel-item::after {content: \"\";width: 100%;border-bottom: 1px solid gray;flex-grow: 1;}#sk-container-id-26 div.sk-label:hover label.sk-toggleable__label {background-color: #d4ebff;}#sk-container-id-26 div.sk-serial::before {content: \"\";position: absolute;border-left: 1px solid gray;box-sizing: border-box;top: 0;bottom: 0;left: 50%;z-index: 0;}#sk-container-id-26 div.sk-serial {display: flex;flex-direction: column;align-items: center;background-color: white;padding-right: 0.2em;padding-left: 0.2em;position: relative;}#sk-container-id-26 div.sk-item {position: relative;z-index: 1;}#sk-container-id-26 div.sk-parallel {display: flex;align-items: stretch;justify-content: center;background-color: white;position: relative;}#sk-container-id-26 div.sk-item::before, #sk-container-id-26 div.sk-parallel-item::before {content: \"\";position: absolute;border-left: 1px solid gray;box-sizing: border-box;top: 0;bottom: 0;left: 50%;z-index: -1;}#sk-container-id-26 div.sk-parallel-item {display: flex;flex-direction: column;z-index: 1;position: relative;background-color: white;}#sk-container-id-26 div.sk-parallel-item:first-child::after {align-self: flex-end;width: 50%;}#sk-container-id-26 div.sk-parallel-item:last-child::after {align-self: flex-start;width: 50%;}#sk-container-id-26 div.sk-parallel-item:only-child::after {width: 0;}#sk-container-id-26 div.sk-dashed-wrapped {border: 1px dashed gray;margin: 0 0.4em 0.5em 0.4em;box-sizing: border-box;padding-bottom: 0.4em;background-color: white;}#sk-container-id-26 div.sk-label label {font-family: monospace;font-weight: bold;display: inline-block;line-height: 1.2em;}#sk-container-id-26 div.sk-label-container {text-align: center;}#sk-container-id-26 div.sk-container {/* jupyter's `normalize.less` sets `[hidden] { display: none; }` but bootstrap.min.css set `[hidden] { display: none !important; }` so we also need the `!important` here to be able to override the default hidden behavior on the sphinx rendered scikit-learn.org. See: https://github.com/scikit-learn/scikit-learn/issues/21755 */display: inline-block !important;position: relative;}#sk-container-id-26 div.sk-text-repr-fallback {display: none;}</style><div id=\"sk-container-id-26\" class=\"sk-top-container\"><div class=\"sk-text-repr-fallback\"><pre>XGBClassifier(base_score=None, booster=None, callbacks=None,\n",
       "              colsample_bylevel=None, colsample_bynode=None,\n",
       "              colsample_bytree=None, device=None, early_stopping_rounds=None,\n",
       "              enable_categorical=False, eval_metric=None, feature_types=None,\n",
       "              gamma=None, grow_policy=None, importance_type=None,\n",
       "              interaction_constraints=None, learning_rate=None, max_bin=None,\n",
       "              max_cat_threshold=None, max_cat_to_onehot=None,\n",
       "              max_delta_step=None, max_depth=32, max_leaves=None,\n",
       "              min_child_weight=None, missing=nan, monotone_constraints=None,\n",
       "              multi_strategy=None, n_estimators=256, n_jobs=None,\n",
       "              num_parallel_tree=None, objective=&#x27;multi:softmax&#x27;, ...)</pre><b>In a Jupyter environment, please rerun this cell to show the HTML representation or trust the notebook. <br />On GitHub, the HTML representation is unable to render, please try loading this page with nbviewer.org.</b></div><div class=\"sk-container\" hidden><div class=\"sk-item\"><div class=\"sk-estimator sk-toggleable\"><input class=\"sk-toggleable__control sk-hidden--visually\" id=\"sk-estimator-id-26\" type=\"checkbox\" checked><label for=\"sk-estimator-id-26\" class=\"sk-toggleable__label sk-toggleable__label-arrow\">XGBClassifier</label><div class=\"sk-toggleable__content\"><pre>XGBClassifier(base_score=None, booster=None, callbacks=None,\n",
       "              colsample_bylevel=None, colsample_bynode=None,\n",
       "              colsample_bytree=None, device=None, early_stopping_rounds=None,\n",
       "              enable_categorical=False, eval_metric=None, feature_types=None,\n",
       "              gamma=None, grow_policy=None, importance_type=None,\n",
       "              interaction_constraints=None, learning_rate=None, max_bin=None,\n",
       "              max_cat_threshold=None, max_cat_to_onehot=None,\n",
       "              max_delta_step=None, max_depth=32, max_leaves=None,\n",
       "              min_child_weight=None, missing=nan, monotone_constraints=None,\n",
       "              multi_strategy=None, n_estimators=256, n_jobs=None,\n",
       "              num_parallel_tree=None, objective=&#x27;multi:softmax&#x27;, ...)</pre></div></div></div></div></div>"
      ],
      "text/plain": [
       "XGBClassifier(base_score=None, booster=None, callbacks=None,\n",
       "              colsample_bylevel=None, colsample_bynode=None,\n",
       "              colsample_bytree=None, device=None, early_stopping_rounds=None,\n",
       "              enable_categorical=False, eval_metric=None, feature_types=None,\n",
       "              gamma=None, grow_policy=None, importance_type=None,\n",
       "              interaction_constraints=None, learning_rate=None, max_bin=None,\n",
       "              max_cat_threshold=None, max_cat_to_onehot=None,\n",
       "              max_delta_step=None, max_depth=32, max_leaves=None,\n",
       "              min_child_weight=None, missing=nan, monotone_constraints=None,\n",
       "              multi_strategy=None, n_estimators=256, n_jobs=None,\n",
       "              num_parallel_tree=None, objective='multi:softmax', ...)"
      ]
     },
     "execution_count": 392,
     "metadata": {},
     "output_type": "execute_result"
    }
   ],
   "source": [
    "from xgboost import XGBClassifier\n",
    "xg_nn = XGBClassifier(n_estimators = 256, max_depth = 32, objective ='multi:softmax')\n",
    "xg_nn.fit(X_train_scaled,y_train)"
   ]
  },
  {
   "cell_type": "code",
   "execution_count": 393,
   "metadata": {},
   "outputs": [],
   "source": [
    "predictions = xg_nn.predict(X_test_scaled)"
   ]
  },
  {
   "cell_type": "code",
   "execution_count": 394,
   "metadata": {},
   "outputs": [
    {
     "data": {
      "text/plain": [
       "0.5383978867636294"
      ]
     },
     "execution_count": 394,
     "metadata": {},
     "output_type": "execute_result"
    }
   ],
   "source": [
    "accuracy_score(y_test, predictions)"
   ]
  },
  {
   "cell_type": "code",
   "execution_count": 395,
   "metadata": {},
   "outputs": [
    {
     "name": "stdout",
     "output_type": "stream",
     "text": [
      "              precision    recall  f1-score   support\n",
      "\n",
      "  Black Wins       0.52      0.52      0.52     14516\n",
      "  White Wins       0.56      0.59      0.57     15841\n",
      "        Draw       0.02      0.00      0.00      1064\n",
      "\n",
      "    accuracy                           0.54     31421\n",
      "   macro avg       0.37      0.37      0.36     31421\n",
      "weighted avg       0.52      0.54      0.53     31421\n",
      "\n"
     ]
    }
   ],
   "source": [
    "print(classification_report(y_test, predictions, target_names=['Black Wins', 'White Wins', 'Draw']))"
   ]
  },
  {
   "cell_type": "code",
   "execution_count": 396,
   "metadata": {},
   "outputs": [],
   "source": [
    "from sklearn.metrics import confusion_matrix\n",
    "cm_df = pd.DataFrame(confusion_matrix(y_test, predictions,))"
   ]
  },
  {
   "cell_type": "code",
   "execution_count": 397,
   "metadata": {},
   "outputs": [
    {
     "data": {
      "text/plain": [
       "[Text(0, 0.5, 'Black Wins'), Text(0, 1.5, 'White Wins'), Text(0, 2.5, 'Draw')]"
      ]
     },
     "execution_count": 397,
     "metadata": {},
     "output_type": "execute_result"
    },
    {
     "data": {
      "image/png": "[encoded data removed]",
      "text/plain": [
       "<Figure size 640x480 with 2 Axes>"
      ]
     },
     "metadata": {},
     "output_type": "display_data"
    }
   ],
   "source": [
    "ax = sns.heatmap(cm_df,annot=True)\n",
    "ax.set_xlabel('Predicted labels');ax.set_ylabel('True labels')\n",
    "ax.xaxis.set_ticklabels(['Black Wins', 'White Wins', 'Draw']); ax.yaxis.set_ticklabels(['Black Wins', 'White Wins', 'Draw'])"
   ]
  },
  {
   "cell_type": "code",
   "execution_count": 398,
   "metadata": {},
   "outputs": [],
   "source": [
    "from imblearn.over_sampling import SMOTE\n",
    "smote = SMOTE()\n",
    "X_resampled, y_resampled = smote.fit_resample(X,y)"
   ]
  },
  {
   "cell_type": "code",
   "execution_count": 399,
   "metadata": {},
   "outputs": [
    {
     "data": {
      "text/plain": [
       "Result\n",
       "0    62880\n",
       "1    62880\n",
       "2    62880\n",
       "Name: count, dtype: int64"
      ]
     },
     "execution_count": 399,
     "metadata": {},
     "output_type": "execute_result"
    }
   ],
   "source": [
    "y_resampled.value_counts()"
   ]
  },
  {
   "cell_type": "code",
   "execution_count": 400,
   "metadata": {},
   "outputs": [],
   "source": [
    "# split the data into training and testing data\n",
    "X_train, X_test, y_train, y_test = train_test_split(X_resampled, y_resampled, random_state=78)"
   ]
  },
  {
   "cell_type": "code",
   "execution_count": 401,
   "metadata": {},
   "outputs": [],
   "source": [
    "# Create a StandardScaler instances\n",
    "scaler = StandardScaler()\n",
    "\n",
    "# Fit the StandardScaler\n",
    "X_scaler = scaler.fit(X_train)\n",
    "\n",
    "# Scale the data\n",
    "X_train_scaled = X_scaler.transform(X_train)\n",
    "X_test_scaled = X_scaler.transform(X_test)"
   ]
  },
  {
   "cell_type": "code",
   "execution_count": 402,
   "metadata": {},
   "outputs": [
    {
     "data": {
      "text/html": [
       "<style>#sk-container-id-27 {color: black;background-color: white;}#sk-container-id-27 pre{padding: 0;}#sk-container-id-27 div.sk-toggleable {background-color: white;}#sk-container-id-27 label.sk-toggleable__label {cursor: pointer;display: block;width: 100%;margin-bottom: 0;padding: 0.3em;box-sizing: border-box;text-align: center;}#sk-container-id-27 label.sk-toggleable__label-arrow:before {content: \"▸\";float: left;margin-right: 0.25em;color: #696969;}#sk-container-id-27 label.sk-toggleable__label-arrow:hover:before {color: black;}#sk-container-id-27 div.sk-estimator:hover label.sk-toggleable__label-arrow:before {color: black;}#sk-container-id-27 div.sk-toggleable__content {max-height: 0;max-width: 0;overflow: hidden;text-align: left;background-color: #f0f8ff;}#sk-container-id-27 div.sk-toggleable__content pre {margin: 0.2em;color: black;border-radius: 0.25em;background-color: #f0f8ff;}#sk-container-id-27 input.sk-toggleable__control:checked~div.sk-toggleable__content {max-height: 200px;max-width: 100%;overflow: auto;}#sk-container-id-27 input.sk-toggleable__control:checked~label.sk-toggleable__label-arrow:before {content: \"▾\";}#sk-container-id-27 div.sk-estimator input.sk-toggleable__control:checked~label.sk-toggleable__label {background-color: #d4ebff;}#sk-container-id-27 div.sk-label input.sk-toggleable__control:checked~label.sk-toggleable__label {background-color: #d4ebff;}#sk-container-id-27 input.sk-hidden--visually {border: 0;clip: rect(1px 1px 1px 1px);clip: rect(1px, 1px, 1px, 1px);height: 1px;margin: -1px;overflow: hidden;padding: 0;position: absolute;width: 1px;}#sk-container-id-27 div.sk-estimator {font-family: monospace;background-color: #f0f8ff;border: 1px dotted black;border-radius: 0.25em;box-sizing: border-box;margin-bottom: 0.5em;}#sk-container-id-27 div.sk-estimator:hover {background-color: #d4ebff;}#sk-container-id-27 div.sk-parallel-item::after {content: \"\";width: 100%;border-bottom: 1px solid gray;flex-grow: 1;}#sk-container-id-27 div.sk-label:hover label.sk-toggleable__label {background-color: #d4ebff;}#sk-container-id-27 div.sk-serial::before {content: \"\";position: absolute;border-left: 1px solid gray;box-sizing: border-box;top: 0;bottom: 0;left: 50%;z-index: 0;}#sk-container-id-27 div.sk-serial {display: flex;flex-direction: column;align-items: center;background-color: white;padding-right: 0.2em;padding-left: 0.2em;position: relative;}#sk-container-id-27 div.sk-item {position: relative;z-index: 1;}#sk-container-id-27 div.sk-parallel {display: flex;align-items: stretch;justify-content: center;background-color: white;position: relative;}#sk-container-id-27 div.sk-item::before, #sk-container-id-27 div.sk-parallel-item::before {content: \"\";position: absolute;border-left: 1px solid gray;box-sizing: border-box;top: 0;bottom: 0;left: 50%;z-index: -1;}#sk-container-id-27 div.sk-parallel-item {display: flex;flex-direction: column;z-index: 1;position: relative;background-color: white;}#sk-container-id-27 div.sk-parallel-item:first-child::after {align-self: flex-end;width: 50%;}#sk-container-id-27 div.sk-parallel-item:last-child::after {align-self: flex-start;width: 50%;}#sk-container-id-27 div.sk-parallel-item:only-child::after {width: 0;}#sk-container-id-27 div.sk-dashed-wrapped {border: 1px dashed gray;margin: 0 0.4em 0.5em 0.4em;box-sizing: border-box;padding-bottom: 0.4em;background-color: white;}#sk-container-id-27 div.sk-label label {font-family: monospace;font-weight: bold;display: inline-block;line-height: 1.2em;}#sk-container-id-27 div.sk-label-container {text-align: center;}#sk-container-id-27 div.sk-container {/* jupyter's `normalize.less` sets `[hidden] { display: none; }` but bootstrap.min.css set `[hidden] { display: none !important; }` so we also need the `!important` here to be able to override the default hidden behavior on the sphinx rendered scikit-learn.org. See: https://github.com/scikit-learn/scikit-learn/issues/21755 */display: inline-block !important;position: relative;}#sk-container-id-27 div.sk-text-repr-fallback {display: none;}</style><div id=\"sk-container-id-27\" class=\"sk-top-container\"><div class=\"sk-text-repr-fallback\"><pre>XGBClassifier(base_score=None, booster=None, callbacks=None,\n",
       "              colsample_bylevel=None, colsample_bynode=None,\n",
       "              colsample_bytree=None, device=None, early_stopping_rounds=None,\n",
       "              enable_categorical=False, eval_metric=None, feature_types=None,\n",
       "              gamma=None, grow_policy=None, importance_type=None,\n",
       "              interaction_constraints=None, learning_rate=None, max_bin=None,\n",
       "              max_cat_threshold=None, max_cat_to_onehot=None,\n",
       "              max_delta_step=None, max_depth=32, max_leaves=None,\n",
       "              min_child_weight=None, missing=nan, monotone_constraints=None,\n",
       "              multi_strategy=None, n_estimators=256, n_jobs=None,\n",
       "              num_parallel_tree=None, objective=&#x27;multi:softmax&#x27;, ...)</pre><b>In a Jupyter environment, please rerun this cell to show the HTML representation or trust the notebook. <br />On GitHub, the HTML representation is unable to render, please try loading this page with nbviewer.org.</b></div><div class=\"sk-container\" hidden><div class=\"sk-item\"><div class=\"sk-estimator sk-toggleable\"><input class=\"sk-toggleable__control sk-hidden--visually\" id=\"sk-estimator-id-27\" type=\"checkbox\" checked><label for=\"sk-estimator-id-27\" class=\"sk-toggleable__label sk-toggleable__label-arrow\">XGBClassifier</label><div class=\"sk-toggleable__content\"><pre>XGBClassifier(base_score=None, booster=None, callbacks=None,\n",
       "              colsample_bylevel=None, colsample_bynode=None,\n",
       "              colsample_bytree=None, device=None, early_stopping_rounds=None,\n",
       "              enable_categorical=False, eval_metric=None, feature_types=None,\n",
       "              gamma=None, grow_policy=None, importance_type=None,\n",
       "              interaction_constraints=None, learning_rate=None, max_bin=None,\n",
       "              max_cat_threshold=None, max_cat_to_onehot=None,\n",
       "              max_delta_step=None, max_depth=32, max_leaves=None,\n",
       "              min_child_weight=None, missing=nan, monotone_constraints=None,\n",
       "              multi_strategy=None, n_estimators=256, n_jobs=None,\n",
       "              num_parallel_tree=None, objective=&#x27;multi:softmax&#x27;, ...)</pre></div></div></div></div></div>"
      ],
      "text/plain": [
       "XGBClassifier(base_score=None, booster=None, callbacks=None,\n",
       "              colsample_bylevel=None, colsample_bynode=None,\n",
       "              colsample_bytree=None, device=None, early_stopping_rounds=None,\n",
       "              enable_categorical=False, eval_metric=None, feature_types=None,\n",
       "              gamma=None, grow_policy=None, importance_type=None,\n",
       "              interaction_constraints=None, learning_rate=None, max_bin=None,\n",
       "              max_cat_threshold=None, max_cat_to_onehot=None,\n",
       "              max_delta_step=None, max_depth=32, max_leaves=None,\n",
       "              min_child_weight=None, missing=nan, monotone_constraints=None,\n",
       "              multi_strategy=None, n_estimators=256, n_jobs=None,\n",
       "              num_parallel_tree=None, objective='multi:softmax', ...)"
      ]
     },
     "execution_count": 402,
     "metadata": {},
     "output_type": "execute_result"
    }
   ],
   "source": [
    "xg_nn = XGBClassifier(n_estimators = 256, max_depth = 32, objective ='multi:softmax')\n",
    "xg_nn.fit(X_train_scaled,y_train)"
   ]
  },
  {
   "cell_type": "code",
   "execution_count": 403,
   "metadata": {},
   "outputs": [],
   "source": [
    "predictions = xg_nn.predict(X_test_scaled)"
   ]
  },
  {
   "cell_type": "code",
   "execution_count": 404,
   "metadata": {},
   "outputs": [
    {
     "data": {
      "text/plain": [
       "0.6617472434266327"
      ]
     },
     "execution_count": 404,
     "metadata": {},
     "output_type": "execute_result"
    }
   ],
   "source": [
    "accuracy_score(y_test, predictions)"
   ]
  },
  {
   "cell_type": "code",
   "execution_count": 405,
   "metadata": {},
   "outputs": [
    {
     "name": "stdout",
     "output_type": "stream",
     "text": [
      "              precision    recall  f1-score   support\n",
      "\n",
      "  Black Wins       0.53      0.51      0.52     15675\n",
      "  White Wins       0.54      0.57      0.56     15739\n",
      "        Draw       0.92      0.90      0.91     15746\n",
      "\n",
      "    accuracy                           0.66     47160\n",
      "   macro avg       0.66      0.66      0.66     47160\n",
      "weighted avg       0.66      0.66      0.66     47160\n",
      "\n"
     ]
    }
   ],
   "source": [
    "print(classification_report(y_test, predictions, target_names=['Black Wins', 'White Wins', 'Draw']))"
   ]
  },
  {
   "cell_type": "code",
   "execution_count": 406,
   "metadata": {},
   "outputs": [],
   "source": [
    "from sklearn.metrics import confusion_matrix\n",
    "cm_df = pd.DataFrame(confusion_matrix(y_test, predictions,))"
   ]
  },
  {
   "cell_type": "code",
   "execution_count": 407,
   "metadata": {},
   "outputs": [
    {
     "data": {
      "text/plain": [
       "[Text(0, 0.5, 'Black Wins'), Text(0, 1.5, 'White Wins'), Text(0, 2.5, 'Draw')]"
      ]
     },
     "execution_count": 407,
     "metadata": {},
     "output_type": "execute_result"
    },
    {
     "data": {
      "image/png": "[encoded data removed]",
      "text/plain": [
       "<Figure size 640x480 with 2 Axes>"
      ]
     },
     "metadata": {},
     "output_type": "display_data"
    }
   ],
   "source": [
    "ax = sns.heatmap(cm_df,annot=True)\n",
    "ax.set_xlabel('Predicted labels');ax.set_ylabel('True labels')\n",
    "ax.xaxis.set_ticklabels(['Black Wins', 'White Wins', 'Draw']); ax.yaxis.set_ticklabels(['Black Wins', 'White Wins', 'Draw'])"
   ]
  },
  {
   "cell_type": "markdown",
   "metadata": {},
   "source": [
    "## Adding in More Features"
   ]
  },
  {
   "cell_type": "code",
   "execution_count": 408,
   "metadata": {},
   "outputs": [],
   "source": [
    "# select relevant columns of data and save as pandas dataframe\n",
    "data = spark.sql(\n",
    "    '''\n",
    "SELECT WhiteElo, White_playTime_total, White_count_all, BlackElo, Black_playTime_total, Black_count_all,TotalMoves,Termination,TimeControl,ECO,\n",
    "Result from chess\n",
    "WHERE Result != '*'\n",
    "'''\n",
    ").toPandas()"
   ]
  },
  {
   "cell_type": "code",
   "execution_count": 409,
   "metadata": {},
   "outputs": [],
   "source": [
    "# drop null values\n",
    "data.dropna(inplace=True)"
   ]
  },
  {
   "cell_type": "code",
   "execution_count": 410,
   "metadata": {},
   "outputs": [],
   "source": [
    "data['TimeControl'] = data['TimeControl'].str.split('+').str[0]"
   ]
  },
  {
   "cell_type": "code",
   "execution_count": 411,
   "metadata": {},
   "outputs": [],
   "source": [
    "# dummy encode the categorical data and sort into target and features\n",
    "resultmap = {'0-1':0, '1-0':1, '1/2-1/2':2}\n",
    "y = data['Result'].map(resultmap)\n",
    "X = pd.get_dummies(data.drop('Result', axis=1))"
   ]
  },
  {
   "cell_type": "code",
   "execution_count": 412,
   "metadata": {},
   "outputs": [],
   "source": [
    "# split the data into training and testing data\n",
    "X_train, X_test, y_train, y_test = train_test_split(X, y, random_state=78)"
   ]
  },
  {
   "cell_type": "code",
   "execution_count": 413,
   "metadata": {},
   "outputs": [],
   "source": [
    "# Create a StandardScaler instances\n",
    "scaler = StandardScaler()\n",
    "\n",
    "# Fit the StandardScaler\n",
    "X_scaler = scaler.fit(X_train)\n",
    "\n",
    "# Scale the data\n",
    "X_train_scaled = X_scaler.transform(X_train)\n",
    "X_test_scaled = X_scaler.transform(X_test)"
   ]
  },
  {
   "cell_type": "code",
   "execution_count": 414,
   "metadata": {},
   "outputs": [
    {
     "data": {
      "text/html": [
       "<style>#sk-container-id-28 {color: black;background-color: white;}#sk-container-id-28 pre{padding: 0;}#sk-container-id-28 div.sk-toggleable {background-color: white;}#sk-container-id-28 label.sk-toggleable__label {cursor: pointer;display: block;width: 100%;margin-bottom: 0;padding: 0.3em;box-sizing: border-box;text-align: center;}#sk-container-id-28 label.sk-toggleable__label-arrow:before {content: \"▸\";float: left;margin-right: 0.25em;color: #696969;}#sk-container-id-28 label.sk-toggleable__label-arrow:hover:before {color: black;}#sk-container-id-28 div.sk-estimator:hover label.sk-toggleable__label-arrow:before {color: black;}#sk-container-id-28 div.sk-toggleable__content {max-height: 0;max-width: 0;overflow: hidden;text-align: left;background-color: #f0f8ff;}#sk-container-id-28 div.sk-toggleable__content pre {margin: 0.2em;color: black;border-radius: 0.25em;background-color: #f0f8ff;}#sk-container-id-28 input.sk-toggleable__control:checked~div.sk-toggleable__content {max-height: 200px;max-width: 100%;overflow: auto;}#sk-container-id-28 input.sk-toggleable__control:checked~label.sk-toggleable__label-arrow:before {content: \"▾\";}#sk-container-id-28 div.sk-estimator input.sk-toggleable__control:checked~label.sk-toggleable__label {background-color: #d4ebff;}#sk-container-id-28 div.sk-label input.sk-toggleable__control:checked~label.sk-toggleable__label {background-color: #d4ebff;}#sk-container-id-28 input.sk-hidden--visually {border: 0;clip: rect(1px 1px 1px 1px);clip: rect(1px, 1px, 1px, 1px);height: 1px;margin: -1px;overflow: hidden;padding: 0;position: absolute;width: 1px;}#sk-container-id-28 div.sk-estimator {font-family: monospace;background-color: #f0f8ff;border: 1px dotted black;border-radius: 0.25em;box-sizing: border-box;margin-bottom: 0.5em;}#sk-container-id-28 div.sk-estimator:hover {background-color: #d4ebff;}#sk-container-id-28 div.sk-parallel-item::after {content: \"\";width: 100%;border-bottom: 1px solid gray;flex-grow: 1;}#sk-container-id-28 div.sk-label:hover label.sk-toggleable__label {background-color: #d4ebff;}#sk-container-id-28 div.sk-serial::before {content: \"\";position: absolute;border-left: 1px solid gray;box-sizing: border-box;top: 0;bottom: 0;left: 50%;z-index: 0;}#sk-container-id-28 div.sk-serial {display: flex;flex-direction: column;align-items: center;background-color: white;padding-right: 0.2em;padding-left: 0.2em;position: relative;}#sk-container-id-28 div.sk-item {position: relative;z-index: 1;}#sk-container-id-28 div.sk-parallel {display: flex;align-items: stretch;justify-content: center;background-color: white;position: relative;}#sk-container-id-28 div.sk-item::before, #sk-container-id-28 div.sk-parallel-item::before {content: \"\";position: absolute;border-left: 1px solid gray;box-sizing: border-box;top: 0;bottom: 0;left: 50%;z-index: -1;}#sk-container-id-28 div.sk-parallel-item {display: flex;flex-direction: column;z-index: 1;position: relative;background-color: white;}#sk-container-id-28 div.sk-parallel-item:first-child::after {align-self: flex-end;width: 50%;}#sk-container-id-28 div.sk-parallel-item:last-child::after {align-self: flex-start;width: 50%;}#sk-container-id-28 div.sk-parallel-item:only-child::after {width: 0;}#sk-container-id-28 div.sk-dashed-wrapped {border: 1px dashed gray;margin: 0 0.4em 0.5em 0.4em;box-sizing: border-box;padding-bottom: 0.4em;background-color: white;}#sk-container-id-28 div.sk-label label {font-family: monospace;font-weight: bold;display: inline-block;line-height: 1.2em;}#sk-container-id-28 div.sk-label-container {text-align: center;}#sk-container-id-28 div.sk-container {/* jupyter's `normalize.less` sets `[hidden] { display: none; }` but bootstrap.min.css set `[hidden] { display: none !important; }` so we also need the `!important` here to be able to override the default hidden behavior on the sphinx rendered scikit-learn.org. See: https://github.com/scikit-learn/scikit-learn/issues/21755 */display: inline-block !important;position: relative;}#sk-container-id-28 div.sk-text-repr-fallback {display: none;}</style><div id=\"sk-container-id-28\" class=\"sk-top-container\"><div class=\"sk-text-repr-fallback\"><pre>XGBClassifier(base_score=None, booster=None, callbacks=None,\n",
       "              colsample_bylevel=None, colsample_bynode=None,\n",
       "              colsample_bytree=None, device=None, early_stopping_rounds=None,\n",
       "              enable_categorical=False, eval_metric=None, feature_types=None,\n",
       "              gamma=None, grow_policy=None, importance_type=None,\n",
       "              interaction_constraints=None, learning_rate=None, max_bin=None,\n",
       "              max_cat_threshold=None, max_cat_to_onehot=None,\n",
       "              max_delta_step=None, max_depth=32, max_leaves=None,\n",
       "              min_child_weight=None, missing=nan, monotone_constraints=None,\n",
       "              multi_strategy=None, n_estimators=256, n_jobs=None,\n",
       "              num_parallel_tree=None, objective=&#x27;multi:softmax&#x27;, ...)</pre><b>In a Jupyter environment, please rerun this cell to show the HTML representation or trust the notebook. <br />On GitHub, the HTML representation is unable to render, please try loading this page with nbviewer.org.</b></div><div class=\"sk-container\" hidden><div class=\"sk-item\"><div class=\"sk-estimator sk-toggleable\"><input class=\"sk-toggleable__control sk-hidden--visually\" id=\"sk-estimator-id-28\" type=\"checkbox\" checked><label for=\"sk-estimator-id-28\" class=\"sk-toggleable__label sk-toggleable__label-arrow\">XGBClassifier</label><div class=\"sk-toggleable__content\"><pre>XGBClassifier(base_score=None, booster=None, callbacks=None,\n",
       "              colsample_bylevel=None, colsample_bynode=None,\n",
       "              colsample_bytree=None, device=None, early_stopping_rounds=None,\n",
       "              enable_categorical=False, eval_metric=None, feature_types=None,\n",
       "              gamma=None, grow_policy=None, importance_type=None,\n",
       "              interaction_constraints=None, learning_rate=None, max_bin=None,\n",
       "              max_cat_threshold=None, max_cat_to_onehot=None,\n",
       "              max_delta_step=None, max_depth=32, max_leaves=None,\n",
       "              min_child_weight=None, missing=nan, monotone_constraints=None,\n",
       "              multi_strategy=None, n_estimators=256, n_jobs=None,\n",
       "              num_parallel_tree=None, objective=&#x27;multi:softmax&#x27;, ...)</pre></div></div></div></div></div>"
      ],
      "text/plain": [
       "XGBClassifier(base_score=None, booster=None, callbacks=None,\n",
       "              colsample_bylevel=None, colsample_bynode=None,\n",
       "              colsample_bytree=None, device=None, early_stopping_rounds=None,\n",
       "              enable_categorical=False, eval_metric=None, feature_types=None,\n",
       "              gamma=None, grow_policy=None, importance_type=None,\n",
       "              interaction_constraints=None, learning_rate=None, max_bin=None,\n",
       "              max_cat_threshold=None, max_cat_to_onehot=None,\n",
       "              max_delta_step=None, max_depth=32, max_leaves=None,\n",
       "              min_child_weight=None, missing=nan, monotone_constraints=None,\n",
       "              multi_strategy=None, n_estimators=256, n_jobs=None,\n",
       "              num_parallel_tree=None, objective='multi:softmax', ...)"
      ]
     },
     "execution_count": 414,
     "metadata": {},
     "output_type": "execute_result"
    }
   ],
   "source": [
    "xg_nn = XGBClassifier(n_estimators = 256, max_depth = 32, objective ='multi:softmax')\n",
    "xg_nn.fit(X_train_scaled,y_train)"
   ]
  },
  {
   "cell_type": "code",
   "execution_count": 415,
   "metadata": {},
   "outputs": [],
   "source": [
    "predictions = xg_nn.predict(X_test_scaled)"
   ]
  },
  {
   "cell_type": "code",
   "execution_count": 416,
   "metadata": {},
   "outputs": [
    {
     "data": {
      "text/plain": [
       "0.9032812450272111"
      ]
     },
     "execution_count": 416,
     "metadata": {},
     "output_type": "execute_result"
    }
   ],
   "source": [
    "accuracy_score(y_test, predictions)"
   ]
  },
  {
   "cell_type": "code",
   "execution_count": 417,
   "metadata": {},
   "outputs": [
    {
     "name": "stdout",
     "output_type": "stream",
     "text": [
      "              precision    recall  f1-score   support\n",
      "\n",
      "  Black Wins       0.90      0.93      0.92     14516\n",
      "  White Wins       0.91      0.94      0.92     15841\n",
      "        Draw       0.25      0.04      0.07      1064\n",
      "\n",
      "    accuracy                           0.90     31421\n",
      "   macro avg       0.69      0.64      0.64     31421\n",
      "weighted avg       0.88      0.90      0.89     31421\n",
      "\n"
     ]
    }
   ],
   "source": [
    "print(classification_report(y_test, predictions, target_names=['Black Wins', 'White Wins', 'Draw']))"
   ]
  },
  {
   "cell_type": "code",
   "execution_count": 418,
   "metadata": {},
   "outputs": [
    {
     "data": {
      "text/html": [
       "<div>\n",
       "<style scoped>\n",
       "    .dataframe tbody tr th:only-of-type {\n",
       "        vertical-align: middle;\n",
       "    }\n",
       "\n",
       "    .dataframe tbody tr th {\n",
       "        vertical-align: top;\n",
       "    }\n",
       "\n",
       "    .dataframe thead th {\n",
       "        text-align: right;\n",
       "    }\n",
       "</style>\n",
       "<table border=\"1\" class=\"dataframe\">\n",
       "  <thead>\n",
       "    <tr style=\"text-align: right;\">\n",
       "      <th></th>\n",
       "      <th>Feature Name</th>\n",
       "      <th>Importances</th>\n",
       "    </tr>\n",
       "  </thead>\n",
       "  <tbody>\n",
       "    <tr>\n",
       "      <th>6</th>\n",
       "      <td>TotalMoves</td>\n",
       "      <td>0.031602</td>\n",
       "    </tr>\n",
       "    <tr>\n",
       "      <th>316</th>\n",
       "      <td>ECO_C80</td>\n",
       "      <td>0.017044</td>\n",
       "    </tr>\n",
       "    <tr>\n",
       "      <th>181</th>\n",
       "      <td>ECO_B38</td>\n",
       "      <td>0.016966</td>\n",
       "    </tr>\n",
       "    <tr>\n",
       "      <th>374</th>\n",
       "      <td>ECO_D40</td>\n",
       "      <td>0.013599</td>\n",
       "    </tr>\n",
       "    <tr>\n",
       "      <th>131</th>\n",
       "      <td>ECO_A85</td>\n",
       "      <td>0.013064</td>\n",
       "    </tr>\n",
       "    <tr>\n",
       "      <th>162</th>\n",
       "      <td>ECO_B19</td>\n",
       "      <td>0.011128</td>\n",
       "    </tr>\n",
       "    <tr>\n",
       "      <th>7</th>\n",
       "      <td>Termination_Normal</td>\n",
       "      <td>0.010235</td>\n",
       "    </tr>\n",
       "    <tr>\n",
       "      <th>157</th>\n",
       "      <td>ECO_B14</td>\n",
       "      <td>0.009075</td>\n",
       "    </tr>\n",
       "    <tr>\n",
       "      <th>27</th>\n",
       "      <td>TimeControl_30</td>\n",
       "      <td>0.008171</td>\n",
       "    </tr>\n",
       "    <tr>\n",
       "      <th>99</th>\n",
       "      <td>ECO_A49</td>\n",
       "      <td>0.007303</td>\n",
       "    </tr>\n",
       "    <tr>\n",
       "      <th>380</th>\n",
       "      <td>ECO_D47</td>\n",
       "      <td>0.007127</td>\n",
       "    </tr>\n",
       "    <tr>\n",
       "      <th>19</th>\n",
       "      <td>TimeControl_15</td>\n",
       "      <td>0.006986</td>\n",
       "    </tr>\n",
       "    <tr>\n",
       "      <th>109</th>\n",
       "      <td>ECO_A59</td>\n",
       "      <td>0.006679</td>\n",
       "    </tr>\n",
       "    <tr>\n",
       "      <th>9</th>\n",
       "      <td>Termination_Time forfeit</td>\n",
       "      <td>0.006650</td>\n",
       "    </tr>\n",
       "    <tr>\n",
       "      <th>457</th>\n",
       "      <td>ECO_E34</td>\n",
       "      <td>0.006275</td>\n",
       "    </tr>\n",
       "    <tr>\n",
       "      <th>435</th>\n",
       "      <td>ECO_E11</td>\n",
       "      <td>0.006153</td>\n",
       "    </tr>\n",
       "    <tr>\n",
       "      <th>32</th>\n",
       "      <td>TimeControl_420</td>\n",
       "      <td>0.006130</td>\n",
       "    </tr>\n",
       "    <tr>\n",
       "      <th>195</th>\n",
       "      <td>ECO_B52</td>\n",
       "      <td>0.006105</td>\n",
       "    </tr>\n",
       "    <tr>\n",
       "      <th>163</th>\n",
       "      <td>ECO_B20</td>\n",
       "      <td>0.006059</td>\n",
       "    </tr>\n",
       "    <tr>\n",
       "      <th>491</th>\n",
       "      <td>ECO_E73</td>\n",
       "      <td>0.005982</td>\n",
       "    </tr>\n",
       "    <tr>\n",
       "      <th>335</th>\n",
       "      <td>ECO_D01</td>\n",
       "      <td>0.005829</td>\n",
       "    </tr>\n",
       "    <tr>\n",
       "      <th>110</th>\n",
       "      <td>ECO_A60</td>\n",
       "      <td>0.005806</td>\n",
       "    </tr>\n",
       "    <tr>\n",
       "      <th>277</th>\n",
       "      <td>ECO_C40</td>\n",
       "      <td>0.005747</td>\n",
       "    </tr>\n",
       "    <tr>\n",
       "      <th>176</th>\n",
       "      <td>ECO_B33</td>\n",
       "      <td>0.005735</td>\n",
       "    </tr>\n",
       "    <tr>\n",
       "      <th>385</th>\n",
       "      <td>ECO_D52</td>\n",
       "      <td>0.005617</td>\n",
       "    </tr>\n",
       "    <tr>\n",
       "      <th>337</th>\n",
       "      <td>ECO_D03</td>\n",
       "      <td>0.005484</td>\n",
       "    </tr>\n",
       "    <tr>\n",
       "      <th>340</th>\n",
       "      <td>ECO_D06</td>\n",
       "      <td>0.005463</td>\n",
       "    </tr>\n",
       "    <tr>\n",
       "      <th>478</th>\n",
       "      <td>ECO_E60</td>\n",
       "      <td>0.005400</td>\n",
       "    </tr>\n",
       "    <tr>\n",
       "      <th>175</th>\n",
       "      <td>ECO_B32</td>\n",
       "      <td>0.005394</td>\n",
       "    </tr>\n",
       "    <tr>\n",
       "      <th>170</th>\n",
       "      <td>ECO_B27</td>\n",
       "      <td>0.005387</td>\n",
       "    </tr>\n",
       "    <tr>\n",
       "      <th>271</th>\n",
       "      <td>ECO_C34</td>\n",
       "      <td>0.005381</td>\n",
       "    </tr>\n",
       "    <tr>\n",
       "      <th>498</th>\n",
       "      <td>ECO_E81</td>\n",
       "      <td>0.005374</td>\n",
       "    </tr>\n",
       "    <tr>\n",
       "      <th>35</th>\n",
       "      <td>TimeControl_480</td>\n",
       "      <td>0.005348</td>\n",
       "    </tr>\n",
       "    <tr>\n",
       "      <th>354</th>\n",
       "      <td>ECO_D20</td>\n",
       "      <td>0.005216</td>\n",
       "    </tr>\n",
       "    <tr>\n",
       "      <th>50</th>\n",
       "      <td>ECO_A00</td>\n",
       "      <td>0.005197</td>\n",
       "    </tr>\n",
       "    <tr>\n",
       "      <th>92</th>\n",
       "      <td>ECO_A42</td>\n",
       "      <td>0.005195</td>\n",
       "    </tr>\n",
       "    <tr>\n",
       "      <th>22</th>\n",
       "      <td>TimeControl_1800</td>\n",
       "      <td>0.005169</td>\n",
       "    </tr>\n",
       "    <tr>\n",
       "      <th>33</th>\n",
       "      <td>TimeControl_45</td>\n",
       "      <td>0.005105</td>\n",
       "    </tr>\n",
       "    <tr>\n",
       "      <th>289</th>\n",
       "      <td>ECO_C52</td>\n",
       "      <td>0.005054</td>\n",
       "    </tr>\n",
       "    <tr>\n",
       "      <th>366</th>\n",
       "      <td>ECO_D32</td>\n",
       "      <td>0.005024</td>\n",
       "    </tr>\n",
       "    <tr>\n",
       "      <th>72</th>\n",
       "      <td>ECO_A22</td>\n",
       "      <td>0.004941</td>\n",
       "    </tr>\n",
       "    <tr>\n",
       "      <th>302</th>\n",
       "      <td>ECO_C65</td>\n",
       "      <td>0.004941</td>\n",
       "    </tr>\n",
       "    <tr>\n",
       "      <th>509</th>\n",
       "      <td>ECO_E94</td>\n",
       "      <td>0.004939</td>\n",
       "    </tr>\n",
       "    <tr>\n",
       "      <th>369</th>\n",
       "      <td>ECO_D35</td>\n",
       "      <td>0.004930</td>\n",
       "    </tr>\n",
       "    <tr>\n",
       "      <th>444</th>\n",
       "      <td>ECO_E20</td>\n",
       "      <td>0.004914</td>\n",
       "    </tr>\n",
       "    <tr>\n",
       "      <th>146</th>\n",
       "      <td>ECO_B03</td>\n",
       "      <td>0.004904</td>\n",
       "    </tr>\n",
       "    <tr>\n",
       "      <th>262</th>\n",
       "      <td>ECO_C25</td>\n",
       "      <td>0.004903</td>\n",
       "    </tr>\n",
       "    <tr>\n",
       "      <th>60</th>\n",
       "      <td>ECO_A10</td>\n",
       "      <td>0.004898</td>\n",
       "    </tr>\n",
       "    <tr>\n",
       "      <th>173</th>\n",
       "      <td>ECO_B30</td>\n",
       "      <td>0.004875</td>\n",
       "    </tr>\n",
       "    <tr>\n",
       "      <th>153</th>\n",
       "      <td>ECO_B10</td>\n",
       "      <td>0.004847</td>\n",
       "    </tr>\n",
       "  </tbody>\n",
       "</table>\n",
       "</div>"
      ],
      "text/plain": [
       "                 Feature Name  Importances\n",
       "6                  TotalMoves     0.031602\n",
       "316                   ECO_C80     0.017044\n",
       "181                   ECO_B38     0.016966\n",
       "374                   ECO_D40     0.013599\n",
       "131                   ECO_A85     0.013064\n",
       "162                   ECO_B19     0.011128\n",
       "7          Termination_Normal     0.010235\n",
       "157                   ECO_B14     0.009075\n",
       "27             TimeControl_30     0.008171\n",
       "99                    ECO_A49     0.007303\n",
       "380                   ECO_D47     0.007127\n",
       "19             TimeControl_15     0.006986\n",
       "109                   ECO_A59     0.006679\n",
       "9    Termination_Time forfeit     0.006650\n",
       "457                   ECO_E34     0.006275\n",
       "435                   ECO_E11     0.006153\n",
       "32            TimeControl_420     0.006130\n",
       "195                   ECO_B52     0.006105\n",
       "163                   ECO_B20     0.006059\n",
       "491                   ECO_E73     0.005982\n",
       "335                   ECO_D01     0.005829\n",
       "110                   ECO_A60     0.005806\n",
       "277                   ECO_C40     0.005747\n",
       "176                   ECO_B33     0.005735\n",
       "385                   ECO_D52     0.005617\n",
       "337                   ECO_D03     0.005484\n",
       "340                   ECO_D06     0.005463\n",
       "478                   ECO_E60     0.005400\n",
       "175                   ECO_B32     0.005394\n",
       "170                   ECO_B27     0.005387\n",
       "271                   ECO_C34     0.005381\n",
       "498                   ECO_E81     0.005374\n",
       "35            TimeControl_480     0.005348\n",
       "354                   ECO_D20     0.005216\n",
       "50                    ECO_A00     0.005197\n",
       "92                    ECO_A42     0.005195\n",
       "22           TimeControl_1800     0.005169\n",
       "33             TimeControl_45     0.005105\n",
       "289                   ECO_C52     0.005054\n",
       "366                   ECO_D32     0.005024\n",
       "72                    ECO_A22     0.004941\n",
       "302                   ECO_C65     0.004941\n",
       "509                   ECO_E94     0.004939\n",
       "369                   ECO_D35     0.004930\n",
       "444                   ECO_E20     0.004914\n",
       "146                   ECO_B03     0.004904\n",
       "262                   ECO_C25     0.004903\n",
       "60                    ECO_A10     0.004898\n",
       "173                   ECO_B30     0.004875\n",
       "153                   ECO_B10     0.004847"
      ]
     },
     "execution_count": 418,
     "metadata": {},
     "output_type": "execute_result"
    }
   ],
   "source": [
    "pd.DataFrame({'Feature Name':X.columns,'Importances':xg_nn.feature_importances_}).sort_values(by='Importances',ascending=False).head(50)"
   ]
  }
 ],
 "metadata": {
  "kernelspec": {
   "display_name": "dev",
   "language": "python",
   "name": "python3"
  },
  "language_info": {
   "codemirror_mode": {
    "name": "ipython",
    "version": 3
   },
   "file_extension": ".py",
   "mimetype": "text/x-python",
   "name": "python",
   "nbconvert_exporter": "python",
   "pygments_lexer": "ipython3",
   "version": "3.10.13"
  }
 },
 "nbformat": 4,
 "nbformat_minor": 2
}
