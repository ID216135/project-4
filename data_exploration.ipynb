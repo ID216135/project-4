{
 "cells": [
  {
   "cell_type": "code",
   "execution_count": 79,
   "metadata": {},
   "outputs": [],
   "source": [
    "# import dependencies\n",
    "import pandas as pd\n",
    "import tensorflow as tf"
   ]
  },
  {
   "cell_type": "code",
   "execution_count": 80,
   "metadata": {},
   "outputs": [],
   "source": [
    "# initialize spark\n",
    "import findspark\n",
    "findspark.init()"
   ]
  },
  {
   "cell_type": "code",
   "execution_count": 81,
   "metadata": {},
   "outputs": [],
   "source": [
    "# import dependencies\n",
    "from pyspark.sql import SparkSession\n",
    "from pyspark import SparkFiles\n",
    "import sklearn as skl"
   ]
  },
  {
   "cell_type": "code",
   "execution_count": 82,
   "metadata": {},
   "outputs": [],
   "source": [
    "# initialize spark session\n",
    "spark = SparkSession.builder.appName('SparkSQL').getOrCreate()"
   ]
  },
  {
   "cell_type": "code",
   "execution_count": 83,
   "metadata": {},
   "outputs": [],
   "source": [
    "# use spark to read in csv to dataframe\n",
    "spark.sparkContext.addFile('games_metadata_profile_2024_01.csv')\n",
    "df = spark.read.csv(SparkFiles.get('games_metadata_profile_2024_01.csv'), header=True, inferSchema= True)"
   ]
  },
  {
   "cell_type": "code",
   "execution_count": 84,
   "metadata": {},
   "outputs": [],
   "source": [
    "# create temporary view / table to use for queries\n",
    "df.createOrReplaceTempView('chess')"
   ]
  },
  {
   "cell_type": "code",
   "execution_count": 85,
   "metadata": {},
   "outputs": [
    {
     "name": "stdout",
     "output_type": "stream",
     "text": [
      "+------+-----------------+-----+--------------------+----------+-------------------+---------------+--------+---------------+----------------+------------------+------------------+-----------------+--------------------+---------------+-----------+--------------------+--------+---------------+----------------+------------------+------------------+-----------------+--------------------+---------------+-----------+--------------------+----------+---+--------------------+-----------+------------+-------+\n",
      "|GameID|            Event|Round|                Site|      Date|               Time|          White|WhiteElo|WhiteRatingDiff|White_is_deleted|White_tosViolation|White_profile_flag|  White_createdAt|White_playTime_total|White_count_all|White_title|               Black|BlackElo|BlackRatingDiff|Black_is_deleted|Black_tosViolation|Black_profile_flag|  Black_createdAt|Black_playTime_total|Black_count_all|Black_title|               Moves|TotalMoves|ECO|             Opening|TimeControl| Termination| Result|\n",
      "+------+-----------------+-----+--------------------+----------+-------------------+---------------+--------+---------------+----------------+------------------+------------------+-----------------+--------------------+---------------+-----------+--------------------+--------+---------------+----------------+------------------+------------------+-----------------+--------------------+---------------+-----------+--------------------+----------+---+--------------------+-----------+------------+-------+\n",
      "|     1| Rated Blitz game|    -|https://lichess.o...|2024.01.01|2024-03-06 00:00:08|         EyalSa|    1550|           -6.0|           false|              NULL|              NULL|1.646943268029E12|           5743321.0|         8428.0|       NULL|          saiyank_24|    1492|            7.0|           false|              NULL|              NULL|1.687320211057E12|           1410838.0|         2700.0|       NULL|1. d4 { [%eval 0....|        54|D06|Queen's Gambit De...|      300+3|Time forfeit|    0-1|\n",
      "|     2|Rated Bullet game|    -|https://lichess.o...|2024.01.01|2024-03-06 00:00:18|      Frogman33|    1082|            9.0|           false|              NULL|                GB|1.521151350955E12|           1395490.0|         3160.0|       NULL|            tausgang|    1155|           -7.0|           false|              NULL|                DE|1.585999445986E12|           2091417.0|         4924.0|       NULL|1. d4 { [%eval 0....|        63|D00|   Queen's Pawn Game|      120+1|Time forfeit|    1-0|\n",
      "|     3| Rated Blitz game|    -|https://lichess.o...|2024.01.01|2024-03-06 00:00:34|     Tomi_Viper|    1593|           -5.0|           false|              NULL|              NULL|1.676814331069E12|            384800.0|          792.0|       NULL|   xiangqishogichess|    1641|            5.0|           false|              NULL|              NULL|1.594783835572E12|           1424148.0|         4085.0|       NULL|1. e4 { [%eval 0....|        52|B10|   Caro-Kann Defense|      300+3|Time forfeit|    0-1|\n",
      "|     4| Rated Rapid game|    -|https://lichess.o...|2024.01.01|2024-03-06 00:01:26|         pony14|    2289|           -5.0|           false|              NULL|              NULL|1.694283583237E12|           1154156.0|         2352.0|       NULL|             Depth25|    2307|            5.0|           false|              NULL|              NULL|1.688278857994E12|           1195075.0|         1772.0|       NULL|1. Nf3 { [%eval 0...|       128|D78|Neo-Grünfeld Defe...|      600+0|      Normal|    0-1|\n",
      "|     5| Rated Rapid game|    -|https://lichess.o...|2024.01.01|2024-03-06 00:02:20|       Niccosan|    1205|            6.0|           false|              NULL|              NULL|1.628263032606E12|            886600.0|         1684.0|       NULL|aymenaymenaymenaymen|    1214|           -6.0|           false|              NULL|              NULL| 1.67381297262E12|            332692.0|          576.0|       NULL|1. e4 { [%eval 0....|        65|B01|Scandinavian Defe...|      600+0|      Normal|    1-0|\n",
      "|     6| Rated Rapid game|    -|https://lichess.o...|2024.01.01|2024-03-06 00:02:59|          bster|    1072|           -7.0|           false|              NULL|              NULL|1.663178334974E12|           1959945.0|         2314.0|       NULL|      GoldVividWater|    1131|            5.0|           false|              NULL|                US|1.701485165763E12|            176110.0|          291.0|       NULL|1. e4 { [%eval 0....|        48|C20|King's Pawn Game:...|     900+10|      Normal|    0-1|\n",
      "|     7| Rated Blitz game|    -|https://lichess.o...|2024.01.01|2024-03-06 00:03:44|  hornitoqueiru|    1997|            5.0|           false|              true|              NULL| 1.62051724426E12|           5698334.0|        21177.0|       NULL|         mrCrescendo|    1971|           -5.0|           false|              NULL|              NULL|1.672165140659E12|           4054499.0|        13703.0|       NULL|1. d4 { [%eval 0....|       109|D00|Queen's Pawn Game...|      180+0|Time forfeit|    1-0|\n",
      "|     8| Rated Blitz game|    -|https://lichess.o...|2024.01.01|2024-03-06 00:04:39|CursedPlayerARG|    1645|           -5.0|           false|              NULL|                AR|1.642818955656E12|           2642148.0|         7284.0|       NULL|       Reda-ivanshik|    1676|            5.0|           false|              NULL|                MA| 1.59363108531E12|           2045771.0|         4086.0|       NULL|1. d4 { [%eval 0....|        46|D06|Queen's Gambit De...|      180+2|Time forfeit|    0-1|\n",
      "|     9| Rated Blitz game|    -|https://lichess.o...|2024.01.01|2024-03-06 00:05:32|      Hafidinho|    1513|           -5.0|           false|              NULL|              NULL|1.589239731829E12|           3305856.0|         7221.0|       NULL|       WrathChess666|    1513|            6.0|           false|              NULL|              NULL| 1.65853000623E12|           2513015.0|         6405.0|       NULL|1. e4 { [%eval 0....|       136|C42|        Russian Game|      300+0|Time forfeit|    0-1|\n",
      "|    10| Rated Blitz game|    -|https://lichess.o...|2024.01.01|2024-03-06 00:06:20|        Bieitom|    1433|           -1.0|           false|              NULL|              NULL|1.647445464682E12|           1347439.0|         3334.0|       NULL|          rubelowsky|    1381|            1.0|           false|              NULL|              NULL| 1.64916726055E12|           1231681.0|         2505.0|       NULL|1. d4 { [%eval 0....|       132|D15|Slav Defense: Thr...|      300+0|      Normal|1/2-1/2|\n",
      "|    11| Rated Rapid game|    -|https://lichess.o...|2024.01.01|2024-03-06 00:07:25|      engynaeem|    1661|            5.0|           false|              NULL|              NULL| 1.68098051114E12|            523520.0|         1015.0|       NULL|          Saif132004|    1638|          -21.0|           false|              NULL|              NULL|1.609027645257E12|            376552.0|          797.0|       NULL|1. d4 { [%eval 0....|       171|D01|Rapport-Jobava Sy...|      600+0|      Normal|    1-0|\n",
      "|    12| Rated Rapid game|    -|https://lichess.o...|2024.01.01|2024-03-06 00:09:06|       YurDenis|    1660|           -5.0|           false|              NULL|   _united-nations|1.543439485792E12|           7372367.0|        13436.0|       NULL|              BAczel|    1675|            6.0|           false|              NULL|                HU|1.617123278996E12|           2125591.0|         8260.0|       NULL|1. e4 { [%eval 0....|        84|C34|King's Gambit Acc...|      600+0|Time forfeit|    0-1|\n",
      "|    13| Rated Rapid game|    -|https://lichess.o...|2024.01.01|2024-03-06 00:10:04|       Avispa67|    2018|           -4.0|           false|              NULL|                ES|1.587413682122E12|           4756418.0|         3032.0|       NULL|             yancos2|    2120|            5.0|           false|              true|              NULL|1.687253030653E12|            142646.0|          146.0|       NULL|1. d4 { [%eval 0....|        34|E51|Nimzo-Indian Defe...|     900+10|      Normal|    0-1|\n",
      "|    14| Rated Blitz game|    -|https://lichess.o...|2024.01.01|2024-03-06 00:10:25|          R-Neo|    1978|           87.0|            true|              NULL|              NULL|             NULL|                NULL|           NULL|       NULL|         Rocambole12|    2015|           -6.0|           false|              NULL|              NULL|1.562894900187E12|           4650403.0|        16545.0|       NULL|1. e4 { [%eval 0....|        45|B47|Sicilian Defense:...|      180+0|      Normal|    1-0|\n",
      "|    15|Rated Bullet game|    -|https://lichess.o...|2024.01.01|2024-03-06 00:10:27|     AAArmstark|    2451|            7.0|           false|              NULL|              NULL|1.689182226861E12|            857599.0|        10468.0|       NULL|               dabee|    2534|           -7.0|           false|              NULL|                NG| 1.44356813993E12|         1.2915626E7|        76372.0|         FM|1. c4 { [%eval 0....|        51|A36|English Opening: ...|       60+0|      Normal|    1-0|\n",
      "|    16| Rated Blitz game|    -|https://lichess.o...|2024.01.01|2024-03-06 00:11:49|        Nagib23|    1270|            5.0|           false|              NULL|              NULL|1.699629055917E12|            117946.0|          458.0|       NULL|         drunkPanzer|    1260|           -5.0|           false|              NULL|              NULL|1.642459793526E12|           2046867.0|         3865.0|       NULL|1. d4 { [%eval 0....|        51|E21|Nimzo-Indian Defe...|      180+2|      Normal|    1-0|\n",
      "|    17|Rated Bullet game|    -|https://lichess.o...|2024.01.01|2024-03-06 00:13:20|    chess2021zz|    2023|           -6.0|           false|              NULL|              NULL|1.620235391973E12|           1370054.0|         9900.0|       NULL|         mookiavelli|    2003|            6.0|           false|              NULL|              NULL|1.659157397534E12|           5052770.0|        27846.0|       NULL|1. d4 { [%eval 0....|        48|D02|Queen's Pawn Game...|       60+0|      Normal|    0-1|\n",
      "|    18|Rated Bullet game|    -|https://lichess.o...|2024.01.01|2024-03-06 00:13:29| daniel_mrdkvch|    1488|            5.0|           false|              NULL|                ES| 1.61476323518E12|           1734898.0|         4092.0|       NULL|          neset_2014|    1426|           -5.0|           false|              NULL|              NULL|1.538170099181E12|         1.9732568E7|        59703.0|       NULL|1. d4 { [%eval 0....|        75|A40|     English Defense|       60+0|Time forfeit|    1-0|\n",
      "|    19| Rated Blitz game|    -|https://lichess.o...|2024.01.01|2024-03-06 00:12:47|       heubueno|    1112|           -5.0|           false|              NULL|              NULL|1.594605454812E12|           1377167.0|         2821.0|       NULL|      jakmatasegurat|    1150|            5.0|           false|              NULL|              NULL| 1.59692835684E12|            808589.0|         2007.0|       NULL|1. Nf3 { [%eval 0...|        98|A05|King's Indian Attack|      180+2|      Normal|    0-1|\n",
      "|    20| Rated Blitz game|    -|https://lichess.o...|2024.01.01|2024-03-06 00:13:34|      WHATSYOUR|    1399|           -7.0|           false|              NULL|              NULL|1.642760380656E12|            471054.0|         2097.0|       NULL|              Ali_R7|    1317|            7.0|           false|              NULL|              NULL|1.701957884741E12|            127115.0|          580.0|       NULL|1. e4 { [%eval 0....|        50|B30|Sicilian Defense:...|      180+0|      Normal|    0-1|\n",
      "+------+-----------------+-----+--------------------+----------+-------------------+---------------+--------+---------------+----------------+------------------+------------------+-----------------+--------------------+---------------+-----------+--------------------+--------+---------------+----------------+------------------+------------------+-----------------+--------------------+---------------+-----------+--------------------+----------+---+--------------------+-----------+------------+-------+\n",
      "only showing top 20 rows\n",
      "\n"
     ]
    }
   ],
   "source": [
    "# view dataframe\n",
    "df.show()"
   ]
  },
  {
   "cell_type": "code",
   "execution_count": 86,
   "metadata": {},
   "outputs": [],
   "source": [
    "# select relevant columns of data and save as pandas dataframe\n",
    "data = spark.sql(\n",
    "    '''\n",
    "SELECT WhiteElo, White_playTime_total, White_count_all, BlackElo, Black_playTime_total, Black_count_all, TotalMoves,\n",
    "Result from chess\n",
    "WHERE Result != '*'\n",
    "'''\n",
    ").toPandas()"
   ]
  },
  {
   "cell_type": "code",
   "execution_count": 87,
   "metadata": {},
   "outputs": [],
   "source": [
    "# drop null values\n",
    "data.dropna(inplace=True)"
   ]
  },
  {
   "cell_type": "code",
   "execution_count": 88,
   "metadata": {},
   "outputs": [],
   "source": [
    "# create features exploring the differences in white versus black to use in prediction model\n",
    "data['Rating Difference'] = data['WhiteElo'] - data['BlackElo']\n",
    "data['Playtime Difference'] = data['White_playTime_total'] - data['Black_playTime_total']\n",
    "data['Games Played Difference'] = data['White_count_all'] - data['Black_count_all']\n",
    "data['White Average Playtime'] = data['White_playTime_total']/data['White_count_all']\n",
    "data['Black Average Playtime'] = data['Black_playTime_total']/data['Black_count_all']\n",
    "data['Average Playtime Difference'] = data['White Average Playtime'] - data['Black Average Playtime']"
   ]
  },
  {
   "cell_type": "code",
   "execution_count": 89,
   "metadata": {},
   "outputs": [
    {
     "data": {
      "image/png": "[encoded data removed]",
      "text/plain": [
       "<Figure size 640x480 with 1 Axes>"
      ]
     },
     "metadata": {},
     "output_type": "display_data"
    }
   ],
   "source": [
    "# create boxplot to explore difference between white and black victories with regard to total moves made\n",
    "import seaborn as sns\n",
    "sns.set_style(\"whitegrid\")\n",
    "tips = sns.load_dataset(\"tips\")\n",
    "ax = sns.boxplot(x=data['Result'], y=data['TotalMoves'])"
   ]
  },
  {
   "cell_type": "code",
   "execution_count": 90,
   "metadata": {},
   "outputs": [
    {
     "data": {
      "text/plain": [
       "(-10000000.0, 10000000.0)"
      ]
     },
     "execution_count": 90,
     "metadata": {},
     "output_type": "execute_result"
    },
    {
     "data": {
      "image/png": "[encoded data removed]",
      "text/plain": [
       "<Figure size 640x480 with 1 Axes>"
      ]
     },
     "metadata": {},
     "output_type": "display_data"
    }
   ],
   "source": [
    "# create boxplot to explore difference between white and black victories with regard to difference in playtime\n",
    "sns.set_style(\"whitegrid\")\n",
    "tips = sns.load_dataset(\"tips\")\n",
    "ax = sns.boxplot(x=data['Result'], y=data['Playtime Difference'])\n",
    "ax.set_ylim(bottom = -10000000, top = 10000000)"
   ]
  },
  {
   "cell_type": "code",
   "execution_count": 91,
   "metadata": {},
   "outputs": [
    {
     "data": {
      "text/plain": [
       "(-30000.0, 30000.0)"
      ]
     },
     "execution_count": 91,
     "metadata": {},
     "output_type": "execute_result"
    },
    {
     "data": {
      "image/png": "[encoded data removed]",
      "text/plain": [
       "<Figure size 640x480 with 1 Axes>"
      ]
     },
     "metadata": {},
     "output_type": "display_data"
    }
   ],
   "source": [
    "# create boxplot to explore difference between white and black victories with regard to number of games played\n",
    "sns.set_style(\"whitegrid\")\n",
    "tips = sns.load_dataset(\"tips\")\n",
    "ax = sns.boxplot(x=data['Result'], y=data['Games Played Difference'])\n",
    "ax.set_ylim(bottom = -30000, top = 30000)"
   ]
  },
  {
   "cell_type": "code",
   "execution_count": 92,
   "metadata": {},
   "outputs": [
    {
     "data": {
      "text/plain": [
       "(-200.0, 200.0)"
      ]
     },
     "execution_count": 92,
     "metadata": {},
     "output_type": "execute_result"
    },
    {
     "data": {
      "image/png": "[encoded data removed]",
      "text/plain": [
       "<Figure size 640x480 with 1 Axes>"
      ]
     },
     "metadata": {},
     "output_type": "display_data"
    }
   ],
   "source": [
    "# create boxplot to explore difference between white and black victories with regard to difference in how the players are rated\n",
    "sns.set_style(\"whitegrid\")\n",
    "tips = sns.load_dataset(\"tips\")\n",
    "ax = sns.boxplot(x=data['Result'], y=data['Rating Difference'])\n",
    "ax.set_ylim(bottom = -200, top = 200)"
   ]
  },
  {
   "cell_type": "code",
   "execution_count": 93,
   "metadata": {},
   "outputs": [
    {
     "data": {
      "text/plain": [
       "(-600.0, 600.0)"
      ]
     },
     "execution_count": 93,
     "metadata": {},
     "output_type": "execute_result"
    },
    {
     "data": {
      "image/png": "[encoded data removed]",
      "text/plain": [
       "<Figure size 640x480 with 1 Axes>"
      ]
     },
     "metadata": {},
     "output_type": "display_data"
    }
   ],
   "source": [
    "# create boxplot to explore difference between white and black victories with regard to average difference in playtime\n",
    "sns.set_style(\"whitegrid\")\n",
    "tips = sns.load_dataset(\"tips\")\n",
    "ax = sns.boxplot(x=data['Result'], y=data['Average Playtime Difference'])\n",
    "ax.set_ylim(bottom = -600, top = 600)"
   ]
  },
  {
   "cell_type": "code",
   "execution_count": 94,
   "metadata": {},
   "outputs": [],
   "source": [
    "# drop features that are not categorical\n",
    "data.drop(['WhiteElo','BlackElo','White_count_all','Black_count_all','White_playTime_total','Black_playTime_total'],axis=1,inplace=True)"
   ]
  },
  {
   "cell_type": "code",
   "execution_count": 95,
   "metadata": {},
   "outputs": [],
   "source": [
    "# dummy encode the categorical data and sort into target and features\n",
    "y = pd.get_dummies(data['Result'])\n",
    "X = pd.get_dummies(data.drop('Result', axis=1))"
   ]
  },
  {
   "cell_type": "code",
   "execution_count": 96,
   "metadata": {},
   "outputs": [],
   "source": [
    "# split the data into training and testing data\n",
    "from sklearn.model_selection import train_test_split\n",
    "X_train, X_test, y_train, y_test = train_test_split(X, y, random_state=78)"
   ]
  },
  {
   "cell_type": "code",
   "execution_count": 97,
   "metadata": {},
   "outputs": [],
   "source": [
    "from sklearn.preprocessing import StandardScaler\n",
    "# Create a StandardScaler instances\n",
    "scaler = StandardScaler()\n",
    "\n",
    "# Fit the StandardScaler\n",
    "X_scaler = scaler.fit(X_train)\n",
    "\n",
    "# Scale the data\n",
    "X_train_scaled = X_scaler.transform(X_train)\n",
    "X_test_scaled = X_scaler.transform(X_test)"
   ]
  },
  {
   "cell_type": "markdown",
   "metadata": {},
   "source": [
    "## Random Forest"
   ]
  },
  {
   "cell_type": "code",
   "execution_count": 34,
   "metadata": {},
   "outputs": [],
   "source": [
    "# initiate a random forest model\n",
    "from sklearn.ensemble import RandomForestClassifier\n",
    "rf_model = RandomForestClassifier(n_estimators=512, random_state=78)"
   ]
  },
  {
   "cell_type": "code",
   "execution_count": 35,
   "metadata": {},
   "outputs": [],
   "source": [
    "# train the model with training data\n",
    "rf_model = rf_model.fit(X_train_scaled, y_train)"
   ]
  },
  {
   "cell_type": "code",
   "execution_count": 36,
   "metadata": {},
   "outputs": [],
   "source": [
    "# Making predictions using the testing data\n",
    "predictions = rf_model.predict(X_test_scaled)"
   ]
  },
  {
   "cell_type": "code",
   "execution_count": 40,
   "metadata": {},
   "outputs": [],
   "source": [
    "# Calculating the confusion matrix\n",
    "from sklearn.metrics import accuracy_score, classification_report\n",
    "\n",
    "# Calculating the accuracy score\n",
    "acc_score = accuracy_score(y_test, predictions)"
   ]
  },
  {
   "cell_type": "code",
   "execution_count": 42,
   "metadata": {},
   "outputs": [
    {
     "name": "stdout",
     "output_type": "stream",
     "text": [
      "Accuracy Score : 0.6016040227873078\n",
      "Classification Report\n",
      "              precision    recall  f1-score   support\n",
      "\n",
      "  Black Wins       0.67      0.57      0.62     14516\n",
      "  White Wins       0.68      0.67      0.67     15841\n",
      "        Draw       0.00      0.00      0.00      1064\n",
      "\n",
      "   micro avg       0.67      0.60      0.64     31421\n",
      "   macro avg       0.45      0.41      0.43     31421\n",
      "weighted avg       0.65      0.60      0.62     31421\n",
      " samples avg       0.60      0.60      0.60     31421\n",
      "\n"
     ]
    },
    {
     "name": "stderr",
     "output_type": "stream",
     "text": [
      "c:\\Users\\Ian\\anaconda3\\envs\\dev\\lib\\site-packages\\sklearn\\metrics\\_classification.py:1344: UndefinedMetricWarning: Precision and F-score are ill-defined and being set to 0.0 in samples with no predicted labels. Use `zero_division` parameter to control this behavior.\n",
      "  _warn_prf(average, modifier, msg_start, len(result))\n"
     ]
    }
   ],
   "source": [
    "# Displaying results\n",
    "print(f\"Accuracy Score : {acc_score}\")\n",
    "print(\"Classification Report\")\n",
    "print(classification_report(y_test, predictions, target_names=['Black Wins', 'White Wins', 'Draw']))"
   ]
  },
  {
   "cell_type": "code",
   "execution_count": 43,
   "metadata": {},
   "outputs": [
    {
     "data": {
      "text/plain": [
       "[(0.19507156071721687, 'TotalMoves'),\n",
       " (0.14279263196713235, 'Playtime Difference'),\n",
       " (0.13946888783574055, 'Games Played Difference'),\n",
       " (0.132768463350627, 'Rating Difference'),\n",
       " (0.13144882239692643, 'Average Playtime Difference'),\n",
       " (0.12963849311032632, 'White Average Playtime'),\n",
       " (0.12881114062203056, 'Black Average Playtime')]"
      ]
     },
     "execution_count": 43,
     "metadata": {},
     "output_type": "execute_result"
    }
   ],
   "source": [
    "# Random Forests in sklearn will automatically calculate feature importance\n",
    "importances = rf_model.feature_importances_\n",
    "# We can sort the features by their importance\n",
    "sorted(zip(importances, X.columns), reverse=True)"
   ]
  },
  {
   "cell_type": "markdown",
   "metadata": {},
   "source": [
    "## Sequential NN Model"
   ]
  },
  {
   "cell_type": "code",
   "execution_count": 98,
   "metadata": {},
   "outputs": [
    {
     "name": "stdout",
     "output_type": "stream",
     "text": [
      "Model: \"sequential_1\"\n",
      "_________________________________________________________________\n",
      " Layer (type)                Output Shape              Param #   \n",
      "=================================================================\n",
      " dense_5 (Dense)             (None, 256)               2048      \n",
      "                                                                 \n",
      " dense_6 (Dense)             (None, 64)                16448     \n",
      "                                                                 \n",
      " dense_7 (Dense)             (None, 64)                4160      \n",
      "                                                                 \n",
      " dense_8 (Dense)             (None, 64)                4160      \n",
      "                                                                 \n",
      " dense_9 (Dense)             (None, 3)                 195       \n",
      "                                                                 \n",
      "=================================================================\n",
      "Total params: 27011 (105.51 KB)\n",
      "Trainable params: 27011 (105.51 KB)\n",
      "Non-trainable params: 0 (0.00 Byte)\n",
      "_________________________________________________________________\n"
     ]
    }
   ],
   "source": [
    "# Define the model - deep neural net\n",
    "number_input_features = len(X_train.columns)\n",
    "\n",
    "nn = tf.keras.models.Sequential()\n",
    "\n",
    "# First hidden layer\n",
    "nn.add(\n",
    "    tf.keras.layers.Dense(units=256, input_dim=number_input_features, activation=\"relu\")\n",
    ")\n",
    "\n",
    "# Second hidden layer\n",
    "nn.add(tf.keras.layers.Dense(units=64, activation=\"relu\"))\n",
    "\n",
    "nn.add(tf.keras.layers.Dense(units=64, activation=\"relu\"))\n",
    "\n",
    "nn.add(tf.keras.layers.Dense(units=64, activation=\"relu\"))\n",
    "\n",
    "# Output layer\n",
    "nn.add(tf.keras.layers.Dense(units=3, activation=\"softmax\"))\n",
    "\n",
    "# Check the structure of the model\n",
    "nn.summary()"
   ]
  },
  {
   "cell_type": "code",
   "execution_count": 24,
   "metadata": {},
   "outputs": [
    {
     "name": "stdout",
     "output_type": "stream",
     "text": [
      "WARNING:tensorflow:From c:\\Users\\Ian\\anaconda3\\envs\\dev\\lib\\site-packages\\keras\\src\\optimizers\\__init__.py:309: The name tf.train.Optimizer is deprecated. Please use tf.compat.v1.train.Optimizer instead.\n",
      "\n"
     ]
    }
   ],
   "source": [
    "nn.compile(loss=\"CategoricalCrossentropy\", optimizer=\"adam\", metrics=[\"accuracy\"])"
   ]
  },
  {
   "cell_type": "code",
   "execution_count": 25,
   "metadata": {},
   "outputs": [
    {
     "name": "stdout",
     "output_type": "stream",
     "text": [
      "Epoch 1/100\n",
      "WARNING:tensorflow:From c:\\Users\\Ian\\anaconda3\\envs\\dev\\lib\\site-packages\\keras\\src\\utils\\tf_utils.py:492: The name tf.ragged.RaggedTensorValue is deprecated. Please use tf.compat.v1.ragged.RaggedTensorValue instead.\n",
      "\n",
      "WARNING:tensorflow:From c:\\Users\\Ian\\anaconda3\\envs\\dev\\lib\\site-packages\\keras\\src\\engine\\base_layer_utils.py:384: The name tf.executing_eagerly_outside_functions is deprecated. Please use tf.compat.v1.executing_eagerly_outside_functions instead.\n",
      "\n",
      "2946/2946 [==============================] - 3s 775us/step - loss: 0.7831 - accuracy: 0.5560\n",
      "Epoch 2/100\n",
      "2946/2946 [==============================] - 2s 761us/step - loss: 0.7707 - accuracy: 0.5691\n",
      "Epoch 3/100\n",
      "2946/2946 [==============================] - 2s 758us/step - loss: 0.7674 - accuracy: 0.5745\n",
      "Epoch 4/100\n",
      "2946/2946 [==============================] - 2s 774us/step - loss: 0.7649 - accuracy: 0.5765\n",
      "Epoch 5/100\n",
      "2946/2946 [==============================] - 2s 770us/step - loss: 0.7623 - accuracy: 0.5799\n",
      "Epoch 6/100\n",
      "2946/2946 [==============================] - 2s 750us/step - loss: 0.7604 - accuracy: 0.5807\n",
      "Epoch 7/100\n",
      "2946/2946 [==============================] - 2s 754us/step - loss: 0.7592 - accuracy: 0.5827\n",
      "Epoch 8/100\n",
      "2946/2946 [==============================] - 2s 770us/step - loss: 0.7576 - accuracy: 0.5853\n",
      "Epoch 9/100\n",
      "2946/2946 [==============================] - 2s 747us/step - loss: 0.7564 - accuracy: 0.5851\n",
      "Epoch 10/100\n",
      "2946/2946 [==============================] - 2s 756us/step - loss: 0.7558 - accuracy: 0.5855\n",
      "Epoch 11/100\n",
      "2946/2946 [==============================] - 2s 755us/step - loss: 0.7550 - accuracy: 0.5877\n",
      "Epoch 12/100\n",
      "2946/2946 [==============================] - 2s 748us/step - loss: 0.7537 - accuracy: 0.5873\n",
      "Epoch 13/100\n",
      "2946/2946 [==============================] - 2s 751us/step - loss: 0.7531 - accuracy: 0.5873\n",
      "Epoch 14/100\n",
      "2946/2946 [==============================] - 2s 735us/step - loss: 0.7527 - accuracy: 0.5875\n",
      "Epoch 15/100\n",
      "2946/2946 [==============================] - 2s 748us/step - loss: 0.7518 - accuracy: 0.5892\n",
      "Epoch 16/100\n",
      "2946/2946 [==============================] - 2s 741us/step - loss: 0.7513 - accuracy: 0.5886\n",
      "Epoch 17/100\n",
      "2946/2946 [==============================] - 2s 766us/step - loss: 0.7501 - accuracy: 0.5923\n",
      "Epoch 18/100\n",
      "2946/2946 [==============================] - 2s 787us/step - loss: 0.7505 - accuracy: 0.5903\n",
      "Epoch 19/100\n",
      "2946/2946 [==============================] - 2s 761us/step - loss: 0.7490 - accuracy: 0.5913\n",
      "Epoch 20/100\n",
      "2946/2946 [==============================] - 2s 750us/step - loss: 0.7487 - accuracy: 0.5915\n",
      "Epoch 21/100\n",
      "2946/2946 [==============================] - 2s 755us/step - loss: 0.7484 - accuracy: 0.5922\n",
      "Epoch 22/100\n",
      "2946/2946 [==============================] - 2s 742us/step - loss: 0.7475 - accuracy: 0.5939\n",
      "Epoch 23/100\n",
      "2946/2946 [==============================] - 2s 769us/step - loss: 0.7468 - accuracy: 0.5938\n",
      "Epoch 24/100\n",
      "2946/2946 [==============================] - 2s 756us/step - loss: 0.7461 - accuracy: 0.5945\n",
      "Epoch 25/100\n",
      "2946/2946 [==============================] - 2s 754us/step - loss: 0.7453 - accuracy: 0.5966\n",
      "Epoch 26/100\n",
      "2946/2946 [==============================] - 2s 760us/step - loss: 0.7450 - accuracy: 0.5948\n",
      "Epoch 27/100\n",
      "2946/2946 [==============================] - 2s 763us/step - loss: 0.7441 - accuracy: 0.5955\n",
      "Epoch 28/100\n",
      "2946/2946 [==============================] - 2s 758us/step - loss: 0.7436 - accuracy: 0.5950\n",
      "Epoch 29/100\n",
      "2946/2946 [==============================] - 2s 763us/step - loss: 0.7428 - accuracy: 0.5971\n",
      "Epoch 30/100\n",
      "2946/2946 [==============================] - 2s 772us/step - loss: 0.7428 - accuracy: 0.5971\n",
      "Epoch 31/100\n",
      "2946/2946 [==============================] - 2s 759us/step - loss: 0.7411 - accuracy: 0.5982\n",
      "Epoch 32/100\n",
      "2946/2946 [==============================] - 2s 787us/step - loss: 0.7412 - accuracy: 0.5994\n",
      "Epoch 33/100\n",
      "2946/2946 [==============================] - 2s 757us/step - loss: 0.7404 - accuracy: 0.5994\n",
      "Epoch 34/100\n",
      "2946/2946 [==============================] - 2s 759us/step - loss: 0.7397 - accuracy: 0.5997\n",
      "Epoch 35/100\n",
      "2946/2946 [==============================] - 2s 766us/step - loss: 0.7396 - accuracy: 0.5983\n",
      "Epoch 36/100\n",
      "2946/2946 [==============================] - 2s 772us/step - loss: 0.7392 - accuracy: 0.5989\n",
      "Epoch 37/100\n",
      "2946/2946 [==============================] - 2s 788us/step - loss: 0.7378 - accuracy: 0.5997\n",
      "Epoch 38/100\n",
      "2946/2946 [==============================] - 2s 760us/step - loss: 0.7376 - accuracy: 0.5996\n",
      "Epoch 39/100\n",
      "2946/2946 [==============================] - 2s 782us/step - loss: 0.7367 - accuracy: 0.6006\n",
      "Epoch 40/100\n",
      " 787/2946 [=======>......................] - ETA: 1s - loss: 0.7297 - accuracy: 0.6040"
     ]
    },
    {
     "ename": "KeyboardInterrupt",
     "evalue": "",
     "output_type": "error",
     "traceback": [
      "\u001b[1;31m---------------------------------------------------------------------------\u001b[0m",
      "\u001b[1;31mKeyboardInterrupt\u001b[0m                         Traceback (most recent call last)",
      "Cell \u001b[1;32mIn[25], line 1\u001b[0m\n\u001b[1;32m----> 1\u001b[0m fit_model \u001b[38;5;241m=\u001b[39m \u001b[43mnn\u001b[49m\u001b[38;5;241;43m.\u001b[39;49m\u001b[43mfit\u001b[49m\u001b[43m(\u001b[49m\u001b[43mX_train_scaled\u001b[49m\u001b[43m,\u001b[49m\u001b[43my_train\u001b[49m\u001b[43m,\u001b[49m\u001b[43mepochs\u001b[49m\u001b[38;5;241;43m=\u001b[39;49m\u001b[38;5;241;43m100\u001b[39;49m\u001b[43m)\u001b[49m\n",
      "File \u001b[1;32mc:\\Users\\Ian\\anaconda3\\envs\\dev\\lib\\site-packages\\keras\\src\\utils\\traceback_utils.py:65\u001b[0m, in \u001b[0;36mfilter_traceback.<locals>.error_handler\u001b[1;34m(*args, **kwargs)\u001b[0m\n\u001b[0;32m     63\u001b[0m filtered_tb \u001b[38;5;241m=\u001b[39m \u001b[38;5;28;01mNone\u001b[39;00m\n\u001b[0;32m     64\u001b[0m \u001b[38;5;28;01mtry\u001b[39;00m:\n\u001b[1;32m---> 65\u001b[0m     \u001b[38;5;28;01mreturn\u001b[39;00m fn(\u001b[38;5;241m*\u001b[39margs, \u001b[38;5;241m*\u001b[39m\u001b[38;5;241m*\u001b[39mkwargs)\n\u001b[0;32m     66\u001b[0m \u001b[38;5;28;01mexcept\u001b[39;00m \u001b[38;5;167;01mException\u001b[39;00m \u001b[38;5;28;01mas\u001b[39;00m e:\n\u001b[0;32m     67\u001b[0m     filtered_tb \u001b[38;5;241m=\u001b[39m _process_traceback_frames(e\u001b[38;5;241m.\u001b[39m__traceback__)\n",
      "File \u001b[1;32mc:\\Users\\Ian\\anaconda3\\envs\\dev\\lib\\site-packages\\keras\\src\\engine\\training.py:1807\u001b[0m, in \u001b[0;36mModel.fit\u001b[1;34m(self, x, y, batch_size, epochs, verbose, callbacks, validation_split, validation_data, shuffle, class_weight, sample_weight, initial_epoch, steps_per_epoch, validation_steps, validation_batch_size, validation_freq, max_queue_size, workers, use_multiprocessing)\u001b[0m\n\u001b[0;32m   1799\u001b[0m \u001b[38;5;28;01mwith\u001b[39;00m tf\u001b[38;5;241m.\u001b[39mprofiler\u001b[38;5;241m.\u001b[39mexperimental\u001b[38;5;241m.\u001b[39mTrace(\n\u001b[0;32m   1800\u001b[0m     \u001b[38;5;124m\"\u001b[39m\u001b[38;5;124mtrain\u001b[39m\u001b[38;5;124m\"\u001b[39m,\n\u001b[0;32m   1801\u001b[0m     epoch_num\u001b[38;5;241m=\u001b[39mepoch,\n\u001b[1;32m   (...)\u001b[0m\n\u001b[0;32m   1804\u001b[0m     _r\u001b[38;5;241m=\u001b[39m\u001b[38;5;241m1\u001b[39m,\n\u001b[0;32m   1805\u001b[0m ):\n\u001b[0;32m   1806\u001b[0m     callbacks\u001b[38;5;241m.\u001b[39mon_train_batch_begin(step)\n\u001b[1;32m-> 1807\u001b[0m     tmp_logs \u001b[38;5;241m=\u001b[39m \u001b[38;5;28;43mself\u001b[39;49m\u001b[38;5;241;43m.\u001b[39;49m\u001b[43mtrain_function\u001b[49m\u001b[43m(\u001b[49m\u001b[43miterator\u001b[49m\u001b[43m)\u001b[49m\n\u001b[0;32m   1808\u001b[0m     \u001b[38;5;28;01mif\u001b[39;00m data_handler\u001b[38;5;241m.\u001b[39mshould_sync:\n\u001b[0;32m   1809\u001b[0m         context\u001b[38;5;241m.\u001b[39masync_wait()\n",
      "File \u001b[1;32mc:\\Users\\Ian\\anaconda3\\envs\\dev\\lib\\site-packages\\tensorflow\\python\\util\\traceback_utils.py:150\u001b[0m, in \u001b[0;36mfilter_traceback.<locals>.error_handler\u001b[1;34m(*args, **kwargs)\u001b[0m\n\u001b[0;32m    148\u001b[0m filtered_tb \u001b[38;5;241m=\u001b[39m \u001b[38;5;28;01mNone\u001b[39;00m\n\u001b[0;32m    149\u001b[0m \u001b[38;5;28;01mtry\u001b[39;00m:\n\u001b[1;32m--> 150\u001b[0m   \u001b[38;5;28;01mreturn\u001b[39;00m fn(\u001b[38;5;241m*\u001b[39margs, \u001b[38;5;241m*\u001b[39m\u001b[38;5;241m*\u001b[39mkwargs)\n\u001b[0;32m    151\u001b[0m \u001b[38;5;28;01mexcept\u001b[39;00m \u001b[38;5;167;01mException\u001b[39;00m \u001b[38;5;28;01mas\u001b[39;00m e:\n\u001b[0;32m    152\u001b[0m   filtered_tb \u001b[38;5;241m=\u001b[39m _process_traceback_frames(e\u001b[38;5;241m.\u001b[39m__traceback__)\n",
      "File \u001b[1;32mc:\\Users\\Ian\\anaconda3\\envs\\dev\\lib\\site-packages\\tensorflow\\python\\eager\\polymorphic_function\\polymorphic_function.py:832\u001b[0m, in \u001b[0;36mFunction.__call__\u001b[1;34m(self, *args, **kwds)\u001b[0m\n\u001b[0;32m    829\u001b[0m compiler \u001b[38;5;241m=\u001b[39m \u001b[38;5;124m\"\u001b[39m\u001b[38;5;124mxla\u001b[39m\u001b[38;5;124m\"\u001b[39m \u001b[38;5;28;01mif\u001b[39;00m \u001b[38;5;28mself\u001b[39m\u001b[38;5;241m.\u001b[39m_jit_compile \u001b[38;5;28;01melse\u001b[39;00m \u001b[38;5;124m\"\u001b[39m\u001b[38;5;124mnonXla\u001b[39m\u001b[38;5;124m\"\u001b[39m\n\u001b[0;32m    831\u001b[0m \u001b[38;5;28;01mwith\u001b[39;00m OptionalXlaContext(\u001b[38;5;28mself\u001b[39m\u001b[38;5;241m.\u001b[39m_jit_compile):\n\u001b[1;32m--> 832\u001b[0m   result \u001b[38;5;241m=\u001b[39m \u001b[38;5;28mself\u001b[39m\u001b[38;5;241m.\u001b[39m_call(\u001b[38;5;241m*\u001b[39margs, \u001b[38;5;241m*\u001b[39m\u001b[38;5;241m*\u001b[39mkwds)\n\u001b[0;32m    834\u001b[0m new_tracing_count \u001b[38;5;241m=\u001b[39m \u001b[38;5;28mself\u001b[39m\u001b[38;5;241m.\u001b[39mexperimental_get_tracing_count()\n\u001b[0;32m    835\u001b[0m without_tracing \u001b[38;5;241m=\u001b[39m (tracing_count \u001b[38;5;241m==\u001b[39m new_tracing_count)\n",
      "File \u001b[1;32mc:\\Users\\Ian\\anaconda3\\envs\\dev\\lib\\site-packages\\tensorflow\\python\\eager\\polymorphic_function\\polymorphic_function.py:868\u001b[0m, in \u001b[0;36mFunction._call\u001b[1;34m(self, *args, **kwds)\u001b[0m\n\u001b[0;32m    865\u001b[0m   \u001b[38;5;28mself\u001b[39m\u001b[38;5;241m.\u001b[39m_lock\u001b[38;5;241m.\u001b[39mrelease()\n\u001b[0;32m    866\u001b[0m   \u001b[38;5;66;03m# In this case we have created variables on the first call, so we run the\u001b[39;00m\n\u001b[0;32m    867\u001b[0m   \u001b[38;5;66;03m# defunned version which is guaranteed to never create variables.\u001b[39;00m\n\u001b[1;32m--> 868\u001b[0m   \u001b[38;5;28;01mreturn\u001b[39;00m \u001b[43mtracing_compilation\u001b[49m\u001b[38;5;241;43m.\u001b[39;49m\u001b[43mcall_function\u001b[49m\u001b[43m(\u001b[49m\n\u001b[0;32m    869\u001b[0m \u001b[43m      \u001b[49m\u001b[43margs\u001b[49m\u001b[43m,\u001b[49m\u001b[43m \u001b[49m\u001b[43mkwds\u001b[49m\u001b[43m,\u001b[49m\u001b[43m \u001b[49m\u001b[38;5;28;43mself\u001b[39;49m\u001b[38;5;241;43m.\u001b[39;49m\u001b[43m_no_variable_creation_config\u001b[49m\n\u001b[0;32m    870\u001b[0m \u001b[43m  \u001b[49m\u001b[43m)\u001b[49m\n\u001b[0;32m    871\u001b[0m \u001b[38;5;28;01melif\u001b[39;00m \u001b[38;5;28mself\u001b[39m\u001b[38;5;241m.\u001b[39m_variable_creation_config \u001b[38;5;129;01mis\u001b[39;00m \u001b[38;5;129;01mnot\u001b[39;00m \u001b[38;5;28;01mNone\u001b[39;00m:\n\u001b[0;32m    872\u001b[0m   \u001b[38;5;66;03m# Release the lock early so that multiple threads can perform the call\u001b[39;00m\n\u001b[0;32m    873\u001b[0m   \u001b[38;5;66;03m# in parallel.\u001b[39;00m\n\u001b[0;32m    874\u001b[0m   \u001b[38;5;28mself\u001b[39m\u001b[38;5;241m.\u001b[39m_lock\u001b[38;5;241m.\u001b[39mrelease()\n",
      "File \u001b[1;32mc:\\Users\\Ian\\anaconda3\\envs\\dev\\lib\\site-packages\\tensorflow\\python\\eager\\polymorphic_function\\tracing_compilation.py:139\u001b[0m, in \u001b[0;36mcall_function\u001b[1;34m(args, kwargs, tracing_options)\u001b[0m\n\u001b[0;32m    137\u001b[0m bound_args \u001b[38;5;241m=\u001b[39m function\u001b[38;5;241m.\u001b[39mfunction_type\u001b[38;5;241m.\u001b[39mbind(\u001b[38;5;241m*\u001b[39margs, \u001b[38;5;241m*\u001b[39m\u001b[38;5;241m*\u001b[39mkwargs)\n\u001b[0;32m    138\u001b[0m flat_inputs \u001b[38;5;241m=\u001b[39m function\u001b[38;5;241m.\u001b[39mfunction_type\u001b[38;5;241m.\u001b[39munpack_inputs(bound_args)\n\u001b[1;32m--> 139\u001b[0m \u001b[38;5;28;01mreturn\u001b[39;00m \u001b[43mfunction\u001b[49m\u001b[38;5;241;43m.\u001b[39;49m\u001b[43m_call_flat\u001b[49m\u001b[43m(\u001b[49m\u001b[43m  \u001b[49m\u001b[38;5;66;43;03m# pylint: disable=protected-access\u001b[39;49;00m\n\u001b[0;32m    140\u001b[0m \u001b[43m    \u001b[49m\u001b[43mflat_inputs\u001b[49m\u001b[43m,\u001b[49m\u001b[43m \u001b[49m\u001b[43mcaptured_inputs\u001b[49m\u001b[38;5;241;43m=\u001b[39;49m\u001b[43mfunction\u001b[49m\u001b[38;5;241;43m.\u001b[39;49m\u001b[43mcaptured_inputs\u001b[49m\n\u001b[0;32m    141\u001b[0m \u001b[43m\u001b[49m\u001b[43m)\u001b[49m\n",
      "File \u001b[1;32mc:\\Users\\Ian\\anaconda3\\envs\\dev\\lib\\site-packages\\tensorflow\\python\\eager\\polymorphic_function\\concrete_function.py:1323\u001b[0m, in \u001b[0;36mConcreteFunction._call_flat\u001b[1;34m(self, tensor_inputs, captured_inputs)\u001b[0m\n\u001b[0;32m   1319\u001b[0m possible_gradient_type \u001b[38;5;241m=\u001b[39m gradients_util\u001b[38;5;241m.\u001b[39mPossibleTapeGradientTypes(args)\n\u001b[0;32m   1320\u001b[0m \u001b[38;5;28;01mif\u001b[39;00m (possible_gradient_type \u001b[38;5;241m==\u001b[39m gradients_util\u001b[38;5;241m.\u001b[39mPOSSIBLE_GRADIENT_TYPES_NONE\n\u001b[0;32m   1321\u001b[0m     \u001b[38;5;129;01mand\u001b[39;00m executing_eagerly):\n\u001b[0;32m   1322\u001b[0m   \u001b[38;5;66;03m# No tape is watching; skip to running the function.\u001b[39;00m\n\u001b[1;32m-> 1323\u001b[0m   \u001b[38;5;28;01mreturn\u001b[39;00m \u001b[38;5;28;43mself\u001b[39;49m\u001b[38;5;241;43m.\u001b[39;49m\u001b[43m_inference_function\u001b[49m\u001b[38;5;241;43m.\u001b[39;49m\u001b[43mcall_preflattened\u001b[49m\u001b[43m(\u001b[49m\u001b[43margs\u001b[49m\u001b[43m)\u001b[49m\n\u001b[0;32m   1324\u001b[0m forward_backward \u001b[38;5;241m=\u001b[39m \u001b[38;5;28mself\u001b[39m\u001b[38;5;241m.\u001b[39m_select_forward_and_backward_functions(\n\u001b[0;32m   1325\u001b[0m     args,\n\u001b[0;32m   1326\u001b[0m     possible_gradient_type,\n\u001b[0;32m   1327\u001b[0m     executing_eagerly)\n\u001b[0;32m   1328\u001b[0m forward_function, args_with_tangents \u001b[38;5;241m=\u001b[39m forward_backward\u001b[38;5;241m.\u001b[39mforward()\n",
      "File \u001b[1;32mc:\\Users\\Ian\\anaconda3\\envs\\dev\\lib\\site-packages\\tensorflow\\python\\eager\\polymorphic_function\\atomic_function.py:216\u001b[0m, in \u001b[0;36mAtomicFunction.call_preflattened\u001b[1;34m(self, args)\u001b[0m\n\u001b[0;32m    214\u001b[0m \u001b[38;5;28;01mdef\u001b[39;00m \u001b[38;5;21mcall_preflattened\u001b[39m(\u001b[38;5;28mself\u001b[39m, args: Sequence[core\u001b[38;5;241m.\u001b[39mTensor]) \u001b[38;5;241m-\u001b[39m\u001b[38;5;241m>\u001b[39m Any:\n\u001b[0;32m    215\u001b[0m \u001b[38;5;250m  \u001b[39m\u001b[38;5;124;03m\"\"\"Calls with flattened tensor inputs and returns the structured output.\"\"\"\u001b[39;00m\n\u001b[1;32m--> 216\u001b[0m   flat_outputs \u001b[38;5;241m=\u001b[39m \u001b[38;5;28;43mself\u001b[39;49m\u001b[38;5;241;43m.\u001b[39;49m\u001b[43mcall_flat\u001b[49m\u001b[43m(\u001b[49m\u001b[38;5;241;43m*\u001b[39;49m\u001b[43margs\u001b[49m\u001b[43m)\u001b[49m\n\u001b[0;32m    217\u001b[0m   \u001b[38;5;28;01mreturn\u001b[39;00m \u001b[38;5;28mself\u001b[39m\u001b[38;5;241m.\u001b[39mfunction_type\u001b[38;5;241m.\u001b[39mpack_output(flat_outputs)\n",
      "File \u001b[1;32mc:\\Users\\Ian\\anaconda3\\envs\\dev\\lib\\site-packages\\tensorflow\\python\\eager\\polymorphic_function\\atomic_function.py:251\u001b[0m, in \u001b[0;36mAtomicFunction.call_flat\u001b[1;34m(self, *args)\u001b[0m\n\u001b[0;32m    249\u001b[0m \u001b[38;5;28;01mwith\u001b[39;00m record\u001b[38;5;241m.\u001b[39mstop_recording():\n\u001b[0;32m    250\u001b[0m   \u001b[38;5;28;01mif\u001b[39;00m \u001b[38;5;28mself\u001b[39m\u001b[38;5;241m.\u001b[39m_bound_context\u001b[38;5;241m.\u001b[39mexecuting_eagerly():\n\u001b[1;32m--> 251\u001b[0m     outputs \u001b[38;5;241m=\u001b[39m \u001b[38;5;28;43mself\u001b[39;49m\u001b[38;5;241;43m.\u001b[39;49m\u001b[43m_bound_context\u001b[49m\u001b[38;5;241;43m.\u001b[39;49m\u001b[43mcall_function\u001b[49m\u001b[43m(\u001b[49m\n\u001b[0;32m    252\u001b[0m \u001b[43m        \u001b[49m\u001b[38;5;28;43mself\u001b[39;49m\u001b[38;5;241;43m.\u001b[39;49m\u001b[43mname\u001b[49m\u001b[43m,\u001b[49m\n\u001b[0;32m    253\u001b[0m \u001b[43m        \u001b[49m\u001b[38;5;28;43mlist\u001b[39;49m\u001b[43m(\u001b[49m\u001b[43margs\u001b[49m\u001b[43m)\u001b[49m\u001b[43m,\u001b[49m\n\u001b[0;32m    254\u001b[0m \u001b[43m        \u001b[49m\u001b[38;5;28;43mlen\u001b[39;49m\u001b[43m(\u001b[49m\u001b[38;5;28;43mself\u001b[39;49m\u001b[38;5;241;43m.\u001b[39;49m\u001b[43mfunction_type\u001b[49m\u001b[38;5;241;43m.\u001b[39;49m\u001b[43mflat_outputs\u001b[49m\u001b[43m)\u001b[49m\u001b[43m,\u001b[49m\n\u001b[0;32m    255\u001b[0m \u001b[43m    \u001b[49m\u001b[43m)\u001b[49m\n\u001b[0;32m    256\u001b[0m   \u001b[38;5;28;01melse\u001b[39;00m:\n\u001b[0;32m    257\u001b[0m     outputs \u001b[38;5;241m=\u001b[39m make_call_op_in_graph(\n\u001b[0;32m    258\u001b[0m         \u001b[38;5;28mself\u001b[39m,\n\u001b[0;32m    259\u001b[0m         \u001b[38;5;28mlist\u001b[39m(args),\n\u001b[0;32m    260\u001b[0m         \u001b[38;5;28mself\u001b[39m\u001b[38;5;241m.\u001b[39m_bound_context\u001b[38;5;241m.\u001b[39mfunction_call_options\u001b[38;5;241m.\u001b[39mas_attrs(),\n\u001b[0;32m    261\u001b[0m     )\n",
      "File \u001b[1;32mc:\\Users\\Ian\\anaconda3\\envs\\dev\\lib\\site-packages\\tensorflow\\python\\eager\\context.py:1486\u001b[0m, in \u001b[0;36mContext.call_function\u001b[1;34m(self, name, tensor_inputs, num_outputs)\u001b[0m\n\u001b[0;32m   1484\u001b[0m cancellation_context \u001b[38;5;241m=\u001b[39m cancellation\u001b[38;5;241m.\u001b[39mcontext()\n\u001b[0;32m   1485\u001b[0m \u001b[38;5;28;01mif\u001b[39;00m cancellation_context \u001b[38;5;129;01mis\u001b[39;00m \u001b[38;5;28;01mNone\u001b[39;00m:\n\u001b[1;32m-> 1486\u001b[0m   outputs \u001b[38;5;241m=\u001b[39m \u001b[43mexecute\u001b[49m\u001b[38;5;241;43m.\u001b[39;49m\u001b[43mexecute\u001b[49m\u001b[43m(\u001b[49m\n\u001b[0;32m   1487\u001b[0m \u001b[43m      \u001b[49m\u001b[43mname\u001b[49m\u001b[38;5;241;43m.\u001b[39;49m\u001b[43mdecode\u001b[49m\u001b[43m(\u001b[49m\u001b[38;5;124;43m\"\u001b[39;49m\u001b[38;5;124;43mutf-8\u001b[39;49m\u001b[38;5;124;43m\"\u001b[39;49m\u001b[43m)\u001b[49m\u001b[43m,\u001b[49m\n\u001b[0;32m   1488\u001b[0m \u001b[43m      \u001b[49m\u001b[43mnum_outputs\u001b[49m\u001b[38;5;241;43m=\u001b[39;49m\u001b[43mnum_outputs\u001b[49m\u001b[43m,\u001b[49m\n\u001b[0;32m   1489\u001b[0m \u001b[43m      \u001b[49m\u001b[43minputs\u001b[49m\u001b[38;5;241;43m=\u001b[39;49m\u001b[43mtensor_inputs\u001b[49m\u001b[43m,\u001b[49m\n\u001b[0;32m   1490\u001b[0m \u001b[43m      \u001b[49m\u001b[43mattrs\u001b[49m\u001b[38;5;241;43m=\u001b[39;49m\u001b[43mattrs\u001b[49m\u001b[43m,\u001b[49m\n\u001b[0;32m   1491\u001b[0m \u001b[43m      \u001b[49m\u001b[43mctx\u001b[49m\u001b[38;5;241;43m=\u001b[39;49m\u001b[38;5;28;43mself\u001b[39;49m\u001b[43m,\u001b[49m\n\u001b[0;32m   1492\u001b[0m \u001b[43m  \u001b[49m\u001b[43m)\u001b[49m\n\u001b[0;32m   1493\u001b[0m \u001b[38;5;28;01melse\u001b[39;00m:\n\u001b[0;32m   1494\u001b[0m   outputs \u001b[38;5;241m=\u001b[39m execute\u001b[38;5;241m.\u001b[39mexecute_with_cancellation(\n\u001b[0;32m   1495\u001b[0m       name\u001b[38;5;241m.\u001b[39mdecode(\u001b[38;5;124m\"\u001b[39m\u001b[38;5;124mutf-8\u001b[39m\u001b[38;5;124m\"\u001b[39m),\n\u001b[0;32m   1496\u001b[0m       num_outputs\u001b[38;5;241m=\u001b[39mnum_outputs,\n\u001b[1;32m   (...)\u001b[0m\n\u001b[0;32m   1500\u001b[0m       cancellation_manager\u001b[38;5;241m=\u001b[39mcancellation_context,\n\u001b[0;32m   1501\u001b[0m   )\n",
      "File \u001b[1;32mc:\\Users\\Ian\\anaconda3\\envs\\dev\\lib\\site-packages\\tensorflow\\python\\eager\\execute.py:53\u001b[0m, in \u001b[0;36mquick_execute\u001b[1;34m(op_name, num_outputs, inputs, attrs, ctx, name)\u001b[0m\n\u001b[0;32m     51\u001b[0m \u001b[38;5;28;01mtry\u001b[39;00m:\n\u001b[0;32m     52\u001b[0m   ctx\u001b[38;5;241m.\u001b[39mensure_initialized()\n\u001b[1;32m---> 53\u001b[0m   tensors \u001b[38;5;241m=\u001b[39m \u001b[43mpywrap_tfe\u001b[49m\u001b[38;5;241;43m.\u001b[39;49m\u001b[43mTFE_Py_Execute\u001b[49m\u001b[43m(\u001b[49m\u001b[43mctx\u001b[49m\u001b[38;5;241;43m.\u001b[39;49m\u001b[43m_handle\u001b[49m\u001b[43m,\u001b[49m\u001b[43m \u001b[49m\u001b[43mdevice_name\u001b[49m\u001b[43m,\u001b[49m\u001b[43m \u001b[49m\u001b[43mop_name\u001b[49m\u001b[43m,\u001b[49m\n\u001b[0;32m     54\u001b[0m \u001b[43m                                      \u001b[49m\u001b[43minputs\u001b[49m\u001b[43m,\u001b[49m\u001b[43m \u001b[49m\u001b[43mattrs\u001b[49m\u001b[43m,\u001b[49m\u001b[43m \u001b[49m\u001b[43mnum_outputs\u001b[49m\u001b[43m)\u001b[49m\n\u001b[0;32m     55\u001b[0m \u001b[38;5;28;01mexcept\u001b[39;00m core\u001b[38;5;241m.\u001b[39m_NotOkStatusException \u001b[38;5;28;01mas\u001b[39;00m e:\n\u001b[0;32m     56\u001b[0m   \u001b[38;5;28;01mif\u001b[39;00m name \u001b[38;5;129;01mis\u001b[39;00m \u001b[38;5;129;01mnot\u001b[39;00m \u001b[38;5;28;01mNone\u001b[39;00m:\n",
      "\u001b[1;31mKeyboardInterrupt\u001b[0m: "
     ]
    }
   ],
   "source": [
    "fit_model = nn.fit(X_train_scaled,y_train,epochs=100)"
   ]
  },
  {
   "cell_type": "markdown",
   "metadata": {},
   "source": [
    "## Hyperparameter Tuning"
   ]
  },
  {
   "cell_type": "code",
   "execution_count": 102,
   "metadata": {},
   "outputs": [],
   "source": [
    "# Create a method that creates a new Sequential model with hyperparameter options\n",
    "def create_model(hp):\n",
    "    nn_model = tf.keras.models.Sequential()\n",
    "\n",
    "    # Allow kerastuner to decide which activation function to use in hidden layers\n",
    "    activation = hp.Choice('activation',['relu','tanh','sigmoid','softmax','swish'])\n",
    "    # Allow kerastuner to decide number of neurons in first layer\n",
    "    nn_model.add(tf.keras.layers.Dense(units=hp.Int('first_units',\n",
    "        min_value=1,\n",
    "        max_value=512,\n",
    "        step=5), activation=activation, input_dim=len(X_train.columns)))\n",
    "\n",
    "    # Allow kerastuner to decide number of hidden layers and neurons in hidden layers\n",
    "    for i in range(hp.Int('num_layers', 1, 8)):\n",
    "        nn_model.add(tf.keras.layers.Dense(units=hp.Int('units_' + str(i),\n",
    "            min_value=1,\n",
    "            max_value=512,\n",
    "            step=5),\n",
    "            activation=activation))\n",
    "    \n",
    "    nn_model.add(tf.keras.layers.Dense(units=3, activation='softmax'))\n",
    "\n",
    "    # Compile the model\n",
    "    nn_model.compile(loss=\"CategoricalCrossentropy\", optimizer='adam', metrics=[\"accuracy\"])\n",
    "    \n",
    "    return nn_model"
   ]
  },
  {
   "cell_type": "code",
   "execution_count": 103,
   "metadata": {},
   "outputs": [],
   "source": [
    "# Import the kerastuner library\n",
    "import keras_tuner as kt\n",
    "\n",
    "tuner = kt.Hyperband(\n",
    "    create_model,\n",
    "    objective=\"val_accuracy\",\n",
    "    max_epochs=20,\n",
    "    hyperband_iterations=2,\n",
    "    overwrite=True)"
   ]
  },
  {
   "cell_type": "code",
   "execution_count": 104,
   "metadata": {},
   "outputs": [
    {
     "name": "stdout",
     "output_type": "stream",
     "text": [
      "Trial 60 Complete [00h 02m 14s]\n",
      "val_accuracy: 0.576779842376709\n",
      "\n",
      "Best val_accuracy So Far: 0.5794532299041748\n",
      "Total elapsed time: 00h 43m 27s\n"
     ]
    }
   ],
   "source": [
    "tuner.search(X_train_scaled,y_train,epochs=20,validation_data=(X_test_scaled,y_test))"
   ]
  },
  {
   "cell_type": "code",
   "execution_count": 106,
   "metadata": {},
   "outputs": [
    {
     "name": "stdout",
     "output_type": "stream",
     "text": [
      "{'activation': 'swish', 'first_units': 366, 'num_layers': 5, 'units_0': 111, 'units_1': 126, 'units_2': 311, 'units_3': 41, 'units_4': 351, 'units_5': 426, 'units_6': 466, 'units_7': 321, 'tuner/epochs': 20, 'tuner/initial_epoch': 7, 'tuner/bracket': 1, 'tuner/round': 1, 'tuner/trial_id': '0018'}\n",
      "{'activation': 'relu', 'first_units': 406, 'num_layers': 8, 'units_0': 141, 'units_1': 111, 'units_2': 436, 'units_3': 186, 'units_4': 206, 'units_5': 61, 'units_6': 251, 'units_7': 501, 'tuner/epochs': 20, 'tuner/initial_epoch': 7, 'tuner/bracket': 1, 'tuner/round': 1, 'tuner/trial_id': '0052'}\n",
      "{'activation': 'relu', 'first_units': 316, 'num_layers': 7, 'units_0': 371, 'units_1': 261, 'units_2': 316, 'units_3': 481, 'units_4': 151, 'units_5': 381, 'units_6': 51, 'units_7': 496, 'tuner/epochs': 7, 'tuner/initial_epoch': 0, 'tuner/bracket': 1, 'tuner/round': 0}\n"
     ]
    }
   ],
   "source": [
    "top_hyper = tuner.get_best_hyperparameters(3)\n",
    "for param in top_hyper:\n",
    "    print(param.values)"
   ]
  },
  {
   "cell_type": "code",
   "execution_count": 107,
   "metadata": {},
   "outputs": [
    {
     "name": "stdout",
     "output_type": "stream",
     "text": [
      "WARNING:tensorflow:Detecting that an object or model or tf.train.Checkpoint is being deleted with unrestored values. See the following logs for the specific values in question. To silence these warnings, use `status.expect_partial()`. See https://www.tensorflow.org/api_docs/python/tf/train/Checkpoint#restorefor details about the status object returned by the restore function.\n",
      "WARNING:tensorflow:Value in checkpoint could not be found in the restored object: (root).optimizer._variables.1\n",
      "WARNING:tensorflow:Value in checkpoint could not be found in the restored object: (root).optimizer._variables.2\n",
      "WARNING:tensorflow:Value in checkpoint could not be found in the restored object: (root).optimizer._variables.3\n",
      "WARNING:tensorflow:Value in checkpoint could not be found in the restored object: (root).optimizer._variables.4\n",
      "WARNING:tensorflow:Value in checkpoint could not be found in the restored object: (root).optimizer._variables.5\n",
      "WARNING:tensorflow:Value in checkpoint could not be found in the restored object: (root).optimizer._variables.6\n",
      "WARNING:tensorflow:Value in checkpoint could not be found in the restored object: (root).optimizer._variables.7\n",
      "WARNING:tensorflow:Value in checkpoint could not be found in the restored object: (root).optimizer._variables.8\n",
      "WARNING:tensorflow:Value in checkpoint could not be found in the restored object: (root).optimizer._variables.9\n",
      "WARNING:tensorflow:Value in checkpoint could not be found in the restored object: (root).optimizer._variables.10\n",
      "WARNING:tensorflow:Value in checkpoint could not be found in the restored object: (root).optimizer._variables.11\n",
      "WARNING:tensorflow:Value in checkpoint could not be found in the restored object: (root).optimizer._variables.12\n",
      "WARNING:tensorflow:Value in checkpoint could not be found in the restored object: (root).optimizer._variables.13\n",
      "WARNING:tensorflow:Value in checkpoint could not be found in the restored object: (root).optimizer._variables.14\n",
      "WARNING:tensorflow:Value in checkpoint could not be found in the restored object: (root).optimizer._variables.15\n",
      "WARNING:tensorflow:Value in checkpoint could not be found in the restored object: (root).optimizer._variables.16\n",
      "WARNING:tensorflow:Value in checkpoint could not be found in the restored object: (root).optimizer._variables.17\n",
      "WARNING:tensorflow:Value in checkpoint could not be found in the restored object: (root).optimizer._variables.18\n",
      "WARNING:tensorflow:Value in checkpoint could not be found in the restored object: (root).optimizer._variables.19\n",
      "WARNING:tensorflow:Value in checkpoint could not be found in the restored object: (root).optimizer._variables.20\n",
      "WARNING:tensorflow:Value in checkpoint could not be found in the restored object: (root).optimizer._variables.21\n",
      "WARNING:tensorflow:Value in checkpoint could not be found in the restored object: (root).optimizer._variables.22\n",
      "WARNING:tensorflow:Value in checkpoint could not be found in the restored object: (root).optimizer._variables.23\n",
      "WARNING:tensorflow:Value in checkpoint could not be found in the restored object: (root).optimizer._variables.24\n",
      "WARNING:tensorflow:Value in checkpoint could not be found in the restored object: (root).optimizer._variables.25\n",
      "WARNING:tensorflow:Value in checkpoint could not be found in the restored object: (root).optimizer._variables.26\n",
      "WARNING:tensorflow:Value in checkpoint could not be found in the restored object: (root).optimizer._variables.27\n",
      "WARNING:tensorflow:Value in checkpoint could not be found in the restored object: (root).optimizer._variables.28\n",
      "WARNING:tensorflow:Value in checkpoint could not be found in the restored object: (root).optimizer._variables.29\n",
      "WARNING:tensorflow:Value in checkpoint could not be found in the restored object: (root).optimizer._variables.30\n",
      "WARNING:tensorflow:Value in checkpoint could not be found in the restored object: (root).optimizer._variables.31\n",
      "WARNING:tensorflow:Value in checkpoint could not be found in the restored object: (root).optimizer._variables.32\n",
      "WARNING:tensorflow:Value in checkpoint could not be found in the restored object: (root).optimizer._variables.33\n",
      "WARNING:tensorflow:Value in checkpoint could not be found in the restored object: (root).optimizer._variables.34\n",
      "WARNING:tensorflow:Value in checkpoint could not be found in the restored object: (root).optimizer._variables.35\n",
      "WARNING:tensorflow:Value in checkpoint could not be found in the restored object: (root).optimizer._variables.36\n",
      "WARNING:tensorflow:Value in checkpoint could not be found in the restored object: (root).optimizer._variables.37\n",
      "WARNING:tensorflow:Value in checkpoint could not be found in the restored object: (root).optimizer._variables.38\n",
      "WARNING:tensorflow:Value in checkpoint could not be found in the restored object: (root).optimizer._variables.39\n",
      "WARNING:tensorflow:Value in checkpoint could not be found in the restored object: (root).optimizer._variables.40\n",
      "WARNING:tensorflow:Detecting that an object or model or tf.train.Checkpoint is being deleted with unrestored values. See the following logs for the specific values in question. To silence these warnings, use `status.expect_partial()`. See https://www.tensorflow.org/api_docs/python/tf/train/Checkpoint#restorefor details about the status object returned by the restore function.\n",
      "WARNING:tensorflow:Value in checkpoint could not be found in the restored object: (root).optimizer._variables.1\n",
      "WARNING:tensorflow:Value in checkpoint could not be found in the restored object: (root).optimizer._variables.2\n",
      "WARNING:tensorflow:Value in checkpoint could not be found in the restored object: (root).optimizer._variables.3\n",
      "WARNING:tensorflow:Value in checkpoint could not be found in the restored object: (root).optimizer._variables.4\n",
      "WARNING:tensorflow:Value in checkpoint could not be found in the restored object: (root).optimizer._variables.5\n",
      "WARNING:tensorflow:Value in checkpoint could not be found in the restored object: (root).optimizer._variables.6\n",
      "WARNING:tensorflow:Value in checkpoint could not be found in the restored object: (root).optimizer._variables.7\n",
      "WARNING:tensorflow:Value in checkpoint could not be found in the restored object: (root).optimizer._variables.8\n",
      "WARNING:tensorflow:Value in checkpoint could not be found in the restored object: (root).optimizer._variables.9\n",
      "WARNING:tensorflow:Value in checkpoint could not be found in the restored object: (root).optimizer._variables.10\n",
      "WARNING:tensorflow:Value in checkpoint could not be found in the restored object: (root).optimizer._variables.11\n",
      "WARNING:tensorflow:Value in checkpoint could not be found in the restored object: (root).optimizer._variables.12\n",
      "WARNING:tensorflow:Value in checkpoint could not be found in the restored object: (root).optimizer._variables.13\n",
      "WARNING:tensorflow:Value in checkpoint could not be found in the restored object: (root).optimizer._variables.14\n",
      "WARNING:tensorflow:Value in checkpoint could not be found in the restored object: (root).optimizer._variables.15\n",
      "WARNING:tensorflow:Value in checkpoint could not be found in the restored object: (root).optimizer._variables.16\n",
      "WARNING:tensorflow:Value in checkpoint could not be found in the restored object: (root).optimizer._variables.17\n",
      "WARNING:tensorflow:Value in checkpoint could not be found in the restored object: (root).optimizer._variables.18\n",
      "WARNING:tensorflow:Value in checkpoint could not be found in the restored object: (root).optimizer._variables.19\n",
      "WARNING:tensorflow:Value in checkpoint could not be found in the restored object: (root).optimizer._variables.20\n",
      "WARNING:tensorflow:Value in checkpoint could not be found in the restored object: (root).optimizer._variables.21\n",
      "WARNING:tensorflow:Value in checkpoint could not be found in the restored object: (root).optimizer._variables.22\n",
      "WARNING:tensorflow:Value in checkpoint could not be found in the restored object: (root).optimizer._variables.23\n",
      "WARNING:tensorflow:Value in checkpoint could not be found in the restored object: (root).optimizer._variables.24\n",
      "WARNING:tensorflow:Value in checkpoint could not be found in the restored object: (root).optimizer._variables.25\n",
      "WARNING:tensorflow:Value in checkpoint could not be found in the restored object: (root).optimizer._variables.26\n",
      "WARNING:tensorflow:Value in checkpoint could not be found in the restored object: (root).optimizer._variables.27\n",
      "WARNING:tensorflow:Value in checkpoint could not be found in the restored object: (root).optimizer._variables.28\n",
      "WARNING:tensorflow:Value in checkpoint could not be found in the restored object: (root).optimizer._variables.29\n",
      "WARNING:tensorflow:Value in checkpoint could not be found in the restored object: (root).optimizer._variables.30\n",
      "WARNING:tensorflow:Value in checkpoint could not be found in the restored object: (root).optimizer._variables.31\n",
      "WARNING:tensorflow:Value in checkpoint could not be found in the restored object: (root).optimizer._variables.32\n",
      "WARNING:tensorflow:Value in checkpoint could not be found in the restored object: (root).optimizer._variables.33\n",
      "WARNING:tensorflow:Value in checkpoint could not be found in the restored object: (root).optimizer._variables.34\n",
      "WARNING:tensorflow:Value in checkpoint could not be found in the restored object: (root).optimizer._variables.35\n",
      "WARNING:tensorflow:Value in checkpoint could not be found in the restored object: (root).optimizer._variables.36\n",
      "WARNING:tensorflow:Value in checkpoint could not be found in the restored object: (root).optimizer._variables.37\n",
      "WARNING:tensorflow:Value in checkpoint could not be found in the restored object: (root).optimizer._variables.38\n",
      "WARNING:tensorflow:Value in checkpoint could not be found in the restored object: (root).optimizer._variables.39\n",
      "WARNING:tensorflow:Value in checkpoint could not be found in the restored object: (root).optimizer._variables.40\n",
      "982/982 - 1s - loss: 0.7681 - accuracy: 0.5795 - 1s/epoch - 1ms/step\n",
      "Loss: 0.7680790424346924, Accuracy: 0.5794532299041748\n"
     ]
    }
   ],
   "source": [
    "best_model = tuner.get_best_models()[0]\n",
    "model_loss, model_accuracy = best_model.evaluate(X_test_scaled,y_test,verbose=2)\n",
    "print(f\"Loss: {model_loss}, Accuracy: {model_accuracy}\")"
   ]
  },
  {
   "cell_type": "markdown",
   "metadata": {},
   "source": [
    "## Binning Outliers in Rating Difference"
   ]
  },
  {
   "cell_type": "code",
   "execution_count": 108,
   "metadata": {},
   "outputs": [
    {
     "ename": "TypeError",
     "evalue": "'<' not supported between instances of 'int' and 'pandas._libs.interval.Interval'",
     "output_type": "error",
     "traceback": [
      "\u001b[1;31m---------------------------------------------------------------------------\u001b[0m",
      "\u001b[1;31mTypeError\u001b[0m                                 Traceback (most recent call last)",
      "Cell \u001b[1;32mIn[108], line 2\u001b[0m\n\u001b[0;32m      1\u001b[0m bins \u001b[38;5;241m=\u001b[39m [\u001b[38;5;241m-\u001b[39m\u001b[38;5;241m2000\u001b[39m, \u001b[38;5;241m-\u001b[39m\u001b[38;5;241m1000\u001b[39m, \u001b[38;5;241m-\u001b[39m\u001b[38;5;241m500\u001b[39m, \u001b[38;5;241m-\u001b[39m\u001b[38;5;241m150\u001b[39m, \u001b[38;5;241m-\u001b[39m\u001b[38;5;241m50\u001b[39m, \u001b[38;5;241m0\u001b[39m, \u001b[38;5;241m50\u001b[39m, \u001b[38;5;241m150\u001b[39m, \u001b[38;5;241m500\u001b[39m, \u001b[38;5;241m1000\u001b[39m, \u001b[38;5;241m2000\u001b[39m]\n\u001b[1;32m----> 2\u001b[0m data[\u001b[38;5;124m'\u001b[39m\u001b[38;5;124mRating Difference\u001b[39m\u001b[38;5;124m'\u001b[39m] \u001b[38;5;241m=\u001b[39m \u001b[43mpd\u001b[49m\u001b[38;5;241;43m.\u001b[39;49m\u001b[43mcut\u001b[49m\u001b[43m(\u001b[49m\u001b[43mdata\u001b[49m\u001b[43m[\u001b[49m\u001b[38;5;124;43m'\u001b[39;49m\u001b[38;5;124;43mRating Difference\u001b[39;49m\u001b[38;5;124;43m'\u001b[39;49m\u001b[43m]\u001b[49m\u001b[43m,\u001b[49m\u001b[43m \u001b[49m\u001b[43mbins\u001b[49m\u001b[43m)\u001b[49m\n",
      "File \u001b[1;32mc:\\Users\\Ian\\anaconda3\\envs\\dev\\lib\\site-packages\\pandas\\core\\reshape\\tile.py:257\u001b[0m, in \u001b[0;36mcut\u001b[1;34m(x, bins, right, labels, retbins, precision, include_lowest, duplicates, ordered)\u001b[0m\n\u001b[0;32m    254\u001b[0m     \u001b[38;5;28;01mif\u001b[39;00m \u001b[38;5;129;01mnot\u001b[39;00m bins\u001b[38;5;241m.\u001b[39mis_monotonic_increasing:\n\u001b[0;32m    255\u001b[0m         \u001b[38;5;28;01mraise\u001b[39;00m \u001b[38;5;167;01mValueError\u001b[39;00m(\u001b[38;5;124m\"\u001b[39m\u001b[38;5;124mbins must increase monotonically.\u001b[39m\u001b[38;5;124m\"\u001b[39m)\n\u001b[1;32m--> 257\u001b[0m fac, bins \u001b[38;5;241m=\u001b[39m \u001b[43m_bins_to_cuts\u001b[49m\u001b[43m(\u001b[49m\n\u001b[0;32m    258\u001b[0m \u001b[43m    \u001b[49m\u001b[43mx_idx\u001b[49m\u001b[43m,\u001b[49m\n\u001b[0;32m    259\u001b[0m \u001b[43m    \u001b[49m\u001b[43mbins\u001b[49m\u001b[43m,\u001b[49m\n\u001b[0;32m    260\u001b[0m \u001b[43m    \u001b[49m\u001b[43mright\u001b[49m\u001b[38;5;241;43m=\u001b[39;49m\u001b[43mright\u001b[49m\u001b[43m,\u001b[49m\n\u001b[0;32m    261\u001b[0m \u001b[43m    \u001b[49m\u001b[43mlabels\u001b[49m\u001b[38;5;241;43m=\u001b[39;49m\u001b[43mlabels\u001b[49m\u001b[43m,\u001b[49m\n\u001b[0;32m    262\u001b[0m \u001b[43m    \u001b[49m\u001b[43mprecision\u001b[49m\u001b[38;5;241;43m=\u001b[39;49m\u001b[43mprecision\u001b[49m\u001b[43m,\u001b[49m\n\u001b[0;32m    263\u001b[0m \u001b[43m    \u001b[49m\u001b[43minclude_lowest\u001b[49m\u001b[38;5;241;43m=\u001b[39;49m\u001b[43minclude_lowest\u001b[49m\u001b[43m,\u001b[49m\n\u001b[0;32m    264\u001b[0m \u001b[43m    \u001b[49m\u001b[43mduplicates\u001b[49m\u001b[38;5;241;43m=\u001b[39;49m\u001b[43mduplicates\u001b[49m\u001b[43m,\u001b[49m\n\u001b[0;32m    265\u001b[0m \u001b[43m    \u001b[49m\u001b[43mordered\u001b[49m\u001b[38;5;241;43m=\u001b[39;49m\u001b[43mordered\u001b[49m\u001b[43m,\u001b[49m\n\u001b[0;32m    266\u001b[0m \u001b[43m\u001b[49m\u001b[43m)\u001b[49m\n\u001b[0;32m    268\u001b[0m \u001b[38;5;28;01mreturn\u001b[39;00m _postprocess_for_cut(fac, bins, retbins, original)\n",
      "File \u001b[1;32mc:\\Users\\Ian\\anaconda3\\envs\\dev\\lib\\site-packages\\pandas\\core\\reshape\\tile.py:452\u001b[0m, in \u001b[0;36m_bins_to_cuts\u001b[1;34m(x_idx, bins, right, labels, precision, include_lowest, duplicates, ordered)\u001b[0m\n\u001b[0;32m    449\u001b[0m side: Literal[\u001b[38;5;124m\"\u001b[39m\u001b[38;5;124mleft\u001b[39m\u001b[38;5;124m\"\u001b[39m, \u001b[38;5;124m\"\u001b[39m\u001b[38;5;124mright\u001b[39m\u001b[38;5;124m\"\u001b[39m] \u001b[38;5;241m=\u001b[39m \u001b[38;5;124m\"\u001b[39m\u001b[38;5;124mleft\u001b[39m\u001b[38;5;124m\"\u001b[39m \u001b[38;5;28;01mif\u001b[39;00m right \u001b[38;5;28;01melse\u001b[39;00m \u001b[38;5;124m\"\u001b[39m\u001b[38;5;124mright\u001b[39m\u001b[38;5;124m\"\u001b[39m\n\u001b[0;32m    451\u001b[0m \u001b[38;5;28;01mtry\u001b[39;00m:\n\u001b[1;32m--> 452\u001b[0m     ids \u001b[38;5;241m=\u001b[39m \u001b[43mbins\u001b[49m\u001b[38;5;241;43m.\u001b[39;49m\u001b[43msearchsorted\u001b[49m\u001b[43m(\u001b[49m\u001b[43mx_idx\u001b[49m\u001b[43m,\u001b[49m\u001b[43m \u001b[49m\u001b[43mside\u001b[49m\u001b[38;5;241;43m=\u001b[39;49m\u001b[43mside\u001b[49m\u001b[43m)\u001b[49m\n\u001b[0;32m    453\u001b[0m \u001b[38;5;28;01mexcept\u001b[39;00m \u001b[38;5;167;01mTypeError\u001b[39;00m \u001b[38;5;28;01mas\u001b[39;00m err:\n\u001b[0;32m    454\u001b[0m     \u001b[38;5;66;03m# e.g. test_datetime_nan_error if bins are DatetimeArray and x_idx\u001b[39;00m\n\u001b[0;32m    455\u001b[0m     \u001b[38;5;66;03m#  is integers\u001b[39;00m\n\u001b[0;32m    456\u001b[0m     \u001b[38;5;28;01mif\u001b[39;00m x_idx\u001b[38;5;241m.\u001b[39mdtype\u001b[38;5;241m.\u001b[39mkind \u001b[38;5;241m==\u001b[39m \u001b[38;5;124m\"\u001b[39m\u001b[38;5;124mm\u001b[39m\u001b[38;5;124m\"\u001b[39m:\n",
      "File \u001b[1;32mc:\\Users\\Ian\\anaconda3\\envs\\dev\\lib\\site-packages\\pandas\\core\\base.py:1352\u001b[0m, in \u001b[0;36mIndexOpsMixin.searchsorted\u001b[1;34m(self, value, side, sorter)\u001b[0m\n\u001b[0;32m   1348\u001b[0m \u001b[38;5;28;01mif\u001b[39;00m \u001b[38;5;129;01mnot\u001b[39;00m \u001b[38;5;28misinstance\u001b[39m(values, np\u001b[38;5;241m.\u001b[39mndarray):\n\u001b[0;32m   1349\u001b[0m     \u001b[38;5;66;03m# Going through EA.searchsorted directly improves performance GH#38083\u001b[39;00m\n\u001b[0;32m   1350\u001b[0m     \u001b[38;5;28;01mreturn\u001b[39;00m values\u001b[38;5;241m.\u001b[39msearchsorted(value, side\u001b[38;5;241m=\u001b[39mside, sorter\u001b[38;5;241m=\u001b[39msorter)\n\u001b[1;32m-> 1352\u001b[0m \u001b[38;5;28;01mreturn\u001b[39;00m \u001b[43malgorithms\u001b[49m\u001b[38;5;241;43m.\u001b[39;49m\u001b[43msearchsorted\u001b[49m\u001b[43m(\u001b[49m\n\u001b[0;32m   1353\u001b[0m \u001b[43m    \u001b[49m\u001b[43mvalues\u001b[49m\u001b[43m,\u001b[49m\n\u001b[0;32m   1354\u001b[0m \u001b[43m    \u001b[49m\u001b[43mvalue\u001b[49m\u001b[43m,\u001b[49m\n\u001b[0;32m   1355\u001b[0m \u001b[43m    \u001b[49m\u001b[43mside\u001b[49m\u001b[38;5;241;43m=\u001b[39;49m\u001b[43mside\u001b[49m\u001b[43m,\u001b[49m\n\u001b[0;32m   1356\u001b[0m \u001b[43m    \u001b[49m\u001b[43msorter\u001b[49m\u001b[38;5;241;43m=\u001b[39;49m\u001b[43msorter\u001b[49m\u001b[43m,\u001b[49m\n\u001b[0;32m   1357\u001b[0m \u001b[43m\u001b[49m\u001b[43m)\u001b[49m\n",
      "File \u001b[1;32mc:\\Users\\Ian\\anaconda3\\envs\\dev\\lib\\site-packages\\pandas\\core\\algorithms.py:1329\u001b[0m, in \u001b[0;36msearchsorted\u001b[1;34m(arr, value, side, sorter)\u001b[0m\n\u001b[0;32m   1325\u001b[0m     arr \u001b[38;5;241m=\u001b[39m ensure_wrapped_if_datetimelike(arr)\n\u001b[0;32m   1327\u001b[0m \u001b[38;5;66;03m# Argument 1 to \"searchsorted\" of \"ndarray\" has incompatible type\u001b[39;00m\n\u001b[0;32m   1328\u001b[0m \u001b[38;5;66;03m# \"Union[NumpyValueArrayLike, ExtensionArray]\"; expected \"NumpyValueArrayLike\"\u001b[39;00m\n\u001b[1;32m-> 1329\u001b[0m \u001b[38;5;28;01mreturn\u001b[39;00m \u001b[43marr\u001b[49m\u001b[38;5;241;43m.\u001b[39;49m\u001b[43msearchsorted\u001b[49m\u001b[43m(\u001b[49m\u001b[43mvalue\u001b[49m\u001b[43m,\u001b[49m\u001b[43m \u001b[49m\u001b[43mside\u001b[49m\u001b[38;5;241;43m=\u001b[39;49m\u001b[43mside\u001b[49m\u001b[43m,\u001b[49m\u001b[43m \u001b[49m\u001b[43msorter\u001b[49m\u001b[38;5;241;43m=\u001b[39;49m\u001b[43msorter\u001b[49m\u001b[43m)\u001b[49m\n",
      "\u001b[1;31mTypeError\u001b[0m: '<' not supported between instances of 'int' and 'pandas._libs.interval.Interval'"
     ]
    }
   ],
   "source": [
    "bins = [-2000, -1000, -500, -150, -50, 0, 50, 150, 500, 1000, 2000]\n",
    "data['Rating Difference'] = pd.cut(data['Rating Difference'], bins)"
   ]
  },
  {
   "cell_type": "code",
   "execution_count": 109,
   "metadata": {},
   "outputs": [
    {
     "data": {
      "text/plain": [
       "0      (50, 150]\n",
       "1    (-150, -50]\n",
       "2       (-50, 0]\n",
       "3       (-50, 0]\n",
       "4       (-50, 0]\n",
       "Name: Rating Difference, dtype: category\n",
       "Categories (10, interval[int64, right]): [(-2000, -1000] < (-1000, -500] < (-500, -150] < (-150, -50] ... (50, 150] < (150, 500] < (500, 1000] < (1000, 2000]]"
      ]
     },
     "execution_count": 109,
     "metadata": {},
     "output_type": "execute_result"
    }
   ],
   "source": [
    "data['Rating Difference'].head()"
   ]
  },
  {
   "cell_type": "code",
   "execution_count": 66,
   "metadata": {},
   "outputs": [],
   "source": [
    "# dummy encode the categorical data and sort into target and features\n",
    "y = pd.get_dummies(data['Result'])\n",
    "X = pd.get_dummies(data.drop('Result', axis=1))"
   ]
  },
  {
   "cell_type": "code",
   "execution_count": 67,
   "metadata": {},
   "outputs": [],
   "source": [
    "# split the data into training and testing data\n",
    "X_train, X_test, y_train, y_test = train_test_split(X, y, random_state=78)"
   ]
  },
  {
   "cell_type": "code",
   "execution_count": 68,
   "metadata": {},
   "outputs": [],
   "source": [
    "from sklearn.preprocessing import StandardScaler\n",
    "# Create a StandardScaler instances\n",
    "scaler = StandardScaler()\n",
    "\n",
    "# Fit the StandardScaler\n",
    "X_scaler = scaler.fit(X_train)\n",
    "\n",
    "# Scale the data\n",
    "X_train_scaled = X_scaler.transform(X_train)\n",
    "X_test_scaled = X_scaler.transform(X_test)"
   ]
  },
  {
   "cell_type": "code",
   "execution_count": 69,
   "metadata": {},
   "outputs": [],
   "source": [
    "# initiate a random forest model\n",
    "from sklearn.ensemble import RandomForestClassifier\n",
    "rf_model = RandomForestClassifier(n_estimators=512, random_state=78)"
   ]
  },
  {
   "cell_type": "code",
   "execution_count": 70,
   "metadata": {},
   "outputs": [],
   "source": [
    "# train the model with training data\n",
    "rf_model = rf_model.fit(X_train_scaled, y_train)"
   ]
  },
  {
   "cell_type": "code",
   "execution_count": 71,
   "metadata": {},
   "outputs": [],
   "source": [
    "# Making predictions using the testing data\n",
    "predictions = rf_model.predict(X_test_scaled)"
   ]
  },
  {
   "cell_type": "code",
   "execution_count": 72,
   "metadata": {},
   "outputs": [],
   "source": [
    "# Calculating the accuracy score\n",
    "acc_score = accuracy_score(y_test, predictions)"
   ]
  },
  {
   "cell_type": "code",
   "execution_count": 73,
   "metadata": {},
   "outputs": [
    {
     "name": "stdout",
     "output_type": "stream",
     "text": [
      "Accuracy Score : 0.5837497215238217\n",
      "Classification Report\n",
      "              precision    recall  f1-score   support\n",
      "\n",
      "  Black Wins       0.65      0.55      0.60     14516\n",
      "  White Wins       0.66      0.65      0.65     15841\n",
      "        Draw       0.00      0.00      0.00      1064\n",
      "\n",
      "   micro avg       0.65      0.58      0.62     31421\n",
      "   macro avg       0.43      0.40      0.42     31421\n",
      "weighted avg       0.63      0.58      0.61     31421\n",
      " samples avg       0.58      0.58      0.58     31421\n",
      "\n"
     ]
    },
    {
     "name": "stderr",
     "output_type": "stream",
     "text": [
      "c:\\Users\\Ian\\anaconda3\\envs\\dev\\lib\\site-packages\\sklearn\\metrics\\_classification.py:1344: UndefinedMetricWarning: Precision and F-score are ill-defined and being set to 0.0 in samples with no predicted labels. Use `zero_division` parameter to control this behavior.\n",
      "  _warn_prf(average, modifier, msg_start, len(result))\n"
     ]
    }
   ],
   "source": [
    "# Displaying results\n",
    "print(f\"Accuracy Score : {acc_score}\")\n",
    "print(\"Classification Report\")\n",
    "print(classification_report(y_test, predictions, target_names=['Black Wins', 'White Wins', 'Draw']))"
   ]
  },
  {
   "cell_type": "code",
   "execution_count": 74,
   "metadata": {},
   "outputs": [
    {
     "data": {
      "text/plain": [
       "[(0.20417716258915353, 'TotalMoves'),\n",
       " (0.16008715376553523, 'Playtime Difference'),\n",
       " (0.15679306866432044, 'Games Played Difference'),\n",
       " (0.14858828998382126, 'Average Playtime Difference'),\n",
       " (0.14661640016872798, 'White Average Playtime'),\n",
       " (0.14642235984674798, 'Black Average Playtime'),\n",
       " (0.007563483583772837, 'Rating Difference_(-50, 0]'),\n",
       " (0.00738571955451873, 'Rating Difference_(0, 50]'),\n",
       " (0.005389051272143455, 'Rating Difference_(-150, -50]'),\n",
       " (0.004439173176373118, 'Rating Difference_(-500, -150]'),\n",
       " (0.004362699279370156, 'Rating Difference_(150, 500]'),\n",
       " (0.004288556761098735, 'Rating Difference_(50, 150]'),\n",
       " (0.0016191535146478657, 'Rating Difference_(500, 1000]'),\n",
       " (0.0016089741538236977, 'Rating Difference_(-1000, -500]'),\n",
       " (0.0004122208829182406, 'Rating Difference_(-2000, -1000]'),\n",
       " (0.0002465328030266965, 'Rating Difference_(1000, 2000]')]"
      ]
     },
     "execution_count": 74,
     "metadata": {},
     "output_type": "execute_result"
    }
   ],
   "source": [
    "# Calculating feature importance\n",
    "importances = rf_model.feature_importances_\n",
    "# We can sort the features by their importance\n",
    "sorted(zip(importances, X.columns), reverse=True)"
   ]
  },
  {
   "cell_type": "code",
   "execution_count": 110,
   "metadata": {},
   "outputs": [
    {
     "name": "stdout",
     "output_type": "stream",
     "text": [
      "Model: \"sequential_1\"\n",
      "_________________________________________________________________\n",
      " Layer (type)                Output Shape              Param #   \n",
      "=================================================================\n",
      " dense_10 (Dense)            (None, 256)               2048      \n",
      "                                                                 \n",
      " dense_11 (Dense)            (None, 64)                16448     \n",
      "                                                                 \n",
      " dense_12 (Dense)            (None, 64)                4160      \n",
      "                                                                 \n",
      " dense_13 (Dense)            (None, 64)                4160      \n",
      "                                                                 \n",
      " dense_14 (Dense)            (None, 3)                 195       \n",
      "                                                                 \n",
      "=================================================================\n",
      "Total params: 27011 (105.51 KB)\n",
      "Trainable params: 27011 (105.51 KB)\n",
      "Non-trainable params: 0 (0.00 Byte)\n",
      "_________________________________________________________________\n"
     ]
    }
   ],
   "source": [
    "# Define the model - deep neural net\n",
    "number_input_features = len(X_train.columns)\n",
    "\n",
    "nn = tf.keras.models.Sequential()\n",
    "\n",
    "# First hidden layer\n",
    "nn.add(\n",
    "    tf.keras.layers.Dense(units=256, input_dim=number_input_features, activation=\"mish\")\n",
    ")\n",
    "\n",
    "# Further hidden layers\n",
    "nn.add(tf.keras.layers.Dense(units=64, activation=\"mish\"))\n",
    "\n",
    "nn.add(tf.keras.layers.Dense(units=64, activation=\"mish\"))\n",
    "\n",
    "nn.add(tf.keras.layers.Dense(units=64, activation=\"mish\"))\n",
    "\n",
    "# Output layer\n",
    "nn.add(tf.keras.layers.Dense(units=3, activation=\"softmax\"))\n",
    "\n",
    "# Check the structure of the model\n",
    "nn.summary()"
   ]
  },
  {
   "cell_type": "code",
   "execution_count": 111,
   "metadata": {},
   "outputs": [],
   "source": [
    "nn.compile(loss=\"CategoricalCrossentropy\", optimizer=\"adam\", metrics=[\"accuracy\"])"
   ]
  },
  {
   "cell_type": "code",
   "execution_count": 112,
   "metadata": {},
   "outputs": [
    {
     "name": "stdout",
     "output_type": "stream",
     "text": [
      "Epoch 1/100\n",
      "2946/2946 [==============================] - 3s 895us/step - loss: 0.7889 - accuracy: 0.5450\n",
      "Epoch 2/100\n",
      "2946/2946 [==============================] - 3s 891us/step - loss: 0.7798 - accuracy: 0.5578\n",
      "Epoch 3/100\n",
      "2946/2946 [==============================] - 3s 880us/step - loss: 0.7774 - accuracy: 0.5626\n",
      "Epoch 4/100\n",
      "2946/2946 [==============================] - 3s 865us/step - loss: 0.7754 - accuracy: 0.5653\n",
      "Epoch 5/100\n",
      "2946/2946 [==============================] - 3s 858us/step - loss: 0.7742 - accuracy: 0.5702\n",
      "Epoch 6/100\n",
      "2946/2946 [==============================] - 3s 856us/step - loss: 0.7733 - accuracy: 0.5692\n",
      "Epoch 7/100\n",
      "2946/2946 [==============================] - 3s 852us/step - loss: 0.7726 - accuracy: 0.5718\n",
      "Epoch 8/100\n",
      "2946/2946 [==============================] - 2s 846us/step - loss: 0.7718 - accuracy: 0.5716\n",
      "Epoch 9/100\n",
      "2946/2946 [==============================] - 3s 850us/step - loss: 0.7714 - accuracy: 0.5729\n",
      "Epoch 10/100\n",
      "2946/2946 [==============================] - 3s 857us/step - loss: 0.7710 - accuracy: 0.5737\n",
      "Epoch 11/100\n",
      "2946/2946 [==============================] - 3s 854us/step - loss: 0.7703 - accuracy: 0.5736\n",
      "Epoch 12/100\n",
      "2946/2946 [==============================] - 3s 879us/step - loss: 0.7700 - accuracy: 0.5740\n",
      "Epoch 13/100\n",
      "2946/2946 [==============================] - 3s 864us/step - loss: 0.7699 - accuracy: 0.5747\n",
      "Epoch 14/100\n",
      "2946/2946 [==============================] - 3s 872us/step - loss: 0.7694 - accuracy: 0.5752\n",
      "Epoch 15/100\n",
      "2946/2946 [==============================] - 3s 854us/step - loss: 0.7690 - accuracy: 0.5757\n",
      "Epoch 16/100\n",
      "2946/2946 [==============================] - 3s 887us/step - loss: 0.7687 - accuracy: 0.5760\n",
      "Epoch 17/100\n",
      "2946/2946 [==============================] - 3s 876us/step - loss: 0.7682 - accuracy: 0.5757\n",
      "Epoch 18/100\n",
      "2946/2946 [==============================] - 3s 875us/step - loss: 0.7678 - accuracy: 0.5760\n",
      "Epoch 19/100\n",
      "2946/2946 [==============================] - 3s 884us/step - loss: 0.7675 - accuracy: 0.5766\n",
      "Epoch 20/100\n",
      "2946/2946 [==============================] - 3s 886us/step - loss: 0.7669 - accuracy: 0.5778\n",
      "Epoch 21/100\n",
      "2946/2946 [==============================] - 3s 874us/step - loss: 0.7667 - accuracy: 0.5775\n",
      "Epoch 22/100\n",
      "2946/2946 [==============================] - 3s 888us/step - loss: 0.7665 - accuracy: 0.5775\n",
      "Epoch 23/100\n",
      "2946/2946 [==============================] - 3s 870us/step - loss: 0.7663 - accuracy: 0.5795\n",
      "Epoch 24/100\n",
      "2946/2946 [==============================] - 3s 871us/step - loss: 0.7658 - accuracy: 0.5789\n",
      "Epoch 25/100\n",
      "2946/2946 [==============================] - 3s 885us/step - loss: 0.7652 - accuracy: 0.5796\n",
      "Epoch 26/100\n",
      "2946/2946 [==============================] - 3s 864us/step - loss: 0.7648 - accuracy: 0.5788\n",
      "Epoch 27/100\n",
      "2946/2946 [==============================] - 3s 866us/step - loss: 0.7646 - accuracy: 0.5805\n",
      "Epoch 28/100\n",
      "2946/2946 [==============================] - 3s 858us/step - loss: 0.7641 - accuracy: 0.5792\n",
      "Epoch 29/100\n",
      "2946/2946 [==============================] - 3s 883us/step - loss: 0.7635 - accuracy: 0.5815\n",
      "Epoch 30/100\n",
      "2946/2946 [==============================] - 3s 890us/step - loss: 0.7633 - accuracy: 0.5808\n",
      "Epoch 31/100\n",
      "2946/2946 [==============================] - 3s 880us/step - loss: 0.7626 - accuracy: 0.5813\n",
      "Epoch 32/100\n",
      "2946/2946 [==============================] - 3s 880us/step - loss: 0.7621 - accuracy: 0.5819\n",
      "Epoch 33/100\n",
      "2946/2946 [==============================] - 3s 877us/step - loss: 0.7614 - accuracy: 0.5826\n",
      "Epoch 34/100\n",
      "2946/2946 [==============================] - 3s 878us/step - loss: 0.7614 - accuracy: 0.5824\n",
      "Epoch 35/100\n",
      "2946/2946 [==============================] - 3s 868us/step - loss: 0.7607 - accuracy: 0.5837\n",
      "Epoch 36/100\n",
      "2946/2946 [==============================] - 3s 909us/step - loss: 0.7594 - accuracy: 0.5849\n",
      "Epoch 37/100\n",
      "2946/2946 [==============================] - 3s 912us/step - loss: 0.7594 - accuracy: 0.5844\n",
      "Epoch 38/100\n",
      "2946/2946 [==============================] - 3s 899us/step - loss: 0.7590 - accuracy: 0.5851\n",
      "Epoch 39/100\n",
      "2946/2946 [==============================] - 3s 904us/step - loss: 0.7588 - accuracy: 0.5851\n",
      "Epoch 40/100\n",
      "2946/2946 [==============================] - 3s 892us/step - loss: 0.7579 - accuracy: 0.5851\n",
      "Epoch 41/100\n",
      "2946/2946 [==============================] - 3s 883us/step - loss: 0.7572 - accuracy: 0.5859\n",
      "Epoch 42/100\n",
      "2946/2946 [==============================] - 3s 890us/step - loss: 0.7566 - accuracy: 0.5849\n",
      "Epoch 43/100\n",
      "2946/2946 [==============================] - 3s 885us/step - loss: 0.7561 - accuracy: 0.5862\n",
      "Epoch 44/100\n",
      "2946/2946 [==============================] - 3s 885us/step - loss: 0.7556 - accuracy: 0.5871\n",
      "Epoch 45/100\n",
      "2946/2946 [==============================] - 3s 893us/step - loss: 0.7548 - accuracy: 0.5874\n",
      "Epoch 46/100\n",
      "2946/2946 [==============================] - 3s 898us/step - loss: 0.7542 - accuracy: 0.5882\n",
      "Epoch 47/100\n",
      "2946/2946 [==============================] - 3s 897us/step - loss: 0.7539 - accuracy: 0.5871\n",
      "Epoch 48/100\n",
      "2946/2946 [==============================] - 3s 872us/step - loss: 0.7541 - accuracy: 0.5892\n",
      "Epoch 49/100\n",
      "2946/2946 [==============================] - 3s 863us/step - loss: 0.7522 - accuracy: 0.5897\n",
      "Epoch 50/100\n",
      "2946/2946 [==============================] - 3s 878us/step - loss: 0.7514 - accuracy: 0.5895\n",
      "Epoch 51/100\n",
      "2946/2946 [==============================] - 3s 868us/step - loss: 0.7510 - accuracy: 0.5905\n",
      "Epoch 52/100\n",
      "2946/2946 [==============================] - 3s 878us/step - loss: 0.7505 - accuracy: 0.5900\n",
      "Epoch 53/100\n",
      "2946/2946 [==============================] - 3s 901us/step - loss: 0.7495 - accuracy: 0.5910\n",
      "Epoch 54/100\n",
      "2946/2946 [==============================] - 3s 872us/step - loss: 0.7496 - accuracy: 0.5911\n",
      "Epoch 55/100\n",
      "2946/2946 [==============================] - 3s 862us/step - loss: 0.7484 - accuracy: 0.5914\n",
      "Epoch 56/100\n",
      "2946/2946 [==============================] - 3s 881us/step - loss: 0.7480 - accuracy: 0.5927\n",
      "Epoch 57/100\n",
      "2946/2946 [==============================] - 3s 883us/step - loss: 0.7473 - accuracy: 0.5928\n",
      "Epoch 58/100\n",
      "2946/2946 [==============================] - 3s 886us/step - loss: 0.7465 - accuracy: 0.5934\n",
      "Epoch 59/100\n",
      "2946/2946 [==============================] - 3s 915us/step - loss: 0.7459 - accuracy: 0.5933\n",
      "Epoch 60/100\n",
      "2946/2946 [==============================] - 3s 917us/step - loss: 0.7452 - accuracy: 0.5941\n",
      "Epoch 61/100\n",
      "2946/2946 [==============================] - 3s 868us/step - loss: 0.7443 - accuracy: 0.5953\n",
      "Epoch 62/100\n",
      "2946/2946 [==============================] - 3s 869us/step - loss: 0.7432 - accuracy: 0.5955\n",
      "Epoch 63/100\n",
      "2946/2946 [==============================] - 3s 875us/step - loss: 0.7437 - accuracy: 0.5960\n",
      "Epoch 64/100\n",
      "2946/2946 [==============================] - 3s 891us/step - loss: 0.7423 - accuracy: 0.5970\n",
      "Epoch 65/100\n",
      "2946/2946 [==============================] - 3s 882us/step - loss: 0.7422 - accuracy: 0.5966\n",
      "Epoch 66/100\n",
      "2946/2946 [==============================] - 3s 882us/step - loss: 0.7411 - accuracy: 0.5975\n",
      "Epoch 67/100\n",
      "2946/2946 [==============================] - 3s 904us/step - loss: 0.7398 - accuracy: 0.5973\n",
      "Epoch 68/100\n",
      "2946/2946 [==============================] - 3s 883us/step - loss: 0.7394 - accuracy: 0.5992\n",
      "Epoch 69/100\n",
      "2946/2946 [==============================] - 3s 877us/step - loss: 0.7384 - accuracy: 0.5991\n",
      "Epoch 70/100\n",
      "2946/2946 [==============================] - 3s 862us/step - loss: 0.7380 - accuracy: 0.5973\n",
      "Epoch 71/100\n",
      "2946/2946 [==============================] - 3s 898us/step - loss: 0.7369 - accuracy: 0.5989\n",
      "Epoch 72/100\n",
      "2946/2946 [==============================] - 3s 894us/step - loss: 0.7359 - accuracy: 0.6002\n",
      "Epoch 73/100\n",
      "2946/2946 [==============================] - 3s 889us/step - loss: 0.7350 - accuracy: 0.6022\n",
      "Epoch 74/100\n",
      "2946/2946 [==============================] - 3s 877us/step - loss: 0.7350 - accuracy: 0.6013\n",
      "Epoch 75/100\n",
      "2946/2946 [==============================] - 3s 874us/step - loss: 0.7340 - accuracy: 0.6013\n",
      "Epoch 76/100\n",
      "2946/2946 [==============================] - 3s 872us/step - loss: 0.7331 - accuracy: 0.6022\n",
      "Epoch 77/100\n",
      "2946/2946 [==============================] - 3s 872us/step - loss: 0.7317 - accuracy: 0.6039\n",
      "Epoch 78/100\n",
      "2946/2946 [==============================] - 3s 897us/step - loss: 0.7316 - accuracy: 0.6031\n",
      "Epoch 79/100\n",
      "2946/2946 [==============================] - 3s 884us/step - loss: 0.7310 - accuracy: 0.6035\n",
      "Epoch 80/100\n",
      "2946/2946 [==============================] - 3s 886us/step - loss: 0.7298 - accuracy: 0.6056\n",
      "Epoch 81/100\n",
      "2946/2946 [==============================] - 3s 900us/step - loss: 0.7305 - accuracy: 0.6037\n",
      "Epoch 82/100\n",
      "2946/2946 [==============================] - 3s 873us/step - loss: 0.7291 - accuracy: 0.6056\n",
      "Epoch 83/100\n",
      "2946/2946 [==============================] - 3s 855us/step - loss: 0.7283 - accuracy: 0.6051\n",
      "Epoch 84/100\n",
      "2946/2946 [==============================] - 3s 897us/step - loss: 0.7269 - accuracy: 0.6068\n",
      "Epoch 85/100\n",
      "2946/2946 [==============================] - 3s 919us/step - loss: 0.7280 - accuracy: 0.6054\n",
      "Epoch 86/100\n",
      "2946/2946 [==============================] - 3s 898us/step - loss: 0.7259 - accuracy: 0.6070\n",
      "Epoch 87/100\n",
      "2946/2946 [==============================] - 3s 918us/step - loss: 0.7260 - accuracy: 0.6064\n",
      "Epoch 88/100\n",
      "2946/2946 [==============================] - 3s 883us/step - loss: 0.7256 - accuracy: 0.6082\n",
      "Epoch 89/100\n",
      "2946/2946 [==============================] - 3s 895us/step - loss: 0.7246 - accuracy: 0.6086\n",
      "Epoch 90/100\n",
      "2946/2946 [==============================] - 3s 887us/step - loss: 0.7246 - accuracy: 0.6081\n",
      "Epoch 91/100\n",
      "2946/2946 [==============================] - 3s 885us/step - loss: 0.7236 - accuracy: 0.6092\n",
      "Epoch 92/100\n",
      "2946/2946 [==============================] - 3s 866us/step - loss: 0.7232 - accuracy: 0.6104\n",
      "Epoch 93/100\n",
      "2946/2946 [==============================] - 3s 872us/step - loss: 0.7226 - accuracy: 0.6098\n",
      "Epoch 94/100\n",
      "2946/2946 [==============================] - 3s 868us/step - loss: 0.7239 - accuracy: 0.6088\n",
      "Epoch 95/100\n",
      "2946/2946 [==============================] - 3s 884us/step - loss: 0.7215 - accuracy: 0.6114\n",
      "Epoch 96/100\n",
      "2946/2946 [==============================] - 3s 883us/step - loss: 0.7207 - accuracy: 0.6113\n",
      "Epoch 97/100\n",
      "2946/2946 [==============================] - 3s 880us/step - loss: 0.7213 - accuracy: 0.6105\n",
      "Epoch 98/100\n",
      "2946/2946 [==============================] - 3s 903us/step - loss: 0.7196 - accuracy: 0.6124\n",
      "Epoch 99/100\n",
      "2946/2946 [==============================] - 3s 888us/step - loss: 0.7196 - accuracy: 0.6115\n",
      "Epoch 100/100\n",
      "2946/2946 [==============================] - 3s 867us/step - loss: 0.7196 - accuracy: 0.6117\n"
     ]
    }
   ],
   "source": [
    "fit_model = nn.fit(X_train_scaled,y_train,epochs=100)"
   ]
  },
  {
   "cell_type": "markdown",
   "metadata": {},
   "source": [
    "## Dropping Outliers"
   ]
  },
  {
   "cell_type": "code",
   "execution_count": 121,
   "metadata": {},
   "outputs": [],
   "source": [
    "# select relevant columns of data and save as pandas dataframe\n",
    "data = spark.sql(\n",
    "    '''\n",
    "SELECT WhiteElo, White_playTime_total, White_count_all, BlackElo, Black_playTime_total, Black_count_all, TotalMoves,\n",
    "Result from chess\n",
    "WHERE Result != '*'\n",
    "'''\n",
    ").toPandas()"
   ]
  },
  {
   "cell_type": "code",
   "execution_count": 122,
   "metadata": {},
   "outputs": [],
   "source": [
    "# drop null values\n",
    "data.dropna(inplace=True)"
   ]
  },
  {
   "cell_type": "code",
   "execution_count": 123,
   "metadata": {},
   "outputs": [],
   "source": [
    "# create features exploring the differences in white versus black to use in prediction model\n",
    "data['Rating Difference'] = data['WhiteElo'] - data['BlackElo']\n",
    "data['Playtime Difference'] = data['White_playTime_total'] - data['Black_playTime_total']\n",
    "data['Games Played Difference'] = data['White_count_all'] - data['Black_count_all']\n",
    "data['White Average Playtime'] = data['White_playTime_total']/data['White_count_all']\n",
    "data['Black Average Playtime'] = data['Black_playTime_total']/data['Black_count_all']\n",
    "data['Average Playtime Difference'] = data['White Average Playtime'] - data['Black Average Playtime']"
   ]
  },
  {
   "cell_type": "code",
   "execution_count": 124,
   "metadata": {},
   "outputs": [],
   "source": [
    "# drop features that are not categorical\n",
    "data.drop(['WhiteElo','BlackElo','White_count_all','Black_count_all','White_playTime_total','Black_playTime_total'],axis=1,inplace=True)"
   ]
  },
  {
   "cell_type": "code",
   "execution_count": 126,
   "metadata": {},
   "outputs": [],
   "source": [
    "indices = data.loc[(data['Rating Difference']>150) | (data['Rating Difference'] < -150)].index\n",
    "data.drop(indices, inplace=True)"
   ]
  },
  {
   "cell_type": "code",
   "execution_count": 127,
   "metadata": {},
   "outputs": [],
   "source": [
    "# dummy encode the categorical data and sort into target and features\n",
    "y = pd.get_dummies(data['Result'])\n",
    "X = pd.get_dummies(data.drop('Result', axis=1))"
   ]
  },
  {
   "cell_type": "code",
   "execution_count": 128,
   "metadata": {},
   "outputs": [],
   "source": [
    "# split the data into training and testing data\n",
    "X_train, X_test, y_train, y_test = train_test_split(X, y, random_state=78)"
   ]
  },
  {
   "cell_type": "code",
   "execution_count": 129,
   "metadata": {},
   "outputs": [],
   "source": [
    "# Create a StandardScaler instances\n",
    "scaler = StandardScaler()\n",
    "\n",
    "# Fit the StandardScaler\n",
    "X_scaler = scaler.fit(X_train)\n",
    "\n",
    "# Scale the data\n",
    "X_train_scaled = X_scaler.transform(X_train)\n",
    "X_test_scaled = X_scaler.transform(X_test)"
   ]
  },
  {
   "cell_type": "code",
   "execution_count": 130,
   "metadata": {},
   "outputs": [],
   "source": [
    "# initiate a random forest model\n",
    "rf_model = RandomForestClassifier(n_estimators=512, random_state=78)"
   ]
  },
  {
   "cell_type": "code",
   "execution_count": 153,
   "metadata": {},
   "outputs": [],
   "source": [
    "# train the model with training data\n",
    "rf_model = rf_model.fit(X_train_scaled, y_train)"
   ]
  },
  {
   "cell_type": "code",
   "execution_count": 154,
   "metadata": {},
   "outputs": [],
   "source": [
    "# Making predictions using the testing data\n",
    "predictions = rf_model.predict(X_test_scaled)"
   ]
  },
  {
   "cell_type": "code",
   "execution_count": 155,
   "metadata": {},
   "outputs": [],
   "source": [
    "# Calculating the accuracy score\n",
    "acc_score = accuracy_score(y_test, predictions)"
   ]
  },
  {
   "cell_type": "code",
   "execution_count": 156,
   "metadata": {},
   "outputs": [
    {
     "name": "stdout",
     "output_type": "stream",
     "text": [
      "Accuracy Score : 0.5814647118010636\n",
      "Classification Report\n",
      "              precision    recall  f1-score   support\n",
      "\n",
      "  Black Wins       0.65      0.55      0.60     12913\n",
      "  White Wins       0.66      0.65      0.66     13906\n",
      "        Draw       0.00      0.00      0.00      1009\n",
      "\n",
      "   micro avg       0.66      0.58      0.62     27828\n",
      "   macro avg       0.44      0.40      0.42     27828\n",
      "weighted avg       0.63      0.58      0.60     27828\n",
      " samples avg       0.58      0.58      0.58     27828\n",
      "\n"
     ]
    },
    {
     "name": "stderr",
     "output_type": "stream",
     "text": [
      "c:\\Users\\Ian\\anaconda3\\envs\\dev\\lib\\site-packages\\sklearn\\metrics\\_classification.py:1344: UndefinedMetricWarning: Precision and F-score are ill-defined and being set to 0.0 in samples with no predicted labels. Use `zero_division` parameter to control this behavior.\n",
      "  _warn_prf(average, modifier, msg_start, len(result))\n"
     ]
    }
   ],
   "source": [
    "# Displaying results\n",
    "print(f\"Accuracy Score : {acc_score}\")\n",
    "print(\"Classification Report\")\n",
    "print(classification_report(y_test, predictions, target_names=['Black Wins', 'White Wins', 'Draw']))"
   ]
  },
  {
   "cell_type": "code",
   "execution_count": null,
   "metadata": {},
   "outputs": [
    {
     "data": {
      "text/plain": [
       "[(0.19507156071721687, 'TotalMoves'),\n",
       " (0.14279263196713235, 'Playtime Difference'),\n",
       " (0.13946888783574055, 'Games Played Difference'),\n",
       " (0.132768463350627, 'Rating Difference'),\n",
       " (0.13144882239692643, 'Average Playtime Difference'),\n",
       " (0.12963849311032632, 'White Average Playtime'),\n",
       " (0.12881114062203056, 'Black Average Playtime')]"
      ]
     },
     "metadata": {},
     "output_type": "display_data"
    }
   ],
   "source": [
    "# Random Forests in sklearn will automatically calculate feature importance\n",
    "importances = rf_model.feature_importances_\n",
    "# We can sort the features by their importance\n",
    "sorted(zip(importances, X.columns), reverse=True)"
   ]
  },
  {
   "cell_type": "code",
   "execution_count": 137,
   "metadata": {},
   "outputs": [
    {
     "name": "stdout",
     "output_type": "stream",
     "text": [
      "Model: \"sequential_3\"\n",
      "_________________________________________________________________\n",
      " Layer (type)                Output Shape              Param #   \n",
      "=================================================================\n",
      " dense_20 (Dense)            (None, 256)               2048      \n",
      "                                                                 \n",
      " dense_21 (Dense)            (None, 64)                16448     \n",
      "                                                                 \n",
      " dense_22 (Dense)            (None, 64)                4160      \n",
      "                                                                 \n",
      " dense_23 (Dense)            (None, 64)                4160      \n",
      "                                                                 \n",
      " dense_24 (Dense)            (None, 3)                 195       \n",
      "                                                                 \n",
      "=================================================================\n",
      "Total params: 27011 (105.51 KB)\n",
      "Trainable params: 27011 (105.51 KB)\n",
      "Non-trainable params: 0 (0.00 Byte)\n",
      "_________________________________________________________________\n"
     ]
    }
   ],
   "source": [
    "# Define the model - deep neural net\n",
    "number_input_features = len(X_train.columns)\n",
    "\n",
    "nn = tf.keras.models.Sequential()\n",
    "\n",
    "# First hidden layer\n",
    "nn.add(\n",
    "    tf.keras.layers.Dense(units=256, input_dim=number_input_features, activation=\"mish\")\n",
    ")\n",
    "\n",
    "# Further hidden layers\n",
    "nn.add(tf.keras.layers.Dense(units=64, activation=\"mish\"))\n",
    "\n",
    "nn.add(tf.keras.layers.Dense(units=64, activation=\"mish\"))\n",
    "\n",
    "nn.add(tf.keras.layers.Dense(units=64, activation=\"mish\"))\n",
    "\n",
    "# Output layer\n",
    "nn.add(tf.keras.layers.Dense(units=3, activation=\"softmax\"))\n",
    "\n",
    "# Check the structure of the model\n",
    "nn.summary()"
   ]
  },
  {
   "cell_type": "code",
   "execution_count": 144,
   "metadata": {},
   "outputs": [],
   "source": [
    "nn.compile(loss=\"CategoricalCrossentropy\", optimizer=\"adam\", metrics=[\"accuracy\"])"
   ]
  },
  {
   "cell_type": "code",
   "execution_count": 146,
   "metadata": {},
   "outputs": [
    {
     "name": "stdout",
     "output_type": "stream",
     "text": [
      "Epoch 1/20\n",
      "2609/2609 [==============================] - 3s 1ms/step - loss: 0.7727 - accuracy: 0.5722 - val_loss: 0.7766 - val_accuracy: 0.5640\n",
      "Epoch 2/20\n",
      "2609/2609 [==============================] - 3s 1ms/step - loss: 0.7722 - accuracy: 0.5719 - val_loss: 0.7778 - val_accuracy: 0.5650\n",
      "Epoch 3/20\n",
      "2609/2609 [==============================] - 3s 1ms/step - loss: 0.7722 - accuracy: 0.5727 - val_loss: 0.7759 - val_accuracy: 0.5670\n",
      "Epoch 4/20\n",
      "2609/2609 [==============================] - 3s 1ms/step - loss: 0.7717 - accuracy: 0.5728 - val_loss: 0.7763 - val_accuracy: 0.5685\n",
      "Epoch 5/20\n",
      "2609/2609 [==============================] - 3s 1ms/step - loss: 0.7713 - accuracy: 0.5725 - val_loss: 0.7765 - val_accuracy: 0.5686\n",
      "Epoch 6/20\n",
      "2609/2609 [==============================] - 3s 1ms/step - loss: 0.7710 - accuracy: 0.5736 - val_loss: 0.7756 - val_accuracy: 0.5691\n",
      "Epoch 7/20\n",
      "2609/2609 [==============================] - 3s 1ms/step - loss: 0.7709 - accuracy: 0.5745 - val_loss: 0.7762 - val_accuracy: 0.5684\n",
      "Epoch 8/20\n",
      "2609/2609 [==============================] - 3s 1ms/step - loss: 0.7707 - accuracy: 0.5744 - val_loss: 0.7756 - val_accuracy: 0.5659\n",
      "Epoch 9/20\n",
      "2609/2609 [==============================] - 3s 1ms/step - loss: 0.7703 - accuracy: 0.5742 - val_loss: 0.7784 - val_accuracy: 0.5671\n",
      "Epoch 10/20\n",
      "2609/2609 [==============================] - 3s 1ms/step - loss: 0.7699 - accuracy: 0.5742 - val_loss: 0.7771 - val_accuracy: 0.5686\n",
      "Epoch 11/20\n",
      "2609/2609 [==============================] - 3s 1ms/step - loss: 0.7696 - accuracy: 0.5753 - val_loss: 0.7791 - val_accuracy: 0.5683\n",
      "Epoch 12/20\n",
      "2609/2609 [==============================] - 3s 1ms/step - loss: 0.7692 - accuracy: 0.5755 - val_loss: 0.7779 - val_accuracy: 0.5659\n",
      "Epoch 13/20\n",
      "2609/2609 [==============================] - 3s 1ms/step - loss: 0.7689 - accuracy: 0.5760 - val_loss: 0.7773 - val_accuracy: 0.5677\n",
      "Epoch 14/20\n",
      "2609/2609 [==============================] - 3s 1ms/step - loss: 0.7683 - accuracy: 0.5763 - val_loss: 0.7777 - val_accuracy: 0.5678\n",
      "Epoch 15/20\n",
      "2609/2609 [==============================] - 3s 1ms/step - loss: 0.7679 - accuracy: 0.5765 - val_loss: 0.7771 - val_accuracy: 0.5677\n",
      "Epoch 16/20\n",
      "2609/2609 [==============================] - 3s 1ms/step - loss: 0.7675 - accuracy: 0.5773 - val_loss: 0.7774 - val_accuracy: 0.5675\n",
      "Epoch 17/20\n",
      "2609/2609 [==============================] - 3s 1ms/step - loss: 0.7668 - accuracy: 0.5780 - val_loss: 0.7802 - val_accuracy: 0.5631\n",
      "Epoch 18/20\n",
      "2609/2609 [==============================] - 3s 1ms/step - loss: 0.7661 - accuracy: 0.5779 - val_loss: 0.7810 - val_accuracy: 0.5652\n",
      "Epoch 19/20\n",
      "2609/2609 [==============================] - 3s 1ms/step - loss: 0.7661 - accuracy: 0.5789 - val_loss: 0.7785 - val_accuracy: 0.5654\n",
      "Epoch 20/20\n",
      "2609/2609 [==============================] - 3s 1ms/step - loss: 0.7652 - accuracy: 0.5779 - val_loss: 0.7822 - val_accuracy: 0.5649\n"
     ]
    }
   ],
   "source": [
    "fit_model = nn.fit(X_train_scaled,y_train,epochs=20,validation_data=(X_test_scaled,y_test))"
   ]
  },
  {
   "cell_type": "markdown",
   "metadata": {},
   "source": [
    "## Adding a Dropout Layer"
   ]
  },
  {
   "cell_type": "code",
   "execution_count": 147,
   "metadata": {},
   "outputs": [
    {
     "name": "stdout",
     "output_type": "stream",
     "text": [
      "Model: \"sequential_4\"\n",
      "_________________________________________________________________\n",
      " Layer (type)                Output Shape              Param #   \n",
      "=================================================================\n",
      " dense_25 (Dense)            (None, 256)               2048      \n",
      "                                                                 \n",
      " dense_26 (Dense)            (None, 64)                16448     \n",
      "                                                                 \n",
      " dropout (Dropout)           (None, 64)                0         \n",
      "                                                                 \n",
      " dense_27 (Dense)            (None, 64)                4160      \n",
      "                                                                 \n",
      " dense_28 (Dense)            (None, 64)                4160      \n",
      "                                                                 \n",
      " dense_29 (Dense)            (None, 3)                 195       \n",
      "                                                                 \n",
      "=================================================================\n",
      "Total params: 27011 (105.51 KB)\n",
      "Trainable params: 27011 (105.51 KB)\n",
      "Non-trainable params: 0 (0.00 Byte)\n",
      "_________________________________________________________________\n"
     ]
    }
   ],
   "source": [
    "# Define the model - deep neural net\n",
    "number_input_features = len(X_train.columns)\n",
    "\n",
    "nn = tf.keras.models.Sequential()\n",
    "\n",
    "# First hidden layer\n",
    "nn.add(\n",
    "    tf.keras.layers.Dense(units=256, input_dim=number_input_features, activation=\"mish\")\n",
    ")\n",
    "\n",
    "# Further hidden layers\n",
    "nn.add(tf.keras.layers.Dense(units=64, activation=\"mish\"))\n",
    "\n",
    "# Adding dropout layer\n",
    "\n",
    "nn.add(tf.keras.layers.Dropout(0.1))\n",
    "\n",
    "# More hidden layers\n",
    "\n",
    "nn.add(tf.keras.layers.Dense(units=64, activation=\"mish\"))\n",
    "\n",
    "nn.add(tf.keras.layers.Dense(units=64, activation=\"mish\"))\n",
    "\n",
    "# Output layer\n",
    "nn.add(tf.keras.layers.Dense(units=3, activation=\"softmax\"))\n",
    "\n",
    "# Check the structure of the model\n",
    "nn.summary()"
   ]
  },
  {
   "cell_type": "code",
   "execution_count": 148,
   "metadata": {},
   "outputs": [],
   "source": [
    "nn.compile(loss=\"CategoricalCrossentropy\", optimizer=\"adam\", metrics=[\"accuracy\"])"
   ]
  },
  {
   "cell_type": "code",
   "execution_count": 149,
   "metadata": {},
   "outputs": [
    {
     "name": "stdout",
     "output_type": "stream",
     "text": [
      "Epoch 1/20\n",
      "2609/2609 [==============================] - 4s 1ms/step - loss: 0.7913 - accuracy: 0.5447 - val_loss: 0.7870 - val_accuracy: 0.5442\n",
      "Epoch 2/20\n",
      "2609/2609 [==============================] - 3s 1ms/step - loss: 0.7831 - accuracy: 0.5573 - val_loss: 0.7797 - val_accuracy: 0.5622\n",
      "Epoch 3/20\n",
      "2609/2609 [==============================] - 3s 1ms/step - loss: 0.7806 - accuracy: 0.5592 - val_loss: 0.7768 - val_accuracy: 0.5663\n",
      "Epoch 4/20\n",
      "2609/2609 [==============================] - 3s 1ms/step - loss: 0.7790 - accuracy: 0.5627 - val_loss: 0.7806 - val_accuracy: 0.5670\n",
      "Epoch 5/20\n",
      "2609/2609 [==============================] - 3s 1ms/step - loss: 0.7779 - accuracy: 0.5656 - val_loss: 0.7800 - val_accuracy: 0.5664\n",
      "Epoch 6/20\n",
      "2609/2609 [==============================] - 3s 1ms/step - loss: 0.7778 - accuracy: 0.5649 - val_loss: 0.7780 - val_accuracy: 0.5660\n",
      "Epoch 7/20\n",
      "2609/2609 [==============================] - 3s 1ms/step - loss: 0.7770 - accuracy: 0.5675 - val_loss: 0.7775 - val_accuracy: 0.5631\n",
      "Epoch 8/20\n",
      "2609/2609 [==============================] - 3s 1ms/step - loss: 0.7766 - accuracy: 0.5658 - val_loss: 0.7772 - val_accuracy: 0.5633\n",
      "Epoch 9/20\n",
      "2609/2609 [==============================] - 3s 1ms/step - loss: 0.7758 - accuracy: 0.5676 - val_loss: 0.7767 - val_accuracy: 0.5653\n",
      "Epoch 10/20\n",
      "2609/2609 [==============================] - 3s 1ms/step - loss: 0.7761 - accuracy: 0.5686 - val_loss: 0.7778 - val_accuracy: 0.5661\n",
      "Epoch 11/20\n",
      "2609/2609 [==============================] - 3s 1ms/step - loss: 0.7759 - accuracy: 0.5691 - val_loss: 0.7790 - val_accuracy: 0.5618\n",
      "Epoch 12/20\n",
      "2609/2609 [==============================] - 3s 1ms/step - loss: 0.7755 - accuracy: 0.5704 - val_loss: 0.7779 - val_accuracy: 0.5634\n",
      "Epoch 13/20\n",
      "2609/2609 [==============================] - 3s 1ms/step - loss: 0.7754 - accuracy: 0.5687 - val_loss: 0.7764 - val_accuracy: 0.5670\n",
      "Epoch 14/20\n",
      "2609/2609 [==============================] - 3s 1ms/step - loss: 0.7754 - accuracy: 0.5689 - val_loss: 0.7775 - val_accuracy: 0.5683\n",
      "Epoch 15/20\n",
      "2609/2609 [==============================] - 3s 1ms/step - loss: 0.7748 - accuracy: 0.5701 - val_loss: 0.7767 - val_accuracy: 0.5651\n",
      "Epoch 16/20\n",
      "2609/2609 [==============================] - 3s 1ms/step - loss: 0.7748 - accuracy: 0.5694 - val_loss: 0.7759 - val_accuracy: 0.5689\n",
      "Epoch 17/20\n",
      "2609/2609 [==============================] - 3s 1ms/step - loss: 0.7752 - accuracy: 0.5701 - val_loss: 0.7787 - val_accuracy: 0.5666\n",
      "Epoch 18/20\n",
      "2609/2609 [==============================] - 3s 1ms/step - loss: 0.7744 - accuracy: 0.5689 - val_loss: 0.7760 - val_accuracy: 0.5668\n",
      "Epoch 19/20\n",
      "2609/2609 [==============================] - 3s 1ms/step - loss: 0.7749 - accuracy: 0.5702 - val_loss: 0.7756 - val_accuracy: 0.5673\n",
      "Epoch 20/20\n",
      "2609/2609 [==============================] - 3s 1ms/step - loss: 0.7742 - accuracy: 0.5704 - val_loss: 0.7768 - val_accuracy: 0.5647\n"
     ]
    }
   ],
   "source": [
    "fit_model = nn.fit(X_train_scaled,y_train,epochs=20,validation_data=(X_test_scaled,y_test))"
   ]
  },
  {
   "cell_type": "markdown",
   "metadata": {},
   "source": [
    "## Adding a Normalization Layer"
   ]
  },
  {
   "cell_type": "code",
   "execution_count": 160,
   "metadata": {},
   "outputs": [
    {
     "name": "stdout",
     "output_type": "stream",
     "text": [
      "Model: \"sequential_6\"\n",
      "_________________________________________________________________\n",
      " Layer (type)                Output Shape              Param #   \n",
      "=================================================================\n",
      " dense_35 (Dense)            (None, 256)               2048      \n",
      "                                                                 \n",
      " dense_36 (Dense)            (None, 64)                16448     \n",
      "                                                                 \n",
      " normalization_1 (Normaliza  (None, 64)                3         \n",
      " tion)                                                           \n",
      "                                                                 \n",
      " dense_37 (Dense)            (None, 64)                4160      \n",
      "                                                                 \n",
      " dense_38 (Dense)            (None, 64)                4160      \n",
      "                                                                 \n",
      " dense_39 (Dense)            (None, 3)                 195       \n",
      "                                                                 \n",
      "=================================================================\n",
      "Total params: 27014 (105.53 KB)\n",
      "Trainable params: 27011 (105.51 KB)\n",
      "Non-trainable params: 3 (16.00 Byte)\n",
      "_________________________________________________________________\n"
     ]
    }
   ],
   "source": [
    "# Define the model - deep neural net\n",
    "number_input_features = len(X_train.columns)\n",
    "\n",
    "nn = tf.keras.models.Sequential()\n",
    "\n",
    "# First hidden layer\n",
    "nn.add(\n",
    "    tf.keras.layers.Dense(units=256, input_dim=number_input_features, activation=\"relu\")\n",
    ")\n",
    "\n",
    "# Further hidden layers\n",
    "nn.add(tf.keras.layers.Dense(units=64, activation=\"relu\"))\n",
    "\n",
    "nn.add(tf.keras.layers.Normalization(axis=None))\n",
    "\n",
    "nn.add(tf.keras.layers.Dense(units=64, activation=\"relu\"))\n",
    "\n",
    "nn.add(tf.keras.layers.Dense(units=64, activation=\"relu\"))\n",
    "\n",
    "# Output layer\n",
    "nn.add(tf.keras.layers.Dense(units=3, activation=\"softmax\"))\n",
    "\n",
    "# Check the structure of the model\n",
    "nn.summary()"
   ]
  },
  {
   "cell_type": "code",
   "execution_count": 161,
   "metadata": {},
   "outputs": [],
   "source": [
    "nn.compile(loss=\"CategoricalCrossentropy\", optimizer=\"adam\", metrics=[\"accuracy\"])"
   ]
  },
  {
   "cell_type": "code",
   "execution_count": 162,
   "metadata": {},
   "outputs": [
    {
     "name": "stdout",
     "output_type": "stream",
     "text": [
      "Epoch 1/20\n",
      "2609/2609 [==============================] - 3s 1ms/step - loss: 0.7900 - accuracy: 0.5489 - val_loss: 0.7803 - val_accuracy: 0.5563\n",
      "Epoch 2/20\n",
      "2609/2609 [==============================] - 3s 958us/step - loss: 0.7805 - accuracy: 0.5609 - val_loss: 0.7777 - val_accuracy: 0.5622\n",
      "Epoch 3/20\n",
      "2609/2609 [==============================] - 3s 965us/step - loss: 0.7781 - accuracy: 0.5646 - val_loss: 0.7783 - val_accuracy: 0.5646\n",
      "Epoch 4/20\n",
      "2609/2609 [==============================] - 3s 962us/step - loss: 0.7771 - accuracy: 0.5666 - val_loss: 0.7784 - val_accuracy: 0.5648\n",
      "Epoch 5/20\n",
      "2609/2609 [==============================] - 3s 1ms/step - loss: 0.7756 - accuracy: 0.5695 - val_loss: 0.7786 - val_accuracy: 0.5657\n",
      "Epoch 6/20\n",
      "2590/2609 [============================>.] - ETA: 0s - loss: 0.7750 - accuracy: 0.5714"
     ]
    },
    {
     "ename": "KeyboardInterrupt",
     "evalue": "",
     "output_type": "error",
     "traceback": [
      "\u001b[1;31m---------------------------------------------------------------------------\u001b[0m",
      "\u001b[1;31mKeyboardInterrupt\u001b[0m                         Traceback (most recent call last)",
      "Cell \u001b[1;32mIn[162], line 1\u001b[0m\n\u001b[1;32m----> 1\u001b[0m fit_model \u001b[38;5;241m=\u001b[39m \u001b[43mnn\u001b[49m\u001b[38;5;241;43m.\u001b[39;49m\u001b[43mfit\u001b[49m\u001b[43m(\u001b[49m\u001b[43mX_train_scaled\u001b[49m\u001b[43m,\u001b[49m\u001b[43my_train\u001b[49m\u001b[43m,\u001b[49m\u001b[43mepochs\u001b[49m\u001b[38;5;241;43m=\u001b[39;49m\u001b[38;5;241;43m20\u001b[39;49m\u001b[43m,\u001b[49m\u001b[43mvalidation_data\u001b[49m\u001b[38;5;241;43m=\u001b[39;49m\u001b[43m(\u001b[49m\u001b[43mX_test_scaled\u001b[49m\u001b[43m,\u001b[49m\u001b[43my_test\u001b[49m\u001b[43m)\u001b[49m\u001b[43m)\u001b[49m\n",
      "File \u001b[1;32mc:\\Users\\Ian\\anaconda3\\envs\\dev\\lib\\site-packages\\keras\\src\\utils\\traceback_utils.py:65\u001b[0m, in \u001b[0;36mfilter_traceback.<locals>.error_handler\u001b[1;34m(*args, **kwargs)\u001b[0m\n\u001b[0;32m     63\u001b[0m filtered_tb \u001b[38;5;241m=\u001b[39m \u001b[38;5;28;01mNone\u001b[39;00m\n\u001b[0;32m     64\u001b[0m \u001b[38;5;28;01mtry\u001b[39;00m:\n\u001b[1;32m---> 65\u001b[0m     \u001b[38;5;28;01mreturn\u001b[39;00m fn(\u001b[38;5;241m*\u001b[39margs, \u001b[38;5;241m*\u001b[39m\u001b[38;5;241m*\u001b[39mkwargs)\n\u001b[0;32m     66\u001b[0m \u001b[38;5;28;01mexcept\u001b[39;00m \u001b[38;5;167;01mException\u001b[39;00m \u001b[38;5;28;01mas\u001b[39;00m e:\n\u001b[0;32m     67\u001b[0m     filtered_tb \u001b[38;5;241m=\u001b[39m _process_traceback_frames(e\u001b[38;5;241m.\u001b[39m__traceback__)\n",
      "File \u001b[1;32mc:\\Users\\Ian\\anaconda3\\envs\\dev\\lib\\site-packages\\keras\\src\\engine\\training.py:1856\u001b[0m, in \u001b[0;36mModel.fit\u001b[1;34m(self, x, y, batch_size, epochs, verbose, callbacks, validation_split, validation_data, shuffle, class_weight, sample_weight, initial_epoch, steps_per_epoch, validation_steps, validation_batch_size, validation_freq, max_queue_size, workers, use_multiprocessing)\u001b[0m\n\u001b[0;32m   1840\u001b[0m \u001b[38;5;28;01mif\u001b[39;00m \u001b[38;5;28mgetattr\u001b[39m(\u001b[38;5;28mself\u001b[39m, \u001b[38;5;124m\"\u001b[39m\u001b[38;5;124m_eval_data_handler\u001b[39m\u001b[38;5;124m\"\u001b[39m, \u001b[38;5;28;01mNone\u001b[39;00m) \u001b[38;5;129;01mis\u001b[39;00m \u001b[38;5;28;01mNone\u001b[39;00m:\n\u001b[0;32m   1841\u001b[0m     \u001b[38;5;28mself\u001b[39m\u001b[38;5;241m.\u001b[39m_eval_data_handler \u001b[38;5;241m=\u001b[39m data_adapter\u001b[38;5;241m.\u001b[39mget_data_handler(\n\u001b[0;32m   1842\u001b[0m         x\u001b[38;5;241m=\u001b[39mval_x,\n\u001b[0;32m   1843\u001b[0m         y\u001b[38;5;241m=\u001b[39mval_y,\n\u001b[1;32m   (...)\u001b[0m\n\u001b[0;32m   1854\u001b[0m         pss_evaluation_shards\u001b[38;5;241m=\u001b[39m\u001b[38;5;28mself\u001b[39m\u001b[38;5;241m.\u001b[39m_pss_evaluation_shards,\n\u001b[0;32m   1855\u001b[0m     )\n\u001b[1;32m-> 1856\u001b[0m val_logs \u001b[38;5;241m=\u001b[39m \u001b[38;5;28;43mself\u001b[39;49m\u001b[38;5;241;43m.\u001b[39;49m\u001b[43mevaluate\u001b[49m\u001b[43m(\u001b[49m\n\u001b[0;32m   1857\u001b[0m \u001b[43m    \u001b[49m\u001b[43mx\u001b[49m\u001b[38;5;241;43m=\u001b[39;49m\u001b[43mval_x\u001b[49m\u001b[43m,\u001b[49m\n\u001b[0;32m   1858\u001b[0m \u001b[43m    \u001b[49m\u001b[43my\u001b[49m\u001b[38;5;241;43m=\u001b[39;49m\u001b[43mval_y\u001b[49m\u001b[43m,\u001b[49m\n\u001b[0;32m   1859\u001b[0m \u001b[43m    \u001b[49m\u001b[43msample_weight\u001b[49m\u001b[38;5;241;43m=\u001b[39;49m\u001b[43mval_sample_weight\u001b[49m\u001b[43m,\u001b[49m\n\u001b[0;32m   1860\u001b[0m \u001b[43m    \u001b[49m\u001b[43mbatch_size\u001b[49m\u001b[38;5;241;43m=\u001b[39;49m\u001b[43mvalidation_batch_size\u001b[49m\u001b[43m \u001b[49m\u001b[38;5;129;43;01mor\u001b[39;49;00m\u001b[43m \u001b[49m\u001b[43mbatch_size\u001b[49m\u001b[43m,\u001b[49m\n\u001b[0;32m   1861\u001b[0m \u001b[43m    \u001b[49m\u001b[43msteps\u001b[49m\u001b[38;5;241;43m=\u001b[39;49m\u001b[43mvalidation_steps\u001b[49m\u001b[43m,\u001b[49m\n\u001b[0;32m   1862\u001b[0m \u001b[43m    \u001b[49m\u001b[43mcallbacks\u001b[49m\u001b[38;5;241;43m=\u001b[39;49m\u001b[43mcallbacks\u001b[49m\u001b[43m,\u001b[49m\n\u001b[0;32m   1863\u001b[0m \u001b[43m    \u001b[49m\u001b[43mmax_queue_size\u001b[49m\u001b[38;5;241;43m=\u001b[39;49m\u001b[43mmax_queue_size\u001b[49m\u001b[43m,\u001b[49m\n\u001b[0;32m   1864\u001b[0m \u001b[43m    \u001b[49m\u001b[43mworkers\u001b[49m\u001b[38;5;241;43m=\u001b[39;49m\u001b[43mworkers\u001b[49m\u001b[43m,\u001b[49m\n\u001b[0;32m   1865\u001b[0m \u001b[43m    \u001b[49m\u001b[43muse_multiprocessing\u001b[49m\u001b[38;5;241;43m=\u001b[39;49m\u001b[43muse_multiprocessing\u001b[49m\u001b[43m,\u001b[49m\n\u001b[0;32m   1866\u001b[0m \u001b[43m    \u001b[49m\u001b[43mreturn_dict\u001b[49m\u001b[38;5;241;43m=\u001b[39;49m\u001b[38;5;28;43;01mTrue\u001b[39;49;00m\u001b[43m,\u001b[49m\n\u001b[0;32m   1867\u001b[0m \u001b[43m    \u001b[49m\u001b[43m_use_cached_eval_dataset\u001b[49m\u001b[38;5;241;43m=\u001b[39;49m\u001b[38;5;28;43;01mTrue\u001b[39;49;00m\u001b[43m,\u001b[49m\n\u001b[0;32m   1868\u001b[0m \u001b[43m\u001b[49m\u001b[43m)\u001b[49m\n\u001b[0;32m   1869\u001b[0m val_logs \u001b[38;5;241m=\u001b[39m {\n\u001b[0;32m   1870\u001b[0m     \u001b[38;5;124m\"\u001b[39m\u001b[38;5;124mval_\u001b[39m\u001b[38;5;124m\"\u001b[39m \u001b[38;5;241m+\u001b[39m name: val \u001b[38;5;28;01mfor\u001b[39;00m name, val \u001b[38;5;129;01min\u001b[39;00m val_logs\u001b[38;5;241m.\u001b[39mitems()\n\u001b[0;32m   1871\u001b[0m }\n\u001b[0;32m   1872\u001b[0m epoch_logs\u001b[38;5;241m.\u001b[39mupdate(val_logs)\n",
      "File \u001b[1;32mc:\\Users\\Ian\\anaconda3\\envs\\dev\\lib\\site-packages\\keras\\src\\utils\\traceback_utils.py:65\u001b[0m, in \u001b[0;36mfilter_traceback.<locals>.error_handler\u001b[1;34m(*args, **kwargs)\u001b[0m\n\u001b[0;32m     63\u001b[0m filtered_tb \u001b[38;5;241m=\u001b[39m \u001b[38;5;28;01mNone\u001b[39;00m\n\u001b[0;32m     64\u001b[0m \u001b[38;5;28;01mtry\u001b[39;00m:\n\u001b[1;32m---> 65\u001b[0m     \u001b[38;5;28;01mreturn\u001b[39;00m fn(\u001b[38;5;241m*\u001b[39margs, \u001b[38;5;241m*\u001b[39m\u001b[38;5;241m*\u001b[39mkwargs)\n\u001b[0;32m     66\u001b[0m \u001b[38;5;28;01mexcept\u001b[39;00m \u001b[38;5;167;01mException\u001b[39;00m \u001b[38;5;28;01mas\u001b[39;00m e:\n\u001b[0;32m     67\u001b[0m     filtered_tb \u001b[38;5;241m=\u001b[39m _process_traceback_frames(e\u001b[38;5;241m.\u001b[39m__traceback__)\n",
      "File \u001b[1;32mc:\\Users\\Ian\\anaconda3\\envs\\dev\\lib\\site-packages\\keras\\src\\engine\\training.py:2296\u001b[0m, in \u001b[0;36mModel.evaluate\u001b[1;34m(self, x, y, batch_size, verbose, sample_weight, steps, callbacks, max_queue_size, workers, use_multiprocessing, return_dict, **kwargs)\u001b[0m\n\u001b[0;32m   2292\u001b[0m             \u001b[38;5;28;01mwith\u001b[39;00m tf\u001b[38;5;241m.\u001b[39mprofiler\u001b[38;5;241m.\u001b[39mexperimental\u001b[38;5;241m.\u001b[39mTrace(\n\u001b[0;32m   2293\u001b[0m                 \u001b[38;5;124m\"\u001b[39m\u001b[38;5;124mtest\u001b[39m\u001b[38;5;124m\"\u001b[39m, step_num\u001b[38;5;241m=\u001b[39mstep, _r\u001b[38;5;241m=\u001b[39m\u001b[38;5;241m1\u001b[39m\n\u001b[0;32m   2294\u001b[0m             ):\n\u001b[0;32m   2295\u001b[0m                 callbacks\u001b[38;5;241m.\u001b[39mon_test_batch_begin(step)\n\u001b[1;32m-> 2296\u001b[0m                 logs \u001b[38;5;241m=\u001b[39m \u001b[43mtest_function_runner\u001b[49m\u001b[38;5;241;43m.\u001b[39;49m\u001b[43mrun_step\u001b[49m\u001b[43m(\u001b[49m\n\u001b[0;32m   2297\u001b[0m \u001b[43m                    \u001b[49m\u001b[43mdataset_or_iterator\u001b[49m\u001b[43m,\u001b[49m\n\u001b[0;32m   2298\u001b[0m \u001b[43m                    \u001b[49m\u001b[43mdata_handler\u001b[49m\u001b[43m,\u001b[49m\n\u001b[0;32m   2299\u001b[0m \u001b[43m                    \u001b[49m\u001b[43mstep\u001b[49m\u001b[43m,\u001b[49m\n\u001b[0;32m   2300\u001b[0m \u001b[43m                    \u001b[49m\u001b[38;5;28;43mself\u001b[39;49m\u001b[38;5;241;43m.\u001b[39;49m\u001b[43m_pss_evaluation_shards\u001b[49m\u001b[43m,\u001b[49m\n\u001b[0;32m   2301\u001b[0m \u001b[43m                \u001b[49m\u001b[43m)\u001b[49m\n\u001b[0;32m   2303\u001b[0m logs \u001b[38;5;241m=\u001b[39m tf_utils\u001b[38;5;241m.\u001b[39msync_to_numpy_or_python_type(logs)\n\u001b[0;32m   2304\u001b[0m \u001b[38;5;66;03m# Override with model metrics instead of last step logs\u001b[39;00m\n",
      "File \u001b[1;32mc:\\Users\\Ian\\anaconda3\\envs\\dev\\lib\\site-packages\\keras\\src\\engine\\training.py:4108\u001b[0m, in \u001b[0;36m_TestFunction.run_step\u001b[1;34m(self, dataset_or_iterator, data_handler, step, unused_shards)\u001b[0m\n\u001b[0;32m   4107\u001b[0m \u001b[38;5;28;01mdef\u001b[39;00m \u001b[38;5;21mrun_step\u001b[39m(\u001b[38;5;28mself\u001b[39m, dataset_or_iterator, data_handler, step, unused_shards):\n\u001b[1;32m-> 4108\u001b[0m     tmp_logs \u001b[38;5;241m=\u001b[39m \u001b[38;5;28;43mself\u001b[39;49m\u001b[38;5;241;43m.\u001b[39;49m\u001b[43m_function\u001b[49m\u001b[43m(\u001b[49m\u001b[43mdataset_or_iterator\u001b[49m\u001b[43m)\u001b[49m\n\u001b[0;32m   4109\u001b[0m     \u001b[38;5;28;01mif\u001b[39;00m data_handler\u001b[38;5;241m.\u001b[39mshould_sync:\n\u001b[0;32m   4110\u001b[0m         context\u001b[38;5;241m.\u001b[39masync_wait()\n",
      "File \u001b[1;32mc:\\Users\\Ian\\anaconda3\\envs\\dev\\lib\\site-packages\\tensorflow\\python\\util\\traceback_utils.py:150\u001b[0m, in \u001b[0;36mfilter_traceback.<locals>.error_handler\u001b[1;34m(*args, **kwargs)\u001b[0m\n\u001b[0;32m    148\u001b[0m filtered_tb \u001b[38;5;241m=\u001b[39m \u001b[38;5;28;01mNone\u001b[39;00m\n\u001b[0;32m    149\u001b[0m \u001b[38;5;28;01mtry\u001b[39;00m:\n\u001b[1;32m--> 150\u001b[0m   \u001b[38;5;28;01mreturn\u001b[39;00m fn(\u001b[38;5;241m*\u001b[39margs, \u001b[38;5;241m*\u001b[39m\u001b[38;5;241m*\u001b[39mkwargs)\n\u001b[0;32m    151\u001b[0m \u001b[38;5;28;01mexcept\u001b[39;00m \u001b[38;5;167;01mException\u001b[39;00m \u001b[38;5;28;01mas\u001b[39;00m e:\n\u001b[0;32m    152\u001b[0m   filtered_tb \u001b[38;5;241m=\u001b[39m _process_traceback_frames(e\u001b[38;5;241m.\u001b[39m__traceback__)\n",
      "File \u001b[1;32mc:\\Users\\Ian\\anaconda3\\envs\\dev\\lib\\site-packages\\tensorflow\\python\\eager\\polymorphic_function\\polymorphic_function.py:832\u001b[0m, in \u001b[0;36mFunction.__call__\u001b[1;34m(self, *args, **kwds)\u001b[0m\n\u001b[0;32m    829\u001b[0m compiler \u001b[38;5;241m=\u001b[39m \u001b[38;5;124m\"\u001b[39m\u001b[38;5;124mxla\u001b[39m\u001b[38;5;124m\"\u001b[39m \u001b[38;5;28;01mif\u001b[39;00m \u001b[38;5;28mself\u001b[39m\u001b[38;5;241m.\u001b[39m_jit_compile \u001b[38;5;28;01melse\u001b[39;00m \u001b[38;5;124m\"\u001b[39m\u001b[38;5;124mnonXla\u001b[39m\u001b[38;5;124m\"\u001b[39m\n\u001b[0;32m    831\u001b[0m \u001b[38;5;28;01mwith\u001b[39;00m OptionalXlaContext(\u001b[38;5;28mself\u001b[39m\u001b[38;5;241m.\u001b[39m_jit_compile):\n\u001b[1;32m--> 832\u001b[0m   result \u001b[38;5;241m=\u001b[39m \u001b[38;5;28mself\u001b[39m\u001b[38;5;241m.\u001b[39m_call(\u001b[38;5;241m*\u001b[39margs, \u001b[38;5;241m*\u001b[39m\u001b[38;5;241m*\u001b[39mkwds)\n\u001b[0;32m    834\u001b[0m new_tracing_count \u001b[38;5;241m=\u001b[39m \u001b[38;5;28mself\u001b[39m\u001b[38;5;241m.\u001b[39mexperimental_get_tracing_count()\n\u001b[0;32m    835\u001b[0m without_tracing \u001b[38;5;241m=\u001b[39m (tracing_count \u001b[38;5;241m==\u001b[39m new_tracing_count)\n",
      "File \u001b[1;32mc:\\Users\\Ian\\anaconda3\\envs\\dev\\lib\\site-packages\\tensorflow\\python\\eager\\polymorphic_function\\polymorphic_function.py:877\u001b[0m, in \u001b[0;36mFunction._call\u001b[1;34m(self, *args, **kwds)\u001b[0m\n\u001b[0;32m    874\u001b[0m \u001b[38;5;28mself\u001b[39m\u001b[38;5;241m.\u001b[39m_lock\u001b[38;5;241m.\u001b[39mrelease()\n\u001b[0;32m    875\u001b[0m \u001b[38;5;66;03m# In this case we have not created variables on the first call. So we can\u001b[39;00m\n\u001b[0;32m    876\u001b[0m \u001b[38;5;66;03m# run the first trace but we should fail if variables are created.\u001b[39;00m\n\u001b[1;32m--> 877\u001b[0m results \u001b[38;5;241m=\u001b[39m \u001b[43mtracing_compilation\u001b[49m\u001b[38;5;241;43m.\u001b[39;49m\u001b[43mcall_function\u001b[49m\u001b[43m(\u001b[49m\n\u001b[0;32m    878\u001b[0m \u001b[43m    \u001b[49m\u001b[43margs\u001b[49m\u001b[43m,\u001b[49m\u001b[43m \u001b[49m\u001b[43mkwds\u001b[49m\u001b[43m,\u001b[49m\u001b[43m \u001b[49m\u001b[38;5;28;43mself\u001b[39;49m\u001b[38;5;241;43m.\u001b[39;49m\u001b[43m_variable_creation_config\u001b[49m\n\u001b[0;32m    879\u001b[0m \u001b[43m\u001b[49m\u001b[43m)\u001b[49m\n\u001b[0;32m    880\u001b[0m \u001b[38;5;28;01mif\u001b[39;00m \u001b[38;5;28mself\u001b[39m\u001b[38;5;241m.\u001b[39m_created_variables:\n\u001b[0;32m    881\u001b[0m   \u001b[38;5;28;01mraise\u001b[39;00m \u001b[38;5;167;01mValueError\u001b[39;00m(\u001b[38;5;124m\"\u001b[39m\u001b[38;5;124mCreating variables on a non-first call to a function\u001b[39m\u001b[38;5;124m\"\u001b[39m\n\u001b[0;32m    882\u001b[0m                    \u001b[38;5;124m\"\u001b[39m\u001b[38;5;124m decorated with tf.function.\u001b[39m\u001b[38;5;124m\"\u001b[39m)\n",
      "File \u001b[1;32mc:\\Users\\Ian\\anaconda3\\envs\\dev\\lib\\site-packages\\tensorflow\\python\\eager\\polymorphic_function\\tracing_compilation.py:139\u001b[0m, in \u001b[0;36mcall_function\u001b[1;34m(args, kwargs, tracing_options)\u001b[0m\n\u001b[0;32m    137\u001b[0m bound_args \u001b[38;5;241m=\u001b[39m function\u001b[38;5;241m.\u001b[39mfunction_type\u001b[38;5;241m.\u001b[39mbind(\u001b[38;5;241m*\u001b[39margs, \u001b[38;5;241m*\u001b[39m\u001b[38;5;241m*\u001b[39mkwargs)\n\u001b[0;32m    138\u001b[0m flat_inputs \u001b[38;5;241m=\u001b[39m function\u001b[38;5;241m.\u001b[39mfunction_type\u001b[38;5;241m.\u001b[39munpack_inputs(bound_args)\n\u001b[1;32m--> 139\u001b[0m \u001b[38;5;28;01mreturn\u001b[39;00m \u001b[43mfunction\u001b[49m\u001b[38;5;241;43m.\u001b[39;49m\u001b[43m_call_flat\u001b[49m\u001b[43m(\u001b[49m\u001b[43m  \u001b[49m\u001b[38;5;66;43;03m# pylint: disable=protected-access\u001b[39;49;00m\n\u001b[0;32m    140\u001b[0m \u001b[43m    \u001b[49m\u001b[43mflat_inputs\u001b[49m\u001b[43m,\u001b[49m\u001b[43m \u001b[49m\u001b[43mcaptured_inputs\u001b[49m\u001b[38;5;241;43m=\u001b[39;49m\u001b[43mfunction\u001b[49m\u001b[38;5;241;43m.\u001b[39;49m\u001b[43mcaptured_inputs\u001b[49m\n\u001b[0;32m    141\u001b[0m \u001b[43m\u001b[49m\u001b[43m)\u001b[49m\n",
      "File \u001b[1;32mc:\\Users\\Ian\\anaconda3\\envs\\dev\\lib\\site-packages\\tensorflow\\python\\eager\\polymorphic_function\\concrete_function.py:1323\u001b[0m, in \u001b[0;36mConcreteFunction._call_flat\u001b[1;34m(self, tensor_inputs, captured_inputs)\u001b[0m\n\u001b[0;32m   1319\u001b[0m possible_gradient_type \u001b[38;5;241m=\u001b[39m gradients_util\u001b[38;5;241m.\u001b[39mPossibleTapeGradientTypes(args)\n\u001b[0;32m   1320\u001b[0m \u001b[38;5;28;01mif\u001b[39;00m (possible_gradient_type \u001b[38;5;241m==\u001b[39m gradients_util\u001b[38;5;241m.\u001b[39mPOSSIBLE_GRADIENT_TYPES_NONE\n\u001b[0;32m   1321\u001b[0m     \u001b[38;5;129;01mand\u001b[39;00m executing_eagerly):\n\u001b[0;32m   1322\u001b[0m   \u001b[38;5;66;03m# No tape is watching; skip to running the function.\u001b[39;00m\n\u001b[1;32m-> 1323\u001b[0m   \u001b[38;5;28;01mreturn\u001b[39;00m \u001b[38;5;28;43mself\u001b[39;49m\u001b[38;5;241;43m.\u001b[39;49m\u001b[43m_inference_function\u001b[49m\u001b[38;5;241;43m.\u001b[39;49m\u001b[43mcall_preflattened\u001b[49m\u001b[43m(\u001b[49m\u001b[43margs\u001b[49m\u001b[43m)\u001b[49m\n\u001b[0;32m   1324\u001b[0m forward_backward \u001b[38;5;241m=\u001b[39m \u001b[38;5;28mself\u001b[39m\u001b[38;5;241m.\u001b[39m_select_forward_and_backward_functions(\n\u001b[0;32m   1325\u001b[0m     args,\n\u001b[0;32m   1326\u001b[0m     possible_gradient_type,\n\u001b[0;32m   1327\u001b[0m     executing_eagerly)\n\u001b[0;32m   1328\u001b[0m forward_function, args_with_tangents \u001b[38;5;241m=\u001b[39m forward_backward\u001b[38;5;241m.\u001b[39mforward()\n",
      "File \u001b[1;32mc:\\Users\\Ian\\anaconda3\\envs\\dev\\lib\\site-packages\\tensorflow\\python\\eager\\polymorphic_function\\atomic_function.py:216\u001b[0m, in \u001b[0;36mAtomicFunction.call_preflattened\u001b[1;34m(self, args)\u001b[0m\n\u001b[0;32m    214\u001b[0m \u001b[38;5;28;01mdef\u001b[39;00m \u001b[38;5;21mcall_preflattened\u001b[39m(\u001b[38;5;28mself\u001b[39m, args: Sequence[core\u001b[38;5;241m.\u001b[39mTensor]) \u001b[38;5;241m-\u001b[39m\u001b[38;5;241m>\u001b[39m Any:\n\u001b[0;32m    215\u001b[0m \u001b[38;5;250m  \u001b[39m\u001b[38;5;124;03m\"\"\"Calls with flattened tensor inputs and returns the structured output.\"\"\"\u001b[39;00m\n\u001b[1;32m--> 216\u001b[0m   flat_outputs \u001b[38;5;241m=\u001b[39m \u001b[38;5;28;43mself\u001b[39;49m\u001b[38;5;241;43m.\u001b[39;49m\u001b[43mcall_flat\u001b[49m\u001b[43m(\u001b[49m\u001b[38;5;241;43m*\u001b[39;49m\u001b[43margs\u001b[49m\u001b[43m)\u001b[49m\n\u001b[0;32m    217\u001b[0m   \u001b[38;5;28;01mreturn\u001b[39;00m \u001b[38;5;28mself\u001b[39m\u001b[38;5;241m.\u001b[39mfunction_type\u001b[38;5;241m.\u001b[39mpack_output(flat_outputs)\n",
      "File \u001b[1;32mc:\\Users\\Ian\\anaconda3\\envs\\dev\\lib\\site-packages\\tensorflow\\python\\eager\\polymorphic_function\\atomic_function.py:251\u001b[0m, in \u001b[0;36mAtomicFunction.call_flat\u001b[1;34m(self, *args)\u001b[0m\n\u001b[0;32m    249\u001b[0m \u001b[38;5;28;01mwith\u001b[39;00m record\u001b[38;5;241m.\u001b[39mstop_recording():\n\u001b[0;32m    250\u001b[0m   \u001b[38;5;28;01mif\u001b[39;00m \u001b[38;5;28mself\u001b[39m\u001b[38;5;241m.\u001b[39m_bound_context\u001b[38;5;241m.\u001b[39mexecuting_eagerly():\n\u001b[1;32m--> 251\u001b[0m     outputs \u001b[38;5;241m=\u001b[39m \u001b[38;5;28;43mself\u001b[39;49m\u001b[38;5;241;43m.\u001b[39;49m\u001b[43m_bound_context\u001b[49m\u001b[38;5;241;43m.\u001b[39;49m\u001b[43mcall_function\u001b[49m\u001b[43m(\u001b[49m\n\u001b[0;32m    252\u001b[0m \u001b[43m        \u001b[49m\u001b[38;5;28;43mself\u001b[39;49m\u001b[38;5;241;43m.\u001b[39;49m\u001b[43mname\u001b[49m\u001b[43m,\u001b[49m\n\u001b[0;32m    253\u001b[0m \u001b[43m        \u001b[49m\u001b[38;5;28;43mlist\u001b[39;49m\u001b[43m(\u001b[49m\u001b[43margs\u001b[49m\u001b[43m)\u001b[49m\u001b[43m,\u001b[49m\n\u001b[0;32m    254\u001b[0m \u001b[43m        \u001b[49m\u001b[38;5;28;43mlen\u001b[39;49m\u001b[43m(\u001b[49m\u001b[38;5;28;43mself\u001b[39;49m\u001b[38;5;241;43m.\u001b[39;49m\u001b[43mfunction_type\u001b[49m\u001b[38;5;241;43m.\u001b[39;49m\u001b[43mflat_outputs\u001b[49m\u001b[43m)\u001b[49m\u001b[43m,\u001b[49m\n\u001b[0;32m    255\u001b[0m \u001b[43m    \u001b[49m\u001b[43m)\u001b[49m\n\u001b[0;32m    256\u001b[0m   \u001b[38;5;28;01melse\u001b[39;00m:\n\u001b[0;32m    257\u001b[0m     outputs \u001b[38;5;241m=\u001b[39m make_call_op_in_graph(\n\u001b[0;32m    258\u001b[0m         \u001b[38;5;28mself\u001b[39m,\n\u001b[0;32m    259\u001b[0m         \u001b[38;5;28mlist\u001b[39m(args),\n\u001b[0;32m    260\u001b[0m         \u001b[38;5;28mself\u001b[39m\u001b[38;5;241m.\u001b[39m_bound_context\u001b[38;5;241m.\u001b[39mfunction_call_options\u001b[38;5;241m.\u001b[39mas_attrs(),\n\u001b[0;32m    261\u001b[0m     )\n",
      "File \u001b[1;32mc:\\Users\\Ian\\anaconda3\\envs\\dev\\lib\\site-packages\\tensorflow\\python\\eager\\context.py:1486\u001b[0m, in \u001b[0;36mContext.call_function\u001b[1;34m(self, name, tensor_inputs, num_outputs)\u001b[0m\n\u001b[0;32m   1484\u001b[0m cancellation_context \u001b[38;5;241m=\u001b[39m cancellation\u001b[38;5;241m.\u001b[39mcontext()\n\u001b[0;32m   1485\u001b[0m \u001b[38;5;28;01mif\u001b[39;00m cancellation_context \u001b[38;5;129;01mis\u001b[39;00m \u001b[38;5;28;01mNone\u001b[39;00m:\n\u001b[1;32m-> 1486\u001b[0m   outputs \u001b[38;5;241m=\u001b[39m \u001b[43mexecute\u001b[49m\u001b[38;5;241;43m.\u001b[39;49m\u001b[43mexecute\u001b[49m\u001b[43m(\u001b[49m\n\u001b[0;32m   1487\u001b[0m \u001b[43m      \u001b[49m\u001b[43mname\u001b[49m\u001b[38;5;241;43m.\u001b[39;49m\u001b[43mdecode\u001b[49m\u001b[43m(\u001b[49m\u001b[38;5;124;43m\"\u001b[39;49m\u001b[38;5;124;43mutf-8\u001b[39;49m\u001b[38;5;124;43m\"\u001b[39;49m\u001b[43m)\u001b[49m\u001b[43m,\u001b[49m\n\u001b[0;32m   1488\u001b[0m \u001b[43m      \u001b[49m\u001b[43mnum_outputs\u001b[49m\u001b[38;5;241;43m=\u001b[39;49m\u001b[43mnum_outputs\u001b[49m\u001b[43m,\u001b[49m\n\u001b[0;32m   1489\u001b[0m \u001b[43m      \u001b[49m\u001b[43minputs\u001b[49m\u001b[38;5;241;43m=\u001b[39;49m\u001b[43mtensor_inputs\u001b[49m\u001b[43m,\u001b[49m\n\u001b[0;32m   1490\u001b[0m \u001b[43m      \u001b[49m\u001b[43mattrs\u001b[49m\u001b[38;5;241;43m=\u001b[39;49m\u001b[43mattrs\u001b[49m\u001b[43m,\u001b[49m\n\u001b[0;32m   1491\u001b[0m \u001b[43m      \u001b[49m\u001b[43mctx\u001b[49m\u001b[38;5;241;43m=\u001b[39;49m\u001b[38;5;28;43mself\u001b[39;49m\u001b[43m,\u001b[49m\n\u001b[0;32m   1492\u001b[0m \u001b[43m  \u001b[49m\u001b[43m)\u001b[49m\n\u001b[0;32m   1493\u001b[0m \u001b[38;5;28;01melse\u001b[39;00m:\n\u001b[0;32m   1494\u001b[0m   outputs \u001b[38;5;241m=\u001b[39m execute\u001b[38;5;241m.\u001b[39mexecute_with_cancellation(\n\u001b[0;32m   1495\u001b[0m       name\u001b[38;5;241m.\u001b[39mdecode(\u001b[38;5;124m\"\u001b[39m\u001b[38;5;124mutf-8\u001b[39m\u001b[38;5;124m\"\u001b[39m),\n\u001b[0;32m   1496\u001b[0m       num_outputs\u001b[38;5;241m=\u001b[39mnum_outputs,\n\u001b[1;32m   (...)\u001b[0m\n\u001b[0;32m   1500\u001b[0m       cancellation_manager\u001b[38;5;241m=\u001b[39mcancellation_context,\n\u001b[0;32m   1501\u001b[0m   )\n",
      "File \u001b[1;32mc:\\Users\\Ian\\anaconda3\\envs\\dev\\lib\\site-packages\\tensorflow\\python\\eager\\execute.py:53\u001b[0m, in \u001b[0;36mquick_execute\u001b[1;34m(op_name, num_outputs, inputs, attrs, ctx, name)\u001b[0m\n\u001b[0;32m     51\u001b[0m \u001b[38;5;28;01mtry\u001b[39;00m:\n\u001b[0;32m     52\u001b[0m   ctx\u001b[38;5;241m.\u001b[39mensure_initialized()\n\u001b[1;32m---> 53\u001b[0m   tensors \u001b[38;5;241m=\u001b[39m \u001b[43mpywrap_tfe\u001b[49m\u001b[38;5;241;43m.\u001b[39;49m\u001b[43mTFE_Py_Execute\u001b[49m\u001b[43m(\u001b[49m\u001b[43mctx\u001b[49m\u001b[38;5;241;43m.\u001b[39;49m\u001b[43m_handle\u001b[49m\u001b[43m,\u001b[49m\u001b[43m \u001b[49m\u001b[43mdevice_name\u001b[49m\u001b[43m,\u001b[49m\u001b[43m \u001b[49m\u001b[43mop_name\u001b[49m\u001b[43m,\u001b[49m\n\u001b[0;32m     54\u001b[0m \u001b[43m                                      \u001b[49m\u001b[43minputs\u001b[49m\u001b[43m,\u001b[49m\u001b[43m \u001b[49m\u001b[43mattrs\u001b[49m\u001b[43m,\u001b[49m\u001b[43m \u001b[49m\u001b[43mnum_outputs\u001b[49m\u001b[43m)\u001b[49m\n\u001b[0;32m     55\u001b[0m \u001b[38;5;28;01mexcept\u001b[39;00m core\u001b[38;5;241m.\u001b[39m_NotOkStatusException \u001b[38;5;28;01mas\u001b[39;00m e:\n\u001b[0;32m     56\u001b[0m   \u001b[38;5;28;01mif\u001b[39;00m name \u001b[38;5;129;01mis\u001b[39;00m \u001b[38;5;129;01mnot\u001b[39;00m \u001b[38;5;28;01mNone\u001b[39;00m:\n",
      "\u001b[1;31mKeyboardInterrupt\u001b[0m: "
     ]
    }
   ],
   "source": [
    "fit_model = nn.fit(X_train_scaled,y_train,epochs=20,validation_data=(X_test_scaled,y_test))"
   ]
  },
  {
   "cell_type": "markdown",
   "metadata": {},
   "source": [
    "## XGBoost"
   ]
  },
  {
   "cell_type": "code",
   "execution_count": 179,
   "metadata": {},
   "outputs": [],
   "source": [
    "# dummy encode the categorical data and sort into target and features\n",
    "resultmap = {'0-1':0, '1-0':1, '1/2-1/2':2}\n",
    "y = data['Result'].map(resultmap)\n",
    "X = pd.get_dummies(data.drop('Result', axis=1))"
   ]
  },
  {
   "cell_type": "code",
   "execution_count": 180,
   "metadata": {},
   "outputs": [],
   "source": [
    "# split the data into training and testing data\n",
    "X_train, X_test, y_train, y_test = train_test_split(X, y, random_state=78)"
   ]
  },
  {
   "cell_type": "code",
   "execution_count": 181,
   "metadata": {},
   "outputs": [],
   "source": [
    "# Create a StandardScaler instances\n",
    "scaler = StandardScaler()\n",
    "\n",
    "# Fit the StandardScaler\n",
    "X_scaler = scaler.fit(X_train)\n",
    "\n",
    "# Scale the data\n",
    "X_train_scaled = X_scaler.transform(X_train)\n",
    "X_test_scaled = X_scaler.transform(X_test)"
   ]
  },
  {
   "cell_type": "code",
   "execution_count": 207,
   "metadata": {},
   "outputs": [
    {
     "data": {
      "text/html": [
       "<style>#sk-container-id-6 {color: black;background-color: white;}#sk-container-id-6 pre{padding: 0;}#sk-container-id-6 div.sk-toggleable {background-color: white;}#sk-container-id-6 label.sk-toggleable__label {cursor: pointer;display: block;width: 100%;margin-bottom: 0;padding: 0.3em;box-sizing: border-box;text-align: center;}#sk-container-id-6 label.sk-toggleable__label-arrow:before {content: \"▸\";float: left;margin-right: 0.25em;color: #696969;}#sk-container-id-6 label.sk-toggleable__label-arrow:hover:before {color: black;}#sk-container-id-6 div.sk-estimator:hover label.sk-toggleable__label-arrow:before {color: black;}#sk-container-id-6 div.sk-toggleable__content {max-height: 0;max-width: 0;overflow: hidden;text-align: left;background-color: #f0f8ff;}#sk-container-id-6 div.sk-toggleable__content pre {margin: 0.2em;color: black;border-radius: 0.25em;background-color: #f0f8ff;}#sk-container-id-6 input.sk-toggleable__control:checked~div.sk-toggleable__content {max-height: 200px;max-width: 100%;overflow: auto;}#sk-container-id-6 input.sk-toggleable__control:checked~label.sk-toggleable__label-arrow:before {content: \"▾\";}#sk-container-id-6 div.sk-estimator input.sk-toggleable__control:checked~label.sk-toggleable__label {background-color: #d4ebff;}#sk-container-id-6 div.sk-label input.sk-toggleable__control:checked~label.sk-toggleable__label {background-color: #d4ebff;}#sk-container-id-6 input.sk-hidden--visually {border: 0;clip: rect(1px 1px 1px 1px);clip: rect(1px, 1px, 1px, 1px);height: 1px;margin: -1px;overflow: hidden;padding: 0;position: absolute;width: 1px;}#sk-container-id-6 div.sk-estimator {font-family: monospace;background-color: #f0f8ff;border: 1px dotted black;border-radius: 0.25em;box-sizing: border-box;margin-bottom: 0.5em;}#sk-container-id-6 div.sk-estimator:hover {background-color: #d4ebff;}#sk-container-id-6 div.sk-parallel-item::after {content: \"\";width: 100%;border-bottom: 1px solid gray;flex-grow: 1;}#sk-container-id-6 div.sk-label:hover label.sk-toggleable__label {background-color: #d4ebff;}#sk-container-id-6 div.sk-serial::before {content: \"\";position: absolute;border-left: 1px solid gray;box-sizing: border-box;top: 0;bottom: 0;left: 50%;z-index: 0;}#sk-container-id-6 div.sk-serial {display: flex;flex-direction: column;align-items: center;background-color: white;padding-right: 0.2em;padding-left: 0.2em;position: relative;}#sk-container-id-6 div.sk-item {position: relative;z-index: 1;}#sk-container-id-6 div.sk-parallel {display: flex;align-items: stretch;justify-content: center;background-color: white;position: relative;}#sk-container-id-6 div.sk-item::before, #sk-container-id-6 div.sk-parallel-item::before {content: \"\";position: absolute;border-left: 1px solid gray;box-sizing: border-box;top: 0;bottom: 0;left: 50%;z-index: -1;}#sk-container-id-6 div.sk-parallel-item {display: flex;flex-direction: column;z-index: 1;position: relative;background-color: white;}#sk-container-id-6 div.sk-parallel-item:first-child::after {align-self: flex-end;width: 50%;}#sk-container-id-6 div.sk-parallel-item:last-child::after {align-self: flex-start;width: 50%;}#sk-container-id-6 div.sk-parallel-item:only-child::after {width: 0;}#sk-container-id-6 div.sk-dashed-wrapped {border: 1px dashed gray;margin: 0 0.4em 0.5em 0.4em;box-sizing: border-box;padding-bottom: 0.4em;background-color: white;}#sk-container-id-6 div.sk-label label {font-family: monospace;font-weight: bold;display: inline-block;line-height: 1.2em;}#sk-container-id-6 div.sk-label-container {text-align: center;}#sk-container-id-6 div.sk-container {/* jupyter's `normalize.less` sets `[hidden] { display: none; }` but bootstrap.min.css set `[hidden] { display: none !important; }` so we also need the `!important` here to be able to override the default hidden behavior on the sphinx rendered scikit-learn.org. See: https://github.com/scikit-learn/scikit-learn/issues/21755 */display: inline-block !important;position: relative;}#sk-container-id-6 div.sk-text-repr-fallback {display: none;}</style><div id=\"sk-container-id-6\" class=\"sk-top-container\"><div class=\"sk-text-repr-fallback\"><pre>XGBClassifier(base_score=None, booster=None, callbacks=None,\n",
       "              colsample_bylevel=None, colsample_bynode=None,\n",
       "              colsample_bytree=None, device=None, early_stopping_rounds=None,\n",
       "              enable_categorical=False, eval_metric=None, feature_types=None,\n",
       "              gamma=None, grow_policy=None, importance_type=None,\n",
       "              interaction_constraints=None, learning_rate=None, max_bin=None,\n",
       "              max_cat_threshold=None, max_cat_to_onehot=None,\n",
       "              max_delta_step=None, max_depth=32, max_leaves=None,\n",
       "              min_child_weight=None, missing=nan, monotone_constraints=None,\n",
       "              multi_strategy=None, n_estimators=256, n_jobs=None,\n",
       "              num_parallel_tree=None, objective=&#x27;multi:softmax&#x27;, ...)</pre><b>In a Jupyter environment, please rerun this cell to show the HTML representation or trust the notebook. <br />On GitHub, the HTML representation is unable to render, please try loading this page with nbviewer.org.</b></div><div class=\"sk-container\" hidden><div class=\"sk-item\"><div class=\"sk-estimator sk-toggleable\"><input class=\"sk-toggleable__control sk-hidden--visually\" id=\"sk-estimator-id-6\" type=\"checkbox\" checked><label for=\"sk-estimator-id-6\" class=\"sk-toggleable__label sk-toggleable__label-arrow\">XGBClassifier</label><div class=\"sk-toggleable__content\"><pre>XGBClassifier(base_score=None, booster=None, callbacks=None,\n",
       "              colsample_bylevel=None, colsample_bynode=None,\n",
       "              colsample_bytree=None, device=None, early_stopping_rounds=None,\n",
       "              enable_categorical=False, eval_metric=None, feature_types=None,\n",
       "              gamma=None, grow_policy=None, importance_type=None,\n",
       "              interaction_constraints=None, learning_rate=None, max_bin=None,\n",
       "              max_cat_threshold=None, max_cat_to_onehot=None,\n",
       "              max_delta_step=None, max_depth=32, max_leaves=None,\n",
       "              min_child_weight=None, missing=nan, monotone_constraints=None,\n",
       "              multi_strategy=None, n_estimators=256, n_jobs=None,\n",
       "              num_parallel_tree=None, objective=&#x27;multi:softmax&#x27;, ...)</pre></div></div></div></div></div>"
      ],
      "text/plain": [
       "XGBClassifier(base_score=None, booster=None, callbacks=None,\n",
       "              colsample_bylevel=None, colsample_bynode=None,\n",
       "              colsample_bytree=None, device=None, early_stopping_rounds=None,\n",
       "              enable_categorical=False, eval_metric=None, feature_types=None,\n",
       "              gamma=None, grow_policy=None, importance_type=None,\n",
       "              interaction_constraints=None, learning_rate=None, max_bin=None,\n",
       "              max_cat_threshold=None, max_cat_to_onehot=None,\n",
       "              max_delta_step=None, max_depth=32, max_leaves=None,\n",
       "              min_child_weight=None, missing=nan, monotone_constraints=None,\n",
       "              multi_strategy=None, n_estimators=256, n_jobs=None,\n",
       "              num_parallel_tree=None, objective='multi:softmax', ...)"
      ]
     },
     "execution_count": 207,
     "metadata": {},
     "output_type": "execute_result"
    }
   ],
   "source": [
    "from xgboost import XGBClassifier\n",
    "xg_nn = XGBClassifier(n_estimators = 256, max_depth = 32, objective ='multi:softmax')\n",
    "xg_nn.fit(X_train_scaled,y_train)"
   ]
  },
  {
   "cell_type": "code",
   "execution_count": 208,
   "metadata": {},
   "outputs": [],
   "source": [
    "predictions = xg_nn.predict(X_test_scaled)"
   ]
  },
  {
   "cell_type": "code",
   "execution_count": 209,
   "metadata": {},
   "outputs": [
    {
     "data": {
      "text/plain": [
       "0.9002443582003737"
      ]
     },
     "execution_count": 209,
     "metadata": {},
     "output_type": "execute_result"
    }
   ],
   "source": [
    "accuracy_score(y_test, predictions)"
   ]
  },
  {
   "cell_type": "code",
   "execution_count": 210,
   "metadata": {},
   "outputs": [
    {
     "name": "stdout",
     "output_type": "stream",
     "text": [
      "              precision    recall  f1-score   support\n",
      "\n",
      "  Black Wins       0.90      0.93      0.91     12913\n",
      "  White Wins       0.91      0.93      0.92     13906\n",
      "        Draw       0.24      0.03      0.06      1009\n",
      "\n",
      "    accuracy                           0.90     27828\n",
      "   macro avg       0.68      0.63      0.63     27828\n",
      "weighted avg       0.88      0.90      0.89     27828\n",
      "\n"
     ]
    }
   ],
   "source": [
    "print(classification_report(y_test, predictions, target_names=['Black Wins', 'White Wins', 'Draw']))"
   ]
  },
  {
   "cell_type": "code",
   "execution_count": 206,
   "metadata": {},
   "outputs": [],
   "source": [
    "from sklearn.metrics import confusion_matrix\n",
    "cm_df = pd.DataFrame(confusion_matrix(y_test, predictions,))"
   ]
  },
  {
   "cell_type": "code",
   "execution_count": 205,
   "metadata": {},
   "outputs": [
    {
     "data": {
      "text/plain": [
       "[Text(0, 0.5, 'Black Wins'), Text(0, 1.5, 'White Wins'), Text(0, 2.5, 'Draw')]"
      ]
     },
     "execution_count": 205,
     "metadata": {},
     "output_type": "execute_result"
    },
    {
     "data": {
      "image/png": "[encoded data removed]",
      "text/plain": [
       "<Figure size 640x480 with 2 Axes>"
      ]
     },
     "metadata": {},
     "output_type": "display_data"
    }
   ],
   "source": [
    "ax = sns.heatmap(cm_df,annot=True)\n",
    "ax.set_xlabel('Predicted labels');ax.set_ylabel('True labels')\n",
    "ax.xaxis.set_ticklabels(['Black Wins', 'White Wins', 'Draw']); ax.yaxis.set_ticklabels(['Black Wins', 'White Wins', 'Draw'])"
   ]
  }
 ],
 "metadata": {
  "kernelspec": {
   "display_name": "dev",
   "language": "python",
   "name": "python3"
  },
  "language_info": {
   "codemirror_mode": {
    "name": "ipython",
    "version": 3
   },
   "file_extension": ".py",
   "mimetype": "text/x-python",
   "name": "python",
   "nbconvert_exporter": "python",
   "pygments_lexer": "ipython3",
   "version": "3.10.13"
  }
 },
 "nbformat": 4,
 "nbformat_minor": 2
}
