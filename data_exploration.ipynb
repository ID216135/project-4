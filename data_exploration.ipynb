{
 "cells": [
  {
   "cell_type": "code",
   "execution_count": 1,
   "metadata": {},
   "outputs": [
    {
     "name": "stdout",
     "output_type": "stream",
     "text": [
      "WARNING:tensorflow:From c:\\Users\\Ian\\anaconda3\\envs\\dev\\lib\\site-packages\\keras\\src\\losses.py:2976: The name tf.losses.sparse_softmax_cross_entropy is deprecated. Please use tf.compat.v1.losses.sparse_softmax_cross_entropy instead.\n",
      "\n"
     ]
    }
   ],
   "source": [
    "# import dependencies\n",
    "import pandas as pd\n",
    "import tensorflow as tf"
   ]
  },
  {
   "cell_type": "code",
   "execution_count": 2,
   "metadata": {},
   "outputs": [],
   "source": [
    "# initialize spark\n",
    "import findspark\n",
    "findspark.init()"
   ]
  },
  {
   "cell_type": "code",
   "execution_count": 3,
   "metadata": {},
   "outputs": [],
   "source": [
    "# import dependencies\n",
    "from pyspark.sql import SparkSession\n",
    "from pyspark import SparkFiles\n",
    "import sklearn as skl"
   ]
  },
  {
   "cell_type": "code",
   "execution_count": 4,
   "metadata": {},
   "outputs": [],
   "source": [
    "# initialize spark session\n",
    "spark = SparkSession.builder.appName('SparkSQL').getOrCreate()"
   ]
  },
  {
   "cell_type": "code",
   "execution_count": 5,
   "metadata": {},
   "outputs": [],
   "source": [
    "# use spark to read in csv to dataframe\n",
    "spark.sparkContext.addFile('games_metadata_profile_2024_01.csv')\n",
    "df = spark.read.csv(SparkFiles.get('games_metadata_profile_2024_01.csv'), header=True, inferSchema= True)"
   ]
  },
  {
   "cell_type": "code",
   "execution_count": 6,
   "metadata": {},
   "outputs": [],
   "source": [
    "# create temporary view / table to use for queries\n",
    "df.createOrReplaceTempView('chess')"
   ]
  },
  {
   "cell_type": "code",
   "execution_count": 7,
   "metadata": {},
   "outputs": [
    {
     "name": "stdout",
     "output_type": "stream",
     "text": [
      "+------+-----------------+-----+--------------------+----------+-------------------+---------------+--------+---------------+----------------+------------------+------------------+-----------------+--------------------+---------------+-----------+--------------------+--------+---------------+----------------+------------------+------------------+-----------------+--------------------+---------------+-----------+--------------------+----------+---+--------------------+-----------+------------+-------+\n",
      "|GameID|            Event|Round|                Site|      Date|               Time|          White|WhiteElo|WhiteRatingDiff|White_is_deleted|White_tosViolation|White_profile_flag|  White_createdAt|White_playTime_total|White_count_all|White_title|               Black|BlackElo|BlackRatingDiff|Black_is_deleted|Black_tosViolation|Black_profile_flag|  Black_createdAt|Black_playTime_total|Black_count_all|Black_title|               Moves|TotalMoves|ECO|             Opening|TimeControl| Termination| Result|\n",
      "+------+-----------------+-----+--------------------+----------+-------------------+---------------+--------+---------------+----------------+------------------+------------------+-----------------+--------------------+---------------+-----------+--------------------+--------+---------------+----------------+------------------+------------------+-----------------+--------------------+---------------+-----------+--------------------+----------+---+--------------------+-----------+------------+-------+\n",
      "|     1| Rated Blitz game|    -|https://lichess.o...|2024.01.01|2024-03-11 00:00:08|         EyalSa|    1550|           -6.0|           false|              NULL|              NULL|1.646943268029E12|           5743321.0|         8428.0|       NULL|          saiyank_24|    1492|            7.0|           false|              NULL|              NULL|1.687320211057E12|           1410838.0|         2700.0|       NULL|1. d4 { [%eval 0....|        54|D06|Queen's Gambit De...|      300+3|Time forfeit|    0-1|\n",
      "|     2|Rated Bullet game|    -|https://lichess.o...|2024.01.01|2024-03-11 00:00:18|      Frogman33|    1082|            9.0|           false|              NULL|                GB|1.521151350955E12|           1395490.0|         3160.0|       NULL|            tausgang|    1155|           -7.0|           false|              NULL|                DE|1.585999445986E12|           2091417.0|         4924.0|       NULL|1. d4 { [%eval 0....|        63|D00|   Queen's Pawn Game|      120+1|Time forfeit|    1-0|\n",
      "|     3| Rated Blitz game|    -|https://lichess.o...|2024.01.01|2024-03-11 00:00:34|     Tomi_Viper|    1593|           -5.0|           false|              NULL|              NULL|1.676814331069E12|            384800.0|          792.0|       NULL|   xiangqishogichess|    1641|            5.0|           false|              NULL|              NULL|1.594783835572E12|           1424148.0|         4085.0|       NULL|1. e4 { [%eval 0....|        52|B10|   Caro-Kann Defense|      300+3|Time forfeit|    0-1|\n",
      "|     4| Rated Rapid game|    -|https://lichess.o...|2024.01.01|2024-03-11 00:01:26|         pony14|    2289|           -5.0|           false|              NULL|              NULL|1.694283583237E12|           1154156.0|         2352.0|       NULL|             Depth25|    2307|            5.0|           false|              NULL|              NULL|1.688278857994E12|           1195075.0|         1772.0|       NULL|1. Nf3 { [%eval 0...|       128|D78|Neo-Grünfeld Defe...|      600+0|      Normal|    0-1|\n",
      "|     5| Rated Rapid game|    -|https://lichess.o...|2024.01.01|2024-03-11 00:02:20|       Niccosan|    1205|            6.0|           false|              NULL|              NULL|1.628263032606E12|            886600.0|         1684.0|       NULL|aymenaymenaymenaymen|    1214|           -6.0|           false|              NULL|              NULL| 1.67381297262E12|            332692.0|          576.0|       NULL|1. e4 { [%eval 0....|        65|B01|Scandinavian Defe...|      600+0|      Normal|    1-0|\n",
      "|     6| Rated Rapid game|    -|https://lichess.o...|2024.01.01|2024-03-11 00:02:59|          bster|    1072|           -7.0|           false|              NULL|              NULL|1.663178334974E12|           1959945.0|         2314.0|       NULL|      GoldVividWater|    1131|            5.0|           false|              NULL|                US|1.701485165763E12|            176110.0|          291.0|       NULL|1. e4 { [%eval 0....|        48|C20|King's Pawn Game:...|     900+10|      Normal|    0-1|\n",
      "|     7| Rated Blitz game|    -|https://lichess.o...|2024.01.01|2024-03-11 00:03:44|  hornitoqueiru|    1997|            5.0|           false|              true|              NULL| 1.62051724426E12|           5698334.0|        21177.0|       NULL|         mrCrescendo|    1971|           -5.0|           false|              NULL|              NULL|1.672165140659E12|           4054499.0|        13703.0|       NULL|1. d4 { [%eval 0....|       109|D00|Queen's Pawn Game...|      180+0|Time forfeit|    1-0|\n",
      "|     8| Rated Blitz game|    -|https://lichess.o...|2024.01.01|2024-03-11 00:04:39|CursedPlayerARG|    1645|           -5.0|           false|              NULL|                AR|1.642818955656E12|           2642148.0|         7284.0|       NULL|       Reda-ivanshik|    1676|            5.0|           false|              NULL|                MA| 1.59363108531E12|           2045771.0|         4086.0|       NULL|1. d4 { [%eval 0....|        46|D06|Queen's Gambit De...|      180+2|Time forfeit|    0-1|\n",
      "|     9| Rated Blitz game|    -|https://lichess.o...|2024.01.01|2024-03-11 00:05:32|      Hafidinho|    1513|           -5.0|           false|              NULL|              NULL|1.589239731829E12|           3305856.0|         7221.0|       NULL|       WrathChess666|    1513|            6.0|           false|              NULL|              NULL| 1.65853000623E12|           2513015.0|         6405.0|       NULL|1. e4 { [%eval 0....|       136|C42|        Russian Game|      300+0|Time forfeit|    0-1|\n",
      "|    10| Rated Blitz game|    -|https://lichess.o...|2024.01.01|2024-03-11 00:06:20|        Bieitom|    1433|           -1.0|           false|              NULL|              NULL|1.647445464682E12|           1347439.0|         3334.0|       NULL|          rubelowsky|    1381|            1.0|           false|              NULL|              NULL| 1.64916726055E12|           1231681.0|         2505.0|       NULL|1. d4 { [%eval 0....|       132|D15|Slav Defense: Thr...|      300+0|      Normal|1/2-1/2|\n",
      "|    11| Rated Rapid game|    -|https://lichess.o...|2024.01.01|2024-03-11 00:07:25|      engynaeem|    1661|            5.0|           false|              NULL|              NULL| 1.68098051114E12|            523520.0|         1015.0|       NULL|          Saif132004|    1638|          -21.0|           false|              NULL|              NULL|1.609027645257E12|            376552.0|          797.0|       NULL|1. d4 { [%eval 0....|       171|D01|Rapport-Jobava Sy...|      600+0|      Normal|    1-0|\n",
      "|    12| Rated Rapid game|    -|https://lichess.o...|2024.01.01|2024-03-11 00:09:06|       YurDenis|    1660|           -5.0|           false|              NULL|   _united-nations|1.543439485792E12|           7372367.0|        13436.0|       NULL|              BAczel|    1675|            6.0|           false|              NULL|                HU|1.617123278996E12|           2125591.0|         8260.0|       NULL|1. e4 { [%eval 0....|        84|C34|King's Gambit Acc...|      600+0|Time forfeit|    0-1|\n",
      "|    13| Rated Rapid game|    -|https://lichess.o...|2024.01.01|2024-03-11 00:10:04|       Avispa67|    2018|           -4.0|           false|              NULL|                ES|1.587413682122E12|           4756418.0|         3032.0|       NULL|             yancos2|    2120|            5.0|           false|              true|              NULL|1.687253030653E12|            142646.0|          146.0|       NULL|1. d4 { [%eval 0....|        34|E51|Nimzo-Indian Defe...|     900+10|      Normal|    0-1|\n",
      "|    14| Rated Blitz game|    -|https://lichess.o...|2024.01.01|2024-03-11 00:10:25|          R-Neo|    1978|           87.0|            true|              NULL|              NULL|             NULL|                NULL|           NULL|       NULL|         Rocambole12|    2015|           -6.0|           false|              NULL|              NULL|1.562894900187E12|           4650403.0|        16545.0|       NULL|1. e4 { [%eval 0....|        45|B47|Sicilian Defense:...|      180+0|      Normal|    1-0|\n",
      "|    15|Rated Bullet game|    -|https://lichess.o...|2024.01.01|2024-03-11 00:10:27|     AAArmstark|    2451|            7.0|           false|              NULL|              NULL|1.689182226861E12|            857599.0|        10468.0|       NULL|               dabee|    2534|           -7.0|           false|              NULL|                NG| 1.44356813993E12|         1.2915626E7|        76372.0|         FM|1. c4 { [%eval 0....|        51|A36|English Opening: ...|       60+0|      Normal|    1-0|\n",
      "|    16| Rated Blitz game|    -|https://lichess.o...|2024.01.01|2024-03-11 00:11:49|        Nagib23|    1270|            5.0|           false|              NULL|              NULL|1.699629055917E12|            117946.0|          458.0|       NULL|         drunkPanzer|    1260|           -5.0|           false|              NULL|              NULL|1.642459793526E12|           2046867.0|         3865.0|       NULL|1. d4 { [%eval 0....|        51|E21|Nimzo-Indian Defe...|      180+2|      Normal|    1-0|\n",
      "|    17|Rated Bullet game|    -|https://lichess.o...|2024.01.01|2024-03-11 00:13:20|    chess2021zz|    2023|           -6.0|           false|              NULL|              NULL|1.620235391973E12|           1370054.0|         9900.0|       NULL|         mookiavelli|    2003|            6.0|           false|              NULL|              NULL|1.659157397534E12|           5052770.0|        27846.0|       NULL|1. d4 { [%eval 0....|        48|D02|Queen's Pawn Game...|       60+0|      Normal|    0-1|\n",
      "|    18|Rated Bullet game|    -|https://lichess.o...|2024.01.01|2024-03-11 00:13:29| daniel_mrdkvch|    1488|            5.0|           false|              NULL|                ES| 1.61476323518E12|           1734898.0|         4092.0|       NULL|          neset_2014|    1426|           -5.0|           false|              NULL|              NULL|1.538170099181E12|         1.9732568E7|        59703.0|       NULL|1. d4 { [%eval 0....|        75|A40|     English Defense|       60+0|Time forfeit|    1-0|\n",
      "|    19| Rated Blitz game|    -|https://lichess.o...|2024.01.01|2024-03-11 00:12:47|       heubueno|    1112|           -5.0|           false|              NULL|              NULL|1.594605454812E12|           1377167.0|         2821.0|       NULL|      jakmatasegurat|    1150|            5.0|           false|              NULL|              NULL| 1.59692835684E12|            808589.0|         2007.0|       NULL|1. Nf3 { [%eval 0...|        98|A05|King's Indian Attack|      180+2|      Normal|    0-1|\n",
      "|    20| Rated Blitz game|    -|https://lichess.o...|2024.01.01|2024-03-11 00:13:34|      WHATSYOUR|    1399|           -7.0|           false|              NULL|              NULL|1.642760380656E12|            471054.0|         2097.0|       NULL|              Ali_R7|    1317|            7.0|           false|              NULL|              NULL|1.701957884741E12|            127115.0|          580.0|       NULL|1. e4 { [%eval 0....|        50|B30|Sicilian Defense:...|      180+0|      Normal|    0-1|\n",
      "+------+-----------------+-----+--------------------+----------+-------------------+---------------+--------+---------------+----------------+------------------+------------------+-----------------+--------------------+---------------+-----------+--------------------+--------+---------------+----------------+------------------+------------------+-----------------+--------------------+---------------+-----------+--------------------+----------+---+--------------------+-----------+------------+-------+\n",
      "only showing top 20 rows\n",
      "\n"
     ]
    }
   ],
   "source": [
    "# view dataframe\n",
    "df.show()"
   ]
  },
  {
   "cell_type": "code",
   "execution_count": 156,
   "metadata": {},
   "outputs": [],
   "source": [
    "# select relevant columns of data and save as pandas dataframe\n",
    "data = spark.sql(\n",
    "    '''\n",
    "SELECT WhiteElo, White_playTime_total, White_count_all, BlackElo, Black_playTime_total, Black_count_all, TotalMoves,\n",
    "Result from chess\n",
    "WHERE Result != '*'\n",
    "'''\n",
    ").toPandas()"
   ]
  },
  {
   "cell_type": "code",
   "execution_count": 157,
   "metadata": {},
   "outputs": [],
   "source": [
    "# drop null values\n",
    "data.dropna(inplace=True)"
   ]
  },
  {
   "cell_type": "code",
   "execution_count": 158,
   "metadata": {},
   "outputs": [],
   "source": [
    "# create features exploring the differences in white versus black to use in prediction model\n",
    "data['Rating Difference'] = data['WhiteElo'] - data['BlackElo']\n",
    "data['Playtime Difference'] = data['White_playTime_total'] - data['Black_playTime_total']\n",
    "data['Games Played Difference'] = data['White_count_all'] - data['Black_count_all']\n",
    "data['White Average Playtime'] = data['White_playTime_total']/data['White_count_all']\n",
    "data['Black Average Playtime'] = data['Black_playTime_total']/data['Black_count_all']\n",
    "data['Average Playtime Difference'] = data['White Average Playtime'] - data['Black Average Playtime']"
   ]
  },
  {
   "cell_type": "code",
   "execution_count": 11,
   "metadata": {},
   "outputs": [
    {
     "data": {
      "image/png": "[encoded data removed]",
      "text/plain": [
       "<Figure size 640x480 with 1 Axes>"
      ]
     },
     "metadata": {},
     "output_type": "display_data"
    }
   ],
   "source": [
    "# create boxplot to explore difference between white and black victories with regard to total moves made\n",
    "import seaborn as sns\n",
    "sns.set_style(\"whitegrid\")\n",
    "tips = sns.load_dataset(\"tips\")\n",
    "ax = sns.boxplot(x=data['Result'], y=data['TotalMoves'])"
   ]
  },
  {
   "cell_type": "code",
   "execution_count": 12,
   "metadata": {},
   "outputs": [
    {
     "data": {
      "text/plain": [
       "(-10000000.0, 10000000.0)"
      ]
     },
     "execution_count": 12,
     "metadata": {},
     "output_type": "execute_result"
    },
    {
     "data": {
      "image/png": "[encoded data removed]",
      "text/plain": [
       "<Figure size 640x480 with 1 Axes>"
      ]
     },
     "metadata": {},
     "output_type": "display_data"
    }
   ],
   "source": [
    "# create boxplot to explore difference between white and black victories with regard to difference in playtime\n",
    "sns.set_style(\"whitegrid\")\n",
    "tips = sns.load_dataset(\"tips\")\n",
    "ax = sns.boxplot(x=data['Result'], y=data['Playtime Difference'])\n",
    "ax.set_ylim(bottom = -10000000, top = 10000000)"
   ]
  },
  {
   "cell_type": "code",
   "execution_count": 13,
   "metadata": {},
   "outputs": [
    {
     "data": {
      "text/plain": [
       "(-30000.0, 30000.0)"
      ]
     },
     "execution_count": 13,
     "metadata": {},
     "output_type": "execute_result"
    },
    {
     "data": {
      "image/png": "[encoded data removed]",
      "text/plain": [
       "<Figure size 640x480 with 1 Axes>"
      ]
     },
     "metadata": {},
     "output_type": "display_data"
    }
   ],
   "source": [
    "# create boxplot to explore difference between white and black victories with regard to number of games played\n",
    "sns.set_style(\"whitegrid\")\n",
    "tips = sns.load_dataset(\"tips\")\n",
    "ax = sns.boxplot(x=data['Result'], y=data['Games Played Difference'])\n",
    "ax.set_ylim(bottom = -30000, top = 30000)"
   ]
  },
  {
   "cell_type": "code",
   "execution_count": 14,
   "metadata": {},
   "outputs": [
    {
     "data": {
      "text/plain": [
       "(-200.0, 200.0)"
      ]
     },
     "execution_count": 14,
     "metadata": {},
     "output_type": "execute_result"
    },
    {
     "data": {
      "image/png": "[encoded data removed]",
      "text/plain": [
       "<Figure size 640x480 with 1 Axes>"
      ]
     },
     "metadata": {},
     "output_type": "display_data"
    }
   ],
   "source": [
    "# create boxplot to explore difference between white and black victories with regard to difference in how the players are rated\n",
    "sns.set_style(\"whitegrid\")\n",
    "tips = sns.load_dataset(\"tips\")\n",
    "ax = sns.boxplot(x=data['Result'], y=data['Rating Difference'])\n",
    "ax.set_ylim(bottom = -200, top = 200)"
   ]
  },
  {
   "cell_type": "code",
   "execution_count": 15,
   "metadata": {},
   "outputs": [
    {
     "data": {
      "text/plain": [
       "(-600.0, 600.0)"
      ]
     },
     "execution_count": 15,
     "metadata": {},
     "output_type": "execute_result"
    },
    {
     "data": {
      "image/png": "[encoded data removed]",
      "text/plain": [
       "<Figure size 640x480 with 1 Axes>"
      ]
     },
     "metadata": {},
     "output_type": "display_data"
    }
   ],
   "source": [
    "# create boxplot to explore difference between white and black victories with regard to average difference in playtime\n",
    "sns.set_style(\"whitegrid\")\n",
    "tips = sns.load_dataset(\"tips\")\n",
    "ax = sns.boxplot(x=data['Result'], y=data['Average Playtime Difference'])\n",
    "ax.set_ylim(bottom = -600, top = 600)"
   ]
  },
  {
   "cell_type": "code",
   "execution_count": 174,
   "metadata": {},
   "outputs": [],
   "source": [
    "# drop features that are not new hyperparameters\n",
    "data.drop(['WhiteElo','BlackElo','White_count_all','Black_count_all','White_playTime_total','Black_playTime_total'],axis=1,inplace=True)"
   ]
  },
  {
   "cell_type": "markdown",
   "metadata": {},
   "source": [
    "## Logistic Regression"
   ]
  },
  {
   "cell_type": "code",
   "execution_count": 159,
   "metadata": {},
   "outputs": [],
   "source": [
    "# assign features and target to X and y variables\n",
    "y = data['Result']\n",
    "X = pd.get_dummies(data.drop('Result', axis=1))\n",
    "# split the data into training and testing data\n",
    "from sklearn.model_selection import train_test_split\n",
    "X_train, X_test, y_train, y_test = train_test_split(X, y, random_state=78)"
   ]
  },
  {
   "cell_type": "code",
   "execution_count": 18,
   "metadata": {},
   "outputs": [],
   "source": [
    "from sklearn.preprocessing import StandardScaler\n",
    "# Create a StandardScaler instances\n",
    "scaler = StandardScaler()\n",
    "\n",
    "# Fit the StandardScaler\n",
    "X_scaler = scaler.fit(X_train)\n",
    "\n",
    "# Scale the data\n",
    "X_train_scaled = X_scaler.transform(X_train)\n",
    "X_test_scaled = X_scaler.transform(X_test)"
   ]
  },
  {
   "cell_type": "code",
   "execution_count": 19,
   "metadata": {},
   "outputs": [
    {
     "data": {
      "text/html": [
       "<style>#sk-container-id-1 {color: black;background-color: white;}#sk-container-id-1 pre{padding: 0;}#sk-container-id-1 div.sk-toggleable {background-color: white;}#sk-container-id-1 label.sk-toggleable__label {cursor: pointer;display: block;width: 100%;margin-bottom: 0;padding: 0.3em;box-sizing: border-box;text-align: center;}#sk-container-id-1 label.sk-toggleable__label-arrow:before {content: \"▸\";float: left;margin-right: 0.25em;color: #696969;}#sk-container-id-1 label.sk-toggleable__label-arrow:hover:before {color: black;}#sk-container-id-1 div.sk-estimator:hover label.sk-toggleable__label-arrow:before {color: black;}#sk-container-id-1 div.sk-toggleable__content {max-height: 0;max-width: 0;overflow: hidden;text-align: left;background-color: #f0f8ff;}#sk-container-id-1 div.sk-toggleable__content pre {margin: 0.2em;color: black;border-radius: 0.25em;background-color: #f0f8ff;}#sk-container-id-1 input.sk-toggleable__control:checked~div.sk-toggleable__content {max-height: 200px;max-width: 100%;overflow: auto;}#sk-container-id-1 input.sk-toggleable__control:checked~label.sk-toggleable__label-arrow:before {content: \"▾\";}#sk-container-id-1 div.sk-estimator input.sk-toggleable__control:checked~label.sk-toggleable__label {background-color: #d4ebff;}#sk-container-id-1 div.sk-label input.sk-toggleable__control:checked~label.sk-toggleable__label {background-color: #d4ebff;}#sk-container-id-1 input.sk-hidden--visually {border: 0;clip: rect(1px 1px 1px 1px);clip: rect(1px, 1px, 1px, 1px);height: 1px;margin: -1px;overflow: hidden;padding: 0;position: absolute;width: 1px;}#sk-container-id-1 div.sk-estimator {font-family: monospace;background-color: #f0f8ff;border: 1px dotted black;border-radius: 0.25em;box-sizing: border-box;margin-bottom: 0.5em;}#sk-container-id-1 div.sk-estimator:hover {background-color: #d4ebff;}#sk-container-id-1 div.sk-parallel-item::after {content: \"\";width: 100%;border-bottom: 1px solid gray;flex-grow: 1;}#sk-container-id-1 div.sk-label:hover label.sk-toggleable__label {background-color: #d4ebff;}#sk-container-id-1 div.sk-serial::before {content: \"\";position: absolute;border-left: 1px solid gray;box-sizing: border-box;top: 0;bottom: 0;left: 50%;z-index: 0;}#sk-container-id-1 div.sk-serial {display: flex;flex-direction: column;align-items: center;background-color: white;padding-right: 0.2em;padding-left: 0.2em;position: relative;}#sk-container-id-1 div.sk-item {position: relative;z-index: 1;}#sk-container-id-1 div.sk-parallel {display: flex;align-items: stretch;justify-content: center;background-color: white;position: relative;}#sk-container-id-1 div.sk-item::before, #sk-container-id-1 div.sk-parallel-item::before {content: \"\";position: absolute;border-left: 1px solid gray;box-sizing: border-box;top: 0;bottom: 0;left: 50%;z-index: -1;}#sk-container-id-1 div.sk-parallel-item {display: flex;flex-direction: column;z-index: 1;position: relative;background-color: white;}#sk-container-id-1 div.sk-parallel-item:first-child::after {align-self: flex-end;width: 50%;}#sk-container-id-1 div.sk-parallel-item:last-child::after {align-self: flex-start;width: 50%;}#sk-container-id-1 div.sk-parallel-item:only-child::after {width: 0;}#sk-container-id-1 div.sk-dashed-wrapped {border: 1px dashed gray;margin: 0 0.4em 0.5em 0.4em;box-sizing: border-box;padding-bottom: 0.4em;background-color: white;}#sk-container-id-1 div.sk-label label {font-family: monospace;font-weight: bold;display: inline-block;line-height: 1.2em;}#sk-container-id-1 div.sk-label-container {text-align: center;}#sk-container-id-1 div.sk-container {/* jupyter's `normalize.less` sets `[hidden] { display: none; }` but bootstrap.min.css set `[hidden] { display: none !important; }` so we also need the `!important` here to be able to override the default hidden behavior on the sphinx rendered scikit-learn.org. See: https://github.com/scikit-learn/scikit-learn/issues/21755 */display: inline-block !important;position: relative;}#sk-container-id-1 div.sk-text-repr-fallback {display: none;}</style><div id=\"sk-container-id-1\" class=\"sk-top-container\"><div class=\"sk-text-repr-fallback\"><pre>LogisticRegression(max_iter=1000)</pre><b>In a Jupyter environment, please rerun this cell to show the HTML representation or trust the notebook. <br />On GitHub, the HTML representation is unable to render, please try loading this page with nbviewer.org.</b></div><div class=\"sk-container\" hidden><div class=\"sk-item\"><div class=\"sk-estimator sk-toggleable\"><input class=\"sk-toggleable__control sk-hidden--visually\" id=\"sk-estimator-id-1\" type=\"checkbox\" checked><label for=\"sk-estimator-id-1\" class=\"sk-toggleable__label sk-toggleable__label-arrow\">LogisticRegression</label><div class=\"sk-toggleable__content\"><pre>LogisticRegression(max_iter=1000)</pre></div></div></div></div></div>"
      ],
      "text/plain": [
       "LogisticRegression(max_iter=1000)"
      ]
     },
     "execution_count": 19,
     "metadata": {},
     "output_type": "execute_result"
    }
   ],
   "source": [
    "# create an instance of logistic regression model and train model with training data\n",
    "from sklearn.linear_model import LogisticRegression\n",
    "linear = LogisticRegression(max_iter=1000)\n",
    "\n",
    "linear.fit(X_train_scaled,y_train)"
   ]
  },
  {
   "cell_type": "code",
   "execution_count": 20,
   "metadata": {},
   "outputs": [
    {
     "name": "stdout",
     "output_type": "stream",
     "text": [
      "Accuracy Score: 0.5486458101269851\n",
      "              precision    recall  f1-score   support\n",
      "\n",
      "         0-1       0.54      0.39      0.45     14516\n",
      "         1-0       0.55      0.73      0.63     15841\n",
      "     1/2-1/2       0.26      0.05      0.08      1064\n",
      "\n",
      "    accuracy                           0.55     31421\n",
      "   macro avg       0.45      0.39      0.39     31421\n",
      "weighted avg       0.54      0.55      0.53     31421\n",
      "\n"
     ]
    }
   ],
   "source": [
    "# view accuracy score and classification report based on logistic regression model\n",
    "from sklearn.metrics import accuracy_score, classification_report\n",
    "y_pred = linear.predict(X_test_scaled)\n",
    "print(f'Accuracy Score: {accuracy_score(y_test,y_pred)}')\n",
    "print(classification_report(y_test,y_pred))"
   ]
  },
  {
   "cell_type": "markdown",
   "metadata": {},
   "source": [
    "## Random Forest"
   ]
  },
  {
   "cell_type": "code",
   "execution_count": 21,
   "metadata": {},
   "outputs": [],
   "source": [
    "# initiate a random forest model\n",
    "from sklearn.ensemble import RandomForestClassifier\n",
    "rf_model = RandomForestClassifier(n_estimators=512, random_state=78)"
   ]
  },
  {
   "cell_type": "code",
   "execution_count": 74,
   "metadata": {},
   "outputs": [],
   "source": [
    "# dummy encode categorical variables and assign features and targets to X and y variables\n",
    "y = pd.get_dummies(data['Result'])\n",
    "X = pd.get_dummies(data.drop('Result', axis=1))\n",
    "# split the data into training and testing data\n",
    "X_train, X_test, y_train, y_test = train_test_split(X, y, random_state=78)"
   ]
  },
  {
   "cell_type": "code",
   "execution_count": 316,
   "metadata": {},
   "outputs": [],
   "source": [
    "# Create a StandardScaler instances\n",
    "scaler = StandardScaler()\n",
    "\n",
    "# Fit the StandardScaler\n",
    "X_scaler = scaler.fit(X_train)\n",
    "\n",
    "# Scale the data\n",
    "X_train_scaled = X_scaler.transform(X_train)\n",
    "X_test_scaled = X_scaler.transform(X_test)"
   ]
  },
  {
   "cell_type": "code",
   "execution_count": 317,
   "metadata": {},
   "outputs": [],
   "source": [
    "# train the model with training data\n",
    "rf_model = rf_model.fit(X_train_scaled, y_train)"
   ]
  },
  {
   "cell_type": "code",
   "execution_count": 318,
   "metadata": {},
   "outputs": [],
   "source": [
    "# Making predictions using the testing data\n",
    "predictions = rf_model.predict(X_test_scaled)"
   ]
  },
  {
   "cell_type": "code",
   "execution_count": 319,
   "metadata": {},
   "outputs": [],
   "source": [
    "# Calculating the accuracy score\n",
    "acc_score = accuracy_score(y_test, predictions)"
   ]
  },
  {
   "cell_type": "code",
   "execution_count": 320,
   "metadata": {},
   "outputs": [
    {
     "name": "stdout",
     "output_type": "stream",
     "text": [
      "Accuracy Score : 0.6016040227873078\n",
      "Classification Report\n",
      "              precision    recall  f1-score   support\n",
      "\n",
      "  Black Wins       0.67      0.57      0.62     14516\n",
      "  White Wins       0.68      0.67      0.67     15841\n",
      "        Draw       0.00      0.00      0.00      1064\n",
      "\n",
      "   micro avg       0.67      0.60      0.64     31421\n",
      "   macro avg       0.45      0.41      0.43     31421\n",
      "weighted avg       0.65      0.60      0.62     31421\n",
      " samples avg       0.60      0.60      0.60     31421\n",
      "\n"
     ]
    },
    {
     "name": "stderr",
     "output_type": "stream",
     "text": [
      "c:\\Users\\Ian\\anaconda3\\envs\\dev\\lib\\site-packages\\sklearn\\metrics\\_classification.py:1344: UndefinedMetricWarning: Precision and F-score are ill-defined and being set to 0.0 in samples with no predicted labels. Use `zero_division` parameter to control this behavior.\n",
      "  _warn_prf(average, modifier, msg_start, len(result))\n"
     ]
    }
   ],
   "source": [
    "# Displaying results\n",
    "print(f\"Accuracy Score : {acc_score}\")\n",
    "print(\"Classification Report\")\n",
    "print(classification_report(y_test, predictions, target_names=['Black Wins', 'White Wins', 'Draw']))"
   ]
  },
  {
   "cell_type": "code",
   "execution_count": 321,
   "metadata": {},
   "outputs": [
    {
     "data": {
      "text/plain": [
       "[(0.19507156071721687, 'TotalMoves'),\n",
       " (0.14279263196713235, 'Playtime Difference'),\n",
       " (0.13946888783574055, 'Games Played Difference'),\n",
       " (0.132768463350627, 'Rating Difference'),\n",
       " (0.13144882239692643, 'Average Playtime Difference'),\n",
       " (0.12963849311032632, 'White Average Playtime'),\n",
       " (0.12881114062203056, 'Black Average Playtime')]"
      ]
     },
     "execution_count": 321,
     "metadata": {},
     "output_type": "execute_result"
    }
   ],
   "source": [
    "# Random Forests in sklearn will automatically calculate feature importance\n",
    "importances = rf_model.feature_importances_\n",
    "# We can sort the features by their importance\n",
    "sorted(zip(importances, X.columns), reverse=True)"
   ]
  },
  {
   "cell_type": "markdown",
   "metadata": {},
   "source": [
    "## Sequential NN Model"
   ]
  },
  {
   "cell_type": "code",
   "execution_count": 23,
   "metadata": {},
   "outputs": [
    {
     "name": "stdout",
     "output_type": "stream",
     "text": [
      "WARNING:tensorflow:From c:\\Users\\Ian\\anaconda3\\envs\\dev\\lib\\site-packages\\keras\\src\\backend.py:873: The name tf.get_default_graph is deprecated. Please use tf.compat.v1.get_default_graph instead.\n",
      "\n",
      "Model: \"sequential\"\n",
      "_________________________________________________________________\n",
      " Layer (type)                Output Shape              Param #   \n",
      "=================================================================\n",
      " dense (Dense)               (None, 256)               2048      \n",
      "                                                                 \n",
      " dense_1 (Dense)             (None, 64)                16448     \n",
      "                                                                 \n",
      " dense_2 (Dense)             (None, 64)                4160      \n",
      "                                                                 \n",
      " dense_3 (Dense)             (None, 64)                4160      \n",
      "                                                                 \n",
      " dense_4 (Dense)             (None, 3)                 195       \n",
      "                                                                 \n",
      "=================================================================\n",
      "Total params: 27011 (105.51 KB)\n",
      "Trainable params: 27011 (105.51 KB)\n",
      "Non-trainable params: 0 (0.00 Byte)\n",
      "_________________________________________________________________\n"
     ]
    }
   ],
   "source": [
    "# Define the model - deep neural net\n",
    "number_input_features = len(X_train.columns)\n",
    "\n",
    "nn = tf.keras.models.Sequential()\n",
    "\n",
    "# First hidden layer\n",
    "nn.add(\n",
    "    tf.keras.layers.Dense(units=256, input_dim=number_input_features, activation=\"relu\")\n",
    ")\n",
    "\n",
    "# Second hidden layer\n",
    "nn.add(tf.keras.layers.Dense(units=64, activation=\"relu\"))\n",
    "\n",
    "nn.add(tf.keras.layers.Dense(units=64, activation=\"relu\"))\n",
    "\n",
    "nn.add(tf.keras.layers.Dense(units=64, activation=\"relu\"))\n",
    "\n",
    "# Output layer\n",
    "nn.add(tf.keras.layers.Dense(units=3, activation=\"softmax\"))\n",
    "\n",
    "# Check the structure of the model\n",
    "nn.summary()"
   ]
  },
  {
   "cell_type": "code",
   "execution_count": 24,
   "metadata": {},
   "outputs": [
    {
     "name": "stdout",
     "output_type": "stream",
     "text": [
      "WARNING:tensorflow:From c:\\Users\\Ian\\anaconda3\\envs\\dev\\lib\\site-packages\\keras\\src\\optimizers\\__init__.py:309: The name tf.train.Optimizer is deprecated. Please use tf.compat.v1.train.Optimizer instead.\n",
      "\n"
     ]
    }
   ],
   "source": [
    "# compile the model\n",
    "nn.compile(loss=\"CategoricalCrossentropy\", optimizer=\"adam\", metrics=[\"accuracy\"])"
   ]
  },
  {
   "cell_type": "code",
   "execution_count": 25,
   "metadata": {},
   "outputs": [
    {
     "name": "stdout",
     "output_type": "stream",
     "text": [
      "Epoch 1/100\n",
      "WARNING:tensorflow:From c:\\Users\\Ian\\anaconda3\\envs\\dev\\lib\\site-packages\\keras\\src\\utils\\tf_utils.py:492: The name tf.ragged.RaggedTensorValue is deprecated. Please use tf.compat.v1.ragged.RaggedTensorValue instead.\n",
      "\n",
      "WARNING:tensorflow:From c:\\Users\\Ian\\anaconda3\\envs\\dev\\lib\\site-packages\\keras\\src\\engine\\base_layer_utils.py:384: The name tf.executing_eagerly_outside_functions is deprecated. Please use tf.compat.v1.executing_eagerly_outside_functions instead.\n",
      "\n",
      "2946/2946 [==============================] - 3s 733us/step - loss: 0.7881 - accuracy: 0.5485\n",
      "Epoch 2/100\n",
      "2946/2946 [==============================] - 2s 707us/step - loss: 0.7787 - accuracy: 0.5610\n",
      "Epoch 3/100\n",
      "2946/2946 [==============================] - 2s 717us/step - loss: 0.7754 - accuracy: 0.5683\n",
      "Epoch 4/100\n",
      "2946/2946 [==============================] - 2s 738us/step - loss: 0.7734 - accuracy: 0.5709\n",
      "Epoch 5/100\n",
      "2946/2946 [==============================] - 2s 770us/step - loss: 0.7729 - accuracy: 0.5719\n",
      "Epoch 6/100\n",
      "2946/2946 [==============================] - 2s 792us/step - loss: 0.7717 - accuracy: 0.5736\n",
      "Epoch 7/100\n",
      "2946/2946 [==============================] - 2s 729us/step - loss: 0.7712 - accuracy: 0.5754\n",
      "Epoch 8/100\n",
      "2946/2946 [==============================] - 3s 1ms/step - loss: 0.7700 - accuracy: 0.5758\n",
      "Epoch 9/100\n",
      "2946/2946 [==============================] - 4s 1ms/step - loss: 0.7699 - accuracy: 0.5758\n",
      "Epoch 10/100\n",
      "2946/2946 [==============================] - 2s 778us/step - loss: 0.7690 - accuracy: 0.5760\n",
      "Epoch 11/100\n",
      "2946/2946 [==============================] - 2s 709us/step - loss: 0.7694 - accuracy: 0.5765\n",
      "Epoch 12/100\n",
      "2946/2946 [==============================] - 2s 803us/step - loss: 0.7686 - accuracy: 0.5760\n",
      "Epoch 13/100\n",
      "2946/2946 [==============================] - 2s 745us/step - loss: 0.7686 - accuracy: 0.5778\n",
      "Epoch 14/100\n",
      "2946/2946 [==============================] - 2s 705us/step - loss: 0.7682 - accuracy: 0.5783\n",
      "Epoch 15/100\n",
      "2946/2946 [==============================] - 2s 726us/step - loss: 0.7676 - accuracy: 0.5782\n",
      "Epoch 16/100\n",
      "2946/2946 [==============================] - 2s 713us/step - loss: 0.7677 - accuracy: 0.5788\n",
      "Epoch 17/100\n",
      "2946/2946 [==============================] - 2s 708us/step - loss: 0.7669 - accuracy: 0.5793\n",
      "Epoch 18/100\n",
      "2946/2946 [==============================] - 2s 729us/step - loss: 0.7670 - accuracy: 0.5784\n",
      "Epoch 19/100\n",
      "2946/2946 [==============================] - 2s 730us/step - loss: 0.7665 - accuracy: 0.5797\n",
      "Epoch 20/100\n",
      "2946/2946 [==============================] - 2s 726us/step - loss: 0.7665 - accuracy: 0.5788\n",
      "Epoch 21/100\n",
      "2946/2946 [==============================] - 2s 732us/step - loss: 0.7657 - accuracy: 0.5803\n",
      "Epoch 22/100\n",
      "2946/2946 [==============================] - 2s 744us/step - loss: 0.7656 - accuracy: 0.5788\n",
      "Epoch 23/100\n",
      "2946/2946 [==============================] - 2s 744us/step - loss: 0.7653 - accuracy: 0.5799\n",
      "Epoch 24/100\n",
      "2946/2946 [==============================] - 2s 737us/step - loss: 0.7651 - accuracy: 0.5794\n",
      "Epoch 25/100\n",
      "2946/2946 [==============================] - 2s 720us/step - loss: 0.7648 - accuracy: 0.5807\n",
      "Epoch 26/100\n",
      "2946/2946 [==============================] - 2s 724us/step - loss: 0.7649 - accuracy: 0.5804\n",
      "Epoch 27/100\n",
      "2946/2946 [==============================] - 2s 757us/step - loss: 0.7647 - accuracy: 0.5811\n",
      "Epoch 28/100\n",
      "2946/2946 [==============================] - 2s 722us/step - loss: 0.7642 - accuracy: 0.5807\n",
      "Epoch 29/100\n",
      "2946/2946 [==============================] - 2s 724us/step - loss: 0.7639 - accuracy: 0.5815\n",
      "Epoch 30/100\n",
      "2946/2946 [==============================] - 2s 736us/step - loss: 0.7634 - accuracy: 0.5810\n",
      "Epoch 31/100\n",
      "2946/2946 [==============================] - 2s 737us/step - loss: 0.7631 - accuracy: 0.5815\n",
      "Epoch 32/100\n",
      "2946/2946 [==============================] - 2s 722us/step - loss: 0.7637 - accuracy: 0.5818\n",
      "Epoch 33/100\n",
      "2946/2946 [==============================] - 2s 708us/step - loss: 0.7631 - accuracy: 0.5816\n",
      "Epoch 34/100\n",
      "2946/2946 [==============================] - 2s 711us/step - loss: 0.7627 - accuracy: 0.5828\n",
      "Epoch 35/100\n",
      "2946/2946 [==============================] - 2s 733us/step - loss: 0.7626 - accuracy: 0.5810\n",
      "Epoch 36/100\n",
      "2946/2946 [==============================] - 2s 724us/step - loss: 0.7622 - accuracy: 0.5822\n",
      "Epoch 37/100\n",
      "2946/2946 [==============================] - 2s 710us/step - loss: 0.7618 - accuracy: 0.5829\n",
      "Epoch 38/100\n",
      "2946/2946 [==============================] - 2s 726us/step - loss: 0.7618 - accuracy: 0.5826\n",
      "Epoch 39/100\n",
      "2946/2946 [==============================] - 2s 715us/step - loss: 0.7628 - accuracy: 0.5814\n",
      "Epoch 40/100\n",
      "2946/2946 [==============================] - 2s 702us/step - loss: 0.7609 - accuracy: 0.5816\n",
      "Epoch 41/100\n",
      "2946/2946 [==============================] - 2s 715us/step - loss: 0.7611 - accuracy: 0.5843\n",
      "Epoch 42/100\n",
      "2946/2946 [==============================] - 2s 704us/step - loss: 0.7611 - accuracy: 0.5825\n",
      "Epoch 43/100\n",
      "2946/2946 [==============================] - 2s 707us/step - loss: 0.7604 - accuracy: 0.5833\n",
      "Epoch 44/100\n",
      "2946/2946 [==============================] - 2s 722us/step - loss: 0.7608 - accuracy: 0.5834\n",
      "Epoch 45/100\n",
      "2946/2946 [==============================] - 2s 708us/step - loss: 0.7599 - accuracy: 0.5837\n",
      "Epoch 46/100\n",
      "2946/2946 [==============================] - 2s 723us/step - loss: 0.7592 - accuracy: 0.5843\n",
      "Epoch 47/100\n",
      "2946/2946 [==============================] - 2s 711us/step - loss: 0.7594 - accuracy: 0.5842\n",
      "Epoch 48/100\n",
      "2946/2946 [==============================] - 2s 705us/step - loss: 0.7595 - accuracy: 0.5840\n",
      "Epoch 49/100\n",
      "2946/2946 [==============================] - 2s 700us/step - loss: 0.7587 - accuracy: 0.5839\n",
      "Epoch 50/100\n",
      "2946/2946 [==============================] - 2s 724us/step - loss: 0.7591 - accuracy: 0.5843\n",
      "Epoch 51/100\n",
      "2946/2946 [==============================] - 2s 711us/step - loss: 0.7589 - accuracy: 0.5851\n",
      "Epoch 52/100\n",
      "2946/2946 [==============================] - 2s 700us/step - loss: 0.7584 - accuracy: 0.5846\n",
      "Epoch 53/100\n",
      "2946/2946 [==============================] - 2s 694us/step - loss: 0.7587 - accuracy: 0.5854\n",
      "Epoch 54/100\n",
      "2946/2946 [==============================] - 2s 702us/step - loss: 0.7587 - accuracy: 0.5848\n",
      "Epoch 55/100\n",
      "2946/2946 [==============================] - 2s 707us/step - loss: 0.7576 - accuracy: 0.5858\n",
      "Epoch 56/100\n",
      "2946/2946 [==============================] - 2s 716us/step - loss: 0.7575 - accuracy: 0.5867\n",
      "Epoch 57/100\n",
      "2946/2946 [==============================] - 2s 711us/step - loss: 0.7570 - accuracy: 0.5846\n",
      "Epoch 58/100\n",
      "2946/2946 [==============================] - 2s 721us/step - loss: 0.7568 - accuracy: 0.5860\n",
      "Epoch 59/100\n",
      "2946/2946 [==============================] - 2s 707us/step - loss: 0.7564 - accuracy: 0.5863\n",
      "Epoch 60/100\n",
      "2946/2946 [==============================] - 2s 711us/step - loss: 0.7565 - accuracy: 0.5864\n",
      "Epoch 61/100\n",
      "2946/2946 [==============================] - 2s 720us/step - loss: 0.7564 - accuracy: 0.5871\n",
      "Epoch 62/100\n",
      "2946/2946 [==============================] - 2s 711us/step - loss: 0.7562 - accuracy: 0.5855\n",
      "Epoch 63/100\n",
      "2946/2946 [==============================] - 2s 711us/step - loss: 0.7557 - accuracy: 0.5853\n",
      "Epoch 64/100\n",
      "2946/2946 [==============================] - 2s 704us/step - loss: 0.7553 - accuracy: 0.5868\n",
      "Epoch 65/100\n",
      "2946/2946 [==============================] - 2s 725us/step - loss: 0.7550 - accuracy: 0.5877\n",
      "Epoch 66/100\n",
      "2946/2946 [==============================] - 2s 713us/step - loss: 0.7542 - accuracy: 0.5877\n",
      "Epoch 67/100\n",
      "2946/2946 [==============================] - 2s 713us/step - loss: 0.7547 - accuracy: 0.5873\n",
      "Epoch 68/100\n",
      "2946/2946 [==============================] - 2s 704us/step - loss: 0.7543 - accuracy: 0.5869\n",
      "Epoch 69/100\n",
      "2946/2946 [==============================] - 2s 717us/step - loss: 0.7544 - accuracy: 0.5879\n",
      "Epoch 70/100\n",
      "2946/2946 [==============================] - 2s 708us/step - loss: 0.7539 - accuracy: 0.5889\n",
      "Epoch 71/100\n",
      "2946/2946 [==============================] - 2s 712us/step - loss: 0.7529 - accuracy: 0.5880\n",
      "Epoch 72/100\n",
      "2946/2946 [==============================] - 2s 707us/step - loss: 0.7536 - accuracy: 0.5877\n",
      "Epoch 73/100\n",
      "2946/2946 [==============================] - 2s 702us/step - loss: 0.7537 - accuracy: 0.5883\n",
      "Epoch 74/100\n",
      "2946/2946 [==============================] - 2s 717us/step - loss: 0.7524 - accuracy: 0.5884\n",
      "Epoch 75/100\n",
      "2946/2946 [==============================] - 2s 706us/step - loss: 0.7530 - accuracy: 0.5883\n",
      "Epoch 76/100\n",
      "2946/2946 [==============================] - 2s 701us/step - loss: 0.7527 - accuracy: 0.5887\n",
      "Epoch 77/100\n",
      "2946/2946 [==============================] - 2s 700us/step - loss: 0.7523 - accuracy: 0.5888\n",
      "Epoch 78/100\n",
      "2946/2946 [==============================] - 2s 705us/step - loss: 0.7520 - accuracy: 0.5894\n",
      "Epoch 79/100\n",
      "2946/2946 [==============================] - 2s 703us/step - loss: 0.7513 - accuracy: 0.5900\n",
      "Epoch 80/100\n",
      "2946/2946 [==============================] - 2s 706us/step - loss: 0.7510 - accuracy: 0.5894\n",
      "Epoch 81/100\n",
      "2946/2946 [==============================] - 2s 703us/step - loss: 0.7508 - accuracy: 0.5892\n",
      "Epoch 82/100\n",
      "2946/2946 [==============================] - 2s 697us/step - loss: 0.7516 - accuracy: 0.5897\n",
      "Epoch 83/100\n",
      "2946/2946 [==============================] - 2s 701us/step - loss: 0.7501 - accuracy: 0.5903\n",
      "Epoch 84/100\n",
      "2946/2946 [==============================] - 2s 707us/step - loss: 0.7511 - accuracy: 0.5900\n",
      "Epoch 85/100\n",
      "2946/2946 [==============================] - 2s 705us/step - loss: 0.7499 - accuracy: 0.5901\n",
      "Epoch 86/100\n",
      "2946/2946 [==============================] - 2s 700us/step - loss: 0.7493 - accuracy: 0.5906\n",
      "Epoch 87/100\n",
      "2946/2946 [==============================] - 2s 699us/step - loss: 0.7504 - accuracy: 0.5903\n",
      "Epoch 88/100\n",
      "2946/2946 [==============================] - 2s 700us/step - loss: 0.7491 - accuracy: 0.5913\n",
      "Epoch 89/100\n",
      "2946/2946 [==============================] - 2s 706us/step - loss: 0.7490 - accuracy: 0.5903\n",
      "Epoch 90/100\n",
      "2946/2946 [==============================] - 2s 721us/step - loss: 0.7487 - accuracy: 0.5915\n",
      "Epoch 91/100\n",
      "2946/2946 [==============================] - 2s 714us/step - loss: 0.7489 - accuracy: 0.5908\n",
      "Epoch 92/100\n",
      "2946/2946 [==============================] - 2s 715us/step - loss: 0.7486 - accuracy: 0.5905\n",
      "Epoch 93/100\n",
      "2946/2946 [==============================] - 2s 706us/step - loss: 0.7493 - accuracy: 0.5907\n",
      "Epoch 94/100\n",
      "2946/2946 [==============================] - 2s 708us/step - loss: 0.7476 - accuracy: 0.5914\n",
      "Epoch 95/100\n",
      "2946/2946 [==============================] - 2s 707us/step - loss: 0.7475 - accuracy: 0.5919\n",
      "Epoch 96/100\n",
      "2946/2946 [==============================] - 2s 701us/step - loss: 0.7480 - accuracy: 0.5907\n",
      "Epoch 97/100\n",
      "2946/2946 [==============================] - 2s 708us/step - loss: 0.7473 - accuracy: 0.5913\n",
      "Epoch 98/100\n",
      "2946/2946 [==============================] - 2s 704us/step - loss: 0.7470 - accuracy: 0.5908\n",
      "Epoch 99/100\n",
      "2946/2946 [==============================] - 2s 700us/step - loss: 0.7470 - accuracy: 0.5922\n",
      "Epoch 100/100\n",
      "2946/2946 [==============================] - 2s 714us/step - loss: 0.7467 - accuracy: 0.5920\n"
     ]
    }
   ],
   "source": [
    "# fit the model with training data\n",
    "fit_model = nn.fit(X_train_scaled,y_train,epochs=100)"
   ]
  },
  {
   "cell_type": "code",
   "execution_count": 26,
   "metadata": {},
   "outputs": [
    {
     "name": "stdout",
     "output_type": "stream",
     "text": [
      "982/982 - 1s - loss: 0.7937 - accuracy: 0.5697 - 616ms/epoch - 627us/step\n",
      "Loss: 0.7937012910842896, Accuracy: 0.5697145462036133\n"
     ]
    }
   ],
   "source": [
    "# Evaluate the model using the test data\n",
    "model_loss, val_accuracy = nn.evaluate(X_test_scaled,y_test,verbose=2)\n",
    "print(f\"Loss: {model_loss}, Accuracy: {val_accuracy}\")"
   ]
  },
  {
   "cell_type": "code",
   "execution_count": 69,
   "metadata": {},
   "outputs": [
    {
     "name": "stdout",
     "output_type": "stream",
     "text": [
      "  1/982 [..............................] - ETA: 12s"
     ]
    },
    {
     "name": "stdout",
     "output_type": "stream",
     "text": [
      "982/982 [==============================] - 1s 561us/step\n"
     ]
    }
   ],
   "source": [
    "# Getting predictions\n",
    "predictions = nn.predict(X_test_scaled)"
   ]
  },
  {
   "cell_type": "code",
   "execution_count": 71,
   "metadata": {},
   "outputs": [
    {
     "name": "stderr",
     "output_type": "stream",
     "text": [
      "C:\\Users\\Ian\\AppData\\Local\\Temp\\ipykernel_23532\\381289189.py:1: FutureWarning: Downcasting behavior in `replace` is deprecated and will be removed in a future version. To retain the old behavior, explicitly call `result.infer_objects(copy=False)`. To opt-in to the future behavior, set `pd.set_option('future.no_silent_downcasting', True)`\n",
      "  predictions_df = pd.DataFrame(predictions==predictions.max(axis=1,keepdims=1)).astype(float).replace({0:False, 1:True})\n"
     ]
    }
   ],
   "source": [
    "# Making predictions match format of y test\n",
    "predictions_df = pd.DataFrame(predictions==predictions.max(axis=1,keepdims=1)).astype(float).replace({0:False, 1:True})"
   ]
  },
  {
   "cell_type": "code",
   "execution_count": 75,
   "metadata": {},
   "outputs": [],
   "source": [
    "# store the accuracy score\n",
    "acc_score = accuracy_score(y_test, predictions_df)"
   ]
  },
  {
   "cell_type": "code",
   "execution_count": 76,
   "metadata": {},
   "outputs": [
    {
     "name": "stdout",
     "output_type": "stream",
     "text": [
      "Accuracy Score : 0.5697145221348779\n",
      "Classification Report\n",
      "              precision    recall  f1-score   support\n",
      "\n",
      "  Black Wins       0.55      0.60      0.57     14516\n",
      "  White Wins       0.59      0.58      0.59     15841\n",
      "        Draw       0.21      0.01      0.01      1064\n",
      "\n",
      "   micro avg       0.57      0.57      0.57     31421\n",
      "   macro avg       0.45      0.40      0.39     31421\n",
      "weighted avg       0.56      0.57      0.56     31421\n",
      " samples avg       0.57      0.57      0.57     31421\n",
      "\n"
     ]
    }
   ],
   "source": [
    "# Displaying results\n",
    "print(f\"Accuracy Score : {acc_score}\")\n",
    "print(\"Classification Report\")\n",
    "print(classification_report(y_test, predictions_df, target_names=['Black Wins', 'White Wins', 'Draw']))"
   ]
  },
  {
   "cell_type": "markdown",
   "metadata": {},
   "source": [
    "## Hyperparameter Tuning"
   ]
  },
  {
   "cell_type": "code",
   "execution_count": 325,
   "metadata": {},
   "outputs": [],
   "source": [
    "# Create a method that creates a new Sequential model with hyperparameter options\n",
    "def create_model(hp):\n",
    "    nn_model = tf.keras.models.Sequential()\n",
    "\n",
    "    # Allow kerastuner to decide which activation function to use in hidden layers\n",
    "    activation = hp.Choice('activation',['relu','tanh','sigmoid','softmax','swish'])\n",
    "    # Allow kerastuner to decide number of neurons in first layer\n",
    "    nn_model.add(tf.keras.layers.Dense(units=hp.Int('first_units',\n",
    "        min_value=1,\n",
    "        max_value=512,\n",
    "        step=5), activation=activation, input_dim=len(X_train.columns)))\n",
    "\n",
    "    # Allow kerastuner to decide number of hidden layers and neurons in hidden layers\n",
    "    for i in range(hp.Int('num_layers', 1, 8)):\n",
    "        nn_model.add(tf.keras.layers.Dense(units=hp.Int('units_' + str(i),\n",
    "            min_value=1,\n",
    "            max_value=512,\n",
    "            step=5),\n",
    "            activation=activation))\n",
    "    \n",
    "    nn_model.add(tf.keras.layers.Dense(units=3, activation='softmax'))\n",
    "\n",
    "    # Compile the model\n",
    "    nn_model.compile(loss=\"CategoricalCrossentropy\", optimizer='adam', metrics=[\"accuracy\"])\n",
    "    \n",
    "    return nn_model"
   ]
  },
  {
   "cell_type": "code",
   "execution_count": 326,
   "metadata": {},
   "outputs": [],
   "source": [
    "# Import the kerastuner library\n",
    "import keras_tuner as kt\n",
    "\n",
    "tuner = kt.Hyperband(\n",
    "    create_model,\n",
    "    objective=\"val_accuracy\",\n",
    "    max_epochs=20,\n",
    "    hyperband_iterations=2,\n",
    "    overwrite=True)"
   ]
  },
  {
   "cell_type": "code",
   "execution_count": 327,
   "metadata": {},
   "outputs": [
    {
     "name": "stdout",
     "output_type": "stream",
     "text": [
      "Trial 60 Complete [00h 01m 56s]\n",
      "val_accuracy: 0.5763979554176331\n",
      "\n",
      "Best val_accuracy So Far: 0.5787212252616882\n",
      "Total elapsed time: 00h 37m 56s\n"
     ]
    }
   ],
   "source": [
    "# Running the tuner\n",
    "tuner.search(X_train_scaled,y_train,epochs=20,validation_data=(X_test_scaled,y_test))"
   ]
  },
  {
   "cell_type": "code",
   "execution_count": 328,
   "metadata": {},
   "outputs": [
    {
     "name": "stdout",
     "output_type": "stream",
     "text": [
      "{'activation': 'relu', 'first_units': 441, 'num_layers': 6, 'units_0': 251, 'units_1': 96, 'units_2': 156, 'units_3': 396, 'units_4': 16, 'units_5': 121, 'units_6': 116, 'tuner/epochs': 20, 'tuner/initial_epoch': 7, 'tuner/bracket': 1, 'tuner/round': 1, 'tuner/trial_id': '0018', 'units_7': 11}\n",
      "{'activation': 'relu', 'first_units': 166, 'num_layers': 2, 'units_0': 236, 'units_1': 6, 'units_2': 221, 'units_3': 456, 'units_4': 386, 'units_5': 156, 'units_6': 281, 'units_7': 381, 'tuner/epochs': 20, 'tuner/initial_epoch': 7, 'tuner/bracket': 2, 'tuner/round': 2, 'tuner/trial_id': '0042'}\n",
      "{'activation': 'relu', 'first_units': 256, 'num_layers': 2, 'units_0': 76, 'units_1': 281, 'units_2': 101, 'units_3': 36, 'units_4': 431, 'units_5': 216, 'units_6': 136, 'units_7': 196, 'tuner/epochs': 20, 'tuner/initial_epoch': 7, 'tuner/bracket': 1, 'tuner/round': 1, 'tuner/trial_id': '0050'}\n"
     ]
    }
   ],
   "source": [
    "# The best 3 hyperparameter sets\n",
    "top_hyper = tuner.get_best_hyperparameters(3)\n",
    "for param in top_hyper:\n",
    "    print(param.values)"
   ]
  },
  {
   "cell_type": "code",
   "execution_count": 329,
   "metadata": {},
   "outputs": [
    {
     "name": "stdout",
     "output_type": "stream",
     "text": [
      "982/982 - 1s - loss: 0.7691 - accuracy: 0.5787 - 802ms/epoch - 817us/step\n",
      "Loss: 0.769116997718811, Accuracy: 0.5787212252616882\n"
     ]
    }
   ],
   "source": [
    "# Accuracy and Loss of the best model\n",
    "best_model = tuner.get_best_models()[0]\n",
    "model_loss, val_accuracy = best_model.evaluate(X_test_scaled,y_test,verbose=2)\n",
    "print(f\"Loss: {model_loss}, Accuracy: {val_accuracy}\")"
   ]
  },
  {
   "cell_type": "markdown",
   "metadata": {},
   "source": [
    "## Binning Outliers in Rating Difference"
   ]
  },
  {
   "cell_type": "code",
   "execution_count": 160,
   "metadata": {},
   "outputs": [],
   "source": [
    "# Creating bins for rating difference\n",
    "bins = [-2000, -1000, -500, -150, -50, 0, 50, 150, 500, 1000, 2000]\n",
    "# Cutting columns by bins\n",
    "data['Rating Difference'] = pd.cut(data['Rating Difference'], bins)"
   ]
  },
  {
   "cell_type": "code",
   "execution_count": 161,
   "metadata": {},
   "outputs": [
    {
     "data": {
      "text/plain": [
       "0      (50, 150]\n",
       "1    (-150, -50]\n",
       "2       (-50, 0]\n",
       "3       (-50, 0]\n",
       "4       (-50, 0]\n",
       "Name: Rating Difference, dtype: category\n",
       "Categories (10, interval[int64, right]): [(-2000, -1000] < (-1000, -500] < (-500, -150] < (-150, -50] ... (50, 150] < (150, 500] < (500, 1000] < (1000, 2000]]"
      ]
     },
     "execution_count": 161,
     "metadata": {},
     "output_type": "execute_result"
    }
   ],
   "source": [
    "# view binned data\n",
    "data['Rating Difference'].head()"
   ]
  },
  {
   "cell_type": "code",
   "execution_count": 162,
   "metadata": {},
   "outputs": [],
   "source": [
    "# dummy encode the categorical data and sort into target and features\n",
    "y = pd.get_dummies(data['Result'])\n",
    "X = pd.get_dummies(data.drop('Result', axis=1))"
   ]
  },
  {
   "cell_type": "code",
   "execution_count": 163,
   "metadata": {},
   "outputs": [],
   "source": [
    "# split the data into training and testing data\n",
    "X_train, X_test, y_train, y_test = train_test_split(X, y, random_state=78)"
   ]
  },
  {
   "cell_type": "code",
   "execution_count": 164,
   "metadata": {},
   "outputs": [],
   "source": [
    "# Create a StandardScaler instances\n",
    "scaler = StandardScaler()\n",
    "\n",
    "# Fit the StandardScaler\n",
    "X_scaler = scaler.fit(X_train)\n",
    "\n",
    "# Scale the data\n",
    "X_train_scaled = X_scaler.transform(X_train)\n",
    "X_test_scaled = X_scaler.transform(X_test)"
   ]
  },
  {
   "cell_type": "code",
   "execution_count": 335,
   "metadata": {},
   "outputs": [],
   "source": [
    "# initiate a random forest model\n",
    "rf_model = RandomForestClassifier(n_estimators=512, random_state=78)"
   ]
  },
  {
   "cell_type": "code",
   "execution_count": 336,
   "metadata": {},
   "outputs": [],
   "source": [
    "# train the model with training data\n",
    "rf_model = rf_model.fit(X_train_scaled, y_train)"
   ]
  },
  {
   "cell_type": "code",
   "execution_count": 337,
   "metadata": {},
   "outputs": [],
   "source": [
    "# Making predictions using the testing data\n",
    "predictions = rf_model.predict(X_test_scaled)"
   ]
  },
  {
   "cell_type": "code",
   "execution_count": 338,
   "metadata": {},
   "outputs": [],
   "source": [
    "# Calculating the accuracy score\n",
    "acc_score = accuracy_score(y_test, predictions)"
   ]
  },
  {
   "cell_type": "code",
   "execution_count": 339,
   "metadata": {},
   "outputs": [
    {
     "name": "stdout",
     "output_type": "stream",
     "text": [
      "Accuracy Score : 0.5837497215238217\n",
      "Classification Report\n",
      "              precision    recall  f1-score   support\n",
      "\n",
      "  Black Wins       0.65      0.55      0.60     14516\n",
      "  White Wins       0.66      0.65      0.65     15841\n",
      "        Draw       0.00      0.00      0.00      1064\n",
      "\n",
      "   micro avg       0.65      0.58      0.62     31421\n",
      "   macro avg       0.43      0.40      0.42     31421\n",
      "weighted avg       0.63      0.58      0.61     31421\n",
      " samples avg       0.58      0.58      0.58     31421\n",
      "\n"
     ]
    },
    {
     "name": "stderr",
     "output_type": "stream",
     "text": [
      "c:\\Users\\Ian\\anaconda3\\envs\\dev\\lib\\site-packages\\sklearn\\metrics\\_classification.py:1344: UndefinedMetricWarning: Precision and F-score are ill-defined and being set to 0.0 in samples with no predicted labels. Use `zero_division` parameter to control this behavior.\n",
      "  _warn_prf(average, modifier, msg_start, len(result))\n"
     ]
    }
   ],
   "source": [
    "# Displaying results\n",
    "print(f\"Accuracy Score : {acc_score}\")\n",
    "print(\"Classification Report\")\n",
    "print(classification_report(y_test, predictions, target_names=['Black Wins', 'White Wins', 'Draw']))"
   ]
  },
  {
   "cell_type": "code",
   "execution_count": 340,
   "metadata": {},
   "outputs": [
    {
     "data": {
      "text/plain": [
       "[(0.20417716258915353, 'TotalMoves'),\n",
       " (0.16008715376553523, 'Playtime Difference'),\n",
       " (0.15679306866432044, 'Games Played Difference'),\n",
       " (0.14858828998382126, 'Average Playtime Difference'),\n",
       " (0.14661640016872798, 'White Average Playtime'),\n",
       " (0.14642235984674798, 'Black Average Playtime'),\n",
       " (0.007563483583772837, 'Rating Difference_(-50, 0]'),\n",
       " (0.00738571955451873, 'Rating Difference_(0, 50]'),\n",
       " (0.005389051272143455, 'Rating Difference_(-150, -50]'),\n",
       " (0.004439173176373118, 'Rating Difference_(-500, -150]'),\n",
       " (0.004362699279370156, 'Rating Difference_(150, 500]'),\n",
       " (0.004288556761098735, 'Rating Difference_(50, 150]'),\n",
       " (0.0016191535146478657, 'Rating Difference_(500, 1000]'),\n",
       " (0.0016089741538236977, 'Rating Difference_(-1000, -500]'),\n",
       " (0.0004122208829182406, 'Rating Difference_(-2000, -1000]'),\n",
       " (0.0002465328030266965, 'Rating Difference_(1000, 2000]')]"
      ]
     },
     "execution_count": 340,
     "metadata": {},
     "output_type": "execute_result"
    }
   ],
   "source": [
    "# Calculating feature importance\n",
    "importances = rf_model.feature_importances_\n",
    "sorted(zip(importances, X.columns), reverse=True)"
   ]
  },
  {
   "cell_type": "code",
   "execution_count": 165,
   "metadata": {},
   "outputs": [
    {
     "name": "stdout",
     "output_type": "stream",
     "text": [
      "Model: \"sequential_3\"\n",
      "_________________________________________________________________\n",
      " Layer (type)                Output Shape              Param #   \n",
      "=================================================================\n",
      " dense_18 (Dense)            (None, 256)               5888      \n",
      "                                                                 \n",
      " dense_19 (Dense)            (None, 64)                16448     \n",
      "                                                                 \n",
      " dense_20 (Dense)            (None, 64)                4160      \n",
      "                                                                 \n",
      " dense_21 (Dense)            (None, 64)                4160      \n",
      "                                                                 \n",
      " dense_22 (Dense)            (None, 3)                 195       \n",
      "                                                                 \n",
      "=================================================================\n",
      "Total params: 30851 (120.51 KB)\n",
      "Trainable params: 30851 (120.51 KB)\n",
      "Non-trainable params: 0 (0.00 Byte)\n",
      "_________________________________________________________________\n"
     ]
    }
   ],
   "source": [
    "# Define the model - deep neural net\n",
    "number_input_features = len(X_train.columns)\n",
    "\n",
    "nn = tf.keras.models.Sequential()\n",
    "\n",
    "# First hidden layer\n",
    "nn.add(\n",
    "    tf.keras.layers.Dense(units=256, input_dim=number_input_features, activation=\"relu\")\n",
    ")\n",
    "\n",
    "# Further hidden layers\n",
    "nn.add(tf.keras.layers.Dense(units=64, activation=\"relu\"))\n",
    "\n",
    "nn.add(tf.keras.layers.Dense(units=64, activation=\"relu\"))\n",
    "\n",
    "nn.add(tf.keras.layers.Dense(units=64, activation=\"relu\"))\n",
    "\n",
    "# Output layer\n",
    "nn.add(tf.keras.layers.Dense(units=3, activation=\"softmax\"))\n",
    "\n",
    "# Check the structure of the model\n",
    "nn.summary()"
   ]
  },
  {
   "cell_type": "code",
   "execution_count": 166,
   "metadata": {},
   "outputs": [],
   "source": [
    "# Compile model: Categorical Crossentropy used because output data is categorical and not binary\n",
    "nn.compile(loss=\"CategoricalCrossentropy\", optimizer=\"adam\", metrics=[\"accuracy\"])"
   ]
  },
  {
   "cell_type": "code",
   "execution_count": 167,
   "metadata": {},
   "outputs": [
    {
     "name": "stdout",
     "output_type": "stream",
     "text": [
      "Epoch 1/100\n"
     ]
    },
    {
     "name": "stdout",
     "output_type": "stream",
     "text": [
      "2946/2946 [==============================] - 3s 758us/step - loss: 0.7869 - accuracy: 0.5473\n",
      "Epoch 2/100\n",
      "2946/2946 [==============================] - 2s 769us/step - loss: 0.7733 - accuracy: 0.5683\n",
      "Epoch 3/100\n",
      "2946/2946 [==============================] - 2s 796us/step - loss: 0.7687 - accuracy: 0.5739\n",
      "Epoch 4/100\n",
      "2946/2946 [==============================] - 2s 784us/step - loss: 0.7662 - accuracy: 0.5752\n",
      "Epoch 5/100\n",
      "2946/2946 [==============================] - 2s 765us/step - loss: 0.7646 - accuracy: 0.5772\n",
      "Epoch 6/100\n",
      "2946/2946 [==============================] - 2s 778us/step - loss: 0.7628 - accuracy: 0.5782\n",
      "Epoch 7/100\n",
      "2946/2946 [==============================] - 2s 784us/step - loss: 0.7621 - accuracy: 0.5806\n",
      "Epoch 8/100\n",
      "2946/2946 [==============================] - 2s 780us/step - loss: 0.7604 - accuracy: 0.5817\n",
      "Epoch 9/100\n",
      "2946/2946 [==============================] - 2s 776us/step - loss: 0.7595 - accuracy: 0.5820\n",
      "Epoch 10/100\n",
      "2946/2946 [==============================] - 2s 767us/step - loss: 0.7587 - accuracy: 0.5828\n",
      "Epoch 11/100\n",
      "2946/2946 [==============================] - 2s 764us/step - loss: 0.7573 - accuracy: 0.5842\n",
      "Epoch 12/100\n",
      "2946/2946 [==============================] - 2s 771us/step - loss: 0.7558 - accuracy: 0.5864\n",
      "Epoch 13/100\n",
      "2946/2946 [==============================] - 2s 789us/step - loss: 0.7559 - accuracy: 0.5872\n",
      "Epoch 14/100\n",
      "2946/2946 [==============================] - 2s 769us/step - loss: 0.7547 - accuracy: 0.5862\n",
      "Epoch 15/100\n",
      "2946/2946 [==============================] - 2s 783us/step - loss: 0.7536 - accuracy: 0.5878\n",
      "Epoch 16/100\n",
      "2946/2946 [==============================] - 2s 764us/step - loss: 0.7527 - accuracy: 0.5896\n",
      "Epoch 17/100\n",
      "2946/2946 [==============================] - 2s 759us/step - loss: 0.7527 - accuracy: 0.5884\n",
      "Epoch 18/100\n",
      "2946/2946 [==============================] - 2s 773us/step - loss: 0.7518 - accuracy: 0.5907\n",
      "Epoch 19/100\n",
      "2946/2946 [==============================] - 2s 772us/step - loss: 0.7509 - accuracy: 0.5907\n",
      "Epoch 20/100\n",
      "2946/2946 [==============================] - 2s 777us/step - loss: 0.7498 - accuracy: 0.5909\n",
      "Epoch 21/100\n",
      "2946/2946 [==============================] - 2s 797us/step - loss: 0.7491 - accuracy: 0.5920\n",
      "Epoch 22/100\n",
      "2946/2946 [==============================] - 2s 770us/step - loss: 0.7485 - accuracy: 0.5923\n",
      "Epoch 23/100\n",
      "2946/2946 [==============================] - 2s 783us/step - loss: 0.7473 - accuracy: 0.5941\n",
      "Epoch 24/100\n",
      "2946/2946 [==============================] - 2s 761us/step - loss: 0.7469 - accuracy: 0.5946\n",
      "Epoch 25/100\n",
      "2946/2946 [==============================] - 2s 782us/step - loss: 0.7462 - accuracy: 0.5959\n",
      "Epoch 26/100\n",
      "2946/2946 [==============================] - 2s 785us/step - loss: 0.7449 - accuracy: 0.5941\n",
      "Epoch 27/100\n",
      "2946/2946 [==============================] - 2s 775us/step - loss: 0.7442 - accuracy: 0.5955\n",
      "Epoch 28/100\n",
      "2946/2946 [==============================] - 2s 776us/step - loss: 0.7439 - accuracy: 0.5964\n",
      "Epoch 29/100\n",
      "2946/2946 [==============================] - 2s 774us/step - loss: 0.7430 - accuracy: 0.5967\n",
      "Epoch 30/100\n",
      "2946/2946 [==============================] - 2s 789us/step - loss: 0.7427 - accuracy: 0.5966\n",
      "Epoch 31/100\n",
      "2946/2946 [==============================] - 2s 761us/step - loss: 0.7423 - accuracy: 0.5970\n",
      "Epoch 32/100\n",
      "2946/2946 [==============================] - 2s 758us/step - loss: 0.7411 - accuracy: 0.5997\n",
      "Epoch 33/100\n",
      "2946/2946 [==============================] - 2s 773us/step - loss: 0.7411 - accuracy: 0.5980\n",
      "Epoch 34/100\n",
      "2946/2946 [==============================] - 2s 786us/step - loss: 0.7400 - accuracy: 0.5999\n",
      "Epoch 35/100\n",
      "2946/2946 [==============================] - 2s 759us/step - loss: 0.7400 - accuracy: 0.5985\n",
      "Epoch 36/100\n",
      "2946/2946 [==============================] - 2s 769us/step - loss: 0.7388 - accuracy: 0.5999\n",
      "Epoch 37/100\n",
      "2946/2946 [==============================] - 2s 752us/step - loss: 0.7382 - accuracy: 0.5999\n",
      "Epoch 38/100\n",
      "2946/2946 [==============================] - 2s 744us/step - loss: 0.7372 - accuracy: 0.6003\n",
      "Epoch 39/100\n",
      "2946/2946 [==============================] - 2s 803us/step - loss: 0.7370 - accuracy: 0.6015\n",
      "Epoch 40/100\n",
      "2946/2946 [==============================] - 2s 766us/step - loss: 0.7373 - accuracy: 0.6007\n",
      "Epoch 41/100\n",
      "2946/2946 [==============================] - 2s 747us/step - loss: 0.7350 - accuracy: 0.6021\n",
      "Epoch 42/100\n",
      "2946/2946 [==============================] - 2s 757us/step - loss: 0.7349 - accuracy: 0.6032\n",
      "Epoch 43/100\n",
      "2946/2946 [==============================] - 2s 780us/step - loss: 0.7337 - accuracy: 0.6034\n",
      "Epoch 44/100\n",
      "2946/2946 [==============================] - 2s 765us/step - loss: 0.7331 - accuracy: 0.6050\n",
      "Epoch 45/100\n",
      "2946/2946 [==============================] - 2s 745us/step - loss: 0.7318 - accuracy: 0.6065\n",
      "Epoch 46/100\n",
      "2946/2946 [==============================] - 2s 758us/step - loss: 0.7310 - accuracy: 0.6059\n",
      "Epoch 47/100\n",
      "2946/2946 [==============================] - 2s 751us/step - loss: 0.7321 - accuracy: 0.6053\n",
      "Epoch 48/100\n",
      "2946/2946 [==============================] - 2s 751us/step - loss: 0.7315 - accuracy: 0.6057\n",
      "Epoch 49/100\n",
      "2946/2946 [==============================] - 2s 753us/step - loss: 0.7296 - accuracy: 0.6067\n",
      "Epoch 50/100\n",
      "2946/2946 [==============================] - 2s 755us/step - loss: 0.7292 - accuracy: 0.6057\n",
      "Epoch 51/100\n",
      "2946/2946 [==============================] - 2s 751us/step - loss: 0.7290 - accuracy: 0.6068\n",
      "Epoch 52/100\n",
      "2946/2946 [==============================] - 2s 754us/step - loss: 0.7274 - accuracy: 0.6074\n",
      "Epoch 53/100\n",
      "2946/2946 [==============================] - 2s 752us/step - loss: 0.7275 - accuracy: 0.6075\n",
      "Epoch 54/100\n",
      "2946/2946 [==============================] - 2s 746us/step - loss: 0.7263 - accuracy: 0.6080\n",
      "Epoch 55/100\n",
      "2946/2946 [==============================] - 2s 751us/step - loss: 0.7257 - accuracy: 0.6099\n",
      "Epoch 56/100\n",
      "2946/2946 [==============================] - 2s 756us/step - loss: 0.7257 - accuracy: 0.6091\n",
      "Epoch 57/100\n",
      "2946/2946 [==============================] - 2s 753us/step - loss: 0.7244 - accuracy: 0.6101\n",
      "Epoch 58/100\n",
      "2946/2946 [==============================] - 2s 748us/step - loss: 0.7248 - accuracy: 0.6110\n",
      "Epoch 59/100\n",
      "2946/2946 [==============================] - 2s 753us/step - loss: 0.7233 - accuracy: 0.6118\n",
      "Epoch 60/100\n",
      "2946/2946 [==============================] - 2s 753us/step - loss: 0.7227 - accuracy: 0.6105\n",
      "Epoch 61/100\n",
      "2946/2946 [==============================] - 2s 756us/step - loss: 0.7232 - accuracy: 0.6109\n",
      "Epoch 62/100\n",
      "2946/2946 [==============================] - 2s 750us/step - loss: 0.7212 - accuracy: 0.6122\n",
      "Epoch 63/100\n",
      "2946/2946 [==============================] - 2s 762us/step - loss: 0.7209 - accuracy: 0.6120\n",
      "Epoch 64/100\n",
      "2946/2946 [==============================] - 2s 752us/step - loss: 0.7203 - accuracy: 0.6121\n",
      "Epoch 65/100\n",
      "2946/2946 [==============================] - 2s 744us/step - loss: 0.7191 - accuracy: 0.6130\n",
      "Epoch 66/100\n",
      "2946/2946 [==============================] - 2s 749us/step - loss: 0.7206 - accuracy: 0.6133\n",
      "Epoch 67/100\n",
      "2946/2946 [==============================] - 2s 782us/step - loss: 0.7188 - accuracy: 0.6130\n",
      "Epoch 68/100\n",
      "2946/2946 [==============================] - 2s 774us/step - loss: 0.7166 - accuracy: 0.6150\n",
      "Epoch 69/100\n",
      "2946/2946 [==============================] - 2s 772us/step - loss: 0.7203 - accuracy: 0.6149\n",
      "Epoch 70/100\n",
      "2946/2946 [==============================] - 2s 773us/step - loss: 0.7161 - accuracy: 0.6156\n",
      "Epoch 71/100\n",
      "2946/2946 [==============================] - 2s 771us/step - loss: 0.7150 - accuracy: 0.6157\n",
      "Epoch 72/100\n",
      "2946/2946 [==============================] - 2s 766us/step - loss: 0.7151 - accuracy: 0.6168\n",
      "Epoch 73/100\n",
      "2946/2946 [==============================] - 2s 756us/step - loss: 0.7143 - accuracy: 0.6171\n",
      "Epoch 74/100\n",
      "2946/2946 [==============================] - 2s 777us/step - loss: 0.7140 - accuracy: 0.6174\n",
      "Epoch 75/100\n",
      "2946/2946 [==============================] - 2s 771us/step - loss: 0.7157 - accuracy: 0.6163\n",
      "Epoch 76/100\n",
      "2946/2946 [==============================] - 2s 766us/step - loss: 0.7126 - accuracy: 0.6170\n",
      "Epoch 77/100\n",
      "2946/2946 [==============================] - 2s 766us/step - loss: 0.7107 - accuracy: 0.6187\n",
      "Epoch 78/100\n",
      "2946/2946 [==============================] - 2s 772us/step - loss: 0.7120 - accuracy: 0.6185\n",
      "Epoch 79/100\n",
      "2946/2946 [==============================] - 2s 769us/step - loss: 0.7121 - accuracy: 0.6194\n",
      "Epoch 80/100\n",
      "2946/2946 [==============================] - 2s 763us/step - loss: 0.7102 - accuracy: 0.6186\n",
      "Epoch 81/100\n",
      "2946/2946 [==============================] - 2s 762us/step - loss: 0.7090 - accuracy: 0.6204\n",
      "Epoch 82/100\n",
      "2946/2946 [==============================] - 2s 763us/step - loss: 0.7134 - accuracy: 0.6191\n",
      "Epoch 83/100\n",
      "2946/2946 [==============================] - 2s 763us/step - loss: 0.7084 - accuracy: 0.6200\n",
      "Epoch 84/100\n",
      "2946/2946 [==============================] - 2s 772us/step - loss: 0.7075 - accuracy: 0.6219\n",
      "Epoch 85/100\n",
      "2946/2946 [==============================] - 2s 764us/step - loss: 0.7053 - accuracy: 0.6211\n",
      "Epoch 86/100\n",
      "2946/2946 [==============================] - 2s 756us/step - loss: 0.7067 - accuracy: 0.6213\n",
      "Epoch 87/100\n",
      "2946/2946 [==============================] - 2s 763us/step - loss: 0.7095 - accuracy: 0.6229\n",
      "Epoch 88/100\n",
      "2946/2946 [==============================] - 2s 764us/step - loss: 0.7053 - accuracy: 0.6232\n",
      "Epoch 89/100\n",
      "2946/2946 [==============================] - 2s 768us/step - loss: 0.7057 - accuracy: 0.6228\n",
      "Epoch 90/100\n",
      "2946/2946 [==============================] - 2s 753us/step - loss: 0.7037 - accuracy: 0.6237\n",
      "Epoch 91/100\n",
      "2946/2946 [==============================] - 2s 765us/step - loss: 0.7034 - accuracy: 0.6245\n",
      "Epoch 92/100\n",
      "2946/2946 [==============================] - 2s 765us/step - loss: 0.7025 - accuracy: 0.6243\n",
      "Epoch 93/100\n",
      "2946/2946 [==============================] - 2s 766us/step - loss: 0.7023 - accuracy: 0.6251\n",
      "Epoch 94/100\n",
      "2946/2946 [==============================] - 2s 757us/step - loss: 0.7027 - accuracy: 0.6246\n",
      "Epoch 95/100\n",
      "2946/2946 [==============================] - 2s 764us/step - loss: 0.7023 - accuracy: 0.6250\n",
      "Epoch 96/100\n",
      "2946/2946 [==============================] - 2s 768us/step - loss: 0.7008 - accuracy: 0.6274\n",
      "Epoch 97/100\n",
      "2946/2946 [==============================] - 2s 783us/step - loss: 0.7008 - accuracy: 0.6266\n",
      "Epoch 98/100\n",
      "2946/2946 [==============================] - 2s 773us/step - loss: 0.6995 - accuracy: 0.6258\n",
      "Epoch 99/100\n",
      "2946/2946 [==============================] - 2s 774us/step - loss: 0.6990 - accuracy: 0.6270\n",
      "Epoch 100/100\n",
      "2946/2946 [==============================] - 2s 770us/step - loss: 0.6974 - accuracy: 0.6294\n"
     ]
    }
   ],
   "source": [
    "# Fitting model\n",
    "fit_model = nn.fit(X_train_scaled,y_train,epochs=100)"
   ]
  },
  {
   "cell_type": "code",
   "execution_count": 168,
   "metadata": {},
   "outputs": [
    {
     "name": "stdout",
     "output_type": "stream",
     "text": [
      "982/982 - 1s - loss: 0.8388 - accuracy: 0.5715 - 663ms/epoch - 675us/step\n",
      "Loss: 0.8387892246246338, Accuracy: 0.5714967846870422\n"
     ]
    }
   ],
   "source": [
    "# Evaluate the model using the test data\n",
    "model_loss, val_accuracy = nn.evaluate(X_test_scaled,y_test,verbose=2)\n",
    "print(f\"Loss: {model_loss}, Accuracy: {val_accuracy}\")"
   ]
  },
  {
   "cell_type": "code",
   "execution_count": 169,
   "metadata": {},
   "outputs": [
    {
     "name": "stdout",
     "output_type": "stream",
     "text": [
      "982/982 [==============================] - 1s 597us/step\n"
     ]
    }
   ],
   "source": [
    "# Getting predictions\n",
    "predictions = nn.predict(X_test_scaled)"
   ]
  },
  {
   "cell_type": "code",
   "execution_count": 170,
   "metadata": {},
   "outputs": [
    {
     "name": "stderr",
     "output_type": "stream",
     "text": [
      "C:\\Users\\Ian\\AppData\\Local\\Temp\\ipykernel_23532\\3264781661.py:2: FutureWarning: Downcasting behavior in `replace` is deprecated and will be removed in a future version. To retain the old behavior, explicitly call `result.infer_objects(copy=False)`. To opt-in to the future behavior, set `pd.set_option('future.no_silent_downcasting', True)`\n",
      "  predictions_df = pd.DataFrame(predictions==predictions.max(axis=1,keepdims=1)).astype(float).replace({0:False, 1:True})\n"
     ]
    }
   ],
   "source": [
    "# Making predictions match format of y_test\n",
    "predictions_df = pd.DataFrame(predictions==predictions.max(axis=1,keepdims=1)).astype(float).replace({0:False, 1:True})"
   ]
  },
  {
   "cell_type": "code",
   "execution_count": 171,
   "metadata": {},
   "outputs": [],
   "source": [
    "# store accuracy score\n",
    "acc_score = accuracy_score(y_test, predictions_df)"
   ]
  },
  {
   "cell_type": "code",
   "execution_count": 172,
   "metadata": {},
   "outputs": [
    {
     "name": "stdout",
     "output_type": "stream",
     "text": [
      "Accuracy Score : 0.5714967696763311\n",
      "Classification Report\n",
      "              precision    recall  f1-score   support\n",
      "\n",
      "  Black Wins       0.57      0.50      0.53     14516\n",
      "  White Wins       0.58      0.67      0.62     15841\n",
      "        Draw       0.19      0.05      0.08      1064\n",
      "\n",
      "   micro avg       0.57      0.57      0.57     31421\n",
      "   macro avg       0.45      0.41      0.41     31421\n",
      "weighted avg       0.56      0.57      0.56     31421\n",
      " samples avg       0.57      0.57      0.57     31421\n",
      "\n"
     ]
    }
   ],
   "source": [
    "# Displaying results\n",
    "print(f\"Accuracy Score : {acc_score}\")\n",
    "print(\"Classification Report\")\n",
    "print(classification_report(y_test, predictions_df, target_names=['Black Wins', 'White Wins', 'Draw']))"
   ]
  },
  {
   "cell_type": "markdown",
   "metadata": {},
   "source": [
    "## Dropping Outliers"
   ]
  },
  {
   "cell_type": "code",
   "execution_count": 490,
   "metadata": {},
   "outputs": [],
   "source": [
    "# select relevant columns of data and save as pandas dataframe\n",
    "data = spark.sql(\n",
    "    '''\n",
    "SELECT WhiteElo, White_playTime_total, White_count_all, BlackElo, Black_playTime_total, Black_count_all, TotalMoves,\n",
    "Result from chess\n",
    "WHERE Result != '*'\n",
    "'''\n",
    ").toPandas()"
   ]
  },
  {
   "cell_type": "code",
   "execution_count": 491,
   "metadata": {},
   "outputs": [],
   "source": [
    "# drop null values\n",
    "data.dropna(inplace=True)"
   ]
  },
  {
   "cell_type": "code",
   "execution_count": 492,
   "metadata": {},
   "outputs": [],
   "source": [
    "# create features exploring the differences in white versus black to use in prediction model\n",
    "data['Rating Difference'] = data['WhiteElo'] - data['BlackElo']\n",
    "data['Playtime Difference'] = data['White_playTime_total'] - data['Black_playTime_total']\n",
    "data['Games Played Difference'] = data['White_count_all'] - data['Black_count_all']\n",
    "data['White Average Playtime'] = data['White_playTime_total']/data['White_count_all']\n",
    "data['Black Average Playtime'] = data['Black_playTime_total']/data['Black_count_all']\n",
    "data['Average Playtime Difference'] = data['White Average Playtime'] - data['Black Average Playtime']"
   ]
  },
  {
   "cell_type": "code",
   "execution_count": 493,
   "metadata": {},
   "outputs": [],
   "source": [
    "# drop features that are not categorical\n",
    "data.drop(['WhiteElo','BlackElo','White_count_all','Black_count_all','White_playTime_total','Black_playTime_total'],axis=1,inplace=True)"
   ]
  },
  {
   "cell_type": "code",
   "execution_count": 494,
   "metadata": {},
   "outputs": [],
   "source": [
    "# drop outliers\n",
    "indices = data.loc[(data['Rating Difference']>150) | (data['Rating Difference'] < -150)].index\n",
    "data.drop(indices, inplace=True)"
   ]
  },
  {
   "cell_type": "code",
   "execution_count": 495,
   "metadata": {},
   "outputs": [],
   "source": [
    "# dummy encode the categorical data and sort into target and features\n",
    "y = pd.get_dummies(data['Result'])\n",
    "X = pd.get_dummies(data.drop('Result', axis=1))"
   ]
  },
  {
   "cell_type": "code",
   "execution_count": 496,
   "metadata": {},
   "outputs": [],
   "source": [
    "# split the data into training and testing data\n",
    "X_train, X_test, y_train, y_test = train_test_split(X, y, random_state=78)"
   ]
  },
  {
   "cell_type": "code",
   "execution_count": 497,
   "metadata": {},
   "outputs": [],
   "source": [
    "# Create a StandardScaler instances\n",
    "scaler = StandardScaler()\n",
    "\n",
    "# Fit the StandardScaler\n",
    "X_scaler = scaler.fit(X_train)\n",
    "\n",
    "# Scale the data\n",
    "X_train_scaled = X_scaler.transform(X_train)\n",
    "X_test_scaled = X_scaler.transform(X_test)"
   ]
  },
  {
   "cell_type": "code",
   "execution_count": 498,
   "metadata": {},
   "outputs": [],
   "source": [
    "# initiate a random forest model\n",
    "rf_model = RandomForestClassifier(n_estimators=512, random_state=78)"
   ]
  },
  {
   "cell_type": "code",
   "execution_count": 499,
   "metadata": {},
   "outputs": [],
   "source": [
    "# train the model with training data\n",
    "rf_model = rf_model.fit(X_train_scaled, y_train)"
   ]
  },
  {
   "cell_type": "code",
   "execution_count": 500,
   "metadata": {},
   "outputs": [],
   "source": [
    "# Making predictions using the testing data\n",
    "predictions = rf_model.predict(X_test_scaled)"
   ]
  },
  {
   "cell_type": "code",
   "execution_count": 501,
   "metadata": {},
   "outputs": [],
   "source": [
    "# Calculating the accuracy score\n",
    "acc_score = accuracy_score(y_test, predictions)"
   ]
  },
  {
   "cell_type": "code",
   "execution_count": 502,
   "metadata": {},
   "outputs": [
    {
     "name": "stdout",
     "output_type": "stream",
     "text": [
      "Accuracy Score : 0.5814647118010636\n",
      "Classification Report\n",
      "              precision    recall  f1-score   support\n",
      "\n",
      "  Black Wins       0.65      0.55      0.60     12913\n",
      "  White Wins       0.66      0.65      0.66     13906\n",
      "        Draw       0.00      0.00      0.00      1009\n",
      "\n",
      "   micro avg       0.66      0.58      0.62     27828\n",
      "   macro avg       0.44      0.40      0.42     27828\n",
      "weighted avg       0.63      0.58      0.60     27828\n",
      " samples avg       0.58      0.58      0.58     27828\n",
      "\n"
     ]
    },
    {
     "name": "stderr",
     "output_type": "stream",
     "text": [
      "c:\\Users\\Ian\\anaconda3\\envs\\dev\\lib\\site-packages\\sklearn\\metrics\\_classification.py:1344: UndefinedMetricWarning: Precision and F-score are ill-defined and being set to 0.0 in samples with no predicted labels. Use `zero_division` parameter to control this behavior.\n",
      "  _warn_prf(average, modifier, msg_start, len(result))\n"
     ]
    }
   ],
   "source": [
    "# Displaying results\n",
    "print(f\"Accuracy Score : {acc_score}\")\n",
    "print(\"Classification Report\")\n",
    "print(classification_report(y_test, predictions, target_names=['Black Wins', 'White Wins', 'Draw']))"
   ]
  },
  {
   "cell_type": "code",
   "execution_count": 503,
   "metadata": {},
   "outputs": [
    {
     "data": {
      "text/plain": [
       "[(0.191778840137576, 'TotalMoves'),\n",
       " (0.1471740552200985, 'Playtime Difference'),\n",
       " (0.1425252046381483, 'Games Played Difference'),\n",
       " (0.13320336964671026, 'Average Playtime Difference'),\n",
       " (0.1308705941197838, 'White Average Playtime'),\n",
       " (0.13008736510204572, 'Black Average Playtime'),\n",
       " (0.12436057113563752, 'Rating Difference')]"
      ]
     },
     "execution_count": 503,
     "metadata": {},
     "output_type": "execute_result"
    }
   ],
   "source": [
    "# Calculating feature importance\n",
    "importances = rf_model.feature_importances_\n",
    "sorted(zip(importances, X.columns), reverse=True)"
   ]
  },
  {
   "cell_type": "code",
   "execution_count": 504,
   "metadata": {},
   "outputs": [
    {
     "name": "stdout",
     "output_type": "stream",
     "text": [
      "Model: \"sequential_4\"\n",
      "_________________________________________________________________\n",
      " Layer (type)                Output Shape              Param #   \n",
      "=================================================================\n",
      " dense_23 (Dense)            (None, 256)               2048      \n",
      "                                                                 \n",
      " dense_24 (Dense)            (None, 64)                16448     \n",
      "                                                                 \n",
      " dense_25 (Dense)            (None, 64)                4160      \n",
      "                                                                 \n",
      " dense_26 (Dense)            (None, 64)                4160      \n",
      "                                                                 \n",
      " dense_27 (Dense)            (None, 3)                 195       \n",
      "                                                                 \n",
      "=================================================================\n",
      "Total params: 27011 (105.51 KB)\n",
      "Trainable params: 27011 (105.51 KB)\n",
      "Non-trainable params: 0 (0.00 Byte)\n",
      "_________________________________________________________________\n"
     ]
    }
   ],
   "source": [
    "# Define the model - deep neural net\n",
    "number_input_features = len(X_train.columns)\n",
    "\n",
    "nn = tf.keras.models.Sequential()\n",
    "\n",
    "# First hidden layer\n",
    "nn.add(\n",
    "    tf.keras.layers.Dense(units=256, input_dim=number_input_features, activation=\"relu\")\n",
    ")\n",
    "\n",
    "# Further hidden layers\n",
    "nn.add(tf.keras.layers.Dense(units=64, activation=\"relu\"))\n",
    "\n",
    "nn.add(tf.keras.layers.Dense(units=64, activation=\"relu\"))\n",
    "\n",
    "nn.add(tf.keras.layers.Dense(units=64, activation=\"relu\"))\n",
    "\n",
    "# Output layer\n",
    "nn.add(tf.keras.layers.Dense(units=3, activation=\"softmax\"))\n",
    "\n",
    "# Check the structure of the model\n",
    "nn.summary()"
   ]
  },
  {
   "cell_type": "code",
   "execution_count": 505,
   "metadata": {},
   "outputs": [],
   "source": [
    "# Compile model: Categorical Crossentropy used because output data is categorical and not binary\n",
    "nn.compile(loss=\"CategoricalCrossentropy\", optimizer=\"adam\", metrics=[\"accuracy\"])"
   ]
  },
  {
   "cell_type": "code",
   "execution_count": 506,
   "metadata": {},
   "outputs": [
    {
     "name": "stdout",
     "output_type": "stream",
     "text": [
      "Epoch 1/100\n"
     ]
    },
    {
     "name": "stdout",
     "output_type": "stream",
     "text": [
      "2609/2609 [==============================] - 3s 957us/step - loss: 0.7905 - accuracy: 0.5474 - val_loss: 0.7811 - val_accuracy: 0.5603\n",
      "Epoch 2/100\n",
      "2609/2609 [==============================] - 2s 905us/step - loss: 0.7811 - accuracy: 0.5601 - val_loss: 0.7788 - val_accuracy: 0.5624\n",
      "Epoch 3/100\n",
      "2609/2609 [==============================] - 2s 891us/step - loss: 0.7788 - accuracy: 0.5647 - val_loss: 0.7789 - val_accuracy: 0.5618\n",
      "Epoch 4/100\n",
      "2609/2609 [==============================] - 2s 893us/step - loss: 0.7773 - accuracy: 0.5666 - val_loss: 0.7781 - val_accuracy: 0.5637\n",
      "Epoch 5/100\n",
      "2609/2609 [==============================] - 2s 905us/step - loss: 0.7764 - accuracy: 0.5685 - val_loss: 0.7768 - val_accuracy: 0.5683\n",
      "Epoch 6/100\n",
      "2609/2609 [==============================] - 2s 891us/step - loss: 0.7759 - accuracy: 0.5681 - val_loss: 0.7793 - val_accuracy: 0.5622\n",
      "Epoch 7/100\n",
      "2609/2609 [==============================] - 2s 900us/step - loss: 0.7751 - accuracy: 0.5707 - val_loss: 0.7764 - val_accuracy: 0.5662\n",
      "Epoch 8/100\n",
      "2609/2609 [==============================] - 2s 895us/step - loss: 0.7743 - accuracy: 0.5696 - val_loss: 0.7768 - val_accuracy: 0.5666\n",
      "Epoch 9/100\n",
      "2609/2609 [==============================] - 2s 900us/step - loss: 0.7744 - accuracy: 0.5697 - val_loss: 0.7787 - val_accuracy: 0.5660\n",
      "Epoch 10/100\n",
      "2609/2609 [==============================] - 2s 889us/step - loss: 0.7738 - accuracy: 0.5701 - val_loss: 0.7815 - val_accuracy: 0.5627\n",
      "Epoch 11/100\n",
      "2609/2609 [==============================] - 2s 904us/step - loss: 0.7732 - accuracy: 0.5712 - val_loss: 0.7759 - val_accuracy: 0.5668\n",
      "Epoch 12/100\n",
      "2609/2609 [==============================] - 2s 890us/step - loss: 0.7732 - accuracy: 0.5712 - val_loss: 0.7763 - val_accuracy: 0.5644\n",
      "Epoch 13/100\n",
      "2609/2609 [==============================] - 2s 902us/step - loss: 0.7727 - accuracy: 0.5724 - val_loss: 0.7782 - val_accuracy: 0.5660\n",
      "Epoch 14/100\n",
      "2609/2609 [==============================] - 2s 882us/step - loss: 0.7725 - accuracy: 0.5713 - val_loss: 0.7764 - val_accuracy: 0.5660\n",
      "Epoch 15/100\n",
      "2609/2609 [==============================] - 2s 892us/step - loss: 0.7722 - accuracy: 0.5734 - val_loss: 0.7772 - val_accuracy: 0.5672\n",
      "Epoch 16/100\n",
      "2609/2609 [==============================] - 2s 877us/step - loss: 0.7719 - accuracy: 0.5741 - val_loss: 0.7766 - val_accuracy: 0.5684\n",
      "Epoch 17/100\n",
      "2609/2609 [==============================] - 2s 913us/step - loss: 0.7718 - accuracy: 0.5746 - val_loss: 0.7756 - val_accuracy: 0.5670\n",
      "Epoch 18/100\n",
      "2609/2609 [==============================] - 2s 879us/step - loss: 0.7713 - accuracy: 0.5728 - val_loss: 0.7782 - val_accuracy: 0.5611\n",
      "Epoch 19/100\n",
      "2609/2609 [==============================] - 2s 897us/step - loss: 0.7713 - accuracy: 0.5738 - val_loss: 0.7757 - val_accuracy: 0.5652\n",
      "Epoch 20/100\n",
      "2609/2609 [==============================] - 2s 886us/step - loss: 0.7711 - accuracy: 0.5738 - val_loss: 0.7751 - val_accuracy: 0.5689\n",
      "Epoch 21/100\n",
      "2609/2609 [==============================] - 2s 903us/step - loss: 0.7706 - accuracy: 0.5745 - val_loss: 0.7752 - val_accuracy: 0.5701\n",
      "Epoch 22/100\n",
      "2609/2609 [==============================] - 2s 885us/step - loss: 0.7706 - accuracy: 0.5750 - val_loss: 0.7780 - val_accuracy: 0.5644\n",
      "Epoch 23/100\n",
      "2609/2609 [==============================] - 2s 895us/step - loss: 0.7703 - accuracy: 0.5736 - val_loss: 0.7763 - val_accuracy: 0.5675\n",
      "Epoch 24/100\n",
      "2609/2609 [==============================] - 2s 883us/step - loss: 0.7699 - accuracy: 0.5738 - val_loss: 0.7762 - val_accuracy: 0.5683\n",
      "Epoch 25/100\n",
      "2609/2609 [==============================] - 2s 899us/step - loss: 0.7694 - accuracy: 0.5757 - val_loss: 0.7763 - val_accuracy: 0.5682\n",
      "Epoch 26/100\n",
      "2609/2609 [==============================] - 2s 891us/step - loss: 0.7695 - accuracy: 0.5745 - val_loss: 0.7777 - val_accuracy: 0.5679\n",
      "Epoch 27/100\n",
      "2609/2609 [==============================] - 2s 896us/step - loss: 0.7690 - accuracy: 0.5755 - val_loss: 0.7782 - val_accuracy: 0.5662\n",
      "Epoch 28/100\n",
      "2609/2609 [==============================] - 2s 892us/step - loss: 0.7690 - accuracy: 0.5754 - val_loss: 0.7772 - val_accuracy: 0.5690\n",
      "Epoch 29/100\n",
      "2609/2609 [==============================] - 2s 905us/step - loss: 0.7684 - accuracy: 0.5763 - val_loss: 0.7797 - val_accuracy: 0.5688\n",
      "Epoch 30/100\n",
      "2609/2609 [==============================] - 2s 897us/step - loss: 0.7687 - accuracy: 0.5759 - val_loss: 0.7762 - val_accuracy: 0.5693\n",
      "Epoch 31/100\n",
      "2609/2609 [==============================] - 2s 901us/step - loss: 0.7674 - accuracy: 0.5779 - val_loss: 0.7788 - val_accuracy: 0.5658\n",
      "Epoch 32/100\n",
      "2609/2609 [==============================] - 2s 890us/step - loss: 0.7676 - accuracy: 0.5755 - val_loss: 0.7771 - val_accuracy: 0.5673\n",
      "Epoch 33/100\n",
      "2609/2609 [==============================] - 2s 900us/step - loss: 0.7675 - accuracy: 0.5757 - val_loss: 0.7774 - val_accuracy: 0.5675\n",
      "Epoch 34/100\n",
      "2609/2609 [==============================] - 2s 890us/step - loss: 0.7665 - accuracy: 0.5774 - val_loss: 0.7772 - val_accuracy: 0.5686\n",
      "Epoch 35/100\n",
      "2609/2609 [==============================] - 2s 898us/step - loss: 0.7670 - accuracy: 0.5778 - val_loss: 0.7786 - val_accuracy: 0.5677\n",
      "Epoch 36/100\n",
      "2609/2609 [==============================] - 2s 892us/step - loss: 0.7666 - accuracy: 0.5771 - val_loss: 0.7794 - val_accuracy: 0.5645\n",
      "Epoch 37/100\n",
      "2609/2609 [==============================] - 2s 898us/step - loss: 0.7660 - accuracy: 0.5776 - val_loss: 0.7785 - val_accuracy: 0.5672\n",
      "Epoch 38/100\n",
      "2609/2609 [==============================] - 2s 890us/step - loss: 0.7659 - accuracy: 0.5777 - val_loss: 0.7782 - val_accuracy: 0.5665\n",
      "Epoch 39/100\n",
      "2609/2609 [==============================] - 2s 906us/step - loss: 0.7656 - accuracy: 0.5787 - val_loss: 0.7799 - val_accuracy: 0.5635\n",
      "Epoch 40/100\n",
      "2609/2609 [==============================] - 2s 893us/step - loss: 0.7656 - accuracy: 0.5787 - val_loss: 0.7785 - val_accuracy: 0.5690\n",
      "Epoch 41/100\n",
      "2609/2609 [==============================] - 2s 910us/step - loss: 0.7650 - accuracy: 0.5785 - val_loss: 0.7786 - val_accuracy: 0.5670\n",
      "Epoch 42/100\n",
      "2609/2609 [==============================] - 2s 897us/step - loss: 0.7642 - accuracy: 0.5792 - val_loss: 0.7801 - val_accuracy: 0.5682\n",
      "Epoch 43/100\n",
      "2609/2609 [==============================] - 2s 908us/step - loss: 0.7641 - accuracy: 0.5790 - val_loss: 0.7809 - val_accuracy: 0.5657\n",
      "Epoch 44/100\n",
      "2609/2609 [==============================] - 2s 899us/step - loss: 0.7636 - accuracy: 0.5796 - val_loss: 0.7798 - val_accuracy: 0.5677\n",
      "Epoch 45/100\n",
      "2609/2609 [==============================] - 2s 895us/step - loss: 0.7635 - accuracy: 0.5793 - val_loss: 0.7782 - val_accuracy: 0.5667\n",
      "Epoch 46/100\n",
      "2609/2609 [==============================] - 2s 911us/step - loss: 0.7635 - accuracy: 0.5801 - val_loss: 0.7809 - val_accuracy: 0.5654\n",
      "Epoch 47/100\n",
      "2609/2609 [==============================] - 2s 900us/step - loss: 0.7629 - accuracy: 0.5806 - val_loss: 0.7809 - val_accuracy: 0.5675\n",
      "Epoch 48/100\n",
      "2609/2609 [==============================] - 2s 914us/step - loss: 0.7627 - accuracy: 0.5801 - val_loss: 0.7818 - val_accuracy: 0.5629\n",
      "Epoch 49/100\n",
      "2609/2609 [==============================] - 2s 895us/step - loss: 0.7623 - accuracy: 0.5806 - val_loss: 0.7834 - val_accuracy: 0.5681\n",
      "Epoch 50/100\n",
      "2609/2609 [==============================] - 2s 927us/step - loss: 0.7616 - accuracy: 0.5824 - val_loss: 0.7799 - val_accuracy: 0.5669\n",
      "Epoch 51/100\n",
      "2609/2609 [==============================] - 2s 911us/step - loss: 0.7613 - accuracy: 0.5818 - val_loss: 0.7832 - val_accuracy: 0.5657\n",
      "Epoch 52/100\n",
      "2609/2609 [==============================] - 2s 889us/step - loss: 0.7606 - accuracy: 0.5815 - val_loss: 0.7829 - val_accuracy: 0.5659\n",
      "Epoch 53/100\n",
      "2609/2609 [==============================] - 2s 909us/step - loss: 0.7608 - accuracy: 0.5818 - val_loss: 0.7831 - val_accuracy: 0.5633\n",
      "Epoch 54/100\n",
      "2609/2609 [==============================] - 2s 895us/step - loss: 0.7604 - accuracy: 0.5816 - val_loss: 0.7870 - val_accuracy: 0.5644\n",
      "Epoch 55/100\n",
      "2609/2609 [==============================] - 2s 915us/step - loss: 0.7603 - accuracy: 0.5821 - val_loss: 0.7833 - val_accuracy: 0.5664\n",
      "Epoch 56/100\n",
      "2609/2609 [==============================] - 2s 906us/step - loss: 0.7593 - accuracy: 0.5830 - val_loss: 0.7866 - val_accuracy: 0.5645\n",
      "Epoch 57/100\n",
      "2609/2609 [==============================] - 2s 898us/step - loss: 0.7596 - accuracy: 0.5821 - val_loss: 0.7829 - val_accuracy: 0.5635\n",
      "Epoch 58/100\n",
      "2609/2609 [==============================] - 2s 903us/step - loss: 0.7590 - accuracy: 0.5832 - val_loss: 0.7835 - val_accuracy: 0.5616\n",
      "Epoch 59/100\n",
      "2609/2609 [==============================] - 2s 887us/step - loss: 0.7588 - accuracy: 0.5834 - val_loss: 0.7873 - val_accuracy: 0.5640\n",
      "Epoch 60/100\n",
      "2609/2609 [==============================] - 2s 910us/step - loss: 0.7588 - accuracy: 0.5832 - val_loss: 0.7844 - val_accuracy: 0.5628\n",
      "Epoch 61/100\n",
      "2609/2609 [==============================] - 2s 890us/step - loss: 0.7578 - accuracy: 0.5841 - val_loss: 0.7844 - val_accuracy: 0.5653\n",
      "Epoch 62/100\n",
      "2609/2609 [==============================] - 2s 908us/step - loss: 0.7584 - accuracy: 0.5840 - val_loss: 0.7860 - val_accuracy: 0.5621\n",
      "Epoch 63/100\n",
      "2609/2609 [==============================] - 2s 894us/step - loss: 0.7569 - accuracy: 0.5838 - val_loss: 0.7880 - val_accuracy: 0.5591\n",
      "Epoch 64/100\n",
      "2609/2609 [==============================] - 2s 912us/step - loss: 0.7570 - accuracy: 0.5852 - val_loss: 0.7874 - val_accuracy: 0.5619\n",
      "Epoch 65/100\n",
      "2609/2609 [==============================] - 2s 907us/step - loss: 0.7565 - accuracy: 0.5852 - val_loss: 0.7873 - val_accuracy: 0.5600\n",
      "Epoch 66/100\n",
      "2609/2609 [==============================] - 2s 894us/step - loss: 0.7563 - accuracy: 0.5837 - val_loss: 0.7905 - val_accuracy: 0.5604\n",
      "Epoch 67/100\n",
      "2609/2609 [==============================] - 2s 912us/step - loss: 0.7559 - accuracy: 0.5855 - val_loss: 0.7887 - val_accuracy: 0.5612\n",
      "Epoch 68/100\n",
      "2609/2609 [==============================] - 2s 900us/step - loss: 0.7557 - accuracy: 0.5853 - val_loss: 0.7909 - val_accuracy: 0.5625\n",
      "Epoch 69/100\n",
      "2609/2609 [==============================] - 2s 903us/step - loss: 0.7552 - accuracy: 0.5870 - val_loss: 0.7920 - val_accuracy: 0.5608\n",
      "Epoch 70/100\n",
      "2609/2609 [==============================] - 2s 892us/step - loss: 0.7547 - accuracy: 0.5881 - val_loss: 0.7888 - val_accuracy: 0.5631\n",
      "Epoch 71/100\n",
      "2609/2609 [==============================] - 2s 932us/step - loss: 0.7544 - accuracy: 0.5874 - val_loss: 0.7939 - val_accuracy: 0.5596\n",
      "Epoch 72/100\n",
      "2609/2609 [==============================] - 2s 922us/step - loss: 0.7545 - accuracy: 0.5869 - val_loss: 0.7886 - val_accuracy: 0.5561\n",
      "Epoch 73/100\n",
      "2609/2609 [==============================] - 2s 897us/step - loss: 0.7535 - accuracy: 0.5869 - val_loss: 0.7910 - val_accuracy: 0.5581\n",
      "Epoch 74/100\n",
      "2609/2609 [==============================] - 2s 905us/step - loss: 0.7538 - accuracy: 0.5878 - val_loss: 0.7905 - val_accuracy: 0.5624\n",
      "Epoch 75/100\n",
      "2609/2609 [==============================] - 2s 898us/step - loss: 0.7532 - accuracy: 0.5880 - val_loss: 0.7927 - val_accuracy: 0.5584\n",
      "Epoch 76/100\n",
      "2609/2609 [==============================] - 2s 903us/step - loss: 0.7528 - accuracy: 0.5888 - val_loss: 0.7891 - val_accuracy: 0.5612\n",
      "Epoch 77/100\n",
      "2609/2609 [==============================] - 2s 917us/step - loss: 0.7528 - accuracy: 0.5881 - val_loss: 0.7933 - val_accuracy: 0.5597\n",
      "Epoch 78/100\n",
      "2609/2609 [==============================] - 2s 900us/step - loss: 0.7517 - accuracy: 0.5872 - val_loss: 0.7952 - val_accuracy: 0.5583\n",
      "Epoch 79/100\n",
      "2609/2609 [==============================] - 2s 917us/step - loss: 0.7526 - accuracy: 0.5883 - val_loss: 0.7908 - val_accuracy: 0.5593\n",
      "Epoch 80/100\n",
      "2609/2609 [==============================] - 2s 899us/step - loss: 0.7513 - accuracy: 0.5889 - val_loss: 0.7960 - val_accuracy: 0.5577\n",
      "Epoch 81/100\n",
      "2609/2609 [==============================] - 2s 922us/step - loss: 0.7509 - accuracy: 0.5901 - val_loss: 0.7953 - val_accuracy: 0.5589\n",
      "Epoch 82/100\n",
      "2609/2609 [==============================] - 2s 903us/step - loss: 0.7510 - accuracy: 0.5895 - val_loss: 0.7983 - val_accuracy: 0.5604\n",
      "Epoch 83/100\n",
      "2609/2609 [==============================] - 2s 919us/step - loss: 0.7499 - accuracy: 0.5909 - val_loss: 0.7991 - val_accuracy: 0.5552\n",
      "Epoch 84/100\n",
      "2609/2609 [==============================] - 2s 912us/step - loss: 0.7497 - accuracy: 0.5912 - val_loss: 0.7943 - val_accuracy: 0.5620\n",
      "Epoch 85/100\n",
      "2609/2609 [==============================] - 2s 902us/step - loss: 0.7490 - accuracy: 0.5908 - val_loss: 0.7934 - val_accuracy: 0.5608\n",
      "Epoch 86/100\n",
      "2609/2609 [==============================] - 2s 904us/step - loss: 0.7507 - accuracy: 0.5910 - val_loss: 0.8007 - val_accuracy: 0.5593\n",
      "Epoch 87/100\n",
      "2609/2609 [==============================] - 2s 910us/step - loss: 0.7483 - accuracy: 0.5906 - val_loss: 0.7976 - val_accuracy: 0.5599\n",
      "Epoch 88/100\n",
      "2609/2609 [==============================] - 2s 897us/step - loss: 0.7488 - accuracy: 0.5916 - val_loss: 0.7970 - val_accuracy: 0.5597\n",
      "Epoch 89/100\n",
      "2609/2609 [==============================] - 2s 909us/step - loss: 0.7481 - accuracy: 0.5913 - val_loss: 0.7974 - val_accuracy: 0.5582\n",
      "Epoch 90/100\n",
      "2609/2609 [==============================] - 2s 900us/step - loss: 0.7477 - accuracy: 0.5934 - val_loss: 0.8007 - val_accuracy: 0.5585\n",
      "Epoch 91/100\n",
      "2609/2609 [==============================] - 2s 918us/step - loss: 0.7475 - accuracy: 0.5939 - val_loss: 0.8037 - val_accuracy: 0.5561\n",
      "Epoch 92/100\n",
      "2609/2609 [==============================] - 2s 908us/step - loss: 0.7466 - accuracy: 0.5938 - val_loss: 0.8052 - val_accuracy: 0.5583\n",
      "Epoch 93/100\n",
      "2609/2609 [==============================] - 2s 898us/step - loss: 0.7468 - accuracy: 0.5927 - val_loss: 0.7987 - val_accuracy: 0.5614\n",
      "Epoch 94/100\n",
      "2609/2609 [==============================] - 2s 911us/step - loss: 0.7460 - accuracy: 0.5943 - val_loss: 0.8014 - val_accuracy: 0.5603\n",
      "Epoch 95/100\n",
      "2609/2609 [==============================] - 2s 891us/step - loss: 0.7457 - accuracy: 0.5928 - val_loss: 0.8029 - val_accuracy: 0.5597\n",
      "Epoch 96/100\n",
      "2609/2609 [==============================] - 2s 917us/step - loss: 0.7491 - accuracy: 0.5917 - val_loss: 0.7988 - val_accuracy: 0.5588\n",
      "Epoch 97/100\n",
      "2609/2609 [==============================] - 2s 917us/step - loss: 0.7454 - accuracy: 0.5936 - val_loss: 0.8045 - val_accuracy: 0.5611\n",
      "Epoch 98/100\n",
      "2609/2609 [==============================] - 2s 897us/step - loss: 0.7448 - accuracy: 0.5936 - val_loss: 0.8097 - val_accuracy: 0.5530\n",
      "Epoch 99/100\n",
      "2609/2609 [==============================] - 2s 909us/step - loss: 0.7449 - accuracy: 0.5933 - val_loss: 0.8058 - val_accuracy: 0.5561\n",
      "Epoch 100/100\n",
      "2609/2609 [==============================] - 2s 903us/step - loss: 0.7453 - accuracy: 0.5943 - val_loss: 0.8094 - val_accuracy: 0.5585\n"
     ]
    }
   ],
   "source": [
    "# Fitting model\n",
    "fit_model = nn.fit(X_train_scaled,y_train,epochs=100,validation_data=(X_test_scaled,y_test))"
   ]
  },
  {
   "cell_type": "code",
   "execution_count": 507,
   "metadata": {},
   "outputs": [
    {
     "name": "stdout",
     "output_type": "stream",
     "text": [
      "870/870 - 0s - loss: 0.8094 - accuracy: 0.5585 - 457ms/epoch - 525us/step\n",
      "Loss: 0.8093939423561096, Accuracy: 0.5584663152694702\n"
     ]
    }
   ],
   "source": [
    "# Evaluate the model using the test data\n",
    "model_loss, val_accuracy = nn.evaluate(X_test_scaled,y_test,verbose=2)\n",
    "print(f\"Loss: {model_loss}, Accuracy: {val_accuracy}\")"
   ]
  },
  {
   "cell_type": "code",
   "execution_count": 508,
   "metadata": {},
   "outputs": [
    {
     "name": "stdout",
     "output_type": "stream",
     "text": [
      "870/870 [==============================] - 1s 533us/step\n"
     ]
    }
   ],
   "source": [
    "# Getting predictions\n",
    "predictions = nn.predict(X_test_scaled)"
   ]
  },
  {
   "cell_type": "code",
   "execution_count": 509,
   "metadata": {},
   "outputs": [
    {
     "name": "stderr",
     "output_type": "stream",
     "text": [
      "C:\\Users\\Ian\\AppData\\Local\\Temp\\ipykernel_23532\\1088364751.py:2: FutureWarning: Downcasting behavior in `replace` is deprecated and will be removed in a future version. To retain the old behavior, explicitly call `result.infer_objects(copy=False)`. To opt-in to the future behavior, set `pd.set_option('future.no_silent_downcasting', True)`\n",
      "  predictions_df = pd.DataFrame(predictions==predictions.max(axis=1,keepdims=1)).astype(float).replace({0:False, 1:True})\n"
     ]
    }
   ],
   "source": [
    "# Making predictions match format of y_test\n",
    "predictions_df = pd.DataFrame(predictions==predictions.max(axis=1,keepdims=1)).astype(float).replace({0:False, 1:True})"
   ]
  },
  {
   "cell_type": "code",
   "execution_count": 510,
   "metadata": {},
   "outputs": [],
   "source": [
    "# store accuracy score\n",
    "acc_score = accuracy_score(y_test, predictions_df)"
   ]
  },
  {
   "cell_type": "code",
   "execution_count": 511,
   "metadata": {},
   "outputs": [
    {
     "name": "stdout",
     "output_type": "stream",
     "text": [
      "Accuracy Score : 0.5584662929423602\n",
      "Classification Report\n",
      "              precision    recall  f1-score   support\n",
      "\n",
      "  Black Wins       0.55      0.51      0.53     12913\n",
      "  White Wins       0.56      0.64      0.60     13906\n",
      "        Draw       0.22      0.01      0.02      1009\n",
      "\n",
      "   micro avg       0.56      0.56      0.56     27828\n",
      "   macro avg       0.44      0.39      0.38     27828\n",
      "weighted avg       0.55      0.56      0.55     27828\n",
      " samples avg       0.56      0.56      0.56     27828\n",
      "\n"
     ]
    }
   ],
   "source": [
    "# Displaying results\n",
    "print(f\"Accuracy Score : {acc_score}\")\n",
    "print(\"Classification Report\")\n",
    "print(classification_report(y_test, predictions_df, target_names=['Black Wins', 'White Wins', 'Draw']))"
   ]
  },
  {
   "cell_type": "markdown",
   "metadata": {},
   "source": [
    "## Adding Dropout and Normalization Layers"
   ]
  },
  {
   "cell_type": "code",
   "execution_count": 361,
   "metadata": {},
   "outputs": [],
   "source": [
    "# dummy encode categorical variables and store features and targets in X and y variables\n",
    "y = pd.get_dummies(data['Result'])\n",
    "X = pd.get_dummies(data.drop('Result', axis=1))\n",
    "# split the data into training and testing data\n",
    "X_train, X_test, y_train, y_test = train_test_split(X, y, random_state=78)"
   ]
  },
  {
   "cell_type": "code",
   "execution_count": 362,
   "metadata": {},
   "outputs": [],
   "source": [
    "# Create a StandardScaler instances\n",
    "scaler = StandardScaler()\n",
    "\n",
    "# Fit the StandardScaler\n",
    "X_scaler = scaler.fit(X_train)\n",
    "\n",
    "# Scale the data\n",
    "X_train_scaled = X_scaler.transform(X_train)\n",
    "X_test_scaled = X_scaler.transform(X_test)"
   ]
  },
  {
   "cell_type": "code",
   "execution_count": 363,
   "metadata": {},
   "outputs": [
    {
     "name": "stdout",
     "output_type": "stream",
     "text": [
      "Model: \"sequential_3\"\n",
      "_________________________________________________________________\n",
      " Layer (type)                Output Shape              Param #   \n",
      "=================================================================\n",
      " dense_18 (Dense)            (None, 256)               2048      \n",
      "                                                                 \n",
      " dropout (Dropout)           (None, 256)               0         \n",
      "                                                                 \n",
      " batch_normalization (Batch  (None, 256)               1024      \n",
      " Normalization)                                                  \n",
      "                                                                 \n",
      " dense_19 (Dense)            (None, 64)                16448     \n",
      "                                                                 \n",
      " dropout_1 (Dropout)         (None, 64)                0         \n",
      "                                                                 \n",
      " batch_normalization_1 (Bat  (None, 64)                256       \n",
      " chNormalization)                                                \n",
      "                                                                 \n",
      " dense_20 (Dense)            (None, 64)                4160      \n",
      "                                                                 \n",
      " dropout_2 (Dropout)         (None, 64)                0         \n",
      "                                                                 \n",
      " batch_normalization_2 (Bat  (None, 64)                256       \n",
      " chNormalization)                                                \n",
      "                                                                 \n",
      " dense_21 (Dense)            (None, 64)                4160      \n",
      "                                                                 \n",
      " dropout_3 (Dropout)         (None, 64)                0         \n",
      "                                                                 \n",
      " batch_normalization_3 (Bat  (None, 64)                256       \n",
      " chNormalization)                                                \n",
      "                                                                 \n",
      " dense_22 (Dense)            (None, 3)                 195       \n",
      "                                                                 \n",
      "=================================================================\n",
      "Total params: 28803 (112.51 KB)\n",
      "Trainable params: 27907 (109.01 KB)\n",
      "Non-trainable params: 896 (3.50 KB)\n",
      "_________________________________________________________________\n"
     ]
    }
   ],
   "source": [
    "# Define the model - deep neural net\n",
    "number_input_features = len(X_train.columns)\n",
    "\n",
    "nn = tf.keras.models.Sequential()\n",
    "\n",
    "# First hidden layer\n",
    "nn.add(\n",
    "    tf.keras.layers.Dense(units=256, input_dim=number_input_features, activation=\"mish\")\n",
    ")\n",
    "# Adding dropout layer\n",
    "nn.add(tf.keras.layers.Dropout(0.3))\n",
    "\n",
    "# Adding Normalization layer\n",
    "nn.add(tf.keras.layers.BatchNormalization())\n",
    "\n",
    "# Further hidden layers\n",
    "nn.add(tf.keras.layers.Dense(units=64, activation=\"mish\"))\n",
    "\n",
    "nn.add(tf.keras.layers.Dropout(0.3))\n",
    "\n",
    "nn.add(tf.keras.layers.BatchNormalization())\n",
    "\n",
    "nn.add(tf.keras.layers.Dense(units=64, activation=\"mish\"))\n",
    "\n",
    "nn.add(tf.keras.layers.Dropout(0.3))\n",
    "\n",
    "nn.add(tf.keras.layers.BatchNormalization())\n",
    "\n",
    "nn.add(tf.keras.layers.Dense(units=64, activation=\"mish\"))\n",
    "\n",
    "nn.add(tf.keras.layers.Dropout(0.3))\n",
    "\n",
    "nn.add(tf.keras.layers.BatchNormalization())\n",
    "\n",
    "# Output layer\n",
    "nn.add(tf.keras.layers.Dense(units=3, activation=\"softmax\"))\n",
    "\n",
    "# Check the structure of the model\n",
    "nn.summary()"
   ]
  },
  {
   "cell_type": "code",
   "execution_count": 364,
   "metadata": {},
   "outputs": [],
   "source": [
    "# compile model\n",
    "nn.compile(loss=\"CategoricalCrossentropy\", optimizer=\"adam\", metrics=[\"accuracy\"])"
   ]
  },
  {
   "cell_type": "code",
   "execution_count": 365,
   "metadata": {},
   "outputs": [
    {
     "name": "stdout",
     "output_type": "stream",
     "text": [
      "Epoch 1/20\n"
     ]
    },
    {
     "name": "stdout",
     "output_type": "stream",
     "text": [
      "2609/2609 [==============================] - 5s 2ms/step - loss: 0.8415 - accuracy: 0.5197 - val_loss: 0.7918 - val_accuracy: 0.5447\n",
      "Epoch 2/20\n",
      "2609/2609 [==============================] - 4s 2ms/step - loss: 0.7927 - accuracy: 0.5443 - val_loss: 0.7847 - val_accuracy: 0.5545\n",
      "Epoch 3/20\n",
      "2609/2609 [==============================] - 4s 2ms/step - loss: 0.7894 - accuracy: 0.5497 - val_loss: 0.7838 - val_accuracy: 0.5563\n",
      "Epoch 4/20\n",
      "2609/2609 [==============================] - 4s 2ms/step - loss: 0.7875 - accuracy: 0.5513 - val_loss: 0.7845 - val_accuracy: 0.5515\n",
      "Epoch 5/20\n",
      "2609/2609 [==============================] - 4s 2ms/step - loss: 0.7869 - accuracy: 0.5519 - val_loss: 0.7878 - val_accuracy: 0.5538\n",
      "Epoch 6/20\n",
      "2609/2609 [==============================] - 4s 2ms/step - loss: 0.7869 - accuracy: 0.5525 - val_loss: 0.7825 - val_accuracy: 0.5588\n",
      "Epoch 7/20\n",
      "2609/2609 [==============================] - 4s 2ms/step - loss: 0.7854 - accuracy: 0.5555 - val_loss: 0.7824 - val_accuracy: 0.5633\n",
      "Epoch 8/20\n",
      "2609/2609 [==============================] - 4s 2ms/step - loss: 0.7854 - accuracy: 0.5565 - val_loss: 0.7825 - val_accuracy: 0.5557\n",
      "Epoch 9/20\n",
      "2609/2609 [==============================] - 4s 2ms/step - loss: 0.7841 - accuracy: 0.5556 - val_loss: 0.7807 - val_accuracy: 0.5629\n",
      "Epoch 10/20\n",
      "2609/2609 [==============================] - 4s 2ms/step - loss: 0.7839 - accuracy: 0.5558 - val_loss: 0.7807 - val_accuracy: 0.5610\n",
      "Epoch 11/20\n",
      "2609/2609 [==============================] - 4s 2ms/step - loss: 0.7835 - accuracy: 0.5586 - val_loss: 0.7817 - val_accuracy: 0.5625\n",
      "Epoch 12/20\n",
      "2609/2609 [==============================] - 4s 2ms/step - loss: 0.7836 - accuracy: 0.5583 - val_loss: 0.7832 - val_accuracy: 0.5531\n",
      "Epoch 13/20\n",
      "2609/2609 [==============================] - 4s 2ms/step - loss: 0.7832 - accuracy: 0.5589 - val_loss: 0.7829 - val_accuracy: 0.5543\n",
      "Epoch 14/20\n",
      "2609/2609 [==============================] - 4s 2ms/step - loss: 0.7825 - accuracy: 0.5596 - val_loss: 0.7856 - val_accuracy: 0.5482\n",
      "Epoch 15/20\n",
      "2609/2609 [==============================] - 4s 2ms/step - loss: 0.7822 - accuracy: 0.5597 - val_loss: 0.7798 - val_accuracy: 0.5652\n",
      "Epoch 16/20\n",
      "2609/2609 [==============================] - 4s 2ms/step - loss: 0.7827 - accuracy: 0.5599 - val_loss: 0.7826 - val_accuracy: 0.5511\n",
      "Epoch 17/20\n",
      "2609/2609 [==============================] - 4s 2ms/step - loss: 0.7825 - accuracy: 0.5597 - val_loss: 0.7785 - val_accuracy: 0.5658\n",
      "Epoch 18/20\n",
      "2609/2609 [==============================] - 4s 2ms/step - loss: 0.7823 - accuracy: 0.5590 - val_loss: 0.7855 - val_accuracy: 0.5456\n",
      "Epoch 19/20\n",
      "2609/2609 [==============================] - 4s 2ms/step - loss: 0.7820 - accuracy: 0.5611 - val_loss: 0.7847 - val_accuracy: 0.5473\n",
      "Epoch 20/20\n",
      "2609/2609 [==============================] - 4s 2ms/step - loss: 0.7818 - accuracy: 0.5613 - val_loss: 0.7795 - val_accuracy: 0.5660\n"
     ]
    }
   ],
   "source": [
    "# fit model with training data\n",
    "fit_model = nn.fit(X_train_scaled,y_train,epochs=20,validation_data=(X_test_scaled,y_test))"
   ]
  },
  {
   "cell_type": "markdown",
   "metadata": {},
   "source": [
    "## XGBoost"
   ]
  },
  {
   "cell_type": "code",
   "execution_count": 177,
   "metadata": {},
   "outputs": [],
   "source": [
    "# dummy encode the categorical data and sort into target and features\n",
    "resultmap = {'0-1':0, '1-0':1, '1/2-1/2':2}\n",
    "y = data['Result'].map(resultmap)\n",
    "X = pd.get_dummies(data.drop('Result', axis=1))"
   ]
  },
  {
   "cell_type": "code",
   "execution_count": 178,
   "metadata": {},
   "outputs": [],
   "source": [
    "# split the data into training and testing data\n",
    "X_train, X_test, y_train, y_test = train_test_split(X, y, random_state=78)"
   ]
  },
  {
   "cell_type": "code",
   "execution_count": 179,
   "metadata": {},
   "outputs": [],
   "source": [
    "# Create a StandardScaler instances\n",
    "scaler = StandardScaler()\n",
    "\n",
    "# Fit the StandardScaler\n",
    "X_scaler = scaler.fit(X_train)\n",
    "\n",
    "# Scale the data\n",
    "X_train_scaled = X_scaler.transform(X_train)\n",
    "X_test_scaled = X_scaler.transform(X_test)"
   ]
  },
  {
   "cell_type": "code",
   "execution_count": 180,
   "metadata": {},
   "outputs": [
    {
     "data": {
      "text/html": [
       "<style>#sk-container-id-8 {color: black;background-color: white;}#sk-container-id-8 pre{padding: 0;}#sk-container-id-8 div.sk-toggleable {background-color: white;}#sk-container-id-8 label.sk-toggleable__label {cursor: pointer;display: block;width: 100%;margin-bottom: 0;padding: 0.3em;box-sizing: border-box;text-align: center;}#sk-container-id-8 label.sk-toggleable__label-arrow:before {content: \"▸\";float: left;margin-right: 0.25em;color: #696969;}#sk-container-id-8 label.sk-toggleable__label-arrow:hover:before {color: black;}#sk-container-id-8 div.sk-estimator:hover label.sk-toggleable__label-arrow:before {color: black;}#sk-container-id-8 div.sk-toggleable__content {max-height: 0;max-width: 0;overflow: hidden;text-align: left;background-color: #f0f8ff;}#sk-container-id-8 div.sk-toggleable__content pre {margin: 0.2em;color: black;border-radius: 0.25em;background-color: #f0f8ff;}#sk-container-id-8 input.sk-toggleable__control:checked~div.sk-toggleable__content {max-height: 200px;max-width: 100%;overflow: auto;}#sk-container-id-8 input.sk-toggleable__control:checked~label.sk-toggleable__label-arrow:before {content: \"▾\";}#sk-container-id-8 div.sk-estimator input.sk-toggleable__control:checked~label.sk-toggleable__label {background-color: #d4ebff;}#sk-container-id-8 div.sk-label input.sk-toggleable__control:checked~label.sk-toggleable__label {background-color: #d4ebff;}#sk-container-id-8 input.sk-hidden--visually {border: 0;clip: rect(1px 1px 1px 1px);clip: rect(1px, 1px, 1px, 1px);height: 1px;margin: -1px;overflow: hidden;padding: 0;position: absolute;width: 1px;}#sk-container-id-8 div.sk-estimator {font-family: monospace;background-color: #f0f8ff;border: 1px dotted black;border-radius: 0.25em;box-sizing: border-box;margin-bottom: 0.5em;}#sk-container-id-8 div.sk-estimator:hover {background-color: #d4ebff;}#sk-container-id-8 div.sk-parallel-item::after {content: \"\";width: 100%;border-bottom: 1px solid gray;flex-grow: 1;}#sk-container-id-8 div.sk-label:hover label.sk-toggleable__label {background-color: #d4ebff;}#sk-container-id-8 div.sk-serial::before {content: \"\";position: absolute;border-left: 1px solid gray;box-sizing: border-box;top: 0;bottom: 0;left: 50%;z-index: 0;}#sk-container-id-8 div.sk-serial {display: flex;flex-direction: column;align-items: center;background-color: white;padding-right: 0.2em;padding-left: 0.2em;position: relative;}#sk-container-id-8 div.sk-item {position: relative;z-index: 1;}#sk-container-id-8 div.sk-parallel {display: flex;align-items: stretch;justify-content: center;background-color: white;position: relative;}#sk-container-id-8 div.sk-item::before, #sk-container-id-8 div.sk-parallel-item::before {content: \"\";position: absolute;border-left: 1px solid gray;box-sizing: border-box;top: 0;bottom: 0;left: 50%;z-index: -1;}#sk-container-id-8 div.sk-parallel-item {display: flex;flex-direction: column;z-index: 1;position: relative;background-color: white;}#sk-container-id-8 div.sk-parallel-item:first-child::after {align-self: flex-end;width: 50%;}#sk-container-id-8 div.sk-parallel-item:last-child::after {align-self: flex-start;width: 50%;}#sk-container-id-8 div.sk-parallel-item:only-child::after {width: 0;}#sk-container-id-8 div.sk-dashed-wrapped {border: 1px dashed gray;margin: 0 0.4em 0.5em 0.4em;box-sizing: border-box;padding-bottom: 0.4em;background-color: white;}#sk-container-id-8 div.sk-label label {font-family: monospace;font-weight: bold;display: inline-block;line-height: 1.2em;}#sk-container-id-8 div.sk-label-container {text-align: center;}#sk-container-id-8 div.sk-container {/* jupyter's `normalize.less` sets `[hidden] { display: none; }` but bootstrap.min.css set `[hidden] { display: none !important; }` so we also need the `!important` here to be able to override the default hidden behavior on the sphinx rendered scikit-learn.org. See: https://github.com/scikit-learn/scikit-learn/issues/21755 */display: inline-block !important;position: relative;}#sk-container-id-8 div.sk-text-repr-fallback {display: none;}</style><div id=\"sk-container-id-8\" class=\"sk-top-container\"><div class=\"sk-text-repr-fallback\"><pre>XGBClassifier(base_score=None, booster=None, callbacks=None,\n",
       "              colsample_bylevel=None, colsample_bynode=None,\n",
       "              colsample_bytree=None, device=None, early_stopping_rounds=None,\n",
       "              enable_categorical=False, eval_metric=None, feature_types=None,\n",
       "              gamma=None, grow_policy=None, importance_type=None,\n",
       "              interaction_constraints=None, learning_rate=None, max_bin=None,\n",
       "              max_cat_threshold=None, max_cat_to_onehot=None,\n",
       "              max_delta_step=None, max_depth=32, max_leaves=None,\n",
       "              min_child_weight=None, missing=nan, monotone_constraints=None,\n",
       "              multi_strategy=None, n_estimators=256, n_jobs=None,\n",
       "              num_parallel_tree=None, objective=&#x27;multi:softmax&#x27;, ...)</pre><b>In a Jupyter environment, please rerun this cell to show the HTML representation or trust the notebook. <br />On GitHub, the HTML representation is unable to render, please try loading this page with nbviewer.org.</b></div><div class=\"sk-container\" hidden><div class=\"sk-item\"><div class=\"sk-estimator sk-toggleable\"><input class=\"sk-toggleable__control sk-hidden--visually\" id=\"sk-estimator-id-8\" type=\"checkbox\" checked><label for=\"sk-estimator-id-8\" class=\"sk-toggleable__label sk-toggleable__label-arrow\">XGBClassifier</label><div class=\"sk-toggleable__content\"><pre>XGBClassifier(base_score=None, booster=None, callbacks=None,\n",
       "              colsample_bylevel=None, colsample_bynode=None,\n",
       "              colsample_bytree=None, device=None, early_stopping_rounds=None,\n",
       "              enable_categorical=False, eval_metric=None, feature_types=None,\n",
       "              gamma=None, grow_policy=None, importance_type=None,\n",
       "              interaction_constraints=None, learning_rate=None, max_bin=None,\n",
       "              max_cat_threshold=None, max_cat_to_onehot=None,\n",
       "              max_delta_step=None, max_depth=32, max_leaves=None,\n",
       "              min_child_weight=None, missing=nan, monotone_constraints=None,\n",
       "              multi_strategy=None, n_estimators=256, n_jobs=None,\n",
       "              num_parallel_tree=None, objective=&#x27;multi:softmax&#x27;, ...)</pre></div></div></div></div></div>"
      ],
      "text/plain": [
       "XGBClassifier(base_score=None, booster=None, callbacks=None,\n",
       "              colsample_bylevel=None, colsample_bynode=None,\n",
       "              colsample_bytree=None, device=None, early_stopping_rounds=None,\n",
       "              enable_categorical=False, eval_metric=None, feature_types=None,\n",
       "              gamma=None, grow_policy=None, importance_type=None,\n",
       "              interaction_constraints=None, learning_rate=None, max_bin=None,\n",
       "              max_cat_threshold=None, max_cat_to_onehot=None,\n",
       "              max_delta_step=None, max_depth=32, max_leaves=None,\n",
       "              min_child_weight=None, missing=nan, monotone_constraints=None,\n",
       "              multi_strategy=None, n_estimators=256, n_jobs=None,\n",
       "              num_parallel_tree=None, objective='multi:softmax', ...)"
      ]
     },
     "execution_count": 180,
     "metadata": {},
     "output_type": "execute_result"
    }
   ],
   "source": [
    "from xgboost import XGBClassifier\n",
    "# create xgboost instance and train model with training data\n",
    "xg_nn = XGBClassifier(n_estimators = 256, max_depth = 32, objective ='multi:softmax')\n",
    "xg_nn.fit(X_train_scaled,y_train)"
   ]
  },
  {
   "cell_type": "code",
   "execution_count": 181,
   "metadata": {},
   "outputs": [],
   "source": [
    "# store predictions based on model\n",
    "predictions = xg_nn.predict(X_test_scaled)"
   ]
  },
  {
   "cell_type": "code",
   "execution_count": 182,
   "metadata": {},
   "outputs": [
    {
     "data": {
      "text/plain": [
       "0.90235829540753"
      ]
     },
     "execution_count": 182,
     "metadata": {},
     "output_type": "execute_result"
    }
   ],
   "source": [
    "# view accuracy score of model\n",
    "accuracy_score(y_test, predictions)"
   ]
  },
  {
   "cell_type": "code",
   "execution_count": 183,
   "metadata": {},
   "outputs": [
    {
     "name": "stdout",
     "output_type": "stream",
     "text": [
      "              precision    recall  f1-score   support\n",
      "\n",
      "  Black Wins       0.90      0.93      0.92     14516\n",
      "  White Wins       0.91      0.93      0.92     15841\n",
      "        Draw       0.20      0.04      0.06      1064\n",
      "\n",
      "    accuracy                           0.90     31421\n",
      "   macro avg       0.67      0.63      0.63     31421\n",
      "weighted avg       0.88      0.90      0.89     31421\n",
      "\n"
     ]
    }
   ],
   "source": [
    "# view classification report of model\n",
    "print(classification_report(y_test, predictions, target_names=['Black Wins', 'White Wins', 'Draw']))"
   ]
  },
  {
   "cell_type": "code",
   "execution_count": 184,
   "metadata": {},
   "outputs": [],
   "source": [
    "from sklearn.metrics import confusion_matrix\n",
    "# create confusion matrix based on model\n",
    "cm_df = pd.DataFrame(confusion_matrix(y_test, predictions,))"
   ]
  },
  {
   "cell_type": "code",
   "execution_count": 185,
   "metadata": {},
   "outputs": [
    {
     "data": {
      "text/plain": [
       "[Text(0, 0.5, 'Black Wins'), Text(0, 1.5, 'White Wins'), Text(0, 2.5, 'Draw')]"
      ]
     },
     "execution_count": 185,
     "metadata": {},
     "output_type": "execute_result"
    },
    {
     "data": {
      "image/png": "[encoded data removed]",
      "text/plain": [
       "<Figure size 640x480 with 2 Axes>"
      ]
     },
     "metadata": {},
     "output_type": "display_data"
    }
   ],
   "source": [
    "# visualize confusion matrix with sns heatmap\n",
    "ax = sns.heatmap(cm_df,annot=True)\n",
    "ax.set_xlabel('Predicted labels');ax.set_ylabel('True labels')\n",
    "ax.xaxis.set_ticklabels(['Black Wins', 'White Wins', 'Draw']); ax.yaxis.set_ticklabels(['Black Wins', 'White Wins', 'Draw'])"
   ]
  },
  {
   "cell_type": "markdown",
   "metadata": {},
   "source": [
    "## Upsampling Draws"
   ]
  },
  {
   "cell_type": "code",
   "execution_count": 186,
   "metadata": {},
   "outputs": [],
   "source": [
    "# resample data\n",
    "from imblearn.over_sampling import SMOTE\n",
    "smote = SMOTE()\n",
    "X_resampled, y_resampled = smote.fit_resample(X,y)"
   ]
  },
  {
   "cell_type": "code",
   "execution_count": 187,
   "metadata": {},
   "outputs": [
    {
     "data": {
      "text/plain": [
       "Result\n",
       "0    62880\n",
       "1    62880\n",
       "2    62880\n",
       "Name: count, dtype: int64"
      ]
     },
     "execution_count": 187,
     "metadata": {},
     "output_type": "execute_result"
    }
   ],
   "source": [
    "# view value counts of resampled data\n",
    "y_resampled.value_counts()"
   ]
  },
  {
   "cell_type": "code",
   "execution_count": 188,
   "metadata": {},
   "outputs": [],
   "source": [
    "# split the data into training and testing data\n",
    "X_train, X_test, y_train, y_test = train_test_split(X_resampled, y_resampled, random_state=78)"
   ]
  },
  {
   "cell_type": "code",
   "execution_count": 189,
   "metadata": {},
   "outputs": [],
   "source": [
    "# Create a StandardScaler instances\n",
    "scaler = StandardScaler()\n",
    "\n",
    "# Fit the StandardScaler\n",
    "X_scaler = scaler.fit(X_train)\n",
    "\n",
    "# Scale the data\n",
    "X_train_scaled = X_scaler.transform(X_train)\n",
    "X_test_scaled = X_scaler.transform(X_test)"
   ]
  },
  {
   "cell_type": "code",
   "execution_count": 190,
   "metadata": {},
   "outputs": [
    {
     "data": {
      "text/html": [
       "<style>#sk-container-id-9 {color: black;background-color: white;}#sk-container-id-9 pre{padding: 0;}#sk-container-id-9 div.sk-toggleable {background-color: white;}#sk-container-id-9 label.sk-toggleable__label {cursor: pointer;display: block;width: 100%;margin-bottom: 0;padding: 0.3em;box-sizing: border-box;text-align: center;}#sk-container-id-9 label.sk-toggleable__label-arrow:before {content: \"▸\";float: left;margin-right: 0.25em;color: #696969;}#sk-container-id-9 label.sk-toggleable__label-arrow:hover:before {color: black;}#sk-container-id-9 div.sk-estimator:hover label.sk-toggleable__label-arrow:before {color: black;}#sk-container-id-9 div.sk-toggleable__content {max-height: 0;max-width: 0;overflow: hidden;text-align: left;background-color: #f0f8ff;}#sk-container-id-9 div.sk-toggleable__content pre {margin: 0.2em;color: black;border-radius: 0.25em;background-color: #f0f8ff;}#sk-container-id-9 input.sk-toggleable__control:checked~div.sk-toggleable__content {max-height: 200px;max-width: 100%;overflow: auto;}#sk-container-id-9 input.sk-toggleable__control:checked~label.sk-toggleable__label-arrow:before {content: \"▾\";}#sk-container-id-9 div.sk-estimator input.sk-toggleable__control:checked~label.sk-toggleable__label {background-color: #d4ebff;}#sk-container-id-9 div.sk-label input.sk-toggleable__control:checked~label.sk-toggleable__label {background-color: #d4ebff;}#sk-container-id-9 input.sk-hidden--visually {border: 0;clip: rect(1px 1px 1px 1px);clip: rect(1px, 1px, 1px, 1px);height: 1px;margin: -1px;overflow: hidden;padding: 0;position: absolute;width: 1px;}#sk-container-id-9 div.sk-estimator {font-family: monospace;background-color: #f0f8ff;border: 1px dotted black;border-radius: 0.25em;box-sizing: border-box;margin-bottom: 0.5em;}#sk-container-id-9 div.sk-estimator:hover {background-color: #d4ebff;}#sk-container-id-9 div.sk-parallel-item::after {content: \"\";width: 100%;border-bottom: 1px solid gray;flex-grow: 1;}#sk-container-id-9 div.sk-label:hover label.sk-toggleable__label {background-color: #d4ebff;}#sk-container-id-9 div.sk-serial::before {content: \"\";position: absolute;border-left: 1px solid gray;box-sizing: border-box;top: 0;bottom: 0;left: 50%;z-index: 0;}#sk-container-id-9 div.sk-serial {display: flex;flex-direction: column;align-items: center;background-color: white;padding-right: 0.2em;padding-left: 0.2em;position: relative;}#sk-container-id-9 div.sk-item {position: relative;z-index: 1;}#sk-container-id-9 div.sk-parallel {display: flex;align-items: stretch;justify-content: center;background-color: white;position: relative;}#sk-container-id-9 div.sk-item::before, #sk-container-id-9 div.sk-parallel-item::before {content: \"\";position: absolute;border-left: 1px solid gray;box-sizing: border-box;top: 0;bottom: 0;left: 50%;z-index: -1;}#sk-container-id-9 div.sk-parallel-item {display: flex;flex-direction: column;z-index: 1;position: relative;background-color: white;}#sk-container-id-9 div.sk-parallel-item:first-child::after {align-self: flex-end;width: 50%;}#sk-container-id-9 div.sk-parallel-item:last-child::after {align-self: flex-start;width: 50%;}#sk-container-id-9 div.sk-parallel-item:only-child::after {width: 0;}#sk-container-id-9 div.sk-dashed-wrapped {border: 1px dashed gray;margin: 0 0.4em 0.5em 0.4em;box-sizing: border-box;padding-bottom: 0.4em;background-color: white;}#sk-container-id-9 div.sk-label label {font-family: monospace;font-weight: bold;display: inline-block;line-height: 1.2em;}#sk-container-id-9 div.sk-label-container {text-align: center;}#sk-container-id-9 div.sk-container {/* jupyter's `normalize.less` sets `[hidden] { display: none; }` but bootstrap.min.css set `[hidden] { display: none !important; }` so we also need the `!important` here to be able to override the default hidden behavior on the sphinx rendered scikit-learn.org. See: https://github.com/scikit-learn/scikit-learn/issues/21755 */display: inline-block !important;position: relative;}#sk-container-id-9 div.sk-text-repr-fallback {display: none;}</style><div id=\"sk-container-id-9\" class=\"sk-top-container\"><div class=\"sk-text-repr-fallback\"><pre>XGBClassifier(base_score=None, booster=None, callbacks=None,\n",
       "              colsample_bylevel=None, colsample_bynode=None,\n",
       "              colsample_bytree=None, device=None, early_stopping_rounds=None,\n",
       "              enable_categorical=False, eval_metric=None, feature_types=None,\n",
       "              gamma=None, grow_policy=None, importance_type=None,\n",
       "              interaction_constraints=None, learning_rate=None, max_bin=None,\n",
       "              max_cat_threshold=None, max_cat_to_onehot=None,\n",
       "              max_delta_step=None, max_depth=32, max_leaves=None,\n",
       "              min_child_weight=None, missing=nan, monotone_constraints=None,\n",
       "              multi_strategy=None, n_estimators=256, n_jobs=None,\n",
       "              num_parallel_tree=None, objective=&#x27;multi:softmax&#x27;, ...)</pre><b>In a Jupyter environment, please rerun this cell to show the HTML representation or trust the notebook. <br />On GitHub, the HTML representation is unable to render, please try loading this page with nbviewer.org.</b></div><div class=\"sk-container\" hidden><div class=\"sk-item\"><div class=\"sk-estimator sk-toggleable\"><input class=\"sk-toggleable__control sk-hidden--visually\" id=\"sk-estimator-id-9\" type=\"checkbox\" checked><label for=\"sk-estimator-id-9\" class=\"sk-toggleable__label sk-toggleable__label-arrow\">XGBClassifier</label><div class=\"sk-toggleable__content\"><pre>XGBClassifier(base_score=None, booster=None, callbacks=None,\n",
       "              colsample_bylevel=None, colsample_bynode=None,\n",
       "              colsample_bytree=None, device=None, early_stopping_rounds=None,\n",
       "              enable_categorical=False, eval_metric=None, feature_types=None,\n",
       "              gamma=None, grow_policy=None, importance_type=None,\n",
       "              interaction_constraints=None, learning_rate=None, max_bin=None,\n",
       "              max_cat_threshold=None, max_cat_to_onehot=None,\n",
       "              max_delta_step=None, max_depth=32, max_leaves=None,\n",
       "              min_child_weight=None, missing=nan, monotone_constraints=None,\n",
       "              multi_strategy=None, n_estimators=256, n_jobs=None,\n",
       "              num_parallel_tree=None, objective=&#x27;multi:softmax&#x27;, ...)</pre></div></div></div></div></div>"
      ],
      "text/plain": [
       "XGBClassifier(base_score=None, booster=None, callbacks=None,\n",
       "              colsample_bylevel=None, colsample_bynode=None,\n",
       "              colsample_bytree=None, device=None, early_stopping_rounds=None,\n",
       "              enable_categorical=False, eval_metric=None, feature_types=None,\n",
       "              gamma=None, grow_policy=None, importance_type=None,\n",
       "              interaction_constraints=None, learning_rate=None, max_bin=None,\n",
       "              max_cat_threshold=None, max_cat_to_onehot=None,\n",
       "              max_delta_step=None, max_depth=32, max_leaves=None,\n",
       "              min_child_weight=None, missing=nan, monotone_constraints=None,\n",
       "              multi_strategy=None, n_estimators=256, n_jobs=None,\n",
       "              num_parallel_tree=None, objective='multi:softmax', ...)"
      ]
     },
     "execution_count": 190,
     "metadata": {},
     "output_type": "execute_result"
    }
   ],
   "source": [
    "# create xgboost instance and train model with training data\n",
    "xg_nn = XGBClassifier(n_estimators = 256, max_depth = 32, objective ='multi:softmax')\n",
    "xg_nn.fit(X_train_scaled,y_train)"
   ]
  },
  {
   "cell_type": "code",
   "execution_count": 191,
   "metadata": {},
   "outputs": [],
   "source": [
    "# store predictions based on model\n",
    "predictions = xg_nn.predict(X_test_scaled)"
   ]
  },
  {
   "cell_type": "code",
   "execution_count": 192,
   "metadata": {},
   "outputs": [
    {
     "data": {
      "text/plain": [
       "0.8722858354537744"
      ]
     },
     "execution_count": 192,
     "metadata": {},
     "output_type": "execute_result"
    }
   ],
   "source": [
    "# view accuracy score of model\n",
    "accuracy_score(y_test, predictions)"
   ]
  },
  {
   "cell_type": "code",
   "execution_count": 193,
   "metadata": {},
   "outputs": [
    {
     "name": "stdout",
     "output_type": "stream",
     "text": [
      "              precision    recall  f1-score   support\n",
      "\n",
      "  Black Wins       0.85      0.85      0.85     15675\n",
      "  White Wins       0.86      0.89      0.88     15739\n",
      "        Draw       0.90      0.88      0.89     15746\n",
      "\n",
      "    accuracy                           0.87     47160\n",
      "   macro avg       0.87      0.87      0.87     47160\n",
      "weighted avg       0.87      0.87      0.87     47160\n",
      "\n"
     ]
    }
   ],
   "source": [
    "# view classification report based on model\n",
    "print(classification_report(y_test, predictions, target_names=['Black Wins', 'White Wins', 'Draw']))"
   ]
  },
  {
   "cell_type": "code",
   "execution_count": 194,
   "metadata": {},
   "outputs": [],
   "source": [
    "# create confusion matrix based on model\n",
    "cm_df = pd.DataFrame(confusion_matrix(y_test, predictions))"
   ]
  },
  {
   "cell_type": "code",
   "execution_count": 195,
   "metadata": {},
   "outputs": [
    {
     "data": {
      "text/plain": [
       "[Text(0, 0.5, 'Black Wins'), Text(0, 1.5, 'White Wins'), Text(0, 2.5, 'Draw')]"
      ]
     },
     "execution_count": 195,
     "metadata": {},
     "output_type": "execute_result"
    },
    {
     "data": {
      "image/png": "[encoded data removed]",
      "text/plain": [
       "<Figure size 640x480 with 2 Axes>"
      ]
     },
     "metadata": {},
     "output_type": "display_data"
    }
   ],
   "source": [
    "# visualize confusion matrix with heatmap\n",
    "ax = sns.heatmap(cm_df,annot=True)\n",
    "ax.set_xlabel('Predicted labels');ax.set_ylabel('True labels')\n",
    "ax.xaxis.set_ticklabels(['Black Wins', 'White Wins', 'Draw']); ax.yaxis.set_ticklabels(['Black Wins', 'White Wins', 'Draw'])"
   ]
  },
  {
   "cell_type": "markdown",
   "metadata": {},
   "source": [
    "## A Purely Predictive Model"
   ]
  },
  {
   "cell_type": "code",
   "execution_count": 250,
   "metadata": {},
   "outputs": [],
   "source": [
    "# select relevant columns of data and save as pandas dataframe\n",
    "data = spark.sql(\n",
    "    '''\n",
    "SELECT WhiteElo, White_playTime_total, White_count_all, BlackElo, Black_playTime_total, Black_count_all,TimeControl,\n",
    "Result from chess\n",
    "WHERE Result != '*'\n",
    "'''\n",
    ").toPandas()"
   ]
  },
  {
   "cell_type": "code",
   "execution_count": 251,
   "metadata": {},
   "outputs": [],
   "source": [
    "# drop null values\n",
    "data.dropna(inplace=True)"
   ]
  },
  {
   "cell_type": "code",
   "execution_count": 252,
   "metadata": {},
   "outputs": [],
   "source": [
    "# create features exploring the differences in white versus black to use in prediction model\n",
    "data['Rating Difference'] = data['WhiteElo'] - data['BlackElo']\n",
    "data['Playtime Difference'] = data['White_playTime_total'] - data['Black_playTime_total']\n",
    "data['Games Played Difference'] = data['White_count_all'] - data['Black_count_all']\n",
    "data['White Average Playtime'] = data['White_playTime_total']/data['White_count_all']\n",
    "data['Black Average Playtime'] = data['Black_playTime_total']/data['Black_count_all']\n",
    "data['Average Playtime Difference'] = data['White Average Playtime'] - data['Black Average Playtime']"
   ]
  },
  {
   "cell_type": "code",
   "execution_count": 233,
   "metadata": {},
   "outputs": [],
   "source": [
    "# drop features that are not significant or are repeated in other features\n",
    "data.drop(['WhiteElo','BlackElo','White_count_all','Black_count_all','White_playTime_total','Black_playTime_total'],axis=1,inplace=True)"
   ]
  },
  {
   "cell_type": "code",
   "execution_count": 253,
   "metadata": {},
   "outputs": [],
   "source": [
    "# Binning data\n",
    "bins = [-2000, -1000, -500, -150, -50, 0, 50, 150, 500, 1000, 2000]\n",
    "data['Rating Difference'] = pd.cut(data['Rating Difference'], bins)"
   ]
  },
  {
   "cell_type": "code",
   "execution_count": 254,
   "metadata": {},
   "outputs": [],
   "source": [
    "# dummy encode the categorical data and sort into target and features\n",
    "resultmap = {'0-1':0, '1-0':1, '1/2-1/2':2}\n",
    "y = data['Result'].map(resultmap)\n",
    "X = pd.get_dummies(data.drop('Result', axis=1))"
   ]
  },
  {
   "cell_type": "code",
   "execution_count": 255,
   "metadata": {},
   "outputs": [],
   "source": [
    "# split the data into training and testing data\n",
    "X_train, X_test, y_train, y_test = train_test_split(X, y, random_state=78)"
   ]
  },
  {
   "cell_type": "code",
   "execution_count": 256,
   "metadata": {},
   "outputs": [],
   "source": [
    "# Create a StandardScaler instances\n",
    "scaler = StandardScaler()\n",
    "\n",
    "# Fit the StandardScaler\n",
    "X_scaler = scaler.fit(X_train)\n",
    "\n",
    "# Scale the data\n",
    "X_train_scaled = X_scaler.transform(X_train)\n",
    "X_test_scaled = X_scaler.transform(X_test)"
   ]
  },
  {
   "cell_type": "code",
   "execution_count": 257,
   "metadata": {},
   "outputs": [
    {
     "data": {
      "text/html": [
       "<style>#sk-container-id-12 {color: black;background-color: white;}#sk-container-id-12 pre{padding: 0;}#sk-container-id-12 div.sk-toggleable {background-color: white;}#sk-container-id-12 label.sk-toggleable__label {cursor: pointer;display: block;width: 100%;margin-bottom: 0;padding: 0.3em;box-sizing: border-box;text-align: center;}#sk-container-id-12 label.sk-toggleable__label-arrow:before {content: \"▸\";float: left;margin-right: 0.25em;color: #696969;}#sk-container-id-12 label.sk-toggleable__label-arrow:hover:before {color: black;}#sk-container-id-12 div.sk-estimator:hover label.sk-toggleable__label-arrow:before {color: black;}#sk-container-id-12 div.sk-toggleable__content {max-height: 0;max-width: 0;overflow: hidden;text-align: left;background-color: #f0f8ff;}#sk-container-id-12 div.sk-toggleable__content pre {margin: 0.2em;color: black;border-radius: 0.25em;background-color: #f0f8ff;}#sk-container-id-12 input.sk-toggleable__control:checked~div.sk-toggleable__content {max-height: 200px;max-width: 100%;overflow: auto;}#sk-container-id-12 input.sk-toggleable__control:checked~label.sk-toggleable__label-arrow:before {content: \"▾\";}#sk-container-id-12 div.sk-estimator input.sk-toggleable__control:checked~label.sk-toggleable__label {background-color: #d4ebff;}#sk-container-id-12 div.sk-label input.sk-toggleable__control:checked~label.sk-toggleable__label {background-color: #d4ebff;}#sk-container-id-12 input.sk-hidden--visually {border: 0;clip: rect(1px 1px 1px 1px);clip: rect(1px, 1px, 1px, 1px);height: 1px;margin: -1px;overflow: hidden;padding: 0;position: absolute;width: 1px;}#sk-container-id-12 div.sk-estimator {font-family: monospace;background-color: #f0f8ff;border: 1px dotted black;border-radius: 0.25em;box-sizing: border-box;margin-bottom: 0.5em;}#sk-container-id-12 div.sk-estimator:hover {background-color: #d4ebff;}#sk-container-id-12 div.sk-parallel-item::after {content: \"\";width: 100%;border-bottom: 1px solid gray;flex-grow: 1;}#sk-container-id-12 div.sk-label:hover label.sk-toggleable__label {background-color: #d4ebff;}#sk-container-id-12 div.sk-serial::before {content: \"\";position: absolute;border-left: 1px solid gray;box-sizing: border-box;top: 0;bottom: 0;left: 50%;z-index: 0;}#sk-container-id-12 div.sk-serial {display: flex;flex-direction: column;align-items: center;background-color: white;padding-right: 0.2em;padding-left: 0.2em;position: relative;}#sk-container-id-12 div.sk-item {position: relative;z-index: 1;}#sk-container-id-12 div.sk-parallel {display: flex;align-items: stretch;justify-content: center;background-color: white;position: relative;}#sk-container-id-12 div.sk-item::before, #sk-container-id-12 div.sk-parallel-item::before {content: \"\";position: absolute;border-left: 1px solid gray;box-sizing: border-box;top: 0;bottom: 0;left: 50%;z-index: -1;}#sk-container-id-12 div.sk-parallel-item {display: flex;flex-direction: column;z-index: 1;position: relative;background-color: white;}#sk-container-id-12 div.sk-parallel-item:first-child::after {align-self: flex-end;width: 50%;}#sk-container-id-12 div.sk-parallel-item:last-child::after {align-self: flex-start;width: 50%;}#sk-container-id-12 div.sk-parallel-item:only-child::after {width: 0;}#sk-container-id-12 div.sk-dashed-wrapped {border: 1px dashed gray;margin: 0 0.4em 0.5em 0.4em;box-sizing: border-box;padding-bottom: 0.4em;background-color: white;}#sk-container-id-12 div.sk-label label {font-family: monospace;font-weight: bold;display: inline-block;line-height: 1.2em;}#sk-container-id-12 div.sk-label-container {text-align: center;}#sk-container-id-12 div.sk-container {/* jupyter's `normalize.less` sets `[hidden] { display: none; }` but bootstrap.min.css set `[hidden] { display: none !important; }` so we also need the `!important` here to be able to override the default hidden behavior on the sphinx rendered scikit-learn.org. See: https://github.com/scikit-learn/scikit-learn/issues/21755 */display: inline-block !important;position: relative;}#sk-container-id-12 div.sk-text-repr-fallback {display: none;}</style><div id=\"sk-container-id-12\" class=\"sk-top-container\"><div class=\"sk-text-repr-fallback\"><pre>XGBClassifier(base_score=None, booster=None, callbacks=None,\n",
       "              colsample_bylevel=None, colsample_bynode=None,\n",
       "              colsample_bytree=None, device=None, early_stopping_rounds=None,\n",
       "              enable_categorical=False, eval_metric=None, feature_types=None,\n",
       "              gamma=None, grow_policy=None, importance_type=None,\n",
       "              interaction_constraints=None, learning_rate=None, max_bin=None,\n",
       "              max_cat_threshold=None, max_cat_to_onehot=None,\n",
       "              max_delta_step=None, max_depth=32, max_leaves=None,\n",
       "              min_child_weight=None, missing=nan, monotone_constraints=None,\n",
       "              multi_strategy=None, n_estimators=256, n_jobs=None,\n",
       "              num_parallel_tree=None, objective=&#x27;multi:softmax&#x27;, ...)</pre><b>In a Jupyter environment, please rerun this cell to show the HTML representation or trust the notebook. <br />On GitHub, the HTML representation is unable to render, please try loading this page with nbviewer.org.</b></div><div class=\"sk-container\" hidden><div class=\"sk-item\"><div class=\"sk-estimator sk-toggleable\"><input class=\"sk-toggleable__control sk-hidden--visually\" id=\"sk-estimator-id-12\" type=\"checkbox\" checked><label for=\"sk-estimator-id-12\" class=\"sk-toggleable__label sk-toggleable__label-arrow\">XGBClassifier</label><div class=\"sk-toggleable__content\"><pre>XGBClassifier(base_score=None, booster=None, callbacks=None,\n",
       "              colsample_bylevel=None, colsample_bynode=None,\n",
       "              colsample_bytree=None, device=None, early_stopping_rounds=None,\n",
       "              enable_categorical=False, eval_metric=None, feature_types=None,\n",
       "              gamma=None, grow_policy=None, importance_type=None,\n",
       "              interaction_constraints=None, learning_rate=None, max_bin=None,\n",
       "              max_cat_threshold=None, max_cat_to_onehot=None,\n",
       "              max_delta_step=None, max_depth=32, max_leaves=None,\n",
       "              min_child_weight=None, missing=nan, monotone_constraints=None,\n",
       "              multi_strategy=None, n_estimators=256, n_jobs=None,\n",
       "              num_parallel_tree=None, objective=&#x27;multi:softmax&#x27;, ...)</pre></div></div></div></div></div>"
      ],
      "text/plain": [
       "XGBClassifier(base_score=None, booster=None, callbacks=None,\n",
       "              colsample_bylevel=None, colsample_bynode=None,\n",
       "              colsample_bytree=None, device=None, early_stopping_rounds=None,\n",
       "              enable_categorical=False, eval_metric=None, feature_types=None,\n",
       "              gamma=None, grow_policy=None, importance_type=None,\n",
       "              interaction_constraints=None, learning_rate=None, max_bin=None,\n",
       "              max_cat_threshold=None, max_cat_to_onehot=None,\n",
       "              max_delta_step=None, max_depth=32, max_leaves=None,\n",
       "              min_child_weight=None, missing=nan, monotone_constraints=None,\n",
       "              multi_strategy=None, n_estimators=256, n_jobs=None,\n",
       "              num_parallel_tree=None, objective='multi:softmax', ...)"
      ]
     },
     "execution_count": 257,
     "metadata": {},
     "output_type": "execute_result"
    }
   ],
   "source": [
    "# create xgboost instance and train model with training data\n",
    "xg_nn = XGBClassifier(n_estimators = 256, max_depth = 32, objective ='multi:softmax')\n",
    "xg_nn.fit(X_train_scaled,y_train)"
   ]
  },
  {
   "cell_type": "code",
   "execution_count": 258,
   "metadata": {},
   "outputs": [],
   "source": [
    "# store predictions based on model\n",
    "predictions = xg_nn.predict(X_test_scaled)"
   ]
  },
  {
   "cell_type": "code",
   "execution_count": 259,
   "metadata": {},
   "outputs": [
    {
     "data": {
      "text/plain": [
       "0.5569205308551606"
      ]
     },
     "execution_count": 259,
     "metadata": {},
     "output_type": "execute_result"
    }
   ],
   "source": [
    "# view model's accuracy score\n",
    "accuracy_score(y_test, predictions)"
   ]
  },
  {
   "cell_type": "code",
   "execution_count": 260,
   "metadata": {},
   "outputs": [
    {
     "name": "stdout",
     "output_type": "stream",
     "text": [
      "              precision    recall  f1-score   support\n",
      "\n",
      "  Black Wins       0.54      0.54      0.54     14516\n",
      "  White Wins       0.57      0.61      0.59     15841\n",
      "        Draw       0.08      0.00      0.00      1064\n",
      "\n",
      "    accuracy                           0.56     31421\n",
      "   macro avg       0.40      0.38      0.38     31421\n",
      "weighted avg       0.54      0.56      0.55     31421\n",
      "\n"
     ]
    }
   ],
   "source": [
    "# view classification report based on model\n",
    "print(classification_report(y_test, predictions, target_names=['Black Wins', 'White Wins', 'Draw']))"
   ]
  },
  {
   "cell_type": "code",
   "execution_count": 145,
   "metadata": {},
   "outputs": [],
   "source": [
    "# create confusion matrix based on model\n",
    "cm_df = pd.DataFrame(confusion_matrix(y_test, predictions,))"
   ]
  },
  {
   "cell_type": "code",
   "execution_count": 146,
   "metadata": {},
   "outputs": [
    {
     "data": {
      "text/plain": [
       "[Text(0, 0.5, 'Black Wins'), Text(0, 1.5, 'White Wins'), Text(0, 2.5, 'Draw')]"
      ]
     },
     "execution_count": 146,
     "metadata": {},
     "output_type": "execute_result"
    },
    {
     "data": {
      "image/png": "[encoded data removed]",
      "text/plain": [
       "<Figure size 640x480 with 2 Axes>"
      ]
     },
     "metadata": {},
     "output_type": "display_data"
    }
   ],
   "source": [
    "# view confusion matrix with heatmap\n",
    "ax = sns.heatmap(cm_df,annot=True)\n",
    "ax.set_xlabel('Predicted labels');ax.set_ylabel('True labels')\n",
    "ax.xaxis.set_ticklabels(['Black Wins', 'White Wins', 'Draw']); ax.yaxis.set_ticklabels(['Black Wins', 'White Wins', 'Draw'])"
   ]
  },
  {
   "cell_type": "code",
   "execution_count": 261,
   "metadata": {},
   "outputs": [],
   "source": [
    "# resample data\n",
    "smote = SMOTE()\n",
    "X_resampled, y_resampled = smote.fit_resample(X,y)"
   ]
  },
  {
   "cell_type": "code",
   "execution_count": 262,
   "metadata": {},
   "outputs": [
    {
     "data": {
      "text/plain": [
       "Result\n",
       "0    62880\n",
       "1    62880\n",
       "2    62880\n",
       "Name: count, dtype: int64"
      ]
     },
     "execution_count": 262,
     "metadata": {},
     "output_type": "execute_result"
    }
   ],
   "source": [
    "# view value counts of resampled data\n",
    "y_resampled.value_counts()"
   ]
  },
  {
   "cell_type": "code",
   "execution_count": 263,
   "metadata": {},
   "outputs": [],
   "source": [
    "# split the data into training and testing data\n",
    "X_train, X_test, y_train, y_test = train_test_split(X_resampled, y_resampled, random_state=78)"
   ]
  },
  {
   "cell_type": "code",
   "execution_count": 264,
   "metadata": {},
   "outputs": [],
   "source": [
    "# Create a StandardScaler instances\n",
    "scaler = StandardScaler()\n",
    "\n",
    "# Fit the StandardScaler\n",
    "X_scaler = scaler.fit(X_train)\n",
    "\n",
    "# Scale the data\n",
    "X_train_scaled = X_scaler.transform(X_train)\n",
    "X_test_scaled = X_scaler.transform(X_test)"
   ]
  },
  {
   "cell_type": "code",
   "execution_count": 265,
   "metadata": {},
   "outputs": [
    {
     "data": {
      "text/html": [
       "<style>#sk-container-id-13 {color: black;background-color: white;}#sk-container-id-13 pre{padding: 0;}#sk-container-id-13 div.sk-toggleable {background-color: white;}#sk-container-id-13 label.sk-toggleable__label {cursor: pointer;display: block;width: 100%;margin-bottom: 0;padding: 0.3em;box-sizing: border-box;text-align: center;}#sk-container-id-13 label.sk-toggleable__label-arrow:before {content: \"▸\";float: left;margin-right: 0.25em;color: #696969;}#sk-container-id-13 label.sk-toggleable__label-arrow:hover:before {color: black;}#sk-container-id-13 div.sk-estimator:hover label.sk-toggleable__label-arrow:before {color: black;}#sk-container-id-13 div.sk-toggleable__content {max-height: 0;max-width: 0;overflow: hidden;text-align: left;background-color: #f0f8ff;}#sk-container-id-13 div.sk-toggleable__content pre {margin: 0.2em;color: black;border-radius: 0.25em;background-color: #f0f8ff;}#sk-container-id-13 input.sk-toggleable__control:checked~div.sk-toggleable__content {max-height: 200px;max-width: 100%;overflow: auto;}#sk-container-id-13 input.sk-toggleable__control:checked~label.sk-toggleable__label-arrow:before {content: \"▾\";}#sk-container-id-13 div.sk-estimator input.sk-toggleable__control:checked~label.sk-toggleable__label {background-color: #d4ebff;}#sk-container-id-13 div.sk-label input.sk-toggleable__control:checked~label.sk-toggleable__label {background-color: #d4ebff;}#sk-container-id-13 input.sk-hidden--visually {border: 0;clip: rect(1px 1px 1px 1px);clip: rect(1px, 1px, 1px, 1px);height: 1px;margin: -1px;overflow: hidden;padding: 0;position: absolute;width: 1px;}#sk-container-id-13 div.sk-estimator {font-family: monospace;background-color: #f0f8ff;border: 1px dotted black;border-radius: 0.25em;box-sizing: border-box;margin-bottom: 0.5em;}#sk-container-id-13 div.sk-estimator:hover {background-color: #d4ebff;}#sk-container-id-13 div.sk-parallel-item::after {content: \"\";width: 100%;border-bottom: 1px solid gray;flex-grow: 1;}#sk-container-id-13 div.sk-label:hover label.sk-toggleable__label {background-color: #d4ebff;}#sk-container-id-13 div.sk-serial::before {content: \"\";position: absolute;border-left: 1px solid gray;box-sizing: border-box;top: 0;bottom: 0;left: 50%;z-index: 0;}#sk-container-id-13 div.sk-serial {display: flex;flex-direction: column;align-items: center;background-color: white;padding-right: 0.2em;padding-left: 0.2em;position: relative;}#sk-container-id-13 div.sk-item {position: relative;z-index: 1;}#sk-container-id-13 div.sk-parallel {display: flex;align-items: stretch;justify-content: center;background-color: white;position: relative;}#sk-container-id-13 div.sk-item::before, #sk-container-id-13 div.sk-parallel-item::before {content: \"\";position: absolute;border-left: 1px solid gray;box-sizing: border-box;top: 0;bottom: 0;left: 50%;z-index: -1;}#sk-container-id-13 div.sk-parallel-item {display: flex;flex-direction: column;z-index: 1;position: relative;background-color: white;}#sk-container-id-13 div.sk-parallel-item:first-child::after {align-self: flex-end;width: 50%;}#sk-container-id-13 div.sk-parallel-item:last-child::after {align-self: flex-start;width: 50%;}#sk-container-id-13 div.sk-parallel-item:only-child::after {width: 0;}#sk-container-id-13 div.sk-dashed-wrapped {border: 1px dashed gray;margin: 0 0.4em 0.5em 0.4em;box-sizing: border-box;padding-bottom: 0.4em;background-color: white;}#sk-container-id-13 div.sk-label label {font-family: monospace;font-weight: bold;display: inline-block;line-height: 1.2em;}#sk-container-id-13 div.sk-label-container {text-align: center;}#sk-container-id-13 div.sk-container {/* jupyter's `normalize.less` sets `[hidden] { display: none; }` but bootstrap.min.css set `[hidden] { display: none !important; }` so we also need the `!important` here to be able to override the default hidden behavior on the sphinx rendered scikit-learn.org. See: https://github.com/scikit-learn/scikit-learn/issues/21755 */display: inline-block !important;position: relative;}#sk-container-id-13 div.sk-text-repr-fallback {display: none;}</style><div id=\"sk-container-id-13\" class=\"sk-top-container\"><div class=\"sk-text-repr-fallback\"><pre>XGBClassifier(base_score=None, booster=None, callbacks=None,\n",
       "              colsample_bylevel=None, colsample_bynode=None,\n",
       "              colsample_bytree=None, device=None, early_stopping_rounds=None,\n",
       "              enable_categorical=False, eval_metric=None, feature_types=None,\n",
       "              gamma=None, grow_policy=None, importance_type=None,\n",
       "              interaction_constraints=None, learning_rate=None, max_bin=None,\n",
       "              max_cat_threshold=None, max_cat_to_onehot=None,\n",
       "              max_delta_step=None, max_depth=32, max_leaves=None,\n",
       "              min_child_weight=None, missing=nan, monotone_constraints=None,\n",
       "              multi_strategy=None, n_estimators=256, n_jobs=None,\n",
       "              num_parallel_tree=None, objective=&#x27;multi:softmax&#x27;, ...)</pre><b>In a Jupyter environment, please rerun this cell to show the HTML representation or trust the notebook. <br />On GitHub, the HTML representation is unable to render, please try loading this page with nbviewer.org.</b></div><div class=\"sk-container\" hidden><div class=\"sk-item\"><div class=\"sk-estimator sk-toggleable\"><input class=\"sk-toggleable__control sk-hidden--visually\" id=\"sk-estimator-id-13\" type=\"checkbox\" checked><label for=\"sk-estimator-id-13\" class=\"sk-toggleable__label sk-toggleable__label-arrow\">XGBClassifier</label><div class=\"sk-toggleable__content\"><pre>XGBClassifier(base_score=None, booster=None, callbacks=None,\n",
       "              colsample_bylevel=None, colsample_bynode=None,\n",
       "              colsample_bytree=None, device=None, early_stopping_rounds=None,\n",
       "              enable_categorical=False, eval_metric=None, feature_types=None,\n",
       "              gamma=None, grow_policy=None, importance_type=None,\n",
       "              interaction_constraints=None, learning_rate=None, max_bin=None,\n",
       "              max_cat_threshold=None, max_cat_to_onehot=None,\n",
       "              max_delta_step=None, max_depth=32, max_leaves=None,\n",
       "              min_child_weight=None, missing=nan, monotone_constraints=None,\n",
       "              multi_strategy=None, n_estimators=256, n_jobs=None,\n",
       "              num_parallel_tree=None, objective=&#x27;multi:softmax&#x27;, ...)</pre></div></div></div></div></div>"
      ],
      "text/plain": [
       "XGBClassifier(base_score=None, booster=None, callbacks=None,\n",
       "              colsample_bylevel=None, colsample_bynode=None,\n",
       "              colsample_bytree=None, device=None, early_stopping_rounds=None,\n",
       "              enable_categorical=False, eval_metric=None, feature_types=None,\n",
       "              gamma=None, grow_policy=None, importance_type=None,\n",
       "              interaction_constraints=None, learning_rate=None, max_bin=None,\n",
       "              max_cat_threshold=None, max_cat_to_onehot=None,\n",
       "              max_delta_step=None, max_depth=32, max_leaves=None,\n",
       "              min_child_weight=None, missing=nan, monotone_constraints=None,\n",
       "              multi_strategy=None, n_estimators=256, n_jobs=None,\n",
       "              num_parallel_tree=None, objective='multi:softmax', ...)"
      ]
     },
     "execution_count": 265,
     "metadata": {},
     "output_type": "execute_result"
    }
   ],
   "source": [
    "# create instance of xgboost and train model with training data\n",
    "xg_nn = XGBClassifier(n_estimators = 256, max_depth = 32, objective ='multi:softmax')\n",
    "xg_nn.fit(X_train_scaled,y_train)"
   ]
  },
  {
   "cell_type": "code",
   "execution_count": 266,
   "metadata": {},
   "outputs": [],
   "source": [
    "# store predictions based on model\n",
    "predictions = xg_nn.predict(X_test_scaled)"
   ]
  },
  {
   "cell_type": "code",
   "execution_count": 267,
   "metadata": {},
   "outputs": [
    {
     "data": {
      "text/plain": [
       "0.6887616624257845"
      ]
     },
     "execution_count": 267,
     "metadata": {},
     "output_type": "execute_result"
    }
   ],
   "source": [
    "# view model's accuracy score\n",
    "accuracy_score(y_test, predictions)"
   ]
  },
  {
   "cell_type": "code",
   "execution_count": 268,
   "metadata": {},
   "outputs": [
    {
     "name": "stdout",
     "output_type": "stream",
     "text": [
      "              precision    recall  f1-score   support\n",
      "\n",
      "  Black Wins       0.56      0.53      0.54     15675\n",
      "  White Wins       0.57      0.61      0.59     15739\n",
      "        Draw       0.94      0.93      0.93     15746\n",
      "\n",
      "    accuracy                           0.69     47160\n",
      "   macro avg       0.69      0.69      0.69     47160\n",
      "weighted avg       0.69      0.69      0.69     47160\n",
      "\n"
     ]
    }
   ],
   "source": [
    "# view classification report based on model\n",
    "print(classification_report(y_test, predictions, target_names=['Black Wins', 'White Wins', 'Draw']))"
   ]
  },
  {
   "cell_type": "code",
   "execution_count": 406,
   "metadata": {},
   "outputs": [],
   "source": [
    "# create confusion matrix based on model\n",
    "cm_df = pd.DataFrame(confusion_matrix(y_test, predictions))"
   ]
  },
  {
   "cell_type": "code",
   "execution_count": 407,
   "metadata": {},
   "outputs": [
    {
     "data": {
      "text/plain": [
       "[Text(0, 0.5, 'Black Wins'), Text(0, 1.5, 'White Wins'), Text(0, 2.5, 'Draw')]"
      ]
     },
     "execution_count": 407,
     "metadata": {},
     "output_type": "execute_result"
    },
    {
     "data": {
      "image/png": "[encoded data removed]",
      "text/plain": [
       "<Figure size 640x480 with 2 Axes>"
      ]
     },
     "metadata": {},
     "output_type": "display_data"
    }
   ],
   "source": [
    "# visualize confusion matrix with heatmap\n",
    "ax = sns.heatmap(cm_df,annot=True)\n",
    "ax.set_xlabel('Predicted labels');ax.set_ylabel('True labels')\n",
    "ax.xaxis.set_ticklabels(['Black Wins', 'White Wins', 'Draw']); ax.yaxis.set_ticklabels(['Black Wins', 'White Wins', 'Draw'])"
   ]
  },
  {
   "cell_type": "markdown",
   "metadata": {},
   "source": [
    "## Adding in More Features"
   ]
  },
  {
   "cell_type": "code",
   "execution_count": 512,
   "metadata": {},
   "outputs": [],
   "source": [
    "# select relevant columns of data and save as pandas dataframe\n",
    "data = spark.sql(\n",
    "    '''\n",
    "SELECT WhiteElo, White_playTime_total, White_count_all, BlackElo, Black_playTime_total, Black_count_all,TotalMoves,Termination,TimeControl,ECO,\n",
    "Result from chess\n",
    "WHERE Result != '*'\n",
    "'''\n",
    ").toPandas()"
   ]
  },
  {
   "cell_type": "code",
   "execution_count": 513,
   "metadata": {},
   "outputs": [],
   "source": [
    "# drop null values\n",
    "data.dropna(inplace=True)"
   ]
  },
  {
   "cell_type": "code",
   "execution_count": 514,
   "metadata": {},
   "outputs": [],
   "source": [
    "# create time control feature\n",
    "data['TimeControl'] = data['TimeControl'].str.split('+').str[0]"
   ]
  },
  {
   "cell_type": "code",
   "execution_count": 515,
   "metadata": {},
   "outputs": [],
   "source": [
    "# create features exploring the differences in white versus black to use in prediction model\n",
    "data['Rating Difference'] = data['WhiteElo'] - data['BlackElo']\n",
    "data['Playtime Difference'] = data['White_playTime_total'] - data['Black_playTime_total']\n",
    "data['Games Played Difference'] = data['White_count_all'] - data['Black_count_all']\n",
    "data['White Average Playtime'] = data['White_playTime_total']/data['White_count_all']\n",
    "data['Black Average Playtime'] = data['Black_playTime_total']/data['Black_count_all']\n",
    "data['Average Playtime Difference'] = data['White Average Playtime'] - data['Black Average Playtime']"
   ]
  },
  {
   "cell_type": "code",
   "execution_count": 516,
   "metadata": {},
   "outputs": [],
   "source": [
    "# Binning data\n",
    "bins = [-2000, -1000, -500, -150, -50, 0, 50, 150, 500, 1000, 2000]\n",
    "data['Rating Difference'] = pd.cut(data['Rating Difference'], bins)"
   ]
  },
  {
   "cell_type": "code",
   "execution_count": 517,
   "metadata": {},
   "outputs": [],
   "source": [
    "# dummy encode the categorical data and sort into target and features\n",
    "resultmap = {'0-1':0, '1-0':1, '1/2-1/2':2}\n",
    "y = data['Result'].map(resultmap)\n",
    "X = pd.get_dummies(data.drop('Result', axis=1))"
   ]
  },
  {
   "cell_type": "code",
   "execution_count": 518,
   "metadata": {},
   "outputs": [],
   "source": [
    "# resample data\n",
    "X_resampled, y_resampled = smote.fit_resample(X,y)"
   ]
  },
  {
   "cell_type": "code",
   "execution_count": 519,
   "metadata": {},
   "outputs": [],
   "source": [
    "# split the data into training and testing data\n",
    "X_train, X_test, y_train, y_test = train_test_split(X_resampled, y_resampled, random_state=78)"
   ]
  },
  {
   "cell_type": "code",
   "execution_count": 520,
   "metadata": {},
   "outputs": [],
   "source": [
    "# Create a StandardScaler instances\n",
    "scaler = StandardScaler()\n",
    "\n",
    "# Fit the StandardScaler\n",
    "X_scaler = scaler.fit(X_train)\n",
    "\n",
    "# Scale the data\n",
    "X_train_scaled = X_scaler.transform(X_train)\n",
    "X_test_scaled = X_scaler.transform(X_test)"
   ]
  },
  {
   "cell_type": "code",
   "execution_count": 521,
   "metadata": {},
   "outputs": [
    {
     "data": {
      "text/html": [
       "<style>#sk-container-id-15 {color: black;background-color: white;}#sk-container-id-15 pre{padding: 0;}#sk-container-id-15 div.sk-toggleable {background-color: white;}#sk-container-id-15 label.sk-toggleable__label {cursor: pointer;display: block;width: 100%;margin-bottom: 0;padding: 0.3em;box-sizing: border-box;text-align: center;}#sk-container-id-15 label.sk-toggleable__label-arrow:before {content: \"▸\";float: left;margin-right: 0.25em;color: #696969;}#sk-container-id-15 label.sk-toggleable__label-arrow:hover:before {color: black;}#sk-container-id-15 div.sk-estimator:hover label.sk-toggleable__label-arrow:before {color: black;}#sk-container-id-15 div.sk-toggleable__content {max-height: 0;max-width: 0;overflow: hidden;text-align: left;background-color: #f0f8ff;}#sk-container-id-15 div.sk-toggleable__content pre {margin: 0.2em;color: black;border-radius: 0.25em;background-color: #f0f8ff;}#sk-container-id-15 input.sk-toggleable__control:checked~div.sk-toggleable__content {max-height: 200px;max-width: 100%;overflow: auto;}#sk-container-id-15 input.sk-toggleable__control:checked~label.sk-toggleable__label-arrow:before {content: \"▾\";}#sk-container-id-15 div.sk-estimator input.sk-toggleable__control:checked~label.sk-toggleable__label {background-color: #d4ebff;}#sk-container-id-15 div.sk-label input.sk-toggleable__control:checked~label.sk-toggleable__label {background-color: #d4ebff;}#sk-container-id-15 input.sk-hidden--visually {border: 0;clip: rect(1px 1px 1px 1px);clip: rect(1px, 1px, 1px, 1px);height: 1px;margin: -1px;overflow: hidden;padding: 0;position: absolute;width: 1px;}#sk-container-id-15 div.sk-estimator {font-family: monospace;background-color: #f0f8ff;border: 1px dotted black;border-radius: 0.25em;box-sizing: border-box;margin-bottom: 0.5em;}#sk-container-id-15 div.sk-estimator:hover {background-color: #d4ebff;}#sk-container-id-15 div.sk-parallel-item::after {content: \"\";width: 100%;border-bottom: 1px solid gray;flex-grow: 1;}#sk-container-id-15 div.sk-label:hover label.sk-toggleable__label {background-color: #d4ebff;}#sk-container-id-15 div.sk-serial::before {content: \"\";position: absolute;border-left: 1px solid gray;box-sizing: border-box;top: 0;bottom: 0;left: 50%;z-index: 0;}#sk-container-id-15 div.sk-serial {display: flex;flex-direction: column;align-items: center;background-color: white;padding-right: 0.2em;padding-left: 0.2em;position: relative;}#sk-container-id-15 div.sk-item {position: relative;z-index: 1;}#sk-container-id-15 div.sk-parallel {display: flex;align-items: stretch;justify-content: center;background-color: white;position: relative;}#sk-container-id-15 div.sk-item::before, #sk-container-id-15 div.sk-parallel-item::before {content: \"\";position: absolute;border-left: 1px solid gray;box-sizing: border-box;top: 0;bottom: 0;left: 50%;z-index: -1;}#sk-container-id-15 div.sk-parallel-item {display: flex;flex-direction: column;z-index: 1;position: relative;background-color: white;}#sk-container-id-15 div.sk-parallel-item:first-child::after {align-self: flex-end;width: 50%;}#sk-container-id-15 div.sk-parallel-item:last-child::after {align-self: flex-start;width: 50%;}#sk-container-id-15 div.sk-parallel-item:only-child::after {width: 0;}#sk-container-id-15 div.sk-dashed-wrapped {border: 1px dashed gray;margin: 0 0.4em 0.5em 0.4em;box-sizing: border-box;padding-bottom: 0.4em;background-color: white;}#sk-container-id-15 div.sk-label label {font-family: monospace;font-weight: bold;display: inline-block;line-height: 1.2em;}#sk-container-id-15 div.sk-label-container {text-align: center;}#sk-container-id-15 div.sk-container {/* jupyter's `normalize.less` sets `[hidden] { display: none; }` but bootstrap.min.css set `[hidden] { display: none !important; }` so we also need the `!important` here to be able to override the default hidden behavior on the sphinx rendered scikit-learn.org. See: https://github.com/scikit-learn/scikit-learn/issues/21755 */display: inline-block !important;position: relative;}#sk-container-id-15 div.sk-text-repr-fallback {display: none;}</style><div id=\"sk-container-id-15\" class=\"sk-top-container\"><div class=\"sk-text-repr-fallback\"><pre>XGBClassifier(base_score=None, booster=None, callbacks=None,\n",
       "              colsample_bylevel=None, colsample_bynode=None,\n",
       "              colsample_bytree=None, device=None, early_stopping_rounds=None,\n",
       "              enable_categorical=False, eval_metric=None, feature_types=None,\n",
       "              gamma=None, grow_policy=None, importance_type=None,\n",
       "              interaction_constraints=None, learning_rate=None, max_bin=None,\n",
       "              max_cat_threshold=None, max_cat_to_onehot=None,\n",
       "              max_delta_step=None, max_depth=32, max_leaves=None,\n",
       "              min_child_weight=None, missing=nan, monotone_constraints=None,\n",
       "              multi_strategy=None, n_estimators=256, n_jobs=None,\n",
       "              num_parallel_tree=None, objective=&#x27;multi:softmax&#x27;, ...)</pre><b>In a Jupyter environment, please rerun this cell to show the HTML representation or trust the notebook. <br />On GitHub, the HTML representation is unable to render, please try loading this page with nbviewer.org.</b></div><div class=\"sk-container\" hidden><div class=\"sk-item\"><div class=\"sk-estimator sk-toggleable\"><input class=\"sk-toggleable__control sk-hidden--visually\" id=\"sk-estimator-id-15\" type=\"checkbox\" checked><label for=\"sk-estimator-id-15\" class=\"sk-toggleable__label sk-toggleable__label-arrow\">XGBClassifier</label><div class=\"sk-toggleable__content\"><pre>XGBClassifier(base_score=None, booster=None, callbacks=None,\n",
       "              colsample_bylevel=None, colsample_bynode=None,\n",
       "              colsample_bytree=None, device=None, early_stopping_rounds=None,\n",
       "              enable_categorical=False, eval_metric=None, feature_types=None,\n",
       "              gamma=None, grow_policy=None, importance_type=None,\n",
       "              interaction_constraints=None, learning_rate=None, max_bin=None,\n",
       "              max_cat_threshold=None, max_cat_to_onehot=None,\n",
       "              max_delta_step=None, max_depth=32, max_leaves=None,\n",
       "              min_child_weight=None, missing=nan, monotone_constraints=None,\n",
       "              multi_strategy=None, n_estimators=256, n_jobs=None,\n",
       "              num_parallel_tree=None, objective=&#x27;multi:softmax&#x27;, ...)</pre></div></div></div></div></div>"
      ],
      "text/plain": [
       "XGBClassifier(base_score=None, booster=None, callbacks=None,\n",
       "              colsample_bylevel=None, colsample_bynode=None,\n",
       "              colsample_bytree=None, device=None, early_stopping_rounds=None,\n",
       "              enable_categorical=False, eval_metric=None, feature_types=None,\n",
       "              gamma=None, grow_policy=None, importance_type=None,\n",
       "              interaction_constraints=None, learning_rate=None, max_bin=None,\n",
       "              max_cat_threshold=None, max_cat_to_onehot=None,\n",
       "              max_delta_step=None, max_depth=32, max_leaves=None,\n",
       "              min_child_weight=None, missing=nan, monotone_constraints=None,\n",
       "              multi_strategy=None, n_estimators=256, n_jobs=None,\n",
       "              num_parallel_tree=None, objective='multi:softmax', ...)"
      ]
     },
     "execution_count": 521,
     "metadata": {},
     "output_type": "execute_result"
    }
   ],
   "source": [
    "# create xgboost instance and train model with training data\n",
    "xg_nn = XGBClassifier(n_estimators = 256, max_depth = 32, objective ='multi:softmax')\n",
    "xg_nn.fit(X_train_scaled,y_train)"
   ]
  },
  {
   "cell_type": "code",
   "execution_count": 522,
   "metadata": {},
   "outputs": [],
   "source": [
    "# store predictions based on model\n",
    "predictions = xg_nn.predict(X_test_scaled)"
   ]
  },
  {
   "cell_type": "code",
   "execution_count": 523,
   "metadata": {},
   "outputs": [
    {
     "data": {
      "text/plain": [
       "0.9090754877014419"
      ]
     },
     "execution_count": 523,
     "metadata": {},
     "output_type": "execute_result"
    }
   ],
   "source": [
    "# view accuracy score from model\n",
    "accuracy_score(y_test, predictions)"
   ]
  },
  {
   "cell_type": "code",
   "execution_count": 524,
   "metadata": {},
   "outputs": [
    {
     "name": "stdout",
     "output_type": "stream",
     "text": [
      "              precision    recall  f1-score   support\n",
      "\n",
      "  Black Wins       0.89      0.88      0.88     15675\n",
      "  White Wins       0.89      0.91      0.90     15739\n",
      "        Draw       0.95      0.93      0.94     15746\n",
      "\n",
      "    accuracy                           0.91     47160\n",
      "   macro avg       0.91      0.91      0.91     47160\n",
      "weighted avg       0.91      0.91      0.91     47160\n",
      "\n"
     ]
    }
   ],
   "source": [
    "# view classification report based on model\n",
    "print(classification_report(y_test, predictions, target_names=['Black Wins', 'White Wins', 'Draw']))"
   ]
  },
  {
   "cell_type": "code",
   "execution_count": 525,
   "metadata": {},
   "outputs": [
    {
     "data": {
      "text/html": [
       "<div>\n",
       "<style scoped>\n",
       "    .dataframe tbody tr th:only-of-type {\n",
       "        vertical-align: middle;\n",
       "    }\n",
       "\n",
       "    .dataframe tbody tr th {\n",
       "        vertical-align: top;\n",
       "    }\n",
       "\n",
       "    .dataframe thead th {\n",
       "        text-align: right;\n",
       "    }\n",
       "</style>\n",
       "<table border=\"1\" class=\"dataframe\">\n",
       "  <thead>\n",
       "    <tr style=\"text-align: right;\">\n",
       "      <th></th>\n",
       "      <th>Feature Name</th>\n",
       "      <th>Importances</th>\n",
       "    </tr>\n",
       "  </thead>\n",
       "  <tbody>\n",
       "    <tr>\n",
       "      <th>12</th>\n",
       "      <td>Termination_Normal</td>\n",
       "      <td>0.029857</td>\n",
       "    </tr>\n",
       "    <tr>\n",
       "      <th>434</th>\n",
       "      <td>ECO_E05</td>\n",
       "      <td>0.021542</td>\n",
       "    </tr>\n",
       "    <tr>\n",
       "      <th>420</th>\n",
       "      <td>ECO_D89</td>\n",
       "      <td>0.018009</td>\n",
       "    </tr>\n",
       "    <tr>\n",
       "      <th>448</th>\n",
       "      <td>ECO_E19</td>\n",
       "      <td>0.016595</td>\n",
       "    </tr>\n",
       "    <tr>\n",
       "      <th>78</th>\n",
       "      <td>ECO_A23</td>\n",
       "      <td>0.014618</td>\n",
       "    </tr>\n",
       "    <tr>\n",
       "      <th>463</th>\n",
       "      <td>ECO_E35</td>\n",
       "      <td>0.012760</td>\n",
       "    </tr>\n",
       "    <tr>\n",
       "      <th>104</th>\n",
       "      <td>ECO_A49</td>\n",
       "      <td>0.012564</td>\n",
       "    </tr>\n",
       "    <tr>\n",
       "      <th>114</th>\n",
       "      <td>ECO_A59</td>\n",
       "      <td>0.012413</td>\n",
       "    </tr>\n",
       "    <tr>\n",
       "      <th>6</th>\n",
       "      <td>TotalMoves</td>\n",
       "      <td>0.010033</td>\n",
       "    </tr>\n",
       "    <tr>\n",
       "      <th>338</th>\n",
       "      <td>ECO_C99</td>\n",
       "      <td>0.009821</td>\n",
       "    </tr>\n",
       "    <tr>\n",
       "      <th>316</th>\n",
       "      <td>ECO_C74</td>\n",
       "      <td>0.009322</td>\n",
       "    </tr>\n",
       "    <tr>\n",
       "      <th>351</th>\n",
       "      <td>ECO_D12</td>\n",
       "      <td>0.009072</td>\n",
       "    </tr>\n",
       "    <tr>\n",
       "      <th>84</th>\n",
       "      <td>ECO_A29</td>\n",
       "      <td>0.008866</td>\n",
       "    </tr>\n",
       "    <tr>\n",
       "      <th>147</th>\n",
       "      <td>ECO_A98</td>\n",
       "      <td>0.008813</td>\n",
       "    </tr>\n",
       "    <tr>\n",
       "      <th>503</th>\n",
       "      <td>ECO_E81</td>\n",
       "      <td>0.008285</td>\n",
       "    </tr>\n",
       "    <tr>\n",
       "      <th>240</th>\n",
       "      <td>ECO_B98</td>\n",
       "      <td>0.008279</td>\n",
       "    </tr>\n",
       "    <tr>\n",
       "      <th>492</th>\n",
       "      <td>ECO_E69</td>\n",
       "      <td>0.008268</td>\n",
       "    </tr>\n",
       "    <tr>\n",
       "      <th>73</th>\n",
       "      <td>ECO_A18</td>\n",
       "      <td>0.007981</td>\n",
       "    </tr>\n",
       "    <tr>\n",
       "      <th>513</th>\n",
       "      <td>ECO_E93</td>\n",
       "      <td>0.007925</td>\n",
       "    </tr>\n",
       "    <tr>\n",
       "      <th>498</th>\n",
       "      <td>ECO_E75</td>\n",
       "      <td>0.007666</td>\n",
       "    </tr>\n",
       "    <tr>\n",
       "      <th>115</th>\n",
       "      <td>ECO_A60</td>\n",
       "      <td>0.007665</td>\n",
       "    </tr>\n",
       "    <tr>\n",
       "      <th>525</th>\n",
       "      <td>Rating Difference_(50, 150]</td>\n",
       "      <td>0.007539</td>\n",
       "    </tr>\n",
       "    <tr>\n",
       "      <th>521</th>\n",
       "      <td>Rating Difference_(-500, -150]</td>\n",
       "      <td>0.007474</td>\n",
       "    </tr>\n",
       "    <tr>\n",
       "      <th>53</th>\n",
       "      <td>TimeControl_900</td>\n",
       "      <td>0.007322</td>\n",
       "    </tr>\n",
       "    <tr>\n",
       "      <th>522</th>\n",
       "      <td>Rating Difference_(-150, -50]</td>\n",
       "      <td>0.007230</td>\n",
       "    </tr>\n",
       "    <tr>\n",
       "      <th>27</th>\n",
       "      <td>TimeControl_1800</td>\n",
       "      <td>0.007136</td>\n",
       "    </tr>\n",
       "    <tr>\n",
       "      <th>439</th>\n",
       "      <td>ECO_E10</td>\n",
       "      <td>0.007074</td>\n",
       "    </tr>\n",
       "    <tr>\n",
       "      <th>526</th>\n",
       "      <td>Rating Difference_(150, 500]</td>\n",
       "      <td>0.007015</td>\n",
       "    </tr>\n",
       "    <tr>\n",
       "      <th>43</th>\n",
       "      <td>TimeControl_60</td>\n",
       "      <td>0.006878</td>\n",
       "    </tr>\n",
       "    <tr>\n",
       "      <th>69</th>\n",
       "      <td>ECO_A14</td>\n",
       "      <td>0.006812</td>\n",
       "    </tr>\n",
       "    <tr>\n",
       "      <th>191</th>\n",
       "      <td>ECO_B43</td>\n",
       "      <td>0.006711</td>\n",
       "    </tr>\n",
       "    <tr>\n",
       "      <th>189</th>\n",
       "      <td>ECO_B41</td>\n",
       "      <td>0.006638</td>\n",
       "    </tr>\n",
       "    <tr>\n",
       "      <th>291</th>\n",
       "      <td>ECO_C49</td>\n",
       "      <td>0.006508</td>\n",
       "    </tr>\n",
       "    <tr>\n",
       "      <th>390</th>\n",
       "      <td>ECO_D52</td>\n",
       "      <td>0.006495</td>\n",
       "    </tr>\n",
       "    <tr>\n",
       "      <th>423</th>\n",
       "      <td>ECO_D92</td>\n",
       "      <td>0.006309</td>\n",
       "    </tr>\n",
       "    <tr>\n",
       "      <th>385</th>\n",
       "      <td>ECO_D47</td>\n",
       "      <td>0.006235</td>\n",
       "    </tr>\n",
       "    <tr>\n",
       "      <th>94</th>\n",
       "      <td>ECO_A39</td>\n",
       "      <td>0.006226</td>\n",
       "    </tr>\n",
       "    <tr>\n",
       "      <th>133</th>\n",
       "      <td>ECO_A82</td>\n",
       "      <td>0.006180</td>\n",
       "    </tr>\n",
       "    <tr>\n",
       "      <th>353</th>\n",
       "      <td>ECO_D14</td>\n",
       "      <td>0.006079</td>\n",
       "    </tr>\n",
       "    <tr>\n",
       "      <th>476</th>\n",
       "      <td>ECO_E50</td>\n",
       "      <td>0.006056</td>\n",
       "    </tr>\n",
       "    <tr>\n",
       "      <th>21</th>\n",
       "      <td>TimeControl_120</td>\n",
       "      <td>0.006056</td>\n",
       "    </tr>\n",
       "    <tr>\n",
       "      <th>14</th>\n",
       "      <td>Termination_Time forfeit</td>\n",
       "      <td>0.006002</td>\n",
       "    </tr>\n",
       "    <tr>\n",
       "      <th>33</th>\n",
       "      <td>TimeControl_300</td>\n",
       "      <td>0.005987</td>\n",
       "    </tr>\n",
       "    <tr>\n",
       "      <th>462</th>\n",
       "      <td>ECO_E34</td>\n",
       "      <td>0.005984</td>\n",
       "    </tr>\n",
       "    <tr>\n",
       "      <th>404</th>\n",
       "      <td>ECO_D70</td>\n",
       "      <td>0.005971</td>\n",
       "    </tr>\n",
       "    <tr>\n",
       "      <th>224</th>\n",
       "      <td>ECO_B80</td>\n",
       "      <td>0.005966</td>\n",
       "    </tr>\n",
       "    <tr>\n",
       "      <th>205</th>\n",
       "      <td>ECO_B58</td>\n",
       "      <td>0.005917</td>\n",
       "    </tr>\n",
       "    <tr>\n",
       "      <th>486</th>\n",
       "      <td>ECO_E63</td>\n",
       "      <td>0.005777</td>\n",
       "    </tr>\n",
       "    <tr>\n",
       "      <th>493</th>\n",
       "      <td>ECO_E70</td>\n",
       "      <td>0.005702</td>\n",
       "    </tr>\n",
       "    <tr>\n",
       "      <th>31</th>\n",
       "      <td>TimeControl_2700</td>\n",
       "      <td>0.005607</td>\n",
       "    </tr>\n",
       "  </tbody>\n",
       "</table>\n",
       "</div>"
      ],
      "text/plain": [
       "                       Feature Name  Importances\n",
       "12               Termination_Normal     0.029857\n",
       "434                         ECO_E05     0.021542\n",
       "420                         ECO_D89     0.018009\n",
       "448                         ECO_E19     0.016595\n",
       "78                          ECO_A23     0.014618\n",
       "463                         ECO_E35     0.012760\n",
       "104                         ECO_A49     0.012564\n",
       "114                         ECO_A59     0.012413\n",
       "6                        TotalMoves     0.010033\n",
       "338                         ECO_C99     0.009821\n",
       "316                         ECO_C74     0.009322\n",
       "351                         ECO_D12     0.009072\n",
       "84                          ECO_A29     0.008866\n",
       "147                         ECO_A98     0.008813\n",
       "503                         ECO_E81     0.008285\n",
       "240                         ECO_B98     0.008279\n",
       "492                         ECO_E69     0.008268\n",
       "73                          ECO_A18     0.007981\n",
       "513                         ECO_E93     0.007925\n",
       "498                         ECO_E75     0.007666\n",
       "115                         ECO_A60     0.007665\n",
       "525     Rating Difference_(50, 150]     0.007539\n",
       "521  Rating Difference_(-500, -150]     0.007474\n",
       "53                  TimeControl_900     0.007322\n",
       "522   Rating Difference_(-150, -50]     0.007230\n",
       "27                 TimeControl_1800     0.007136\n",
       "439                         ECO_E10     0.007074\n",
       "526    Rating Difference_(150, 500]     0.007015\n",
       "43                   TimeControl_60     0.006878\n",
       "69                          ECO_A14     0.006812\n",
       "191                         ECO_B43     0.006711\n",
       "189                         ECO_B41     0.006638\n",
       "291                         ECO_C49     0.006508\n",
       "390                         ECO_D52     0.006495\n",
       "423                         ECO_D92     0.006309\n",
       "385                         ECO_D47     0.006235\n",
       "94                          ECO_A39     0.006226\n",
       "133                         ECO_A82     0.006180\n",
       "353                         ECO_D14     0.006079\n",
       "476                         ECO_E50     0.006056\n",
       "21                  TimeControl_120     0.006056\n",
       "14         Termination_Time forfeit     0.006002\n",
       "33                  TimeControl_300     0.005987\n",
       "462                         ECO_E34     0.005984\n",
       "404                         ECO_D70     0.005971\n",
       "224                         ECO_B80     0.005966\n",
       "205                         ECO_B58     0.005917\n",
       "486                         ECO_E63     0.005777\n",
       "493                         ECO_E70     0.005702\n",
       "31                 TimeControl_2700     0.005607"
      ]
     },
     "execution_count": 525,
     "metadata": {},
     "output_type": "execute_result"
    }
   ],
   "source": [
    "# create dataframe of feature importances from xgboost model\n",
    "pd.DataFrame({'Feature Name':X.columns,'Importances':xg_nn.feature_importances_}).sort_values(by='Importances',ascending=False).head(50)"
   ]
  },
  {
   "cell_type": "markdown",
   "metadata": {},
   "source": [
    "## Predicting Games Outside the Dataset"
   ]
  },
  {
   "cell_type": "code",
   "execution_count": 526,
   "metadata": {},
   "outputs": [],
   "source": [
    "# select relevant columns of data and save as pandas dataframe\n",
    "data = spark.sql(\n",
    "    '''\n",
    "SELECT WhiteElo, White_playTime_total, White_count_all, BlackElo, Black_playTime_total, Black_count_all,TotalMoves,Termination,TimeControl,ECO,\n",
    "Result from chess\n",
    "WHERE Result != '*'\n",
    "'''\n",
    ").toPandas()\n",
    "# drop null values\n",
    "data.dropna(inplace=True)"
   ]
  },
  {
   "cell_type": "code",
   "execution_count": 527,
   "metadata": {},
   "outputs": [],
   "source": [
    "# Game 1 link: https://lichess.org/E9bxPZ75\n",
    "WhiteElo = 1295\n",
    "BlackElo = 1328\n",
    "TotalMoves = 35\n",
    "WhiteGames = 2385\n",
    "WhiteTime = 14*60 + 16*60*60 + 7*24*60*60\n",
    "BlackGames = 500\n",
    "BlackTime = 18*60 + 1*60*60 + 2*24*60*60\n",
    "TimeControl = '180+0'\n",
    "Termination = 'Time forfeit'\n",
    "ECO = 'C23'\n",
    "Result = '1-0'\n",
    "datapoint = [WhiteElo,WhiteTime,WhiteGames,BlackElo,BlackTime,BlackGames,TotalMoves,Termination,TimeControl,ECO,Result]\n",
    "data.loc[len(data)] = datapoint"
   ]
  },
  {
   "cell_type": "code",
   "execution_count": 528,
   "metadata": {},
   "outputs": [],
   "source": [
    "data['TimeControl'] = data['TimeControl'].str.split('+').str[0]"
   ]
  },
  {
   "cell_type": "code",
   "execution_count": 529,
   "metadata": {},
   "outputs": [],
   "source": [
    "# create features exploring the differences in white versus black to use in prediction model\n",
    "data['Rating Difference'] = data['WhiteElo'] - data['BlackElo']\n",
    "data['Playtime Difference'] = data['White_playTime_total'] - data['Black_playTime_total']\n",
    "data['Games Played Difference'] = data['White_count_all'] - data['Black_count_all']\n",
    "data['White Average Playtime'] = data['White_playTime_total']/data['White_count_all']\n",
    "data['Black Average Playtime'] = data['Black_playTime_total']/data['Black_count_all']\n",
    "data['Average Playtime Difference'] = data['White Average Playtime'] - data['Black Average Playtime']"
   ]
  },
  {
   "cell_type": "code",
   "execution_count": 530,
   "metadata": {},
   "outputs": [],
   "source": [
    "# Binning data\n",
    "bins = [-2000, -1000, -500, -150, -50, 0, 50, 150, 500, 1000, 2000]\n",
    "data['Rating Difference'] = pd.cut(data['Rating Difference'], bins)"
   ]
  },
  {
   "cell_type": "code",
   "execution_count": 531,
   "metadata": {},
   "outputs": [],
   "source": [
    "# dummy encode the categorical data and sort into target and features\n",
    "resultmap = {'0-1':0, '1-0':1, '1/2-1/2':2}\n",
    "y = data['Result'].map(resultmap)\n",
    "X = pd.get_dummies(data.drop('Result', axis=1))"
   ]
  },
  {
   "cell_type": "code",
   "execution_count": 532,
   "metadata": {},
   "outputs": [],
   "source": [
    "game = X.loc[len(X)]\n",
    "game_result = y.loc[len(y)]"
   ]
  },
  {
   "cell_type": "code",
   "execution_count": 533,
   "metadata": {},
   "outputs": [
    {
     "name": "stderr",
     "output_type": "stream",
     "text": [
      "c:\\Users\\Ian\\anaconda3\\envs\\dev\\lib\\site-packages\\sklearn\\base.py:439: UserWarning: X does not have valid feature names, but StandardScaler was fitted with feature names\n",
      "  warnings.warn(\n"
     ]
    }
   ],
   "source": [
    "game_scaled = scaler.transform([game])"
   ]
  },
  {
   "cell_type": "code",
   "execution_count": 534,
   "metadata": {},
   "outputs": [
    {
     "name": "stdout",
     "output_type": "stream",
     "text": [
      "[1]\n",
      "[1]\n"
     ]
    }
   ],
   "source": [
    "print(xg_nn.predict(game_scaled))\n",
    "print([game_result])"
   ]
  },
  {
   "cell_type": "markdown",
   "metadata": {},
   "source": [
    "## Game 2"
   ]
  },
  {
   "cell_type": "code",
   "execution_count": 535,
   "metadata": {},
   "outputs": [],
   "source": [
    "# select relevant columns of data and save as pandas dataframe\n",
    "data = spark.sql(\n",
    "    '''\n",
    "SELECT WhiteElo, White_playTime_total, White_count_all, BlackElo, Black_playTime_total, Black_count_all,TotalMoves,Termination,TimeControl,ECO,\n",
    "Result from chess\n",
    "WHERE Result != '*'\n",
    "'''\n",
    ").toPandas()\n",
    "# drop null values\n",
    "data.dropna(inplace=True)"
   ]
  },
  {
   "cell_type": "code",
   "execution_count": 536,
   "metadata": {},
   "outputs": [],
   "source": [
    "# Game 2 link: https://lichess.org/Xs01JCEp\n",
    "WhiteElo = 1752\n",
    "BlackElo = 1675\n",
    "TotalMoves = 33\n",
    "WhiteGames = 1081\n",
    "WhiteTime = 56*60 + 19*60*60 + 6*24*60*60\n",
    "BlackGames = 4057\n",
    "BlackTime = 48*60 + 12*60*60 + 30*24*60*60\n",
    "TimeControl = '300+3'\n",
    "Termination = 'Normal'\n",
    "ECO = 'B10'\n",
    "Result = '1-0'\n",
    "datapoint = [WhiteElo,WhiteTime,WhiteGames,BlackElo,BlackTime,BlackGames,TotalMoves,Termination,TimeControl,ECO,Result]\n",
    "data.loc[len(data)] = datapoint"
   ]
  },
  {
   "cell_type": "code",
   "execution_count": 537,
   "metadata": {},
   "outputs": [],
   "source": [
    "data['TimeControl'] = data['TimeControl'].str.split('+').str[0]"
   ]
  },
  {
   "cell_type": "code",
   "execution_count": 538,
   "metadata": {},
   "outputs": [],
   "source": [
    "# create features exploring the differences in white versus black to use in prediction model\n",
    "data['Rating Difference'] = data['WhiteElo'] - data['BlackElo']\n",
    "data['Playtime Difference'] = data['White_playTime_total'] - data['Black_playTime_total']\n",
    "data['Games Played Difference'] = data['White_count_all'] - data['Black_count_all']\n",
    "data['White Average Playtime'] = data['White_playTime_total']/data['White_count_all']\n",
    "data['Black Average Playtime'] = data['Black_playTime_total']/data['Black_count_all']\n",
    "data['Average Playtime Difference'] = data['White Average Playtime'] - data['Black Average Playtime']"
   ]
  },
  {
   "cell_type": "code",
   "execution_count": 539,
   "metadata": {},
   "outputs": [],
   "source": [
    "# Binning data\n",
    "bins = [-2000, -1000, -500, -150, -50, 0, 50, 150, 500, 1000, 2000]\n",
    "data['Rating Difference'] = pd.cut(data['Rating Difference'], bins)"
   ]
  },
  {
   "cell_type": "code",
   "execution_count": 540,
   "metadata": {},
   "outputs": [],
   "source": [
    "# dummy encode the categorical data and sort into target and features\n",
    "resultmap = {'0-1':0, '1-0':1, '1/2-1/2':2}\n",
    "y = data['Result'].map(resultmap)\n",
    "X = pd.get_dummies(data.drop('Result', axis=1))"
   ]
  },
  {
   "cell_type": "code",
   "execution_count": 541,
   "metadata": {},
   "outputs": [],
   "source": [
    "game = X.loc[len(X)]\n",
    "game_result = y.loc[len(y)]"
   ]
  },
  {
   "cell_type": "code",
   "execution_count": 542,
   "metadata": {},
   "outputs": [
    {
     "name": "stderr",
     "output_type": "stream",
     "text": [
      "c:\\Users\\Ian\\anaconda3\\envs\\dev\\lib\\site-packages\\sklearn\\base.py:439: UserWarning: X does not have valid feature names, but StandardScaler was fitted with feature names\n",
      "  warnings.warn(\n"
     ]
    }
   ],
   "source": [
    "game_scaled = scaler.transform([game])"
   ]
  },
  {
   "cell_type": "code",
   "execution_count": 543,
   "metadata": {},
   "outputs": [
    {
     "name": "stdout",
     "output_type": "stream",
     "text": [
      "[1]\n",
      "[1]\n"
     ]
    }
   ],
   "source": [
    "print(xg_nn.predict(game_scaled))\n",
    "print([game_result])"
   ]
  },
  {
   "cell_type": "markdown",
   "metadata": {},
   "source": [
    "## Game 3"
   ]
  },
  {
   "cell_type": "code",
   "execution_count": 544,
   "metadata": {},
   "outputs": [],
   "source": [
    "# select relevant columns of data and save as pandas dataframe\n",
    "data = spark.sql(\n",
    "    '''\n",
    "SELECT WhiteElo, White_playTime_total, White_count_all, BlackElo, Black_playTime_total, Black_count_all,TotalMoves,Termination,TimeControl,ECO,\n",
    "Result from chess\n",
    "WHERE Result != '*'\n",
    "'''\n",
    ").toPandas()\n",
    "# drop null values\n",
    "data.dropna(inplace=True)"
   ]
  },
  {
   "cell_type": "code",
   "execution_count": 545,
   "metadata": {},
   "outputs": [],
   "source": [
    "# Game 3 link: https://lichess.org/MapelZMJ\n",
    "WhiteElo = 1774\n",
    "BlackElo = 1912\n",
    "TotalMoves = 30\n",
    "WhiteGames = 42850\n",
    "WhiteTime = 12*60 + 9*60*60 + 263*24*60*60\n",
    "BlackGames = 16522\n",
    "BlackTime = 39*60 + 2*60*60 + 44*24*60*60\n",
    "TimeControl = '600+0'\n",
    "Termination = 'Normal'\n",
    "ECO = 'C50'\n",
    "Result = '0-1'\n",
    "datapoint = [WhiteElo,WhiteTime,WhiteGames,BlackElo,BlackTime,BlackGames,TotalMoves,Termination,TimeControl,ECO,Result]\n",
    "data.loc[len(data)] = datapoint"
   ]
  },
  {
   "cell_type": "code",
   "execution_count": 546,
   "metadata": {},
   "outputs": [],
   "source": [
    "data['TimeControl'] = data['TimeControl'].str.split('+').str[0]"
   ]
  },
  {
   "cell_type": "code",
   "execution_count": 547,
   "metadata": {},
   "outputs": [],
   "source": [
    "# create features exploring the differences in white versus black to use in prediction model\n",
    "data['Rating Difference'] = data['WhiteElo'] - data['BlackElo']\n",
    "data['Playtime Difference'] = data['White_playTime_total'] - data['Black_playTime_total']\n",
    "data['Games Played Difference'] = data['White_count_all'] - data['Black_count_all']\n",
    "data['White Average Playtime'] = data['White_playTime_total']/data['White_count_all']\n",
    "data['Black Average Playtime'] = data['Black_playTime_total']/data['Black_count_all']\n",
    "data['Average Playtime Difference'] = data['White Average Playtime'] - data['Black Average Playtime']"
   ]
  },
  {
   "cell_type": "code",
   "execution_count": 548,
   "metadata": {},
   "outputs": [],
   "source": [
    "# Binning data\n",
    "bins = [-2000, -1000, -500, -150, -50, 0, 50, 150, 500, 1000, 2000]\n",
    "data['Rating Difference'] = pd.cut(data['Rating Difference'], bins)"
   ]
  },
  {
   "cell_type": "code",
   "execution_count": 549,
   "metadata": {},
   "outputs": [],
   "source": [
    "# dummy encode the categorical data and sort into target and features\n",
    "resultmap = {'0-1':0, '1-0':1, '1/2-1/2':2}\n",
    "y = data['Result'].map(resultmap)\n",
    "X = pd.get_dummies(data.drop('Result', axis=1))"
   ]
  },
  {
   "cell_type": "code",
   "execution_count": 550,
   "metadata": {},
   "outputs": [],
   "source": [
    "game = X.loc[len(X)]\n",
    "game_result = y.loc[len(y)]"
   ]
  },
  {
   "cell_type": "code",
   "execution_count": 551,
   "metadata": {},
   "outputs": [
    {
     "name": "stderr",
     "output_type": "stream",
     "text": [
      "c:\\Users\\Ian\\anaconda3\\envs\\dev\\lib\\site-packages\\sklearn\\base.py:439: UserWarning: X does not have valid feature names, but StandardScaler was fitted with feature names\n",
      "  warnings.warn(\n"
     ]
    }
   ],
   "source": [
    "game_scaled = scaler.transform([game])"
   ]
  },
  {
   "cell_type": "code",
   "execution_count": 552,
   "metadata": {},
   "outputs": [
    {
     "name": "stdout",
     "output_type": "stream",
     "text": [
      "[0]\n",
      "[0]\n"
     ]
    }
   ],
   "source": [
    "print(xg_nn.predict(game_scaled))\n",
    "print([game_result])"
   ]
  },
  {
   "cell_type": "markdown",
   "metadata": {},
   "source": [
    "## Game 4"
   ]
  },
  {
   "cell_type": "code",
   "execution_count": 555,
   "metadata": {},
   "outputs": [],
   "source": [
    "# select relevant columns of data and save as pandas dataframe\n",
    "data = spark.sql(\n",
    "    '''\n",
    "SELECT WhiteElo, White_playTime_total, White_count_all, BlackElo, Black_playTime_total, Black_count_all,TotalMoves,Termination,TimeControl,ECO,\n",
    "Result from chess\n",
    "WHERE Result != '*'\n",
    "'''\n",
    ").toPandas()\n",
    "# drop null values\n",
    "data.dropna(inplace=True)"
   ]
  },
  {
   "cell_type": "code",
   "execution_count": 556,
   "metadata": {},
   "outputs": [],
   "source": [
    "# Game 4 link: https://lichess.org/w7lkVXHA\n",
    "WhiteElo = 1145\n",
    "BlackElo = 1096\n",
    "TotalMoves = 37\n",
    "WhiteGames = 1222\n",
    "WhiteTime = 33*60 + 8*60*60 + 9*24*60*60\n",
    "BlackGames = 889\n",
    "BlackTime = 5*60 + 1*60*60 + 7*24*60*60\n",
    "TimeControl = '600+5'\n",
    "Termination = 'Normal'\n",
    "ECO = 'B20'\n",
    "Result = '1-0'\n",
    "datapoint = [WhiteElo,WhiteTime,WhiteGames,BlackElo,BlackTime,BlackGames,TotalMoves,Termination,TimeControl,ECO,Result]\n",
    "data.loc[len(data)] = datapoint"
   ]
  },
  {
   "cell_type": "code",
   "execution_count": 557,
   "metadata": {},
   "outputs": [],
   "source": [
    "data['TimeControl'] = data['TimeControl'].str.split('+').str[0]"
   ]
  },
  {
   "cell_type": "code",
   "execution_count": 558,
   "metadata": {},
   "outputs": [],
   "source": [
    "# create features exploring the differences in white versus black to use in prediction model\n",
    "data['Rating Difference'] = data['WhiteElo'] - data['BlackElo']\n",
    "data['Playtime Difference'] = data['White_playTime_total'] - data['Black_playTime_total']\n",
    "data['Games Played Difference'] = data['White_count_all'] - data['Black_count_all']\n",
    "data['White Average Playtime'] = data['White_playTime_total']/data['White_count_all']\n",
    "data['Black Average Playtime'] = data['Black_playTime_total']/data['Black_count_all']\n",
    "data['Average Playtime Difference'] = data['White Average Playtime'] - data['Black Average Playtime']"
   ]
  },
  {
   "cell_type": "code",
   "execution_count": 559,
   "metadata": {},
   "outputs": [],
   "source": [
    "# Binning data\n",
    "bins = [-2000, -1000, -500, -150, -50, 0, 50, 150, 500, 1000, 2000]\n",
    "data['Rating Difference'] = pd.cut(data['Rating Difference'], bins)"
   ]
  },
  {
   "cell_type": "code",
   "execution_count": 560,
   "metadata": {},
   "outputs": [],
   "source": [
    "# dummy encode the categorical data and sort into target and features\n",
    "resultmap = {'0-1':0, '1-0':1, '1/2-1/2':2}\n",
    "y = data['Result'].map(resultmap)\n",
    "X = pd.get_dummies(data.drop('Result', axis=1))"
   ]
  },
  {
   "cell_type": "code",
   "execution_count": 561,
   "metadata": {},
   "outputs": [],
   "source": [
    "game = X.loc[len(X)]\n",
    "game_result = y.loc[len(y)]"
   ]
  },
  {
   "cell_type": "code",
   "execution_count": 562,
   "metadata": {},
   "outputs": [
    {
     "name": "stderr",
     "output_type": "stream",
     "text": [
      "c:\\Users\\Ian\\anaconda3\\envs\\dev\\lib\\site-packages\\sklearn\\base.py:439: UserWarning: X does not have valid feature names, but StandardScaler was fitted with feature names\n",
      "  warnings.warn(\n"
     ]
    }
   ],
   "source": [
    "game_scaled = scaler.transform([game])"
   ]
  },
  {
   "cell_type": "code",
   "execution_count": 563,
   "metadata": {},
   "outputs": [
    {
     "name": "stdout",
     "output_type": "stream",
     "text": [
      "[1]\n",
      "[1]\n"
     ]
    }
   ],
   "source": [
    "print(xg_nn.predict(game_scaled))\n",
    "print([game_result])"
   ]
  },
  {
   "cell_type": "markdown",
   "metadata": {},
   "source": [
    "## Game 5: Challenge"
   ]
  },
  {
   "cell_type": "code",
   "execution_count": 565,
   "metadata": {},
   "outputs": [],
   "source": [
    "# select relevant columns of data and save as pandas dataframe\n",
    "data = spark.sql(\n",
    "    '''\n",
    "SELECT WhiteElo, White_playTime_total, White_count_all, BlackElo, Black_playTime_total, Black_count_all,TotalMoves,Termination,TimeControl,ECO,\n",
    "Result from chess\n",
    "WHERE Result != '*'\n",
    "'''\n",
    ").toPandas()\n",
    "# drop null values\n",
    "data.dropna(inplace=True)"
   ]
  },
  {
   "cell_type": "code",
   "execution_count": 566,
   "metadata": {},
   "outputs": [],
   "source": [
    "# Game 5 link: https://lichess.org/uQcCjFAo\n",
    "WhiteElo = 955\n",
    "BlackElo = 882\n",
    "TotalMoves = 38\n",
    "WhiteGames = 244\n",
    "WhiteTime = 49*60 + 2*60*60 + 1*24*60*60\n",
    "BlackGames = 556\n",
    "BlackTime = 17*60 + 6*60*60 + 4*24*60*60\n",
    "TimeControl = '60+0'\n",
    "Termination = 'Normal'\n",
    "ECO = 'A13'\n",
    "Result = '1/2-1/2'\n",
    "datapoint = [WhiteElo,WhiteTime,WhiteGames,BlackElo,BlackTime,BlackGames,TotalMoves,Termination,TimeControl,ECO,Result]\n",
    "data.loc[len(data)] = datapoint"
   ]
  },
  {
   "cell_type": "code",
   "execution_count": 567,
   "metadata": {},
   "outputs": [],
   "source": [
    "data['TimeControl'] = data['TimeControl'].str.split('+').str[0]"
   ]
  },
  {
   "cell_type": "code",
   "execution_count": 568,
   "metadata": {},
   "outputs": [],
   "source": [
    "# create features exploring the differences in white versus black to use in prediction model\n",
    "data['Rating Difference'] = data['WhiteElo'] - data['BlackElo']\n",
    "data['Playtime Difference'] = data['White_playTime_total'] - data['Black_playTime_total']\n",
    "data['Games Played Difference'] = data['White_count_all'] - data['Black_count_all']\n",
    "data['White Average Playtime'] = data['White_playTime_total']/data['White_count_all']\n",
    "data['Black Average Playtime'] = data['Black_playTime_total']/data['Black_count_all']\n",
    "data['Average Playtime Difference'] = data['White Average Playtime'] - data['Black Average Playtime']"
   ]
  },
  {
   "cell_type": "code",
   "execution_count": 569,
   "metadata": {},
   "outputs": [],
   "source": [
    "# Binning data\n",
    "bins = [-2000, -1000, -500, -150, -50, 0, 50, 150, 500, 1000, 2000]\n",
    "data['Rating Difference'] = pd.cut(data['Rating Difference'], bins)"
   ]
  },
  {
   "cell_type": "code",
   "execution_count": 570,
   "metadata": {},
   "outputs": [],
   "source": [
    "# dummy encode the categorical data and sort into target and features\n",
    "resultmap = {'0-1':0, '1-0':1, '1/2-1/2':2}\n",
    "y = data['Result'].map(resultmap)\n",
    "X = pd.get_dummies(data.drop('Result', axis=1))"
   ]
  },
  {
   "cell_type": "code",
   "execution_count": 571,
   "metadata": {},
   "outputs": [],
   "source": [
    "game = X.loc[len(X)]\n",
    "game_result = y.loc[len(y)]"
   ]
  },
  {
   "cell_type": "code",
   "execution_count": 572,
   "metadata": {},
   "outputs": [
    {
     "name": "stderr",
     "output_type": "stream",
     "text": [
      "c:\\Users\\Ian\\anaconda3\\envs\\dev\\lib\\site-packages\\sklearn\\base.py:439: UserWarning: X does not have valid feature names, but StandardScaler was fitted with feature names\n",
      "  warnings.warn(\n"
     ]
    }
   ],
   "source": [
    "game_scaled = scaler.transform([game])"
   ]
  },
  {
   "cell_type": "code",
   "execution_count": 573,
   "metadata": {},
   "outputs": [
    {
     "name": "stdout",
     "output_type": "stream",
     "text": [
      "[0]\n",
      "[2]\n"
     ]
    }
   ],
   "source": [
    "print(xg_nn.predict(game_scaled))\n",
    "print([game_result])"
   ]
  }
 ],
 "metadata": {
  "kernelspec": {
   "display_name": "dev",
   "language": "python",
   "name": "python3"
  },
  "language_info": {
   "codemirror_mode": {
    "name": "ipython",
    "version": 3
   },
   "file_extension": ".py",
   "mimetype": "text/x-python",
   "name": "python",
   "nbconvert_exporter": "python",
   "pygments_lexer": "ipython3",
   "version": "3.10.13"
  }
 },
 "nbformat": 4,
 "nbformat_minor": 2
}
