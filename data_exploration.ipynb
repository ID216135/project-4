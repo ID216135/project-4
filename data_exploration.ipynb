{
 "cells": [
  {
   "cell_type": "code",
   "execution_count": 5,
   "metadata": {},
   "outputs": [
    {
     "name": "stdout",
     "output_type": "stream",
     "text": [
      "WARNING:tensorflow:From c:\\Users\\Ian\\anaconda3\\envs\\dev\\lib\\site-packages\\keras\\src\\losses.py:2976: The name tf.losses.sparse_softmax_cross_entropy is deprecated. Please use tf.compat.v1.losses.sparse_softmax_cross_entropy instead.\n",
      "\n"
     ]
    }
   ],
   "source": [
    "import pandas as pd\n",
    "import tensorflow as tf"
   ]
  },
  {
   "cell_type": "code",
   "execution_count": 6,
   "metadata": {},
   "outputs": [],
   "source": [
    "import findspark\n",
    "findspark.init()"
   ]
  },
  {
   "cell_type": "code",
   "execution_count": 7,
   "metadata": {},
   "outputs": [],
   "source": [
    "from pyspark.sql import SparkSession\n",
    "from pyspark import SparkFiles"
   ]
  },
  {
   "cell_type": "code",
   "execution_count": 8,
   "metadata": {},
   "outputs": [],
   "source": [
    "spark = SparkSession.builder.appName('SparkSQL').getOrCreate()"
   ]
  },
  {
   "cell_type": "code",
   "execution_count": 10,
   "metadata": {},
   "outputs": [],
   "source": [
    "spark.sparkContext.addFile('games_metadata_profile_2024_01.csv')\n",
    "df = spark.read.csv(SparkFiles.get('games_metadata_profile_2024_01.csv'), header=True, inferSchema= True)"
   ]
  },
  {
   "cell_type": "code",
   "execution_count": 14,
   "metadata": {},
   "outputs": [],
   "source": [
    "df.createOrReplaceTempView('chess')"
   ]
  },
  {
   "cell_type": "code",
   "execution_count": 31,
   "metadata": {},
   "outputs": [
    {
     "name": "stdout",
     "output_type": "stream",
     "text": [
      "+------+--------------------+-----+--------------------+----------+-------------------+-----------------+--------+---------------+----------------+------------------+------------------+-----------------+--------------------+---------------+-----------+--------------+--------+---------------+----------------+------------------+------------------+-----------------+--------------------+---------------+-----------+--------------------+----------+---+--------------------+-----------+----------------+------+\n",
      "|GameID|               Event|Round|                Site|      Date|               Time|            White|WhiteElo|WhiteRatingDiff|White_is_deleted|White_tosViolation|White_profile_flag|  White_createdAt|White_playTime_total|White_count_all|White_title|         Black|BlackElo|BlackRatingDiff|Black_is_deleted|Black_tosViolation|Black_profile_flag|  Black_createdAt|Black_playTime_total|Black_count_all|Black_title|               Moves|TotalMoves|ECO|             Opening|TimeControl|     Termination|Result|\n",
      "+------+--------------------+-----+--------------------+----------+-------------------+-----------------+--------+---------------+----------------+------------------+------------------+-----------------+--------------------+---------------+-----------+--------------+--------+---------------+----------------+------------------+------------------+-----------------+--------------------+---------------+-----------+--------------------+----------+---+--------------------+-----------+----------------+------+\n",
      "| 18790|    Rated Rapid game|    -|https://lichess.o...|2024.01.05|2024-02-29 12:09:11|         faeyi_00|     916|            7.0|           false|              NULL|              NULL|1.697109934219E12|            110253.0|          182.0|       NULL|        ormend|     919|          -35.0|           false|              NULL|              NULL| 1.70370248288E12|            267907.0|          467.0|       NULL|1. d4 { [%eval 0....|        15|A40|Queen's Pawn Game...|     900+10|Rules infraction|   1-0|\n",
      "| 26256|    Rated Rapid game|    -|https://lichess.o...|2024.01.07|2024-02-29 02:46:14|     Gabby_Player|    1031|         -104.0|           false|              NULL|              NULL|1.703834407469E12|             23262.0|           68.0|       NULL|HeythemBoultif|     910|            9.0|           false|              NULL|              NULL|1.702951311919E12|            162778.0|          285.0|       NULL|1. e4 { [%eval 0....|        16|B01|Scandinavian Defe...|     900+10|Rules infraction|   0-1|\n",
      "| 28144|    Rated Rapid game|    -|https://lichess.o...|2024.01.07|2024-02-29 14:44:48|TrustTheProcess77|    2283|           -9.0|           false|              NULL|              NULL|1.693916483757E12|            110350.0|          185.0|       NULL|fidemaster2024|    2263|            6.0|           false|              NULL|                MY|1.700713167194E12|            444140.0|         1612.0|       NULL|1. c4 { [%eval 0....|        16|A11|English Opening: ...|      600+0|Rules infraction|   0-1|\n",
      "| 55541|    Rated Rapid game|    -|https://lichess.o...|2024.01.13|2024-02-29 21:17:22|       Mirzebasov|    1492|           NULL|           false|              NULL|              NULL|1.671883939088E12|           1245882.0|         2668.0|       NULL|  AndreyNikNik|    1592|           NULL|           false|              NULL|                UA|1.557851292076E12|           6577348.0|        12528.0|       NULL|1. e4 { [%eval 0....|        72|C20|King's Pawn Game:...|      600+0|       Abandoned|     *|\n",
      "| 65416|Rated Corresponde...|    -|https://lichess.o...|2024.01.16|2024-02-29 09:32:27|    Ilia_Lukianov|    1883|            8.0|           false|              NULL|                RU|1.679805292257E12|           1162984.0|         6825.0|       NULL|     virtushka|    1258|          -28.0|           false|              NULL|              NULL|1.667853293116E12|            253139.0|         1487.0|       NULL|1. b3 { [%eval 0....|        16|A01|Nimzo-Larsen Atta...|          -|Rules infraction|   1-0|\n",
      "|129357|Rapid swiss https...|    -|https://lichess.o...|2024.01.31|2024-02-29 15:45:29|         zhabrail|    1256|           -2.0|            true|              NULL|              NULL|             NULL|                NULL|           NULL|       NULL|    Airat20150|    1476|            3.0|           false|              NULL|              NULL|1.679987729086E12|            445936.0|         1166.0|       NULL|1. e4 { [%eval 0....|        16|B21|Sicilian Defense:...|      360+3|Rules infraction|   0-1|\n",
      "+------+--------------------+-----+--------------------+----------+-------------------+-----------------+--------+---------------+----------------+------------------+------------------+-----------------+--------------------+---------------+-----------+--------------+--------+---------------+----------------+------------------+------------------+-----------------+--------------------+---------------+-----------+--------------------+----------+---+--------------------+-----------+----------------+------+\n",
      "\n"
     ]
    }
   ],
   "source": [
    "spark.sql(\n",
    "    '''\n",
    "SELECT * from chess\n",
    "'''\n",
    ").show()"
   ]
  },
  {
   "cell_type": "code",
   "execution_count": 13,
   "metadata": {},
   "outputs": [],
   "source": [
    "pandasdf = df.toPandas()"
   ]
  },
  {
   "cell_type": "code",
   "execution_count": null,
   "metadata": {},
   "outputs": [],
   "source": []
  }
 ],
 "metadata": {
  "kernelspec": {
   "display_name": "dev",
   "language": "python",
   "name": "python3"
  },
  "language_info": {
   "codemirror_mode": {
    "name": "ipython",
    "version": 3
   },
   "file_extension": ".py",
   "mimetype": "text/x-python",
   "name": "python",
   "nbconvert_exporter": "python",
   "pygments_lexer": "ipython3",
   "version": "3.10.13"
  }
 },
 "nbformat": 4,
 "nbformat_minor": 2
}
